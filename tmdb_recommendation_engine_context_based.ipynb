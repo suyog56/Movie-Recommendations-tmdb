{
  "cells": [
    {
      "cell_type": "markdown",
      "metadata": {
        "id": "7qvRhmn9E5M6"
      },
      "source": [
        "#building context based recommendation syystem"
      ]
    },
    {
      "cell_type": "code",
      "execution_count": null,
      "metadata": {
        "colab": {
          "base_uri": "https://localhost:8080/"
        },
        "id": "441edab2",
        "outputId": "03a18872-7ca1-4bea-8e9c-b0075285d077"
      },
      "outputs": [
        {
          "name": "stdout",
          "output_type": "stream",
          "text": [
            "Extracted /archive.zip\n"
          ]
        }
      ],
      "source": [
        "import zipfile\n",
        "import os\n",
        "\n",
        "zip_file_name = '/archive.zip'\n",
        "if os.path.exists(zip_file_name):\n",
        "    with zipfile.ZipFile(zip_file_name, 'r') as zip_ref:\n",
        "        zip_ref.extractall('.')\n",
        "    print(f\"Extracted {zip_file_name}\")\n",
        "else:\n",
        "    print(f\"{zip_file_name} not found.\")"
      ]
    },
    {
      "cell_type": "code",
      "execution_count": null,
      "metadata": {
        "id": "_eQb_JcYqwbq"
      },
      "outputs": [],
      "source": []
    },
    {
      "cell_type": "code",
      "execution_count": null,
      "metadata": {
        "colab": {
          "base_uri": "https://localhost:8080/",
          "height": 622
        },
        "id": "6b97a259",
        "outputId": "e98e8697-ae54-41d0-fa18-13d5bff07d22"
      },
      "outputs": [
        {
          "name": "stdout",
          "output_type": "stream",
          "text": [
            "Movies DataFrame:\n"
          ]
        },
        {
          "data": {
            "application/vnd.google.colaboratory.intrinsic+json": {
              "repr_error": "0",
              "type": "dataframe"
            },
            "text/html": [
              "\n",
              "  <div id=\"df-c623ba18-4411-4902-acf2-895f9e4cfde9\" class=\"colab-df-container\">\n",
              "    <div>\n",
              "<style scoped>\n",
              "    .dataframe tbody tr th:only-of-type {\n",
              "        vertical-align: middle;\n",
              "    }\n",
              "\n",
              "    .dataframe tbody tr th {\n",
              "        vertical-align: top;\n",
              "    }\n",
              "\n",
              "    .dataframe thead th {\n",
              "        text-align: right;\n",
              "    }\n",
              "</style>\n",
              "<table border=\"1\" class=\"dataframe\">\n",
              "  <thead>\n",
              "    <tr style=\"text-align: right;\">\n",
              "      <th></th>\n",
              "      <th>budget</th>\n",
              "      <th>genres</th>\n",
              "      <th>homepage</th>\n",
              "      <th>id</th>\n",
              "      <th>keywords</th>\n",
              "      <th>original_language</th>\n",
              "      <th>original_title</th>\n",
              "      <th>overview</th>\n",
              "      <th>popularity</th>\n",
              "      <th>production_companies</th>\n",
              "      <th>production_countries</th>\n",
              "      <th>release_date</th>\n",
              "      <th>revenue</th>\n",
              "      <th>runtime</th>\n",
              "      <th>spoken_languages</th>\n",
              "      <th>status</th>\n",
              "      <th>tagline</th>\n",
              "      <th>title</th>\n",
              "      <th>vote_average</th>\n",
              "      <th>vote_count</th>\n",
              "    </tr>\n",
              "  </thead>\n",
              "  <tbody>\n",
              "    <tr>\n",
              "      <th>990</th>\n",
              "      <td>50000000</td>\n",
              "      <td>[{\"id\": 18, \"name\": \"Drama\"}, {\"id\": 36, \"name...</td>\n",
              "      <td>NaN</td>\n",
              "      <td>10533</td>\n",
              "      <td>[{\"id\": 818, \"name\": \"based on novel\"}, {\"id\":...</td>\n",
              "      <td>en</td>\n",
              "      <td>The Scarlet Letter</td>\n",
              "      <td>Set in puritanical Boston in the mid 1600s, th...</td>\n",
              "      <td>7.44268</td>\n",
              "      <td>[{\"name\": \"Hollywood Pictures\", \"id\": 915}, {\"...</td>\n",
              "      <td>[{\"iso_3166_1\": \"US\", \"name\": \"United States o...</td>\n",
              "      <td>1995-10-13</td>\n",
              "      <td>10382407</td>\n",
              "      <td>135.0</td>\n",
              "      <td>[{\"iso_639_1\": \"en\", \"name\": \"English\"}]</td>\n",
              "      <td>Released</td>\n",
              "      <td>When intimacy is forbidden and passion is a si...</td>\n",
              "      <td>The Scarlet Letter</td>\n",
              "      <td>5.5</td>\n",
              "      <td>108</td>\n",
              "    </tr>\n",
              "  </tbody>\n",
              "</table>\n",
              "</div>\n",
              "    <div class=\"colab-df-buttons\">\n",
              "\n",
              "  <div class=\"colab-df-container\">\n",
              "    <button class=\"colab-df-convert\" onclick=\"convertToInteractive('df-c623ba18-4411-4902-acf2-895f9e4cfde9')\"\n",
              "            title=\"Convert this dataframe to an interactive table.\"\n",
              "            style=\"display:none;\">\n",
              "\n",
              "  <svg xmlns=\"http://www.w3.org/2000/svg\" height=\"24px\" viewBox=\"0 -960 960 960\">\n",
              "    <path d=\"M120-120v-720h720v720H120Zm60-500h600v-160H180v160Zm220 220h160v-160H400v160Zm0 220h160v-160H400v160ZM180-400h160v-160H180v160Zm440 0h160v-160H620v160ZM180-180h160v-160H180v160Zm440 0h160v-160H620v160Z\"/>\n",
              "  </svg>\n",
              "    </button>\n",
              "\n",
              "  <style>\n",
              "    .colab-df-container {\n",
              "      display:flex;\n",
              "      gap: 12px;\n",
              "    }\n",
              "\n",
              "    .colab-df-convert {\n",
              "      background-color: #E8F0FE;\n",
              "      border: none;\n",
              "      border-radius: 50%;\n",
              "      cursor: pointer;\n",
              "      display: none;\n",
              "      fill: #1967D2;\n",
              "      height: 32px;\n",
              "      padding: 0 0 0 0;\n",
              "      width: 32px;\n",
              "    }\n",
              "\n",
              "    .colab-df-convert:hover {\n",
              "      background-color: #E2EBFA;\n",
              "      box-shadow: 0px 1px 2px rgba(60, 64, 67, 0.3), 0px 1px 3px 1px rgba(60, 64, 67, 0.15);\n",
              "      fill: #174EA6;\n",
              "    }\n",
              "\n",
              "    .colab-df-buttons div {\n",
              "      margin-bottom: 4px;\n",
              "    }\n",
              "\n",
              "    [theme=dark] .colab-df-convert {\n",
              "      background-color: #3B4455;\n",
              "      fill: #D2E3FC;\n",
              "    }\n",
              "\n",
              "    [theme=dark] .colab-df-convert:hover {\n",
              "      background-color: #434B5C;\n",
              "      box-shadow: 0px 1px 3px 1px rgba(0, 0, 0, 0.15);\n",
              "      filter: drop-shadow(0px 1px 2px rgba(0, 0, 0, 0.3));\n",
              "      fill: #FFFFFF;\n",
              "    }\n",
              "  </style>\n",
              "\n",
              "    <script>\n",
              "      const buttonEl =\n",
              "        document.querySelector('#df-c623ba18-4411-4902-acf2-895f9e4cfde9 button.colab-df-convert');\n",
              "      buttonEl.style.display =\n",
              "        google.colab.kernel.accessAllowed ? 'block' : 'none';\n",
              "\n",
              "      async function convertToInteractive(key) {\n",
              "        const element = document.querySelector('#df-c623ba18-4411-4902-acf2-895f9e4cfde9');\n",
              "        const dataTable =\n",
              "          await google.colab.kernel.invokeFunction('convertToInteractive',\n",
              "                                                    [key], {});\n",
              "        if (!dataTable) return;\n",
              "\n",
              "        const docLinkHtml = 'Like what you see? Visit the ' +\n",
              "          '<a target=\"_blank\" href=https://colab.research.google.com/notebooks/data_table.ipynb>data table notebook</a>'\n",
              "          + ' to learn more about interactive tables.';\n",
              "        element.innerHTML = '';\n",
              "        dataTable['output_type'] = 'display_data';\n",
              "        await google.colab.output.renderOutput(dataTable, element);\n",
              "        const docLink = document.createElement('div');\n",
              "        docLink.innerHTML = docLinkHtml;\n",
              "        element.appendChild(docLink);\n",
              "      }\n",
              "    </script>\n",
              "  </div>\n",
              "\n",
              "\n",
              "    </div>\n",
              "  </div>\n"
            ],
            "text/plain": [
              "       budget                                             genres homepage  \\\n",
              "990  50000000  [{\"id\": 18, \"name\": \"Drama\"}, {\"id\": 36, \"name...      NaN   \n",
              "\n",
              "        id                                           keywords  \\\n",
              "990  10533  [{\"id\": 818, \"name\": \"based on novel\"}, {\"id\":...   \n",
              "\n",
              "    original_language      original_title  \\\n",
              "990                en  The Scarlet Letter   \n",
              "\n",
              "                                              overview  popularity  \\\n",
              "990  Set in puritanical Boston in the mid 1600s, th...     7.44268   \n",
              "\n",
              "                                  production_companies  \\\n",
              "990  [{\"name\": \"Hollywood Pictures\", \"id\": 915}, {\"...   \n",
              "\n",
              "                                  production_countries release_date   revenue  \\\n",
              "990  [{\"iso_3166_1\": \"US\", \"name\": \"United States o...   1995-10-13  10382407   \n",
              "\n",
              "     runtime                          spoken_languages    status  \\\n",
              "990    135.0  [{\"iso_639_1\": \"en\", \"name\": \"English\"}]  Released   \n",
              "\n",
              "                                               tagline               title  \\\n",
              "990  When intimacy is forbidden and passion is a si...  The Scarlet Letter   \n",
              "\n",
              "     vote_average  vote_count  \n",
              "990           5.5         108  "
            ]
          },
          "metadata": {},
          "output_type": "display_data"
        },
        {
          "name": "stdout",
          "output_type": "stream",
          "text": [
            "\n",
            "Credits DataFrame:\n"
          ]
        },
        {
          "data": {
            "application/vnd.google.colaboratory.intrinsic+json": {
              "summary": "{\n  \"name\": \"    print(f\\\"An error occurred: {e}\\\")\",\n  \"rows\": 5,\n  \"fields\": [\n    {\n      \"column\": \"movie_id\",\n      \"properties\": {\n        \"dtype\": \"number\",\n        \"std\": 81810,\n        \"min\": 285,\n        \"max\": 206647,\n        \"num_unique_values\": 5,\n        \"samples\": [\n          285,\n          49529,\n          206647\n        ],\n        \"semantic_type\": \"\",\n        \"description\": \"\"\n      }\n    },\n    {\n      \"column\": \"title\",\n      \"properties\": {\n        \"dtype\": \"string\",\n        \"num_unique_values\": 5,\n        \"samples\": [\n          \"Pirates of the Caribbean: At World's End\",\n          \"John Carter\",\n          \"Spectre\"\n        ],\n        \"semantic_type\": \"\",\n        \"description\": \"\"\n      }\n    },\n    {\n      \"column\": \"cast\",\n      \"properties\": {\n        \"dtype\": \"string\",\n        \"num_unique_values\": 5,\n        \"samples\": [\n          \"[{\\\"cast_id\\\": 4, \\\"character\\\": \\\"Captain Jack Sparrow\\\", \\\"credit_id\\\": \\\"52fe4232c3a36847f800b50d\\\", \\\"gender\\\": 2, \\\"id\\\": 85, \\\"name\\\": \\\"Johnny Depp\\\", \\\"order\\\": 0}, {\\\"cast_id\\\": 5, \\\"character\\\": \\\"Will Turner\\\", \\\"credit_id\\\": \\\"52fe4232c3a36847f800b511\\\", \\\"gender\\\": 2, \\\"id\\\": 114, \\\"name\\\": \\\"Orlando Bloom\\\", \\\"order\\\": 1}, {\\\"cast_id\\\": 6, \\\"character\\\": \\\"Elizabeth Swann\\\", \\\"credit_id\\\": \\\"52fe4232c3a36847f800b515\\\", \\\"gender\\\": 1, \\\"id\\\": 116, \\\"name\\\": \\\"Keira Knightley\\\", \\\"order\\\": 2}, {\\\"cast_id\\\": 12, \\\"character\\\": \\\"William \\\\\\\"Bootstrap Bill\\\\\\\" Turner\\\", \\\"credit_id\\\": \\\"52fe4232c3a36847f800b52d\\\", \\\"gender\\\": 2, \\\"id\\\": 1640, \\\"name\\\": \\\"Stellan Skarsg\\\\u00e5rd\\\", \\\"order\\\": 3}, {\\\"cast_id\\\": 10, \\\"character\\\": \\\"Captain Sao Feng\\\", \\\"credit_id\\\": \\\"52fe4232c3a36847f800b525\\\", \\\"gender\\\": 2, \\\"id\\\": 1619, \\\"name\\\": \\\"Chow Yun-fat\\\", \\\"order\\\": 4}, {\\\"cast_id\\\": 9, \\\"character\\\": \\\"Captain Davy Jones\\\", \\\"credit_id\\\": \\\"52fe4232c3a36847f800b521\\\", \\\"gender\\\": 2, \\\"id\\\": 2440, \\\"name\\\": \\\"Bill Nighy\\\", \\\"order\\\": 5}, {\\\"cast_id\\\": 7, \\\"character\\\": \\\"Captain Hector Barbossa\\\", \\\"credit_id\\\": \\\"52fe4232c3a36847f800b519\\\", \\\"gender\\\": 2, \\\"id\\\": 118, \\\"name\\\": \\\"Geoffrey Rush\\\", \\\"order\\\": 6}, {\\\"cast_id\\\": 14, \\\"character\\\": \\\"Admiral James Norrington\\\", \\\"credit_id\\\": \\\"52fe4232c3a36847f800b535\\\", \\\"gender\\\": 2, \\\"id\\\": 1709, \\\"name\\\": \\\"Jack Davenport\\\", \\\"order\\\": 7}, {\\\"cast_id\\\": 13, \\\"character\\\": \\\"Joshamee Gibbs\\\", \\\"credit_id\\\": \\\"52fe4232c3a36847f800b531\\\", \\\"gender\\\": 2, \\\"id\\\": 2449, \\\"name\\\": \\\"Kevin McNally\\\", \\\"order\\\": 8}, {\\\"cast_id\\\": 11, \\\"character\\\": \\\"Lord Cutler Beckett\\\", \\\"credit_id\\\": \\\"52fe4232c3a36847f800b529\\\", \\\"gender\\\": 2, \\\"id\\\": 2441, \\\"name\\\": \\\"Tom Hollander\\\", \\\"order\\\": 9}, {\\\"cast_id\\\": 19, \\\"character\\\": \\\"Tia Dalma\\\", \\\"credit_id\\\": \\\"52fe4232c3a36847f800b549\\\", \\\"gender\\\": 1, \\\"id\\\": 2038, \\\"name\\\": \\\"Naomie Harris\\\", \\\"order\\\": 10}, {\\\"cast_id\\\": 8, \\\"character\\\": \\\"Governor Weatherby Swann\\\", \\\"credit_id\\\": \\\"52fe4232c3a36847f800b51d\\\", \\\"gender\\\": 2, \\\"id\\\": 378, \\\"name\\\": \\\"Jonathan Pryce\\\", \\\"order\\\": 11}, {\\\"cast_id\\\": 37, \\\"character\\\": \\\"Captain Teague Sparrow\\\", \\\"credit_id\\\": \\\"52fe4232c3a36847f800b5b3\\\", \\\"gender\\\": 2, \\\"id\\\": 1430, \\\"name\\\": \\\"Keith Richards\\\", \\\"order\\\": 12}, {\\\"cast_id\\\": 16, \\\"character\\\": \\\"Pintel\\\", \\\"credit_id\\\": \\\"52fe4232c3a36847f800b53d\\\", \\\"gender\\\": 2, \\\"id\\\": 1710, \\\"name\\\": \\\"Lee Arenberg\\\", \\\"order\\\": 13}, {\\\"cast_id\\\": 15, \\\"character\\\": \\\"Ragetti\\\", \\\"credit_id\\\": \\\"52fe4232c3a36847f800b539\\\", \\\"gender\\\": 2, \\\"id\\\": 1711, \\\"name\\\": \\\"Mackenzie Crook\\\", \\\"order\\\": 14}, {\\\"cast_id\\\": 18, \\\"character\\\": \\\"Lieutenant Theodore Groves\\\", \\\"credit_id\\\": \\\"52fe4232c3a36847f800b545\\\", \\\"gender\\\": 2, \\\"id\\\": 4031, \\\"name\\\": \\\"Greg Ellis\\\", \\\"order\\\": 15}, {\\\"cast_id\\\": 55, \\\"character\\\": \\\"Cotton\\\", \\\"credit_id\\\": \\\"57e28d2ec3a3681a01005b5c\\\", \\\"gender\\\": 2, \\\"id\\\": 1715, \\\"name\\\": \\\"David Bailie\\\", \\\"order\\\": 16}, {\\\"cast_id\\\": 17, \\\"character\\\": \\\"Marty\\\", \\\"credit_id\\\": \\\"52fe4232c3a36847f800b541\\\", \\\"gender\\\": 2, \\\"id\\\": 4030, \\\"name\\\": \\\"Martin Klebba\\\", \\\"order\\\": 17}, {\\\"cast_id\\\": 57, \\\"character\\\": \\\"Ian Mercer\\\", \\\"credit_id\\\": \\\"57e28d78c3a36808b900bf4f\\\", \\\"gender\\\": 0, \\\"id\\\": 939, \\\"name\\\": \\\"David Schofield\\\", \\\"order\\\": 18}, {\\\"cast_id\\\": 62, \\\"character\\\": \\\"Scarlett\\\", \\\"credit_id\\\": \\\"57e28ec5c3a3681a50005855\\\", \\\"gender\\\": 1, \\\"id\\\": 2450, \\\"name\\\": \\\"Lauren Maher\\\", \\\"order\\\": 19}, {\\\"cast_id\\\": 63, \\\"character\\\": \\\"Giselle\\\", \\\"credit_id\\\": \\\"57e28ed692514123f5005635\\\", \\\"gender\\\": 1, \\\"id\\\": 2452, \\\"name\\\": \\\"Vanessa Branch\\\", \\\"order\\\": 20}, {\\\"cast_id\\\": 60, \\\"character\\\": \\\"Mullroy\\\", \\\"credit_id\\\": \\\"57e28db2c3a3681a01005bc7\\\", \\\"gender\\\": 2, \\\"id\\\": 1714, \\\"name\\\": \\\"Angus Barnett\\\", \\\"order\\\": 21}, {\\\"cast_id\\\": 59, \\\"character\\\": \\\"Murtogg\\\", \\\"credit_id\\\": \\\"57e28da192514118f7006008\\\", \\\"gender\\\": 0, \\\"id\\\": 1713, \\\"name\\\": \\\"Giles New\\\", \\\"order\\\": 22}, {\\\"cast_id\\\": 58, \\\"character\\\": \\\"Tai Huang\\\", \\\"credit_id\\\": \\\"57e28d8ec3a3681a01005bab\\\", \\\"gender\\\": 2, \\\"id\\\": 22075, \\\"name\\\": \\\"Reggie Lee\\\", \\\"order\\\": 23}, {\\\"cast_id\\\": 64, \\\"character\\\": \\\"Henry Turner\\\", \\\"credit_id\\\": \\\"57e29119925141151100a6cc\\\", \\\"gender\\\": 2, \\\"id\\\": 61259, \\\"name\\\": \\\"Dominic Scott Kay\\\", \\\"order\\\": 24}, {\\\"cast_id\\\": 39, \\\"character\\\": \\\"Mistress Ching\\\", \\\"credit_id\\\": \\\"52fe4232c3a36847f800b5bd\\\", \\\"gender\\\": 1, \\\"id\\\": 33500, \\\"name\\\": \\\"Takayo Fischer\\\", \\\"order\\\": 25}, {\\\"cast_id\\\": 40, \\\"character\\\": \\\"Lieutenant Greitzer\\\", \\\"credit_id\\\": \\\"52fe4232c3a36847f800b5c1\\\", \\\"gender\\\": 2, \\\"id\\\": 1224149, \\\"name\\\": \\\"David Meunier\\\", \\\"order\\\": 26}, {\\\"cast_id\\\": 49, \\\"character\\\": \\\"Hadras\\\", \\\"credit_id\\\": \\\"56d1871c92514174680010cf\\\", \\\"gender\\\": 2, \\\"id\\\": 429401, \\\"name\\\": \\\"Ho-Kwan Tse\\\", \\\"order\\\": 27}, {\\\"cast_id\\\": 56, \\\"character\\\": \\\"Clacker\\\", \\\"credit_id\\\": \\\"57e28d4b92514125710055cb\\\", \\\"gender\\\": 0, \\\"id\\\": 1123, \\\"name\\\": \\\"Andy Beckwith\\\", \\\"order\\\": 28}, {\\\"cast_id\\\": 51, \\\"character\\\": \\\"Penrod\\\", \\\"credit_id\\\": \\\"56ec8c14c3a3682260003c53\\\", \\\"gender\\\": 2, \\\"id\\\": 1056117, \\\"name\\\": \\\"Peter Donald Badalamenti II\\\", \\\"order\\\": 29}, {\\\"cast_id\\\": 61, \\\"character\\\": \\\"Cotton's Parrot (voice)\\\", \\\"credit_id\\\": \\\"57e28dcc9251412463005678\\\", \\\"gender\\\": 2, \\\"id\\\": 21700, \\\"name\\\": \\\"Christopher S. Capp\\\", \\\"order\\\": 30}, {\\\"cast_id\\\": 65, \\\"character\\\": \\\"Captain Teague\\\", \\\"credit_id\\\": \\\"58bc2a37c3a368663003740b\\\", \\\"gender\\\": 2, \\\"id\\\": 1430, \\\"name\\\": \\\"Keith Richards\\\", \\\"order\\\": 31}, {\\\"cast_id\\\": 66, \\\"character\\\": \\\"Captain Jocard\\\", \\\"credit_id\\\": \\\"58bc2a8e925141609e03a179\\\", \\\"gender\\\": 2, \\\"id\\\": 2603, \\\"name\\\": \\\"Hakeem Kae-Kazim\\\", \\\"order\\\": 32}, {\\\"cast_id\\\": 67, \\\"character\\\": \\\"Captain Ammand\\\", \\\"credit_id\\\": \\\"58e2a21ac3a36872af00f9c2\\\", \\\"gender\\\": 0, \\\"id\\\": 70577, \\\"name\\\": \\\"Ghassan Massoud\\\", \\\"order\\\": 33}]\",\n          \"[{\\\"cast_id\\\": 5, \\\"character\\\": \\\"John Carter\\\", \\\"credit_id\\\": \\\"52fe479ac3a36847f813ea75\\\", \\\"gender\\\": 2, \\\"id\\\": 60900, \\\"name\\\": \\\"Taylor Kitsch\\\", \\\"order\\\": 0}, {\\\"cast_id\\\": 20, \\\"character\\\": \\\"Dejah Thoris\\\", \\\"credit_id\\\": \\\"52fe479ac3a36847f813eab3\\\", \\\"gender\\\": 1, \\\"id\\\": 21044, \\\"name\\\": \\\"Lynn Collins\\\", \\\"order\\\": 1}, {\\\"cast_id\\\": 7, \\\"character\\\": \\\"Sola\\\", \\\"credit_id\\\": \\\"52fe479ac3a36847f813ea79\\\", \\\"gender\\\": 1, \\\"id\\\": 2206, \\\"name\\\": \\\"Samantha Morton\\\", \\\"order\\\": 2}, {\\\"cast_id\\\": 3, \\\"character\\\": \\\"Tars Tarkas\\\", \\\"credit_id\\\": \\\"52fe479ac3a36847f813ea6d\\\", \\\"gender\\\": 2, \\\"id\\\": 5293, \\\"name\\\": \\\"Willem Dafoe\\\", \\\"order\\\": 3}, {\\\"cast_id\\\": 8, \\\"character\\\": \\\"Tal Hajus\\\", \\\"credit_id\\\": \\\"52fe479ac3a36847f813ea7d\\\", \\\"gender\\\": 2, \\\"id\\\": 19159, \\\"name\\\": \\\"Thomas Haden Church\\\", \\\"order\\\": 4}, {\\\"cast_id\\\": 2, \\\"character\\\": \\\"Matai Shang\\\", \\\"credit_id\\\": \\\"52fe479ac3a36847f813ea69\\\", \\\"gender\\\": 2, \\\"id\\\": 2983, \\\"name\\\": \\\"Mark Strong\\\", \\\"order\\\": 5}, {\\\"cast_id\\\": 4, \\\"character\\\": \\\"Tardos Mors\\\", \\\"credit_id\\\": \\\"52fe479ac3a36847f813ea71\\\", \\\"gender\\\": 2, \\\"id\\\": 8785, \\\"name\\\": \\\"Ciar\\\\u00e1n Hinds\\\", \\\"order\\\": 6}, {\\\"cast_id\\\": 9, \\\"character\\\": \\\"Sab Than\\\", \\\"credit_id\\\": \\\"52fe479ac3a36847f813ea81\\\", \\\"gender\\\": 2, \\\"id\\\": 17287, \\\"name\\\": \\\"Dominic West\\\", \\\"order\\\": 7}, {\\\"cast_id\\\": 10, \\\"character\\\": \\\"Kantos Kan\\\", \\\"credit_id\\\": \\\"52fe479ac3a36847f813ea85\\\", \\\"gender\\\": 2, \\\"id\\\": 17648, \\\"name\\\": \\\"James Purefoy\\\", \\\"order\\\": 8}, {\\\"cast_id\\\": 11, \\\"character\\\": \\\"Powell\\\", \\\"credit_id\\\": \\\"52fe479ac3a36847f813ea89\\\", \\\"gender\\\": 2, \\\"id\\\": 17419, \\\"name\\\": \\\"Bryan Cranston\\\", \\\"order\\\": 9}, {\\\"cast_id\\\": 12, \\\"character\\\": \\\"Sarkoja\\\", \\\"credit_id\\\": \\\"52fe479ac3a36847f813ea8d\\\", \\\"gender\\\": 1, \\\"id\\\": 6416, \\\"name\\\": \\\"Polly Walker\\\", \\\"order\\\": 10}, {\\\"cast_id\\\": 13, \\\"character\\\": \\\"Edgar Rice Burroughs\\\", \\\"credit_id\\\": \\\"52fe479ac3a36847f813ea91\\\", \\\"gender\\\": 2, \\\"id\\\": 57675, \\\"name\\\": \\\"Daryl Sabara\\\", \\\"order\\\": 11}, {\\\"cast_id\\\": 14, \\\"character\\\": \\\"Stayman #1 / Helm\\\", \\\"credit_id\\\": \\\"52fe479ac3a36847f813ea95\\\", \\\"gender\\\": 2, \\\"id\\\": 89830, \\\"name\\\": \\\"Arkie Reece\\\", \\\"order\\\": 12}, {\\\"cast_id\\\": 15, \\\"character\\\": \\\"Stayman #3\\\", \\\"credit_id\\\": \\\"52fe479ac3a36847f813ea99\\\", \\\"gender\\\": 2, \\\"id\\\": 205278, \\\"name\\\": \\\"Davood Ghadami\\\", \\\"order\\\": 13}, {\\\"cast_id\\\": 16, \\\"character\\\": \\\"Lightmaster\\\", \\\"credit_id\\\": \\\"52fe479ac3a36847f813ea9d\\\", \\\"gender\\\": 1, \\\"id\\\": 218345, \\\"name\\\": \\\"Pippa Nixon\\\", \\\"order\\\": 14}, {\\\"cast_id\\\": 46, \\\"character\\\": \\\"Thern #2\\\", \\\"credit_id\\\": \\\"584ef986c3a3682a940010d0\\\", \\\"gender\\\": 2, \\\"id\\\": 1390394, \\\"name\\\": \\\"James Embree\\\", \\\"order\\\": 15}, {\\\"cast_id\\\": 77, \\\"character\\\": \\\"Thern #1\\\", \\\"credit_id\\\": \\\"58c68f82c3a3684114014f58\\\", \\\"gender\\\": 0, \\\"id\\\": 1518112, \\\"name\\\": \\\"Philip Philmar\\\", \\\"order\\\": 16}, {\\\"cast_id\\\": 47, \\\"character\\\": \\\"Pretty Woman in NYC Doorway\\\", \\\"credit_id\\\": \\\"584f133992514107110024b8\\\", \\\"gender\\\": 1, \\\"id\\\": 1721985, \\\"name\\\": \\\"Emily Tierney\\\", \\\"order\\\": 17}, {\\\"cast_id\\\": 48, \\\"character\\\": \\\"Telegraph Clerk\\\", \\\"credit_id\\\": \\\"584f16d192514107000026a2\\\", \\\"gender\\\": 2, \\\"id\\\": 1721992, \\\"name\\\": \\\"Edmund Kente\\\", \\\"order\\\": 18}, {\\\"cast_id\\\": 49, \\\"character\\\": \\\"Dalton\\\", \\\"credit_id\\\": \\\"584f1a94c3a3682a8d0026e7\\\", \\\"gender\\\": 2, \\\"id\\\": 118617, \\\"name\\\": \\\"Nicholas Woodeson\\\", \\\"order\\\": 19}, {\\\"cast_id\\\": 50, \\\"character\\\": \\\"Stable Boy\\\", \\\"credit_id\\\": \\\"584f1f2b9251410700002be9\\\", \\\"gender\\\": 2, \\\"id\\\": 1722006, \\\"name\\\": \\\"Kyle Agnew\\\", \\\"order\\\": 20}, {\\\"cast_id\\\": 51, \\\"character\\\": \\\"Dix the Storekeeper\\\", \\\"credit_id\\\": \\\"584f28aec3a3683150000214\\\", \\\"gender\\\": 2, \\\"id\\\": 130129, \\\"name\\\": \\\"Don Stark\\\", \\\"order\\\": 21}, {\\\"cast_id\\\": 52, \\\"character\\\": \\\"Rowdy #1\\\", \\\"credit_id\\\": \\\"58580465c3a3683150056d0c\\\", \\\"gender\\\": 2, \\\"id\\\": 65716, \\\"name\\\": \\\"Josh Daugherty\\\", \\\"order\\\": 22}, {\\\"cast_id\\\": 53, \\\"character\\\": \\\"Rowdy #2\\\", \\\"credit_id\\\": \\\"58580cd89251411a4605f517\\\", \\\"gender\\\": 2, \\\"id\\\": 1724736, \\\"name\\\": \\\"Jared Cyr\\\", \\\"order\\\": 23}, {\\\"cast_id\\\": 37, \\\"character\\\": \\\"Stockade Guard\\\", \\\"credit_id\\\": \\\"54e5a58d925141529c000f89\\\", \\\"gender\\\": 2, \\\"id\\\": 62082, \\\"name\\\": \\\"Christopher Goodman\\\", \\\"order\\\": 24}, {\\\"cast_id\\\": 54, \\\"character\\\": \\\"Sarah Carter\\\", \\\"credit_id\\\": \\\"585823dc925141594100c816\\\", \\\"gender\\\": 1, \\\"id\\\": 1367241, \\\"name\\\": \\\"Amanda Clayton\\\", \\\"order\\\": 25}, {\\\"cast_id\\\": 170, \\\"character\\\": \\\"Apache #1 (as Joe Billingiere)\\\", \\\"credit_id\\\": \\\"595ad40c9251410bfa04831e\\\", \\\"gender\\\": 0, \\\"id\\\": 1844319, \\\"name\\\": \\\"Joseph Billingiere\\\", \\\"order\\\": 26}]\",\n          \"[{\\\"cast_id\\\": 1, \\\"character\\\": \\\"James Bond\\\", \\\"credit_id\\\": \\\"52fe4d22c3a368484e1d8d6b\\\", \\\"gender\\\": 2, \\\"id\\\": 8784, \\\"name\\\": \\\"Daniel Craig\\\", \\\"order\\\": 0}, {\\\"cast_id\\\": 14, \\\"character\\\": \\\"Blofeld\\\", \\\"credit_id\\\": \\\"54805866c3a36829ab002592\\\", \\\"gender\\\": 2, \\\"id\\\": 27319, \\\"name\\\": \\\"Christoph Waltz\\\", \\\"order\\\": 1}, {\\\"cast_id\\\": 13, \\\"character\\\": \\\"Madeleine\\\", \\\"credit_id\\\": \\\"546f934fc3a3682f9a002ca5\\\", \\\"gender\\\": 1, \\\"id\\\": 121529, \\\"name\\\": \\\"L\\\\u00e9a Seydoux\\\", \\\"order\\\": 2}, {\\\"cast_id\\\": 10, \\\"character\\\": \\\"M\\\", \\\"credit_id\\\": \\\"53e86503c3a368399c0031f0\\\", \\\"gender\\\": 2, \\\"id\\\": 5469, \\\"name\\\": \\\"Ralph Fiennes\\\", \\\"order\\\": 3}, {\\\"cast_id\\\": 17, \\\"character\\\": \\\"Lucia\\\", \\\"credit_id\\\": \\\"54805920c3a36829ae0022c5\\\", \\\"gender\\\": 1, \\\"id\\\": 28782, \\\"name\\\": \\\"Monica Bellucci\\\", \\\"order\\\": 4}, {\\\"cast_id\\\": 8, \\\"character\\\": \\\"Q\\\", \\\"credit_id\\\": \\\"52fe4d22c3a368484e1d8d87\\\", \\\"gender\\\": 2, \\\"id\\\": 17064, \\\"name\\\": \\\"Ben Whishaw\\\", \\\"order\\\": 5}, {\\\"cast_id\\\": 11, \\\"character\\\": \\\"Moneypenny\\\", \\\"credit_id\\\": \\\"53e8650cc3a368399c0031f4\\\", \\\"gender\\\": 1, \\\"id\\\": 2038, \\\"name\\\": \\\"Naomie Harris\\\", \\\"order\\\": 6}, {\\\"cast_id\\\": 16, \\\"character\\\": \\\"Hinx\\\", \\\"credit_id\\\": \\\"5480590f9251416e7b0022f4\\\", \\\"gender\\\": 2, \\\"id\\\": 543530, \\\"name\\\": \\\"Dave Bautista\\\", \\\"order\\\": 7}, {\\\"cast_id\\\": 15, \\\"character\\\": \\\"C\\\", \\\"credit_id\\\": \\\"548058ffc3a36829a7002511\\\", \\\"gender\\\": 2, \\\"id\\\": 125660, \\\"name\\\": \\\"Andrew Scott\\\", \\\"order\\\": 8}, {\\\"cast_id\\\": 19, \\\"character\\\": \\\"Tanner\\\", \\\"credit_id\\\": \\\"5480593cc3a36829ae0022ca\\\", \\\"gender\\\": 2, \\\"id\\\": 139549, \\\"name\\\": \\\"Rory Kinnear\\\", \\\"order\\\": 9}, {\\\"cast_id\\\": 23, \\\"character\\\": \\\"Mr. White\\\", \\\"credit_id\\\": \\\"5517b3849251416f0d0032c8\\\", \\\"gender\\\": 2, \\\"id\\\": 2244, \\\"name\\\": \\\"Jesper Christensen\\\", \\\"order\\\": 10}, {\\\"cast_id\\\": 24, \\\"character\\\": \\\"Marco Sciarra\\\", \\\"credit_id\\\": \\\"5517b398c3a36862fc002df6\\\", \\\"gender\\\": 0, \\\"id\\\": 1381616, \\\"name\\\": \\\"Alessandro Cremona\\\", \\\"order\\\": 11}, {\\\"cast_id\\\": 25, \\\"character\\\": \\\"Estrella\\\", \\\"credit_id\\\": \\\"5517b3c49251412c1e00180b\\\", \\\"gender\\\": 1, \\\"id\\\": 929937, \\\"name\\\": \\\"Stephanie Sigman\\\", \\\"order\\\": 12}, {\\\"cast_id\\\": 49, \\\"character\\\": \\\"Mexican Man in Lift\\\", \\\"credit_id\\\": \\\"5664561cc3a3682bd0007fc8\\\", \\\"gender\\\": 0, \\\"id\\\": 87265, \\\"name\\\": \\\"Tenoch Huerta\\\", \\\"order\\\": 13}, {\\\"cast_id\\\": 50, \\\"character\\\": \\\"Mexican Woman in Lift\\\", \\\"credit_id\\\": \\\"5664561dc3a3682be9008dc6\\\", \\\"gender\\\": 1, \\\"id\\\": 983710, \\\"name\\\": \\\"Adriana Paz\\\", \\\"order\\\": 14}, {\\\"cast_id\\\": 180, \\\"character\\\": \\\"Gallo\\\", \\\"credit_id\\\": \\\"56fddbacc3a36821b6000aca\\\", \\\"gender\\\": 2, \\\"id\\\": 1385592, \\\"name\\\": \\\"Domenico Fortunato\\\", \\\"order\\\": 15}, {\\\"cast_id\\\": 51, \\\"character\\\": \\\"Gallo's Accomplice\\\", \\\"credit_id\\\": \\\"5664561dc3a3682bd8008fbe\\\", \\\"gender\\\": 0, \\\"id\\\": 1545546, \\\"name\\\": \\\"Marco Zingaro\\\", \\\"order\\\": 16}, {\\\"cast_id\\\": 52, \\\"character\\\": \\\"Gallo's Accomplice\\\", \\\"credit_id\\\": \\\"5664561d9251412ad300870b\\\", \\\"gender\\\": 2, \\\"id\\\": 1545547, \\\"name\\\": \\\"Stefano Elfi DiClaudia\\\", \\\"order\\\": 17}, {\\\"cast_id\\\": 181, \\\"character\\\": \\\"Q's Assistant\\\", \\\"credit_id\\\": \\\"56fddc319251412a4d0009f9\\\", \\\"gender\\\": 0, \\\"id\\\": 122556, \\\"name\\\": \\\"Ian Bonar\\\", \\\"order\\\": 18}, {\\\"cast_id\\\": 182, \\\"character\\\": \\\"Moneypenny's Boyfriend\\\", \\\"credit_id\\\": \\\"56fddc66c3a36821b6000b04\\\", \\\"gender\\\": 2, \\\"id\\\": 1599239, \\\"name\\\": \\\"Tam Williams\\\", \\\"order\\\": 19}, {\\\"cast_id\\\": 183, \\\"character\\\": \\\"Blofeld's London Helicopter Pilot\\\", \\\"credit_id\\\": \\\"56fddc989251412a56000a85\\\", \\\"gender\\\": 2, \\\"id\\\": 1599241, \\\"name\\\": \\\"Richard Banham\\\", \\\"order\\\": 20}, {\\\"cast_id\\\": 184, \\\"character\\\": \\\"SC019 Police Commander\\\", \\\"credit_id\\\": \\\"56fddccf9251412a4b000b5d\\\", \\\"gender\\\": 2, \\\"id\\\": 230681, \\\"name\\\": \\\"Pip Carter\\\", \\\"order\\\": 21}, {\\\"cast_id\\\": 185, \\\"character\\\": \\\"SC019 Police Officer\\\", \\\"credit_id\\\": \\\"56fddce6c3a36821ae000b45\\\", \\\"gender\\\": 2, \\\"id\\\": 30446, \\\"name\\\": \\\"Simon Lenagan\\\", \\\"order\\\": 22}, {\\\"cast_id\\\": 27, \\\"character\\\": \\\"Priest\\\", \\\"credit_id\\\": \\\"5517b4f69251416efe003370\\\", \\\"gender\\\": 2, \\\"id\\\": 48377, \\\"name\\\": \\\"Alessandro Bressanello\\\", \\\"order\\\": 23}, {\\\"cast_id\\\": 38, \\\"character\\\": \\\"Moreau\\\", \\\"credit_id\\\": \\\"56486811c3a3682605006adc\\\", \\\"gender\\\": 0, \\\"id\\\": 578512, \\\"name\\\": \\\"Marc Zinga\\\", \\\"order\\\": 24}, {\\\"cast_id\\\": 39, \\\"character\\\": \\\"Vogel\\\", \\\"credit_id\\\": \\\"56486820c3a368261a006de7\\\", \\\"gender\\\": 0, \\\"id\\\": 1093974, \\\"name\\\": \\\"Brigitte Millar\\\", \\\"order\\\": 25}, {\\\"cast_id\\\": 41, \\\"character\\\": \\\"Abrika\\\", \\\"credit_id\\\": \\\"564868a09251413ad7006da5\\\", \\\"gender\\\": 2, \\\"id\\\": 89624, \\\"name\\\": \\\"Adel Bencherif\\\", \\\"order\\\": 26}, {\\\"cast_id\\\": 186, \\\"character\\\": \\\"Blofeld's Right Hand Man\\\", \\\"credit_id\\\": \\\"56fddd5a9251412a42000b52\\\", \\\"gender\\\": 2, \\\"id\\\": 1129783, \\\"name\\\": \\\"Gediminas Adomaitis\\\", \\\"order\\\": 27}, {\\\"cast_id\\\": 42, \\\"character\\\": \\\"Lorenzo\\\", \\\"credit_id\\\": \\\"564868c5c3a368260c006ee4\\\", \\\"gender\\\": 0, \\\"id\\\": 226388, \\\"name\\\": \\\"Peppe Lanzetta\\\", \\\"order\\\": 28}, {\\\"cast_id\\\": 187, \\\"character\\\": \\\"Francesco\\\", \\\"credit_id\\\": \\\"56fddd9cc3a36821a4000b5b\\\", \\\"gender\\\": 2, \\\"id\\\": 1299312, \\\"name\\\": \\\"Francesco Arca\\\", \\\"order\\\": 29}, {\\\"cast_id\\\": 188, \\\"character\\\": \\\"Marco\\\", \\\"credit_id\\\": \\\"56fdddb79251412a50000aad\\\", \\\"gender\\\": 2, \\\"id\\\": 124628, \\\"name\\\": \\\"Matteo Taranto\\\", \\\"order\\\": 30}, {\\\"cast_id\\\": 189, \\\"character\\\": \\\"Palazzo Security\\\", \\\"credit_id\\\": \\\"56fdddd69251412a56000ac6\\\", \\\"gender\\\": 2, \\\"id\\\": 1562103, \\\"name\\\": \\\"Emilio Aniba\\\", \\\"order\\\": 31}, {\\\"cast_id\\\": 190, \\\"character\\\": \\\"Guerra\\\", \\\"credit_id\\\": \\\"56fdddf19251412a50000ac1\\\", \\\"gender\\\": 2, \\\"id\\\": 1474616, \\\"name\\\": \\\"Benito Sagredo\\\", \\\"order\\\": 32}, {\\\"cast_id\\\": 191, \\\"character\\\": \\\"Businessman\\\", \\\"credit_id\\\": \\\"56fdde0d9251416cc200004c\\\", \\\"gender\\\": 2, \\\"id\\\": 1247684, \\\"name\\\": \\\"Dai Tabuchi\\\", \\\"order\\\": 33}, {\\\"cast_id\\\": 192, \\\"character\\\": \\\"Businessman\\\", \\\"credit_id\\\": \\\"56fdde1bc3a36821b1000ba8\\\", \\\"gender\\\": 2, \\\"id\\\": 1599245, \\\"name\\\": \\\"George Lasha\\\", \\\"order\\\": 34}, {\\\"cast_id\\\": 193, \\\"character\\\": \\\"Businessman\\\", \\\"credit_id\\\": \\\"56fdde259251412a42000b93\\\", \\\"gender\\\": 0, \\\"id\\\": 1599247, \\\"name\\\": \\\"Sargon Yelda\\\", \\\"order\\\": 35}, {\\\"cast_id\\\": 194, \\\"character\\\": \\\"Businessman\\\", \\\"credit_id\\\": \\\"56fdde9fc3a36821b6000ba0\\\", \\\"gender\\\": 2, \\\"id\\\": 1599251, \\\"name\\\": \\\"Andy Cheung\\\", \\\"order\\\": 36}, {\\\"cast_id\\\": 195, \\\"character\\\": \\\"Marshall\\\", \\\"credit_id\\\": \\\"56fddeb29251412a50000af4\\\", \\\"gender\\\": 2, \\\"id\\\": 1599252, \\\"name\\\": \\\"Erick Hayden\\\", \\\"order\\\": 37}, {\\\"cast_id\\\": 196, \\\"character\\\": \\\"Valerian\\\", \\\"credit_id\\\": \\\"56fddec8c3a36821ab000c19\\\", \\\"gender\\\": 2, \\\"id\\\": 1599253, \\\"name\\\": \\\"Oleg Mirochnikov\\\", \\\"order\\\": 38}, {\\\"cast_id\\\": 197, \\\"character\\\": \\\"Fiat Driver\\\", \\\"credit_id\\\": \\\"56fddef89251412a47000a79\\\", \\\"gender\\\": 2, \\\"id\\\": 123548, \\\"name\\\": \\\"Antonio Salines\\\", \\\"order\\\": 39}, {\\\"cast_id\\\": 198, \\\"character\\\": \\\"Street Sweeper\\\", \\\"credit_id\\\": \\\"56fddf109251416cc2000086\\\", \\\"gender\\\": 2, \\\"id\\\": 1599254, \\\"name\\\": \\\"Miloud Mourad Benamara\\\", \\\"order\\\": 40}, {\\\"cast_id\\\": 199, \\\"character\\\": \\\"Chairman\\\", \\\"credit_id\\\": \\\"56fddf4a9251412a42000bcf\\\", \\\"gender\\\": 2, \\\"id\\\": 1599255, \\\"name\\\": \\\"Gido Schimanski\\\", \\\"order\\\": 41}, {\\\"cast_id\\\": 200, \\\"character\\\": \\\"Head of Nation\\\", \\\"credit_id\\\": \\\"56fddf69c3a36821a7000b12\\\", \\\"gender\\\": 0, \\\"id\\\": 1404403, \\\"name\\\": \\\"Nigel Barber\\\", \\\"order\\\": 42}, {\\\"cast_id\\\": 201, \\\"character\\\": \\\"Head of Nation\\\", \\\"credit_id\\\": \\\"56fddf7fc3a36821b1000c0d\\\", \\\"gender\\\": 2, \\\"id\\\": 74415, \\\"name\\\": \\\"Patrice Naiambana\\\", \\\"order\\\": 43}, {\\\"cast_id\\\": 202, \\\"character\\\": \\\"Head of Nation\\\", \\\"credit_id\\\": \\\"56fddf89c3a368219d000adb\\\", \\\"gender\\\": 2, \\\"id\\\": 1599256, \\\"name\\\": \\\"Stephane Cornicard\\\", \\\"order\\\": 44}, {\\\"cast_id\\\": 203, \\\"character\\\": \\\"Head of Nation\\\", \\\"credit_id\\\": \\\"56fddf929251412a56000b29\\\", \\\"gender\\\": 2, \\\"id\\\": 1599257, \\\"name\\\": \\\"Gary Fannin\\\", \\\"order\\\": 45}, {\\\"cast_id\\\": 204, \\\"character\\\": \\\"Head of Nation\\\", \\\"credit_id\\\": \\\"56fddf9cc3a36821ae000be1\\\", \\\"gender\\\": 2, \\\"id\\\": 1599258, \\\"name\\\": \\\"Sadao Ueda\\\", \\\"order\\\": 46}, {\\\"cast_id\\\": 205, \\\"character\\\": \\\"Head of Nation\\\", \\\"credit_id\\\": \\\"56fddfb99251412a50000b30\\\", \\\"gender\\\": 0, \\\"id\\\": 1599259, \\\"name\\\": \\\"Phillip Law\\\", \\\"order\\\": 47}, {\\\"cast_id\\\": 206, \\\"character\\\": \\\"Head of Nation\\\", \\\"credit_id\\\": \\\"56fddfef9251412a54000ba8\\\", \\\"gender\\\": 2, \\\"id\\\": 1599260, \\\"name\\\": \\\"Wai Wong\\\", \\\"order\\\": 48}, {\\\"cast_id\\\": 207, \\\"character\\\": \\\"Head of Nation\\\", \\\"credit_id\\\": \\\"56fde0179251412a47000ac2\\\", \\\"gender\\\": 2, \\\"id\\\": 1477143, \\\"name\\\": \\\"Joseph Balderrama\\\", \\\"order\\\": 49}, {\\\"cast_id\\\": 208, \\\"character\\\": \\\"Aide\\\", \\\"credit_id\\\": \\\"56fde0809251416cc20000cb\\\", \\\"gender\\\": 2, \\\"id\\\": 1599261, \\\"name\\\": \\\"Eiji Mihara\\\", \\\"order\\\": 50}, {\\\"cast_id\\\": 209, \\\"character\\\": \\\"Aide\\\", \\\"credit_id\\\": \\\"56fde0a49251412a47000ae0\\\", \\\"gender\\\": 2, \\\"id\\\": 1168129, \\\"name\\\": \\\"Junichi Kajioka\\\", \\\"order\\\": 51}, {\\\"cast_id\\\": 40, \\\"character\\\": \\\"Clinic Barman\\\", \\\"credit_id\\\": \\\"56486850c3a368260c006ecf\\\", \\\"gender\\\": 0, \\\"id\\\": 48393, \\\"name\\\": \\\"Victor Schef\\\\u00e9\\\", \\\"order\\\": 52}, {\\\"cast_id\\\": 210, \\\"character\\\": \\\"Clinic Security Guard\\\", \\\"credit_id\\\": \\\"56fde0f19251412a42000c28\\\", \\\"gender\\\": 2, \\\"id\\\": 1437333, \\\"name\\\": \\\"Harald Windisch\\\", \\\"order\\\": 53}, {\\\"cast_id\\\": 211, \\\"character\\\": \\\"Clinic Security Guard\\\", \\\"credit_id\\\": \\\"56fde118c3a36821a4000c3c\\\", \\\"gender\\\": 2, \\\"id\\\": 1599262, \\\"name\\\": \\\"Tristan Matthiae\\\", \\\"order\\\": 54}, {\\\"cast_id\\\": 177, \\\"character\\\": \\\"Cable Car Heavy\\\", \\\"credit_id\\\": \\\"5696db21c3a3683af90002d6\\\", \\\"gender\\\": 2, \\\"id\\\": 14637, \\\"name\\\": \\\"Detlef Bothe\\\", \\\"order\\\": 55}, {\\\"cast_id\\\": 212, \\\"character\\\": \\\"Cable Car Heavy\\\", \\\"credit_id\\\": \\\"56fde128c3a368219d000b4f\\\", \\\"gender\\\": 2, \\\"id\\\": 1599263, \\\"name\\\": \\\"Bodo Friesecke\\\", \\\"order\\\": 56}, {\\\"cast_id\\\": 213, \\\"character\\\": \\\"Syringe Heavy\\\", \\\"credit_id\\\": \\\"56fde1769251412a54000c0b\\\", \\\"gender\\\": 2, \\\"id\\\": 1599264, \\\"name\\\": \\\"Wilhem Iben\\\", \\\"order\\\": 57}, {\\\"cast_id\\\": 214, \\\"character\\\": \\\"Snowboarder\\\", \\\"credit_id\\\": \\\"56fde1849251412a42000c4d\\\", \\\"gender\\\": 1, \\\"id\\\": 1599265, \\\"name\\\": \\\"Noemi Krausz\\\", \\\"order\\\": 58}, {\\\"cast_id\\\": 215, \\\"character\\\": \\\"Snowboarder\\\", \\\"credit_id\\\": \\\"56fde18dc3a36821b6000c4f\\\", \\\"gender\\\": 2, \\\"id\\\": 1599266, \\\"name\\\": \\\"Noah Saavedra\\\", \\\"order\\\": 59}, {\\\"cast_id\\\": 216, \\\"character\\\": \\\"Snowboarder\\\", \\\"credit_id\\\": \\\"56fde1989251412a54000c16\\\", \\\"gender\\\": 0, \\\"id\\\": 1599267, \\\"name\\\": \\\"Francis Attakpah\\\", \\\"order\\\": 60}, {\\\"cast_id\\\": 217, \\\"character\\\": \\\"Snowboarder\\\", \\\"credit_id\\\": \\\"56fde1a39251412a42000c58\\\", \\\"gender\\\": 2, \\\"id\\\": 1599268, \\\"name\\\": \\\"Michael Glantschnig\\\", \\\"order\\\": 61}, {\\\"cast_id\\\": 218, \\\"character\\\": \\\"Snowboarder\\\", \\\"credit_id\\\": \\\"56fde1aec3a36821ab000cbf\\\", \\\"gender\\\": 2, \\\"id\\\": 1599269, \\\"name\\\": \\\"Marlon Boess\\\", \\\"order\\\": 62}, {\\\"cast_id\\\": 219, \\\"character\\\": \\\"Snowboarder\\\", \\\"credit_id\\\": \\\"56fde1b8c3a36821ae000c62\\\", \\\"gender\\\": 1, \\\"id\\\": 1599270, \\\"name\\\": \\\"Marie Wohlmuth\\\", \\\"order\\\": 63}, {\\\"cast_id\\\": 220, \\\"character\\\": \\\"Snowboarder\\\", \\\"credit_id\\\": \\\"56fde1c1c3a36821b1000c9c\\\", \\\"gender\\\": 1, \\\"id\\\": 1599271, \\\"name\\\": \\\"Lili Epply\\\", \\\"order\\\": 64}, {\\\"cast_id\\\": 221, \\\"character\\\": \\\"Snowboarder\\\", \\\"credit_id\\\": \\\"56fde1cbc3a36821a7000baf\\\", \\\"gender\\\": 2, \\\"id\\\": 1599272, \\\"name\\\": \\\"Konstantin Gerlach\\\", \\\"order\\\": 65}, {\\\"cast_id\\\": 222, \\\"character\\\": \\\"L'Americain Manater\\\", \\\"credit_id\\\": \\\"56fde24c9251412a45000bfb\\\", \\\"gender\\\": 1, \\\"id\\\": 1102369, \\\"name\\\": \\\"Lara Parmiani\\\", \\\"order\\\": 66}, {\\\"cast_id\\\": 223, \\\"character\\\": \\\"Train Guard\\\", \\\"credit_id\\\": \\\"56fde2679251412a54000c42\\\", \\\"gender\\\": 2, \\\"id\\\": 1372694, \\\"name\\\": \\\"Umit Ulgen\\\", \\\"order\\\": 67}, {\\\"cast_id\\\": 224, \\\"character\\\": \\\"Train Waiter\\\", \\\"credit_id\\\": \\\"56fde2869251412a50000bf1\\\", \\\"gender\\\": 2, \\\"id\\\": 1363060, \\\"name\\\": \\\"Amra Mallassi\\\", \\\"order\\\": 68}, {\\\"cast_id\\\": 225, \\\"character\\\": \\\"Train Barman\\\", \\\"credit_id\\\": \\\"56fde2969251412a45000c15\\\", \\\"gender\\\": 2, \\\"id\\\": 1599275, \\\"name\\\": \\\"Ziad Abaza\\\", \\\"order\\\": 69}, {\\\"cast_id\\\": 226, \\\"character\\\": \\\"Blofeld's Chauffeur\\\", \\\"credit_id\\\": \\\"56fde2a79251412a54000c55\\\", \\\"gender\\\": 2, \\\"id\\\": 1599276, \\\"name\\\": \\\"Walid Mumuni\\\", \\\"order\\\": 70}, {\\\"cast_id\\\": 227, \\\"character\\\": \\\"Blofeld's Guard\\\", \\\"credit_id\\\": \\\"56fde2eb9251416cc200015b\\\", \\\"gender\\\": 0, \\\"id\\\": 1599277, \\\"name\\\": \\\"Derek Horsham\\\", \\\"order\\\": 71}, {\\\"cast_id\\\": 228, \\\"character\\\": \\\"Blofeld's Guard\\\", \\\"credit_id\\\": \\\"56fde3059251412a47000b6a\\\", \\\"gender\\\": 2, \\\"id\\\": 229320, \\\"name\\\": \\\"Nari Blair-Mangat\\\", \\\"order\\\": 72}, {\\\"cast_id\\\": 229, \\\"character\\\": \\\"Blofeld's Butler\\\", \\\"credit_id\\\": \\\"56fde321c3a36821ab000d32\\\", \\\"gender\\\": 0, \\\"id\\\": 1599278, \\\"name\\\": \\\"Michael White\\\", \\\"order\\\": 73}, {\\\"cast_id\\\": 230, \\\"character\\\": \\\"Blofeld's Waiter\\\", \\\"credit_id\\\": \\\"56fde34c9251412a56000c21\\\", \\\"gender\\\": 0, \\\"id\\\": 1599279, \\\"name\\\": \\\"Adam McGrady\\\", \\\"order\\\": 74}, {\\\"cast_id\\\": 231, \\\"character\\\": \\\"Blofeld's Analyst\\\", \\\"credit_id\\\": \\\"56fde36d9251412a50000c2b\\\", \\\"gender\\\": 2, \\\"id\\\": 1436816, \\\"name\\\": \\\"Nader Dernaika\\\", \\\"order\\\": 75}, {\\\"cast_id\\\": 232, \\\"character\\\": \\\"Blofeld's Chief Analyst\\\", \\\"credit_id\\\": \\\"56fde37f9251412a4b000cf7\\\", \\\"gender\\\": 2, \\\"id\\\": 1599280, \\\"name\\\": \\\"Pezhmaan Alinia\\\", \\\"order\\\": 76}, {\\\"cast_id\\\": 31, \\\"character\\\": \\\"M (uncredited)\\\", \\\"credit_id\\\": \\\"562f218fc3a3681b5200c9e5\\\", \\\"gender\\\": 1, \\\"id\\\": 5309, \\\"name\\\": \\\"Judi Dench\\\", \\\"order\\\": 77}, {\\\"cast_id\\\": 26, \\\"character\\\": \\\"Clinic Patron (uncredited)\\\", \\\"credit_id\\\": \\\"5517b4bbc3a3686302002f36\\\", \\\"gender\\\": 1, \\\"id\\\": 1186597, \\\"name\\\": \\\"Neve Gachev\\\", \\\"order\\\": 78}, {\\\"cast_id\\\": 245, \\\"character\\\": \\\"Businessman (uncredited)\\\", \\\"credit_id\\\": \\\"57e11a3e92514104570052ba\\\", \\\"gender\\\": 2, \\\"id\\\": 1654739, \\\"name\\\": \\\"Karl Farrer\\\", \\\"order\\\": 79}, {\\\"cast_id\\\": 246, \\\"character\\\": \\\"Lair Staff (uncredited)\\\", \\\"credit_id\\\": \\\"57e124d992514104530055ec\\\", \\\"gender\\\": 1, \\\"id\\\": 1682535, \\\"name\\\": \\\"Kim Adis\\\", \\\"order\\\": 80}, {\\\"cast_id\\\": 247, \\\"character\\\": \\\"Mexican Sprite (uncredited)\\\", \\\"credit_id\\\": \\\"57e125ccc3a36853f2005365\\\", \\\"gender\\\": 1, \\\"id\\\": 1682536, \\\"name\\\": \\\"Maurisa Selene Coleman\\\", \\\"order\\\": 81}, {\\\"cast_id\\\": 249, \\\"character\\\": \\\"Pilot David\\\", \\\"credit_id\\\": \\\"585ab69fc3a3682fb8091219\\\", \\\"gender\\\": 2, \\\"id\\\": 1725801, \\\"name\\\": \\\"Matija Mondi Matovi\\\\u0107\\\", \\\"order\\\": 82}]\"\n        ],\n        \"semantic_type\": \"\",\n        \"description\": \"\"\n      }\n    },\n    {\n      \"column\": \"crew\",\n      \"properties\": {\n        \"dtype\": \"string\",\n        \"num_unique_values\": 5,\n        \"samples\": [\n          \"[{\\\"credit_id\\\": \\\"52fe4232c3a36847f800b579\\\", \\\"department\\\": \\\"Camera\\\", \\\"gender\\\": 2, \\\"id\\\": 120, \\\"job\\\": \\\"Director of Photography\\\", \\\"name\\\": \\\"Dariusz Wolski\\\"}, {\\\"credit_id\\\": \\\"52fe4232c3a36847f800b4fd\\\", \\\"department\\\": \\\"Directing\\\", \\\"gender\\\": 2, \\\"id\\\": 1704, \\\"job\\\": \\\"Director\\\", \\\"name\\\": \\\"Gore Verbinski\\\"}, {\\\"credit_id\\\": \\\"52fe4232c3a36847f800b54f\\\", \\\"department\\\": \\\"Production\\\", \\\"gender\\\": 2, \\\"id\\\": 770, \\\"job\\\": \\\"Producer\\\", \\\"name\\\": \\\"Jerry Bruckheimer\\\"}, {\\\"credit_id\\\": \\\"52fe4232c3a36847f800b503\\\", \\\"department\\\": \\\"Writing\\\", \\\"gender\\\": 2, \\\"id\\\": 1705, \\\"job\\\": \\\"Screenplay\\\", \\\"name\\\": \\\"Ted Elliott\\\"}, {\\\"credit_id\\\": \\\"52fe4232c3a36847f800b509\\\", \\\"department\\\": \\\"Writing\\\", \\\"gender\\\": 2, \\\"id\\\": 1706, \\\"job\\\": \\\"Screenplay\\\", \\\"name\\\": \\\"Terry Rossio\\\"}, {\\\"credit_id\\\": \\\"52fe4232c3a36847f800b57f\\\", \\\"department\\\": \\\"Editing\\\", \\\"gender\\\": 0, \\\"id\\\": 1721, \\\"job\\\": \\\"Editor\\\", \\\"name\\\": \\\"Stephen E. Rivkin\\\"}, {\\\"credit_id\\\": \\\"52fe4232c3a36847f800b585\\\", \\\"department\\\": \\\"Editing\\\", \\\"gender\\\": 2, \\\"id\\\": 1722, \\\"job\\\": \\\"Editor\\\", \\\"name\\\": \\\"Craig Wood\\\"}, {\\\"credit_id\\\": \\\"52fe4232c3a36847f800b573\\\", \\\"department\\\": \\\"Sound\\\", \\\"gender\\\": 2, \\\"id\\\": 947, \\\"job\\\": \\\"Original Music Composer\\\", \\\"name\\\": \\\"Hans Zimmer\\\"}, {\\\"credit_id\\\": \\\"52fe4232c3a36847f800b555\\\", \\\"department\\\": \\\"Production\\\", \\\"gender\\\": 2, \\\"id\\\": 2444, \\\"job\\\": \\\"Executive Producer\\\", \\\"name\\\": \\\"Mike Stenson\\\"}, {\\\"credit_id\\\": \\\"52fe4232c3a36847f800b561\\\", \\\"department\\\": \\\"Production\\\", \\\"gender\\\": 2, \\\"id\\\": 2445, \\\"job\\\": \\\"Producer\\\", \\\"name\\\": \\\"Eric McLeod\\\"}, {\\\"credit_id\\\": \\\"52fe4232c3a36847f800b55b\\\", \\\"department\\\": \\\"Production\\\", \\\"gender\\\": 2, \\\"id\\\": 2446, \\\"job\\\": \\\"Producer\\\", \\\"name\\\": \\\"Chad Oman\\\"}, {\\\"credit_id\\\": \\\"52fe4232c3a36847f800b567\\\", \\\"department\\\": \\\"Production\\\", \\\"gender\\\": 0, \\\"id\\\": 2447, \\\"job\\\": \\\"Producer\\\", \\\"name\\\": \\\"Peter Kohn\\\"}, {\\\"credit_id\\\": \\\"52fe4232c3a36847f800b56d\\\", \\\"department\\\": \\\"Production\\\", \\\"gender\\\": 0, \\\"id\\\": 2448, \\\"job\\\": \\\"Producer\\\", \\\"name\\\": \\\"Pat Sandston\\\"}, {\\\"credit_id\\\": \\\"52fe4232c3a36847f800b58b\\\", \\\"department\\\": \\\"Production\\\", \\\"gender\\\": 1, \\\"id\\\": 2215, \\\"job\\\": \\\"Casting\\\", \\\"name\\\": \\\"Denise Chamian\\\"}, {\\\"credit_id\\\": \\\"52fe4232c3a36847f800b597\\\", \\\"department\\\": \\\"Art\\\", \\\"gender\\\": 2, \\\"id\\\": 1226, \\\"job\\\": \\\"Production Design\\\", \\\"name\\\": \\\"Rick Heinrichs\\\"}, {\\\"credit_id\\\": \\\"52fe4232c3a36847f800b59d\\\", \\\"department\\\": \\\"Art\\\", \\\"gender\\\": 2, \\\"id\\\": 553, \\\"job\\\": \\\"Art Direction\\\", \\\"name\\\": \\\"John Dexter\\\"}, {\\\"credit_id\\\": \\\"52fe4232c3a36847f800b591\\\", \\\"department\\\": \\\"Production\\\", \\\"gender\\\": 1, \\\"id\\\": 3311, \\\"job\\\": \\\"Casting\\\", \\\"name\\\": \\\"Priscilla John\\\"}, {\\\"credit_id\\\": \\\"52fe4232c3a36847f800b5a3\\\", \\\"department\\\": \\\"Art\\\", \\\"gender\\\": 1, \\\"id\\\": 4032, \\\"job\\\": \\\"Set Decoration\\\", \\\"name\\\": \\\"Cheryl Carasik\\\"}, {\\\"credit_id\\\": \\\"52fe4232c3a36847f800b5a9\\\", \\\"department\\\": \\\"Costume & Make-Up\\\", \\\"gender\\\": 0, \\\"id\\\": 4033, \\\"job\\\": \\\"Costume Design\\\", \\\"name\\\": \\\"Liz Dann\\\"}, {\\\"credit_id\\\": \\\"52fe4232c3a36847f800b5af\\\", \\\"department\\\": \\\"Costume & Make-Up\\\", \\\"gender\\\": 1, \\\"id\\\": 4034, \\\"job\\\": \\\"Costume Design\\\", \\\"name\\\": \\\"Penny Rose\\\"}, {\\\"credit_id\\\": \\\"56427ce8c3a3686a53000d8b\\\", \\\"department\\\": \\\"Sound\\\", \\\"gender\\\": 2, \\\"id\\\": 5132, \\\"job\\\": \\\"Music Supervisor\\\", \\\"name\\\": \\\"Bob Badami\\\"}, {\\\"credit_id\\\": \\\"55993c15c3a36855db002f33\\\", \\\"department\\\": \\\"Art\\\", \\\"gender\\\": 2, \\\"id\\\": 146439, \\\"job\\\": \\\"Conceptual Design\\\", \\\"name\\\": \\\"James Ward Byrkit\\\"}, {\\\"credit_id\\\": \\\"52fe4232c3a36847f800b5b9\\\", \\\"department\\\": \\\"Costume & Make-Up\\\", \\\"gender\\\": 1, \\\"id\\\": 406204, \\\"job\\\": \\\"Makeup Department Head\\\", \\\"name\\\": \\\"Ve Neill\\\"}, {\\\"credit_id\\\": \\\"56e47f7892514132690017bd\\\", \\\"department\\\": \\\"Crew\\\", \\\"gender\\\": 2, \\\"id\\\": 1259516, \\\"job\\\": \\\"Stunts\\\", \\\"name\\\": \\\"John Dixon\\\"}, {\\\"credit_id\\\": \\\"5740be639251416597000849\\\", \\\"department\\\": \\\"Crew\\\", \\\"gender\\\": 0, \\\"id\\\": 1336716, \\\"job\\\": \\\"CGI Supervisor\\\", \\\"name\\\": \\\"Dottie Starling\\\"}, {\\\"credit_id\\\": \\\"56427c639251412fc8000dc1\\\", \\\"department\\\": \\\"Directing\\\", \\\"gender\\\": 1, \\\"id\\\": 1344278, \\\"job\\\": \\\"Script Supervisor\\\", \\\"name\\\": \\\"Pamela Alch\\\"}, {\\\"credit_id\\\": \\\"57083101c3a3681d320004e6\\\", \\\"department\\\": \\\"Crew\\\", \\\"gender\\\": 0, \\\"id\\\": 1368867, \\\"job\\\": \\\"Special Effects Coordinator\\\", \\\"name\\\": \\\"Allen Hall\\\"}, {\\\"credit_id\\\": \\\"56427d5ec3a3686a62000d4a\\\", \\\"department\\\": \\\"Sound\\\", \\\"gender\\\": 0, \\\"id\\\": 1368884, \\\"job\\\": \\\"Music Editor\\\", \\\"name\\\": \\\"Melissa Muik\\\"}, {\\\"credit_id\\\": \\\"56427c7b9251412fd4000e07\\\", \\\"department\\\": \\\"Directing\\\", \\\"gender\\\": 1, \\\"id\\\": 1395290, \\\"job\\\": \\\"Script Supervisor\\\", \\\"name\\\": \\\"Sharron Reynolds\\\"}, {\\\"credit_id\\\": \\\"56427d2bc3a3686a53000d9b\\\", \\\"department\\\": \\\"Sound\\\", \\\"gender\\\": 0, \\\"id\\\": 1399327, \\\"job\\\": \\\"Music Editor\\\", \\\"name\\\": \\\"Barbara McDermott\\\"}, {\\\"credit_id\\\": \\\"56427cb4c3a3686a53000d87\\\", \\\"department\\\": \\\"Directing\\\", \\\"gender\\\": 1, \\\"id\\\": 1400738, \\\"job\\\": \\\"Script Supervisor\\\", \\\"name\\\": \\\"Karen Golden\\\"}, {\\\"credit_id\\\": \\\"56427d169251412fd4000e23\\\", \\\"department\\\": \\\"Sound\\\", \\\"gender\\\": 0, \\\"id\\\": 1534197, \\\"job\\\": \\\"Music Editor\\\", \\\"name\\\": \\\"Katie Greathouse\\\"}]\",\n          \"[{\\\"credit_id\\\": \\\"52fe479ac3a36847f813eaa3\\\", \\\"department\\\": \\\"Writing\\\", \\\"gender\\\": 2, \\\"id\\\": 7, \\\"job\\\": \\\"Screenplay\\\", \\\"name\\\": \\\"Andrew Stanton\\\"}, {\\\"credit_id\\\": \\\"52fe479ac3a36847f813ea65\\\", \\\"department\\\": \\\"Directing\\\", \\\"gender\\\": 2, \\\"id\\\": 7, \\\"job\\\": \\\"Director\\\", \\\"name\\\": \\\"Andrew Stanton\\\"}, {\\\"credit_id\\\": \\\"58c69e819251411d30017673\\\", \\\"department\\\": \\\"Crew\\\", \\\"gender\\\": 2, \\\"id\\\": 7879, \\\"job\\\": \\\"Thanks\\\", \\\"name\\\": \\\"John Lasseter\\\"}, {\\\"credit_id\\\": \\\"52fe479ac3a36847f813eac5\\\", \\\"department\\\": \\\"Production\\\", \\\"gender\\\": 2, \\\"id\\\": 490, \\\"job\\\": \\\"Producer\\\", \\\"name\\\": \\\"Colin Wilson\\\"}, {\\\"credit_id\\\": \\\"58c68f2b9251411d30016cf2\\\", \\\"department\\\": \\\"Production\\\", \\\"gender\\\": 2, \\\"id\\\": 2073, \\\"job\\\": \\\"Casting\\\", \\\"name\\\": \\\"Gail Stevens\\\"}, {\\\"credit_id\\\": \\\"58c68ef19251411d62016ec3\\\", \\\"department\\\": \\\"Sound\\\", \\\"gender\\\": 2, \\\"id\\\": 3996, \\\"job\\\": \\\"Sound Re-Recording Mixer\\\", \\\"name\\\": \\\"Tom Johnson\\\"}, {\\\"credit_id\\\": \\\"52fe479ac3a36847f813ead7\\\", \\\"department\\\": \\\"Editing\\\", \\\"gender\\\": 2, \\\"id\\\": 6958, \\\"job\\\": \\\"Editor\\\", \\\"name\\\": \\\"Eric Zumbrunnen\\\"}, {\\\"credit_id\\\": \\\"58c69a9ec3a36840b801738e\\\", \\\"department\\\": \\\"Editing\\\", \\\"gender\\\": 0, \\\"id\\\": 8158, \\\"job\\\": \\\"Dialogue Editor\\\", \\\"name\\\": \\\"Michael Silvers\\\"}, {\\\"credit_id\\\": \\\"58c68f1ec3a368413b015877\\\", \\\"department\\\": \\\"Sound\\\", \\\"gender\\\": 0, \\\"id\\\": 8166, \\\"job\\\": \\\"Sound Re-Recording Mixer\\\", \\\"name\\\": \\\"Juan Peralta\\\"}, {\\\"credit_id\\\": \\\"58c69340c3a36841200154c9\\\", \\\"department\\\": \\\"Costume & Make-Up\\\", \\\"gender\\\": 0, \\\"id\\\": 8412, \\\"job\\\": \\\"Key Makeup Artist\\\", \\\"name\\\": \\\"Paul Gooch\\\"}, {\\\"credit_id\\\": \\\"58c69cc0c3a368413001574a\\\", \\\"department\\\": \\\"Art\\\", \\\"gender\\\": 0, \\\"id\\\": 12039, \\\"job\\\": \\\"Set Decoration\\\", \\\"name\\\": \\\"Paki Smith\\\"}, {\\\"credit_id\\\": \\\"58c69e9e9251411d11017c02\\\", \\\"department\\\": \\\"Crew\\\", \\\"gender\\\": 0, \\\"id\\\": 12895, \\\"job\\\": \\\"Thanks\\\", \\\"name\\\": \\\"Ed Catmull\\\"}, {\\\"credit_id\\\": \\\"58c689079251411d19017350\\\", \\\"department\\\": \\\"Crew\\\", \\\"gender\\\": 2, \\\"id\\\": 12897, \\\"job\\\": \\\"In Memory Of\\\", \\\"name\\\": \\\"Steve Jobs\\\"}, {\\\"credit_id\\\": \\\"56abe29d9251417e22003953\\\", \\\"department\\\": \\\"Costume & Make-Up\\\", \\\"gender\\\": 2, \\\"id\\\": 15017, \\\"job\\\": \\\"Makeup Designer\\\", \\\"name\\\": \\\"Bill Corso\\\"}, {\\\"credit_id\\\": \\\"58c691fc9251411d30016e75\\\", \\\"department\\\": \\\"Art\\\", \\\"gender\\\": 2, \\\"id\\\": 14762, \\\"job\\\": \\\"Art Direction\\\", \\\"name\\\": \\\"Robert Woodruff\\\"}, {\\\"credit_id\\\": \\\"52fe479ac3a36847f813eae3\\\", \\\"department\\\": \\\"Art\\\", \\\"gender\\\": 2, \\\"id\\\": 15327, \\\"job\\\": \\\"Production Design\\\", \\\"name\\\": \\\"Nathan Crowley\\\"}, {\\\"credit_id\\\": \\\"58c6888bc3a36840f6014f95\\\", \\\"department\\\": \\\"Sound\\\", \\\"gender\\\": 2, \\\"id\\\": 15347, \\\"job\\\": \\\"Music\\\", \\\"name\\\": \\\"Michael Giacchino\\\"}, {\\\"credit_id\\\": \\\"52fe479ac3a36847f813ead1\\\", \\\"department\\\": \\\"Camera\\\", \\\"gender\\\": 0, \\\"id\\\": 15348, \\\"job\\\": \\\"Director of Photography\\\", \\\"name\\\": \\\"Daniel Mindel\\\"}, {\\\"credit_id\\\": \\\"58c69adcc3a36840f6015b94\\\", \\\"department\\\": \\\"Sound\\\", \\\"gender\\\": 2, \\\"id\\\": 15354, \\\"job\\\": \\\"Music Editor\\\", \\\"name\\\": \\\"Stephen M. Davis\\\"}, {\\\"credit_id\\\": \\\"58c69227c3a36840f60155d7\\\", \\\"department\\\": \\\"Art\\\", \\\"gender\\\": 2, \\\"id\\\": 34513, \\\"job\\\": \\\"Art Direction\\\", \\\"name\\\": \\\"John King\\\"}, {\\\"credit_id\\\": \\\"52fe479ac3a36847f813eafb\\\", \\\"department\\\": \\\"Costume & Make-Up\\\", \\\"gender\\\": 0, \\\"id\\\": 17675, \\\"job\\\": \\\"Costume Design\\\", \\\"name\\\": \\\"Mayes C. Rubeo\\\"}, {\\\"credit_id\\\": \\\"570b939092514111f20029c9\\\", \\\"department\\\": \\\"Art\\\", \\\"gender\\\": 0, \\\"id\\\": 17677, \\\"job\\\": \\\"Supervising Art Director\\\", \\\"name\\\": \\\"Naaman Marshall\\\"}, {\\\"credit_id\\\": \\\"58c69203c3a36841140150c8\\\", \\\"department\\\": \\\"Art\\\", \\\"gender\\\": 0, \\\"id\\\": 18925, \\\"job\\\": \\\"Art Direction\\\", \\\"name\\\": \\\"Scott Zuber\\\"}, {\\\"credit_id\\\": \\\"58c6905bc3a3684128014f17\\\", \\\"department\\\": \\\"Art\\\", \\\"gender\\\": 2, \\\"id\\\": 23454, \\\"job\\\": \\\"Art Direction\\\", \\\"name\\\": \\\"Phil Harvey\\\"}, {\\\"credit_id\\\": \\\"58c69aedc3a36841140156e9\\\", \\\"department\\\": \\\"Sound\\\", \\\"gender\\\": 0, \\\"id\\\": 28241, \\\"job\\\": \\\"Orchestrator\\\", \\\"name\\\": \\\"Tim Simonec\\\"}, {\\\"credit_id\\\": \\\"58c69811c3a368410c0160b1\\\", \\\"department\\\": \\\"Costume & Make-Up\\\", \\\"gender\\\": 0, \\\"id\\\": 29233, \\\"job\\\": \\\"Makeup Artist\\\", \\\"name\\\": \\\"Veronica McAleer\\\"}, {\\\"credit_id\\\": \\\"52fe479ac3a36847f813eb07\\\", \\\"department\\\": \\\"Writing\\\", \\\"gender\\\": 2, \\\"id\\\": 15776, \\\"job\\\": \\\"Original Story\\\", \\\"name\\\": \\\"Edgar Rice Burroughs\\\"}, {\\\"credit_id\\\": \\\"52fe479ac3a36847f813eadd\\\", \\\"department\\\": \\\"Production\\\", \\\"gender\\\": 1, \\\"id\\\": 51557, \\\"job\\\": \\\"Casting\\\", \\\"name\\\": \\\"Marcia Ross\\\"}, {\\\"credit_id\\\": \\\"58c69f12c3a36841140159a5\\\", \\\"department\\\": \\\"Crew\\\", \\\"gender\\\": 2, \\\"id\\\": 39624, \\\"job\\\": \\\"Thanks\\\", \\\"name\\\": \\\"Peter Gabriel\\\"}, {\\\"credit_id\\\": \\\"58c6937f9251411d30016f5f\\\", \\\"department\\\": \\\"Costume & Make-Up\\\", \\\"gender\\\": 0, \\\"id\\\": 61996, \\\"job\\\": \\\"Key Makeup Artist\\\", \\\"name\\\": \\\"Christien Tinsley\\\"}, {\\\"credit_id\\\": \\\"58c69acb9251411d19017f73\\\", \\\"department\\\": \\\"Production\\\", \\\"gender\\\": 0, \\\"id\\\": 64449, \\\"job\\\": \\\"ADR Voice Casting\\\", \\\"name\\\": \\\"Holly Dorff\\\"}, {\\\"credit_id\\\": \\\"52fe479ac3a36847f813eabf\\\", \\\"department\\\": \\\"Production\\\", \\\"gender\\\": 0, \\\"id\\\": 72752, \\\"job\\\": \\\"Producer\\\", \\\"name\\\": \\\"Jim Morris\\\"}, {\\\"credit_id\\\": \\\"52fe479ac3a36847f813eab9\\\", \\\"department\\\": \\\"Production\\\", \\\"gender\\\": 0, \\\"id\\\": 72753, \\\"job\\\": \\\"Producer\\\", \\\"name\\\": \\\"Lindsey Collins\\\"}, {\\\"credit_id\\\": \\\"52fe479ac3a36847f813eaaf\\\", \\\"department\\\": \\\"Writing\\\", \\\"gender\\\": 2, \\\"id\\\": 67758, \\\"job\\\": \\\"Screenplay\\\", \\\"name\\\": \\\"Michael Chabon\\\"}, {\\\"credit_id\\\": \\\"58c68a499251411d55016dd5\\\", \\\"department\\\": \\\"Production\\\", \\\"gender\\\": 0, \\\"id\\\": 91055, \\\"job\\\": \\\"Unit Production Manager\\\", \\\"name\\\": \\\"Jan Foster\\\"}, {\\\"credit_id\\\": \\\"58c699509251411d550177c7\\\", \\\"department\\\": \\\"Camera\\\", \\\"gender\\\": 0, \\\"id\\\": 91912, \\\"job\\\": \\\"Camera Operator\\\", \\\"name\\\": \\\"John Skotchdopole\\\"}, {\\\"credit_id\\\": \\\"58c6995cc3a368412001591e\\\", \\\"department\\\": \\\"Sound\\\", \\\"gender\\\": 2, \\\"id\\\": 105780, \\\"job\\\": \\\"Sound Mixer\\\", \\\"name\\\": \\\"Chris Munro\\\"}, {\\\"credit_id\\\": \\\"58c6884e9251411d15016de7\\\", \\\"department\\\": \\\"Visual Effects\\\", \\\"gender\\\": 0, \\\"id\\\": 122274, \\\"job\\\": \\\"Visual Effects Supervisor\\\", \\\"name\\\": \\\"Peter Chiang\\\"}, {\\\"credit_id\\\": \\\"52fe479ac3a36847f813eaa9\\\", \\\"department\\\": \\\"Writing\\\", \\\"gender\\\": 2, \\\"id\\\": 126638, \\\"job\\\": \\\"Screenplay\\\", \\\"name\\\": \\\"Mark Andrews\\\"}, {\\\"credit_id\\\": \\\"58c68ed79251411d62016eb2\\\", \\\"department\\\": \\\"Sound\\\", \\\"gender\\\": 0, \\\"id\\\": 138617, \\\"job\\\": \\\"Supervising Sound Editor\\\", \\\"name\\\": \\\"Jonathan Null\\\"}, {\\\"credit_id\\\": \\\"58c69c9a9251411d6201776e\\\", \\\"department\\\": \\\"Production\\\", \\\"gender\\\": 2, \\\"id\\\": 238120, \\\"job\\\": \\\"Casting Associate\\\", \\\"name\\\": \\\"Colin Jones\\\"}, {\\\"credit_id\\\": \\\"52fe479ac3a36847f813eb13\\\", \\\"department\\\": \\\"Costume & Make-Up\\\", \\\"gender\\\": 1, \\\"id\\\": 406204, \\\"job\\\": \\\"Makeup Department Head\\\", \\\"name\\\": \\\"Ve Neill\\\"}, {\\\"credit_id\\\": \\\"58c69b249251411d0d018598\\\", \\\"department\\\": \\\"Production\\\", \\\"gender\\\": 1, \\\"id\\\": 528783, \\\"job\\\": \\\"Casting Associate\\\", \\\"name\\\": \\\"Brittainy Roberts\\\"}, {\\\"credit_id\\\": \\\"58c698c9c3a36840b8017245\\\", \\\"department\\\": \\\"Costume & Make-Up\\\", \\\"gender\\\": 0, \\\"id\\\": 967148, \\\"job\\\": \\\"Assistant Costume Designer\\\", \\\"name\\\": \\\"Jeremy Turner\\\"}, {\\\"credit_id\\\": \\\"58c691f5c3a36841200153f6\\\", \\\"department\\\": \\\"Art\\\", \\\"gender\\\": 2, \\\"id\\\": 969743, \\\"job\\\": \\\"Art Direction\\\", \\\"name\\\": \\\"Dean Wolcott\\\"}, {\\\"credit_id\\\": \\\"58c69032c3a36841200152fe\\\", \\\"department\\\": \\\"Art\\\", \\\"gender\\\": 2, \\\"id\\\": 986687, \\\"job\\\": \\\"Art Direction\\\", \\\"name\\\": \\\"Mark Harris\\\"}, {\\\"credit_id\\\": \\\"570b9382c3a368779600816a\\\", \\\"department\\\": \\\"Art\\\", \\\"gender\\\": 0, \\\"id\\\": 1034754, \\\"job\\\": \\\"Supervising Art Director\\\", \\\"name\\\": \\\"James Hambidge\\\"}, {\\\"credit_id\\\": \\\"52fe479ac3a36847f813eb01\\\", \\\"department\\\": \\\"Crew\\\", \\\"gender\\\": 0, \\\"id\\\": 1034755, \\\"job\\\": \\\"Post Production Supervisor\\\", \\\"name\\\": \\\"Lori Korngiebel\\\"}, {\\\"credit_id\\\": \\\"58c692ffc3a3684114015167\\\", \\\"department\\\": \\\"Art\\\", \\\"gender\\\": 0, \\\"id\\\": 1055222, \\\"job\\\": \\\"Storyboard Designer\\\", \\\"name\\\": \\\"David Krentz\\\"}, {\\\"credit_id\\\": \\\"58c68e719251411d19017745\\\", \\\"department\\\": \\\"Visual Effects\\\", \\\"gender\\\": 0, \\\"id\\\": 1081073, \\\"job\\\": \\\"Special Effects Supervisor\\\", \\\"name\\\": \\\"Chris Corbould\\\"}, {\\\"credit_id\\\": \\\"58c698bec3a368411401553a\\\", \\\"department\\\": \\\"Costume & Make-Up\\\", \\\"gender\\\": 1, \\\"id\\\": 1121742, \\\"job\\\": \\\"Assistant Costume Designer\\\", \\\"name\\\": \\\"Colleen Kelsall\\\"}, {\\\"credit_id\\\": \\\"58c68e2e9251411d47017e8a\\\", \\\"department\\\": \\\"Production\\\", \\\"gender\\\": 0, \\\"id\\\": 1123360, \\\"job\\\": \\\"Associate Producer\\\", \\\"name\\\": \\\"Bob Roath\\\"}, {\\\"credit_id\\\": \\\"58c692629251411d620170a7\\\", \\\"department\\\": \\\"Art\\\", \\\"gender\\\": 0, \\\"id\\\": 1171098, \\\"job\\\": \\\"Set Designer\\\", \\\"name\\\": \\\"Darrell L. Wight\\\"}, {\\\"credit_id\\\": \\\"58c692f9c3a36840b8016e22\\\", \\\"department\\\": \\\"Art\\\", \\\"gender\\\": 0, \\\"id\\\": 1218986, \\\"job\\\": \\\"Storyboard Designer\\\", \\\"name\\\": \\\"Bryan Andrews\\\"}, {\\\"credit_id\\\": \\\"58c6941f9251411d110174ca\\\", \\\"department\\\": \\\"Costume & Make-Up\\\", \\\"gender\\\": 0, \\\"id\\\": 1316599, \\\"job\\\": \\\"Makeup Artist\\\", \\\"name\\\": \\\"Dennis Liddiard\\\"}, {\\\"credit_id\\\": \\\"58c6943a9251411d0d01804a\\\", \\\"department\\\": \\\"Costume & Make-Up\\\", \\\"gender\\\": 0, \\\"id\\\": 1319490, \\\"job\\\": \\\"Makeup Artist\\\", \\\"name\\\": \\\"Kevin Haney\\\"}, {\\\"credit_id\\\": \\\"58c69244c3a368413b015a23\\\", \\\"department\\\": \\\"Art\\\", \\\"gender\\\": 0, \\\"id\\\": 1334782, \\\"job\\\": \\\"Assistant Art Director\\\", \\\"name\\\": \\\"Josh Lusby\\\"}, {\\\"credit_id\\\": \\\"58c69ccec3a36841280156f6\\\", \\\"department\\\": \\\"Art\\\", \\\"gender\\\": 0, \\\"id\\\": 1335553, \\\"job\\\": \\\"Property Master\\\", \\\"name\\\": \\\"Jamie Wilkinson\\\"}, {\\\"credit_id\\\": \\\"58c69f219251411d190182a8\\\", \\\"department\\\": \\\"Crew\\\", \\\"gender\\\": 0, \\\"id\\\": 1339450, \\\"job\\\": \\\"Thanks\\\", \\\"name\\\": \\\"Roger Guyett\\\"}, {\\\"credit_id\\\": \\\"58c69dc79251411d1901819d\\\", \\\"department\\\": \\\"Crew\\\", \\\"gender\\\": 0, \\\"id\\\": 1357070, \\\"job\\\": \\\"Transportation Coordinator\\\", \\\"name\\\": \\\"Denny Caira\\\"}, {\\\"credit_id\\\": \\\"58c688709251411d3001684b\\\", \\\"department\\\": \\\"Visual Effects\\\", \\\"gender\\\": 0, \\\"id\\\": 1367497, \\\"job\\\": \\\"Visual Effects Supervisor\\\", \\\"name\\\": \\\"Sue Rowe\\\"}, {\\\"credit_id\\\": \\\"58c69ca79251411d11017a77\\\", \\\"department\\\": \\\"Production\\\", \\\"gender\\\": 0, \\\"id\\\": 1374469, \\\"job\\\": \\\"Casting Assistant\\\", \\\"name\\\": \\\"Toby Spigel\\\"}, {\\\"credit_id\\\": \\\"58c69aa59251411d11017919\\\", \\\"department\\\": \\\"Editing\\\", \\\"gender\\\": 0, \\\"id\\\": 1376901, \\\"job\\\": \\\"Dialogue Editor\\\", \\\"name\\\": \\\"Marshall Winn\\\"}, {\\\"credit_id\\\": \\\"58c68ee9c3a3684128014e36\\\", \\\"department\\\": \\\"Sound\\\", \\\"gender\\\": 0, \\\"id\\\": 1378828, \\\"job\\\": \\\"Sound Re-Recording Mixer\\\", \\\"name\\\": \\\"Michael Semanick\\\"}, {\\\"credit_id\\\": \\\"58c692389251411d30016ea2\\\", \\\"department\\\": \\\"Art\\\", \\\"gender\\\": 0, \\\"id\\\": 1388850, \\\"job\\\": \\\"Assistant Art Director\\\", \\\"name\\\": \\\"Peter Dorme\\\"}, {\\\"credit_id\\\": \\\"58c69cf49251411d4701890b\\\", \\\"department\\\": \\\"Lighting\\\", \\\"gender\\\": 0, \\\"id\\\": 1390367, \\\"job\\\": \\\"Gaffer\\\", \\\"name\\\": \\\"Perry Evans\\\"}, {\\\"credit_id\\\": \\\"58c699f4c3a368413b015f45\\\", \\\"department\\\": \\\"Directing\\\", \\\"gender\\\": 0, \\\"id\\\": 1390388, \\\"job\\\": \\\"Script Supervisor\\\", \\\"name\\\": \\\"Annie Penn\\\"}, {\\\"credit_id\\\": \\\"58c69a7ac3a368410c016254\\\", \\\"department\\\": \\\"Sound\\\", \\\"gender\\\": 0, \\\"id\\\": 1394129, \\\"job\\\": \\\"Sound Designer\\\", \\\"name\\\": \\\"Tim Nielsen\\\"}, {\\\"credit_id\\\": \\\"58c68edec3a3684114014f16\\\", \\\"department\\\": \\\"Sound\\\", \\\"gender\\\": 0, \\\"id\\\": 1394129, \\\"job\\\": \\\"Supervising Sound Editor\\\", \\\"name\\\": \\\"Tim Nielsen\\\"}, {\\\"credit_id\\\": \\\"58c6928f9251411d55017337\\\", \\\"department\\\": \\\"Art\\\", \\\"gender\\\": 0, \\\"id\\\": 1395430, \\\"job\\\": \\\"Art Department Coordinator\\\", \\\"name\\\": \\\"Jenne Lee\\\"}, {\\\"credit_id\\\": \\\"58c6925b9251411d150174df\\\", \\\"department\\\": \\\"Art\\\", \\\"gender\\\": 0, \\\"id\\\": 1395435, \\\"job\\\": \\\"Set Designer\\\", \\\"name\\\": \\\"Theodore Sharps\\\"}, {\\\"credit_id\\\": \\\"58c691c4c3a36840f6015583\\\", \\\"department\\\": \\\"Art\\\", \\\"gender\\\": 0, \\\"id\\\": 1397837, \\\"job\\\": \\\"Art Direction\\\", \\\"name\\\": \\\"Joseph Hodges\\\"}, {\\\"credit_id\\\": \\\"58c699489251411d300172de\\\", \\\"department\\\": \\\"Camera\\\", \\\"gender\\\": 0, \\\"id\\\": 1399467, \\\"job\\\": \\\"Camera Operator\\\", \\\"name\\\": \\\"Philippe Carr-Forster\\\"}, {\\\"credit_id\\\": \\\"58c69cfdc3a368413b016165\\\", \\\"department\\\": \\\"Lighting\\\", \\\"gender\\\": 0, \\\"id\\\": 1399475, \\\"job\\\": \\\"Gaffer\\\", \\\"name\\\": \\\"Christopher Prampin\\\"}, {\\\"credit_id\\\": \\\"58c69920c3a36841300154e2\\\", \\\"department\\\": \\\"Camera\\\", \\\"gender\\\": 0, \\\"id\\\": 1400535, \\\"job\\\": \\\"Camera Operator\\\", \\\"name\\\": \\\"Colin Anderson\\\"}, {\\\"credit_id\\\": \\\"58c699259251411d620174e9\\\", \\\"department\\\": \\\"Camera\\\", \\\"gender\\\": 0, \\\"id\\\": 1400535, \\\"job\\\": \\\"Steadicam Operator\\\", \\\"name\\\": \\\"Colin Anderson\\\"}, {\\\"credit_id\\\": \\\"58c699ebc3a368411401561c\\\", \\\"department\\\": \\\"Production\\\", \\\"gender\\\": 0, \\\"id\\\": 1401784, \\\"job\\\": \\\"Production Supervisor\\\", \\\"name\\\": \\\"Jennifer Teves\\\"}, {\\\"credit_id\\\": \\\"58c6935ec3a368413b015ae4\\\", \\\"department\\\": \\\"Costume & Make-Up\\\", \\\"gender\\\": 0, \\\"id\\\": 1403388, \\\"job\\\": \\\"Key Makeup Artist\\\", \\\"name\\\": \\\"Kim Ayers\\\"}, {\\\"credit_id\\\": \\\"58c68e49c3a368413b0157eb\\\", \\\"department\\\": \\\"Visual Effects\\\", \\\"gender\\\": 0, \\\"id\\\": 1408379, \\\"job\\\": \\\"Visual Effects Producer\\\", \\\"name\\\": \\\"Daniel Barrow\\\"}, {\\\"credit_id\\\": \\\"58c6936fc3a368413b015aed\\\", \\\"department\\\": \\\"Costume & Make-Up\\\", \\\"gender\\\": 0, \\\"id\\\": 1409757, \\\"job\\\": \\\"Key Makeup Artist\\\", \\\"name\\\": \\\"Debbi Salmon\\\"}, {\\\"credit_id\\\": \\\"58c69339c3a36841200154c4\\\", \\\"department\\\": \\\"Costume & Make-Up\\\", \\\"gender\\\": 0, \\\"id\\\": 1411320, \\\"job\\\": \\\"Key Makeup Artist\\\", \\\"name\\\": \\\"Paula Price\\\"}, {\\\"credit_id\\\": \\\"58c69dba9251411d0d018767\\\", \\\"department\\\": \\\"Camera\\\", \\\"gender\\\": 0, \\\"id\\\": 1412205, \\\"job\\\": \\\"Still Photographer\\\", \\\"name\\\": \\\"Frank Connor\\\"}, {\\\"credit_id\\\": \\\"58c69a89c3a3684114015691\\\", \\\"department\\\": \\\"Sound\\\", \\\"gender\\\": 0, \\\"id\\\": 1414177, \\\"job\\\": \\\"Sound Effects Editor\\\", \\\"name\\\": \\\"J.R. Grubbs\\\"}, {\\\"credit_id\\\": \\\"58c69452c3a36840f6015741\\\", \\\"department\\\": \\\"Costume & Make-Up\\\", \\\"gender\\\": 0, \\\"id\\\": 1414539, \\\"job\\\": \\\"Makeup Artist\\\", \\\"name\\\": \\\"Deborah Rutherford\\\"}, {\\\"credit_id\\\": \\\"58c6946c9251411d15017617\\\", \\\"department\\\": \\\"Costume & Make-Up\\\", \\\"gender\\\": 0, \\\"id\\\": 1414540, \\\"job\\\": \\\"Makeup Artist\\\", \\\"name\\\": \\\"Don Rutherford\\\"}, {\\\"credit_id\\\": \\\"58c69a929251411d11017907\\\", \\\"department\\\": \\\"Sound\\\", \\\"gender\\\": 0, \\\"id\\\": 1415464, \\\"job\\\": \\\"Sound Effects Editor\\\", \\\"name\\\": \\\"Malcolm Fife\\\"}, {\\\"credit_id\\\": \\\"58c6923e9251411d11017382\\\", \\\"department\\\": \\\"Art\\\", \\\"gender\\\": 0, \\\"id\\\": 1417396, \\\"job\\\": \\\"Assistant Art Director\\\", \\\"name\\\": \\\"Toby Britton\\\"}, {\\\"credit_id\\\": \\\"58c69866c3a368413001545d\\\", \\\"department\\\": \\\"Costume & Make-Up\\\", \\\"gender\\\": 0, \\\"id\\\": 1418124, \\\"job\\\": \\\"Hair Designer\\\", \\\"name\\\": \\\"Kevin Alexander\\\"}, {\\\"credit_id\\\": \\\"58c693779251411d470181e4\\\", \\\"department\\\": \\\"Costume & Make-Up\\\", \\\"gender\\\": 0, \\\"id\\\": 1421936, \\\"job\\\": \\\"Key Makeup Artist\\\", \\\"name\\\": \\\"Kristie Matthiae\\\"}, {\\\"credit_id\\\": \\\"58c694a99251411d15017646\\\", \\\"department\\\": \\\"Costume & Make-Up\\\", \\\"gender\\\": 0, \\\"id\\\": 1424151, \\\"job\\\": \\\"Makeup Artist\\\", \\\"name\\\": \\\"Gerald Quist\\\"}, {\\\"credit_id\\\": \\\"58c693f39251411d110174a9\\\", \\\"department\\\": \\\"Costume & Make-Up\\\", \\\"gender\\\": 0, \\\"id\\\": 1425411, \\\"job\\\": \\\"Makeup Artist\\\", \\\"name\\\": \\\"Nuria Mbomio\\\"}, {\\\"credit_id\\\": \\\"58c68866c3a368413b015367\\\", \\\"department\\\": \\\"Visual Effects\\\", \\\"gender\\\": 0, \\\"id\\\": 1428901, \\\"job\\\": \\\"Animation Supervisor\\\", \\\"name\\\": \\\"Eamonn Butler\\\"}, {\\\"credit_id\\\": \\\"58c68ec89251411d11017191\\\", \\\"department\\\": \\\"Crew\\\", \\\"gender\\\": 0, \\\"id\\\": 1428905, \\\"job\\\": \\\"Visual Effects Editor\\\", \\\"name\\\": \\\"Laura Jennings\\\"}, {\\\"credit_id\\\": \\\"58c693919251411d0d017fde\\\", \\\"department\\\": \\\"Costume & Make-Up\\\", \\\"gender\\\": 0, \\\"id\\\": 1428911, \\\"job\\\": \\\"Makeup Artist\\\", \\\"name\\\": \\\"Ailbhe Lemass\\\"}, {\\\"credit_id\\\": \\\"58c6992f9251411d19017e49\\\", \\\"department\\\": \\\"Camera\\\", \\\"gender\\\": 0, \\\"id\\\": 1430188, \\\"job\\\": \\\"Camera Operator\\\", \\\"name\\\": \\\"Simon Finney\\\"}, {\\\"credit_id\\\": \\\"58c6948b9251411d15017628\\\", \\\"department\\\": \\\"Costume & Make-Up\\\", \\\"gender\\\": 0, \\\"id\\\": 1441176, \\\"job\\\": \\\"Makeup Artist\\\", \\\"name\\\": \\\"Eryn Krueger Mekash\\\"}, {\\\"credit_id\\\": \\\"58c692ddc3a368413b015a8d\\\", \\\"department\\\": \\\"Art\\\", \\\"gender\\\": 0, \\\"id\\\": 1447571, \\\"job\\\": \\\"Art Department Assistant\\\", \\\"name\\\": \\\"Travis Witkowski\\\"}, {\\\"credit_id\\\": \\\"58c694809251411d15017622\\\", \\\"department\\\": \\\"Costume & Make-Up\\\", \\\"gender\\\": 0, \\\"id\\\": 1458894, \\\"job\\\": \\\"Makeup Artist\\\", \\\"name\\\": \\\"Mike Mekash\\\"}, {\\\"credit_id\\\": \\\"58c6940e9251411d19017aad\\\", \\\"department\\\": \\\"Costume & Make-Up\\\", \\\"gender\\\": 0, \\\"id\\\": 1530220, \\\"job\\\": \\\"Makeup Artist\\\", \\\"name\\\": \\\"Kirstin Chalmers\\\"}, {\\\"credit_id\\\": \\\"58c698e89251411d5501777a\\\", \\\"department\\\": \\\"Costume & Make-Up\\\", \\\"gender\\\": 0, \\\"id\\\": 1532325, \\\"job\\\": \\\"Key Costumer\\\", \\\"name\\\": \\\"Kacie Seamons\\\"}, {\\\"credit_id\\\": \\\"58c693b39251411d30016f78\\\", \\\"department\\\": \\\"Costume & Make-Up\\\", \\\"gender\\\": 0, \\\"id\\\": 1536539, \\\"job\\\": \\\"Makeup Artist\\\", \\\"name\\\": \\\"Deborah Taylor\\\"}, {\\\"credit_id\\\": \\\"58c68e84c3a36840f60153a1\\\", \\\"department\\\": \\\"Crew\\\", \\\"gender\\\": 0, \\\"id\\\": 1546844, \\\"job\\\": \\\"Visual Effects Art Director\\\", \\\"name\\\": \\\"Ryan Church\\\"}, {\\\"credit_id\\\": \\\"58c693659251411d550173be\\\", \\\"department\\\": \\\"Costume & Make-Up\\\", \\\"gender\\\": 0, \\\"id\\\": 1549655, \\\"job\\\": \\\"Key Makeup Artist\\\", \\\"name\\\": \\\"Camille Henderson\\\"}, {\\\"credit_id\\\": \\\"58c68fd29251411d30016d3f\\\", \\\"department\\\": \\\"Crew\\\", \\\"gender\\\": 0, \\\"id\\\": 1550851, \\\"job\\\": \\\"Stunt Coordinator\\\", \\\"name\\\": \\\"Tom Struthers\\\"}, {\\\"credit_id\\\": \\\"58c692bfc3a36840b8016df9\\\", \\\"department\\\": \\\"Art\\\", \\\"gender\\\": 0, \\\"id\\\": 1551810, \\\"job\\\": \\\"Art Department Assistant\\\", \\\"name\\\": \\\"Liam Georgensen\\\"}, {\\\"credit_id\\\": \\\"58c692869251411d30016ed9\\\", \\\"department\\\": \\\"Art\\\", \\\"gender\\\": 0, \\\"id\\\": 1561994, \\\"job\\\": \\\"Art Department Coordinator\\\", \\\"name\\\": \\\"Lavinia Waters\\\"}, {\\\"credit_id\\\": \\\"58c697f89251411d30017205\\\", \\\"department\\\": \\\"Costume & Make-Up\\\", \\\"gender\\\": 0, \\\"id\\\": 1613336, \\\"job\\\": \\\"Makeup Artist\\\", \\\"name\\\": \\\"Greg T. Moon\\\"}, {\\\"credit_id\\\": \\\"58c69a07c3a36841200159ae\\\", \\\"department\\\": \\\"Production\\\", \\\"gender\\\": 0, \\\"id\\\": 1640350, \\\"job\\\": \\\"Production Coordinator\\\", \\\"name\\\": \\\"Richard Daldry\\\"}, {\\\"credit_id\\\": \\\"58c69979c3a368413b015eef\\\", \\\"department\\\": \\\"Sound\\\", \\\"gender\\\": 2, \\\"id\\\": 1658269, \\\"job\\\": \\\"Boom Operator\\\", \\\"name\\\": \\\"Stephen Finn\\\"}, {\\\"credit_id\\\": \\\"58c692e4c3a36840f601564a\\\", \\\"department\\\": \\\"Art\\\", \\\"gender\\\": 0, \\\"id\\\": 1661321, \\\"job\\\": \\\"Art Department Assistant\\\", \\\"name\\\": \\\"Tom Castronovo\\\"}, {\\\"credit_id\\\": \\\"58c69dadc3a36841280157a4\\\", \\\"department\\\": \\\"Crew\\\", \\\"gender\\\": 0, \\\"id\\\": 1686002, \\\"job\\\": \\\"Unit Publicist\\\", \\\"name\\\": \\\"Katherine McCormack\\\"}, {\\\"credit_id\\\": \\\"58c689439251411d15016ed6\\\", \\\"department\\\": \\\"Production\\\", \\\"gender\\\": 0, \\\"id\\\": 1697623, \\\"job\\\": \\\"Unit Production Manager\\\", \\\"name\\\": \\\"Steve Harding\\\"}, {\\\"credit_id\\\": \\\"58c68ebdc3a3684128014e11\\\", \\\"department\\\": \\\"Editing\\\", \\\"gender\\\": 0, \\\"id\\\": 1710258, \\\"job\\\": \\\"Additional Editing\\\", \\\"name\\\": \\\"Erik Jessen\\\"}, {\\\"credit_id\\\": \\\"58c689739251411d47017af1\\\", \\\"department\\\": \\\"Directing\\\", \\\"gender\\\": 0, \\\"id\\\": 1750922, \\\"job\\\": \\\"First Assistant Director\\\", \\\"name\\\": \\\"Tommy Gormley\\\"}, {\\\"credit_id\\\": \\\"58c692c7c3a36841300150c2\\\", \\\"department\\\": \\\"Art\\\", \\\"gender\\\": 0, \\\"id\\\": 1761112, \\\"job\\\": \\\"Art Department Assistant\\\", \\\"name\\\": \\\"Sarah Ginn\\\"}, {\\\"credit_id\\\": \\\"58c689aa9251411d55016d59\\\", \\\"department\\\": \\\"Directing\\\", \\\"gender\\\": 0, \\\"id\\\": 1775681, \\\"job\\\": \\\"Second Assistant Director\\\", \\\"name\\\": \\\"Ben Dixon\\\"}, {\\\"credit_id\\\": \\\"58c68a859251411d1901746d\\\", \\\"department\\\": \\\"Directing\\\", \\\"gender\\\": 2, \\\"id\\\": 1775682, \\\"job\\\": \\\"Second Assistant Director\\\", \\\"name\\\": \\\"Andrew M. Ward\\\"}, {\\\"credit_id\\\": \\\"58c692a4c3a368413b015a64\\\", \\\"department\\\": \\\"Art\\\", \\\"gender\\\": 0, \\\"id\\\": 1775687, \\\"job\\\": \\\"Art Department Coordinator\\\", \\\"name\\\": \\\"Stacey Newton\\\"}, {\\\"credit_id\\\": \\\"58c692b6c3a368412001546d\\\", \\\"department\\\": \\\"Art\\\", \\\"gender\\\": 0, \\\"id\\\": 1775688, \\\"job\\\": \\\"Art Department Assistant\\\", \\\"name\\\": \\\"Rachel Corbould\\\"}, {\\\"credit_id\\\": \\\"58c692d4c3a368413b015a88\\\", \\\"department\\\": \\\"Art\\\", \\\"gender\\\": 0, \\\"id\\\": 1775689, \\\"job\\\": \\\"Art Department Assistant\\\", \\\"name\\\": \\\"Jake Hall\\\"}, {\\\"credit_id\\\": \\\"58c693589251411d0d017fb3\\\", \\\"department\\\": \\\"Costume & Make-Up\\\", \\\"gender\\\": 0, \\\"id\\\": 1775690, \\\"job\\\": \\\"Key Makeup Artist\\\", \\\"name\\\": \\\"Gemma Richards\\\"}, {\\\"credit_id\\\": \\\"58c693fe9251411d55017423\\\", \\\"department\\\": \\\"Costume & Make-Up\\\", \\\"gender\\\": 0, \\\"id\\\": 1775691, \\\"job\\\": \\\"Makeup Artist\\\", \\\"name\\\": \\\"Sara Riesel\\\"}, {\\\"credit_id\\\": \\\"58c69407c3a368413b015b42\\\", \\\"department\\\": \\\"Costume & Make-Up\\\", \\\"gender\\\": 0, \\\"id\\\": 1775692, \\\"job\\\": \\\"Makeup Artist\\\", \\\"name\\\": \\\"Paul Boyce\\\"}, {\\\"credit_id\\\": \\\"58c694189251411d19017ab6\\\", \\\"department\\\": \\\"Costume & Make-Up\\\", \\\"gender\\\": 0, \\\"id\\\": 1775693, \\\"job\\\": \\\"Makeup Artist\\\", \\\"name\\\": \\\"Mandy Gold\\\"}, {\\\"credit_id\\\": \\\"58c698989251411d0d01836e\\\", \\\"department\\\": \\\"Costume & Make-Up\\\", \\\"gender\\\": 0, \\\"id\\\": 1775701, \\\"job\\\": \\\"Hairstylist\\\", \\\"name\\\": \\\"Candice Banks\\\"}, {\\\"credit_id\\\": \\\"58c698a59251411d19017de5\\\", \\\"department\\\": \\\"Costume & Make-Up\\\", \\\"gender\\\": 0, \\\"id\\\": 1775702, \\\"job\\\": \\\"Hairstylist\\\", \\\"name\\\": \\\"Gary Machin\\\"}, {\\\"credit_id\\\": \\\"58c69994c3a36840b80172dd\\\", \\\"department\\\": \\\"Sound\\\", \\\"gender\\\": 0, \\\"id\\\": 1775704, \\\"job\\\": \\\"Boom Operator\\\", \\\"name\\\": \\\"Noel Espinosa\\\"}, {\\\"credit_id\\\": \\\"58c69a309251411d110178c9\\\", \\\"department\\\": \\\"Production\\\", \\\"gender\\\": 0, \\\"id\\\": 1775707, \\\"job\\\": \\\"Production Coordinator\\\", \\\"name\\\": \\\"Meredith Humbracht\\\"}, {\\\"credit_id\\\": \\\"58c69d39c3a368410c0163fd\\\", \\\"department\\\": \\\"Camera\\\", \\\"gender\\\": 0, \\\"id\\\": 1775718, \\\"job\\\": \\\"Key Grip\\\", \\\"name\\\": \\\"Gary Hymns\\\"}, {\\\"credit_id\\\": \\\"58c69da6c3a368413b01620f\\\", \\\"department\\\": \\\"Camera\\\", \\\"gender\\\": 0, \\\"id\\\": 1775721, \\\"job\\\": \\\"Key Grip\\\", \\\"name\\\": \\\"Thomas Gibson\\\"}, {\\\"credit_id\\\": \\\"58c69ec49251411d55017be6\\\", \\\"department\\\": \\\"Crew\\\", \\\"gender\\\": 0, \\\"id\\\": 1775723, \\\"job\\\": \\\"Thanks\\\", \\\"name\\\": \\\"Danton Burroughs\\\"}, {\\\"credit_id\\\": \\\"591264bac3a368646b04fda5\\\", \\\"department\\\": \\\"Crew\\\", \\\"gender\\\": 1, \\\"id\\\": 1813644, \\\"job\\\": \\\"Stunts\\\", \\\"name\\\": \\\"Karin Silvestri\\\"}]\",\n          \"[{\\\"credit_id\\\": \\\"54805967c3a36829b5002c41\\\", \\\"department\\\": \\\"Sound\\\", \\\"gender\\\": 2, \\\"id\\\": 153, \\\"job\\\": \\\"Original Music Composer\\\", \\\"name\\\": \\\"Thomas Newman\\\"}, {\\\"credit_id\\\": \\\"52fe4d22c3a368484e1d8d77\\\", \\\"department\\\": \\\"Directing\\\", \\\"gender\\\": 2, \\\"id\\\": 39, \\\"job\\\": \\\"Director\\\", \\\"name\\\": \\\"Sam Mendes\\\"}, {\\\"credit_id\\\": \\\"5677cd99925141691a005333\\\", \\\"department\\\": \\\"Art\\\", \\\"gender\\\": 1, \\\"id\\\": 8384, \\\"job\\\": \\\"Set Decoration\\\", \\\"name\\\": \\\"Anna Pinnock\\\"}, {\\\"credit_id\\\": \\\"52fe4d22c3a368484e1d8d8d\\\", \\\"department\\\": \\\"Writing\\\", \\\"gender\\\": 2, \\\"id\\\": 932, \\\"job\\\": \\\"Screenplay\\\", \\\"name\\\": \\\"John Logan\\\"}, {\\\"credit_id\\\": \\\"562fc9bb92514129fe0006b4\\\", \\\"department\\\": \\\"Writing\\\", \\\"gender\\\": 2, \\\"id\\\": 932, \\\"job\\\": \\\"Story\\\", \\\"name\\\": \\\"John Logan\\\"}, {\\\"credit_id\\\": \\\"5654d41c92514145c3000373\\\", \\\"department\\\": \\\"Art\\\", \\\"gender\\\": 2, \\\"id\\\": 4248, \\\"job\\\": \\\"Production Design\\\", \\\"name\\\": \\\"Dennis Gassner\\\"}, {\\\"credit_id\\\": \\\"52fe4d22c3a368484e1d8d71\\\", \\\"department\\\": \\\"Writing\\\", \\\"gender\\\": 2, \\\"id\\\": 9856, \\\"job\\\": \\\"Characters\\\", \\\"name\\\": \\\"Ian Fleming\\\"}, {\\\"credit_id\\\": \\\"54805989c3a36829ae0022d8\\\", \\\"department\\\": \\\"Editing\\\", \\\"gender\\\": 0, \\\"id\\\": 3904, \\\"job\\\": \\\"Editor\\\", \\\"name\\\": \\\"Lee Smith\\\"}, {\\\"credit_id\\\": \\\"5677df82c3a3681683008748\\\", \\\"department\\\": \\\"Sound\\\", \\\"gender\\\": 2, \\\"id\\\": 7538, \\\"job\\\": \\\"Music Editor\\\", \\\"name\\\": \\\"Bill Bernstein\\\"}, {\\\"credit_id\\\": \\\"5720e370c3a368117e00045b\\\", \\\"department\\\": \\\"Production\\\", \\\"gender\\\": 2, \\\"id\\\": 8784, \\\"job\\\": \\\"Co-Producer\\\", \\\"name\\\": \\\"Daniel Craig\\\"}, {\\\"credit_id\\\": \\\"5522fdd09251416d4a0024b6\\\", \\\"department\\\": \\\"Costume & Make-Up\\\", \\\"gender\\\": 1, \\\"id\\\": 11227, \\\"job\\\": \\\"Costume Design\\\", \\\"name\\\": \\\"Jany Temime\\\"}, {\\\"credit_id\\\": \\\"5677cc9ac3a368167c0089b5\\\", \\\"department\\\": \\\"Production\\\", \\\"gender\\\": 1, \\\"id\\\": 10496, \\\"job\\\": \\\"Casting\\\", \\\"name\\\": \\\"Debbie McWilliams\\\"}, {\\\"credit_id\\\": \\\"52fe4d22c3a368484e1d8d7d\\\", \\\"department\\\": \\\"Production\\\", \\\"gender\\\": 1, \\\"id\\\": 10666, \\\"job\\\": \\\"Producer\\\", \\\"name\\\": \\\"Barbara Broccoli\\\"}, {\\\"credit_id\\\": \\\"5720e3afc3a368117e00046a\\\", \\\"department\\\": \\\"Production\\\", \\\"gender\\\": 0, \\\"id\\\": 11268, \\\"job\\\": \\\"Line Producer\\\", \\\"name\\\": \\\"Roberto Malerba\\\"}, {\\\"credit_id\\\": \\\"5677df58c3a368167c008c82\\\", \\\"department\\\": \\\"Sound\\\", \\\"gender\\\": 0, \\\"id\\\": 40827, \\\"job\\\": \\\"Music Editor\\\", \\\"name\\\": \\\"Peter Clarke\\\"}, {\\\"credit_id\\\": \\\"5677dd1ec3a36816890085d3\\\", \\\"department\\\": \\\"Sound\\\", \\\"gender\\\": 0, \\\"id\\\": 14764, \\\"job\\\": \\\"Sound Designer\\\", \\\"name\\\": \\\"Christopher Assells\\\"}, {\\\"credit_id\\\": \\\"566046b9c3a36875f400323a\\\", \\\"department\\\": \\\"Sound\\\", \\\"gender\\\": 0, \\\"id\\\": 14765, \\\"job\\\": \\\"Supervising Sound Editor\\\", \\\"name\\\": \\\"Per Hallberg\\\"}, {\\\"credit_id\\\": \\\"5677ccab925141691a00530f\\\", \\\"department\\\": \\\"Production\\\", \\\"gender\\\": 0, \\\"id\\\": 36108, \\\"job\\\": \\\"Casting\\\", \\\"name\\\": \\\"Nicole Schmied\\\"}, {\\\"credit_id\\\": \\\"5677cfe4c3a36816850087d2\\\", \\\"department\\\": \\\"Production\\\", \\\"gender\\\": 0, \\\"id\\\": 36108, \\\"job\\\": \\\"Casting Associate\\\", \\\"name\\\": \\\"Nicole Schmied\\\"}, {\\\"credit_id\\\": \\\"562fc984c3a3681b5400e16f\\\", \\\"department\\\": \\\"Writing\\\", \\\"gender\\\": 2, \\\"id\\\": 10783, \\\"job\\\": \\\"Screenplay\\\", \\\"name\\\": \\\"Robert Wade\\\"}, {\\\"credit_id\\\": \\\"562fc9cec3a3681b4b00d168\\\", \\\"department\\\": \\\"Writing\\\", \\\"gender\\\": 2, \\\"id\\\": 10783, \\\"job\\\": \\\"Story\\\", \\\"name\\\": \\\"Robert Wade\\\"}, {\\\"credit_id\\\": \\\"562fc976c3a3681b5c00dd64\\\", \\\"department\\\": \\\"Writing\\\", \\\"gender\\\": 0, \\\"id\\\": 10782, \\\"job\\\": \\\"Screenplay\\\", \\\"name\\\": \\\"Neal Purvis\\\"}, {\\\"credit_id\\\": \\\"562fc9d79251414ad800c103\\\", \\\"department\\\": \\\"Writing\\\", \\\"gender\\\": 0, \\\"id\\\": 10782, \\\"job\\\": \\\"Story\\\", \\\"name\\\": \\\"Neal Purvis\\\"}, {\\\"credit_id\\\": \\\"5720e61d9251414235000477\\\", \\\"department\\\": \\\"Production\\\", \\\"gender\\\": 2, \\\"id\\\": 10876, \\\"job\\\": \\\"Executive Producer\\\", \\\"name\\\": \\\"Callum McDougall\\\"}, {\\\"credit_id\\\": \\\"562fc9a89251414ad800c0fe\\\", \\\"department\\\": \\\"Writing\\\", \\\"gender\\\": 2, \\\"id\\\": 21339, \\\"job\\\": \\\"Screenplay\\\", \\\"name\\\": \\\"Jez Butterworth\\\"}, {\\\"credit_id\\\": \\\"570bd7f2c3a36802a9000412\\\", \\\"department\\\": \\\"Art\\\", \\\"gender\\\": 0, \\\"id\\\": 23425, \\\"job\\\": \\\"Supervising Art Director\\\", \\\"name\\\": \\\"Chris Lowe\\\"}, {\\\"credit_id\\\": \\\"5677e45ac3a368168b0084fd\\\", \\\"department\\\": \\\"Art\\\", \\\"gender\\\": 0, \\\"id\\\": 23491, \\\"job\\\": \\\"Assistant Art Director\\\", \\\"name\\\": \\\"Roxana Alexandru \\\"}, {\\\"credit_id\\\": \\\"5677e29c925141691a00561c\\\", \\\"department\\\": \\\"Crew\\\", \\\"gender\\\": 0, \\\"id\\\": 23774, \\\"job\\\": \\\"Makeup Effects\\\", \\\"name\\\": \\\"Jo Grover\\\"}, {\\\"credit_id\\\": \\\"5677cf8492514179d20088ae\\\", \\\"department\\\": \\\"Production\\\", \\\"gender\\\": 2, \\\"id\\\": 10907, \\\"job\\\": \\\"Casting\\\", \\\"name\\\": \\\"St\\\\u00e9phane Foenkinos\\\"}, {\\\"credit_id\\\": \\\"5677d7b192514179d20089c6\\\", \\\"department\\\": \\\"Camera\\\", \\\"gender\\\": 2, \\\"id\\\": 61851, \\\"job\\\": \\\"Camera Operator\\\", \\\"name\\\": \\\"Lorenzo Senatore\\\"}, {\\\"credit_id\\\": \\\"5720e6f7925141423000046b\\\", \\\"department\\\": \\\"Production\\\", \\\"gender\\\": 0, \\\"id\\\": 64000, \\\"job\\\": \\\"Line Producer\\\", \\\"name\\\": \\\"Wolfgang Ramml\\\"}, {\\\"credit_id\\\": \\\"5677dfabc3a368168000899f\\\", \\\"department\\\": \\\"Sound\\\", \\\"gender\\\": 2, \\\"id\\\": 66941, \\\"job\\\": \\\"Orchestrator\\\", \\\"name\\\": \\\"J.A.C. Redford\\\"}, {\\\"credit_id\\\": \\\"5720e72e92514142320007fc\\\", \\\"department\\\": \\\"Production\\\", \\\"gender\\\": 0, \\\"id\\\": 81517, \\\"job\\\": \\\"Associate Producer\\\", \\\"name\\\": \\\"Gregg Wilson\\\"}, {\\\"credit_id\\\": \\\"52fe4d22c3a368484e1d8d83\\\", \\\"department\\\": \\\"Production\\\", \\\"gender\\\": 2, \\\"id\\\": 69678, \\\"job\\\": \\\"Producer\\\", \\\"name\\\": \\\"Michael G. Wilson\\\"}, {\\\"credit_id\\\": \\\"5720e325c3a368118100043e\\\", \\\"department\\\": \\\"Production\\\", \\\"gender\\\": 0, \\\"id\\\": 77511, \\\"job\\\": \\\"Line Producer\\\", \\\"name\\\": \\\"Zakaria Alaoui\\\"}, {\\\"credit_id\\\": \\\"548059799251416e7e00265c\\\", \\\"department\\\": \\\"Camera\\\", \\\"gender\\\": 0, \\\"id\\\": 74401, \\\"job\\\": \\\"Director of Photography\\\", \\\"name\\\": \\\"Hoyte van Hoytema\\\"}, {\\\"credit_id\\\": \\\"5677cef792514179db00904d\\\", \\\"department\\\": \\\"Crew\\\", \\\"gender\\\": 0, \\\"id\\\": 239885, \\\"job\\\": \\\"Special Effects Coordinator\\\", \\\"name\\\": \\\"Franco Ragusa\\\"}, {\\\"credit_id\\\": \\\"5677d7e992514179e7008654\\\", \\\"department\\\": \\\"Camera\\\", \\\"gender\\\": 0, \\\"id\\\": 937946, \\\"job\\\": \\\"Camera Operator\\\", \\\"name\\\": \\\"Peter Field\\\"}, {\\\"credit_id\\\": \\\"5677cd21c3a3681680008700\\\", \\\"department\\\": \\\"Art\\\", \\\"gender\\\": 2, \\\"id\\\": 979698, \\\"job\\\": \\\"Art Direction\\\", \\\"name\\\": \\\"Neal Callow\\\"}, {\\\"credit_id\\\": \\\"5677cd5a92514179e30086fb\\\", \\\"department\\\": \\\"Art\\\", \\\"gender\\\": 2, \\\"id\\\": 986687, \\\"job\\\": \\\"Art Direction\\\", \\\"name\\\": \\\"Mark Harris\\\"}, {\\\"credit_id\\\": \\\"5678090392514179e1009958\\\", \\\"department\\\": \\\"Crew\\\", \\\"gender\\\": 0, \\\"id\\\": 1024842, \\\"job\\\": \\\"Visual Effects Editor\\\", \\\"name\\\": \\\"Billy A. Campbell\\\"}, {\\\"credit_id\\\": \\\"5720e6749251414240000470\\\", \\\"department\\\": \\\"Production\\\", \\\"gender\\\": 0, \\\"id\\\": 1026247, \\\"job\\\": \\\"Co-Producer\\\", \\\"name\\\": \\\"Stacy Perskie\\\"}, {\\\"credit_id\\\": \\\"56780a2292514179dd008d18\\\", \\\"department\\\": \\\"Visual Effects\\\", \\\"gender\\\": 0, \\\"id\\\": 1029804, \\\"job\\\": \\\"Visual Effects Producer\\\", \\\"name\\\": \\\"Laura Schultz\\\"}, {\\\"credit_id\\\": \\\"5677e174925141691a0055f1\\\", \\\"department\\\": \\\"Costume & Make-Up\\\", \\\"gender\\\": 0, \\\"id\\\": 1087452, \\\"job\\\": \\\"Key Hair Stylist\\\", \\\"name\\\": \\\"Mari Paz Robles\\\"}, {\\\"credit_id\\\": \\\"5677e0cf9251417845001631\\\", \\\"department\\\": \\\"Costume & Make-Up\\\", \\\"gender\\\": 0, \\\"id\\\": 1099281, \\\"job\\\": \\\"Hairstylist\\\", \\\"name\\\": \\\"Gerardo Perez Arreola\\\"}, {\\\"credit_id\\\": \\\"5677d73b92514179dd008471\\\", \\\"department\\\": \\\"Camera\\\", \\\"gender\\\": 0, \\\"id\\\": 1118711, \\\"job\\\": \\\"Camera Operator\\\", \\\"name\\\": \\\"Kenji Katori\\\"}, {\\\"credit_id\\\": \\\"5677cd3a92514179d2008852\\\", \\\"department\\\": \\\"Art\\\", \\\"gender\\\": 0, \\\"id\\\": 1296445, \\\"job\\\": \\\"Art Direction\\\", \\\"name\\\": \\\"Ben Collins\\\"}, {\\\"credit_id\\\": \\\"5677cfc3c3a3681680008755\\\", \\\"department\\\": \\\"Production\\\", \\\"gender\\\": 0, \\\"id\\\": 1305251, \\\"job\\\": \\\"Casting Associate\\\", \\\"name\\\": \\\"Tusse Lande\\\"}, {\\\"credit_id\\\": \\\"5677e24f92514179e70087da\\\", \\\"department\\\": \\\"Costume & Make-Up\\\", \\\"gender\\\": 0, \\\"id\\\": 1315700, \\\"job\\\": \\\"Makeup Artist\\\", \\\"name\\\": \\\"Donald Mowat\\\"}, {\\\"credit_id\\\": \\\"5677d622c3a368167c008b25\\\", \\\"department\\\": \\\"Costume & Make-Up\\\", \\\"gender\\\": 0, \\\"id\\\": 1319160, \\\"job\\\": \\\"Costume Supervisor\\\", \\\"name\\\": \\\"Ken Crouch\\\"}, {\\\"credit_id\\\": \\\"5677cd0ec3a368168e008f75\\\", \\\"department\\\": \\\"Art\\\", \\\"gender\\\": 0, \\\"id\\\": 1335539, \\\"job\\\": \\\"Art Direction\\\", \\\"name\\\": \\\"Andrew Bennett\\\"}, {\\\"credit_id\\\": \\\"56780833925141691a005c2f\\\", \\\"department\\\": \\\"Visual Effects\\\", \\\"gender\\\": 0, \\\"id\\\": 1338241, \\\"job\\\": \\\"Visual Effects Coordinator\\\", \\\"name\\\": \\\"Sean McGrath\\\"}, {\\\"credit_id\\\": \\\"5677dcc7c3a36816830086cc\\\", \\\"department\\\": \\\"Sound\\\", \\\"gender\\\": 0, \\\"id\\\": 1338372, \\\"job\\\": \\\"Foley\\\", \\\"name\\\": \\\"Dan O'Connell\\\"}, {\\\"credit_id\\\": \\\"56780ac692514179dd008d31\\\", \\\"department\\\": \\\"Visual Effects\\\", \\\"gender\\\": 0, \\\"id\\\": 1341741, \\\"job\\\": \\\"Visual Effects Supervisor\\\", \\\"name\\\": \\\"Mark Curtis\\\"}, {\\\"credit_id\\\": \\\"5677dd9fc3a368168b0083f0\\\", \\\"department\\\": \\\"Sound\\\", \\\"gender\\\": 2, \\\"id\\\": 1341858, \\\"job\\\": \\\"Sound Re-Recording Mixer\\\", \\\"name\\\": \\\"Gregg Rudloff\\\"}, {\\\"credit_id\\\": \\\"566047029251412204002337\\\", \\\"department\\\": \\\"Directing\\\", \\\"gender\\\": 0, \\\"id\\\": 1342669, \\\"job\\\": \\\"Script Supervisor\\\", \\\"name\\\": \\\"Jayne-Ann Tenggren\\\"}, {\\\"credit_id\\\": \\\"5720e713925141423000046d\\\", \\\"department\\\": \\\"Production\\\", \\\"gender\\\": 0, \\\"id\\\": 1342669, \\\"job\\\": \\\"Associate Producer\\\", \\\"name\\\": \\\"Jayne-Ann Tenggren\\\"}, {\\\"credit_id\\\": \\\"5677dd8792514179db009235\\\", \\\"department\\\": \\\"Sound\\\", \\\"gender\\\": 0, \\\"id\\\": 1345595, \\\"job\\\": \\\"Sound Re-Recording Mixer\\\", \\\"name\\\": \\\"Scott Millan\\\"}, {\\\"credit_id\\\": \\\"5677def192514179e700875b\\\", \\\"department\\\": \\\"Directing\\\", \\\"gender\\\": 0, \\\"id\\\": 1358025, \\\"job\\\": \\\"Script Supervisor\\\", \\\"name\\\": \\\"Nicoletta Mani\\\"}, {\\\"credit_id\\\": \\\"5677dcb0925141691a00552a\\\", \\\"department\\\": \\\"Sound\\\", \\\"gender\\\": 0, \\\"id\\\": 1367493, \\\"job\\\": \\\"Foley\\\", \\\"name\\\": \\\"John T. Cucci\\\"}, {\\\"credit_id\\\": \\\"5677d7ff92514179e300884b\\\", \\\"department\\\": \\\"Camera\\\", \\\"gender\\\": 0, \\\"id\\\": 1377503, \\\"job\\\": \\\"Camera Operator\\\", \\\"name\\\": \\\"Sebastian Meuschel\\\"}, {\\\"credit_id\\\": \\\"5677d94192514179d20089ff\\\", \\\"department\\\": \\\"Camera\\\", \\\"gender\\\": 2, \\\"id\\\": 1388897, \\\"job\\\": \\\"Steadicam Operator\\\", \\\"name\\\": \\\"Julian Morson\\\"}, {\\\"credit_id\\\": \\\"5677dce5c3a36816830086d3\\\", \\\"department\\\": \\\"Sound\\\", \\\"gender\\\": 0, \\\"id\\\": 1389614, \\\"job\\\": \\\"Foley\\\", \\\"name\\\": \\\"Peter Michael Sullivan\\\"}, {\\\"credit_id\\\": \\\"56780a5a92514179e300908d\\\", \\\"department\\\": \\\"Visual Effects\\\", \\\"gender\\\": 0, \\\"id\\\": 1391691, \\\"job\\\": \\\"Visual Effects Producer\\\", \\\"name\\\": \\\"Ken Dailey\\\"}, {\\\"credit_id\\\": \\\"5677dd38c3a368167c008c21\\\", \\\"department\\\": \\\"Sound\\\", \\\"gender\\\": 0, \\\"id\\\": 1392083, \\\"job\\\": \\\"Sound Designer\\\", \\\"name\\\": \\\"Ann Scibelli\\\"}, {\\\"credit_id\\\": \\\"5677d7cd92514179db009178\\\", \\\"department\\\": \\\"Camera\\\", \\\"gender\\\": 0, \\\"id\\\": 1392246, \\\"job\\\": \\\"Camera Operator\\\", \\\"name\\\": \\\"Clive Jackson\\\"}, {\\\"credit_id\\\": \\\"5677de6192514179dd008566\\\", \\\"department\\\": \\\"Directing\\\", \\\"gender\\\": 0, \\\"id\\\": 1392661, \\\"job\\\": \\\"Script Supervisor\\\", \\\"name\\\": \\\"Susie Jones\\\"}, {\\\"credit_id\\\": \\\"5677d98fc3a3681685008904\\\", \\\"department\\\": \\\"Camera\\\", \\\"gender\\\": 2, \\\"id\\\": 1392718, \\\"job\\\": \\\"Still Photographer\\\", \\\"name\\\": \\\"Jasin Boland\\\"}, {\\\"credit_id\\\": \\\"5677cdd8c3a368168b0081e1\\\", \\\"department\\\": \\\"Art\\\", \\\"gender\\\": 0, \\\"id\\\": 1394117, \\\"job\\\": \\\"Art Department Coordinator\\\", \\\"name\\\": \\\"Jennifer Lewicki\\\"}, {\\\"credit_id\\\": \\\"5677e58cc3a3681685008adb\\\", \\\"department\\\": \\\"Art\\\", \\\"gender\\\": 0, \\\"id\\\": 1398089, \\\"job\\\": \\\"Greensman\\\", \\\"name\\\": \\\"Ian Whiteford\\\"}, {\\\"credit_id\\\": \\\"56780a7592514179db0099c4\\\", \\\"department\\\": \\\"Visual Effects\\\", \\\"gender\\\": 0, \\\"id\\\": 1398100, \\\"job\\\": \\\"Visual Effects Producer\\\", \\\"name\\\": \\\"Kilou Picard\\\"}, {\\\"credit_id\\\": \\\"5677d8ba92514179d20089f0\\\", \\\"department\\\": \\\"Camera\\\", \\\"gender\\\": 0, \\\"id\\\": 1399071, \\\"job\\\": \\\"Helicopter Camera\\\", \\\"name\\\": \\\"Hans Bjerno\\\"}, {\\\"credit_id\\\": \\\"5677dd02c3a368167a0091a2\\\", \\\"department\\\": \\\"Editing\\\", \\\"gender\\\": 2, \\\"id\\\": 1399862, \\\"job\\\": \\\"Dialogue Editor\\\", \\\"name\\\": \\\"Daniel Saxlid\\\"}, {\\\"credit_id\\\": \\\"5677e2e1c3a368167c008d1a\\\", \\\"department\\\": \\\"Costume & Make-Up\\\", \\\"gender\\\": 0, \\\"id\\\": 1401126, \\\"job\\\": \\\"Wigmaker\\\", \\\"name\\\": \\\"Alex Rouse\\\"}, {\\\"credit_id\\\": \\\"5678096bc3a368167c0093d2\\\", \\\"department\\\": \\\"Crew\\\", \\\"gender\\\": 0, \\\"id\\\": 1401147, \\\"job\\\": \\\"Visual Effects Editor\\\", \\\"name\\\": \\\"Anik Seguin\\\"}, {\\\"credit_id\\\": \\\"5677dc90c3a368167a009190\\\", \\\"department\\\": \\\"Sound\\\", \\\"gender\\\": 0, \\\"id\\\": 1401631, \\\"job\\\": \\\"ADR & Dubbing\\\", \\\"name\\\": \\\"Michelle Pazer\\\"}, {\\\"credit_id\\\": \\\"5677d75ac3a368167a0090e9\\\", \\\"department\\\": \\\"Camera\\\", \\\"gender\\\": 2, \\\"id\\\": 1403411, \\\"job\\\": \\\"Camera Operator\\\", \\\"name\\\": \\\"Lucas Bielan\\\"}, {\\\"credit_id\\\": \\\"566046d7c3a36875e900359d\\\", \\\"department\\\": \\\"Sound\\\", \\\"gender\\\": 0, \\\"id\\\": 1404212, \\\"job\\\": \\\"Supervising Sound Editor\\\", \\\"name\\\": \\\"Karen Baker Landers\\\"}, {\\\"credit_id\\\": \\\"5677dd519251417845001588\\\", \\\"department\\\": \\\"Sound\\\", \\\"gender\\\": 0, \\\"id\\\": 1404217, \\\"job\\\": \\\"Sound Designer\\\", \\\"name\\\": \\\"Peter Staubli\\\"}, {\\\"credit_id\\\": \\\"5677d8d192514179e1009100\\\", \\\"department\\\": \\\"Camera\\\", \\\"gender\\\": 0, \\\"id\\\": 1404244, \\\"job\\\": \\\"Helicopter Camera\\\", \\\"name\\\": \\\"John Marzano\\\"}, {\\\"credit_id\\\": \\\"5677d927c3a36816850088f2\\\", \\\"department\\\": \\\"Camera\\\", \\\"gender\\\": 0, \\\"id\\\": 1405241, \\\"job\\\": \\\"Helicopter Camera\\\", \\\"name\\\": \\\"Adam Dale\\\"}, {\\\"credit_id\\\": \\\"5677dff292514179e100921a\\\", \\\"department\\\": \\\"Editing\\\", \\\"gender\\\": 0, \\\"id\\\": 1408363, \\\"job\\\": \\\"First Assistant Editor\\\", \\\"name\\\": \\\"Emma McCleave\\\"}, {\\\"credit_id\\\": \\\"5677e191925141784500164f\\\", \\\"department\\\": \\\"Costume & Make-Up\\\", \\\"gender\\\": 0, \\\"id\\\": 1409821, \\\"job\\\": \\\"Makeup Designer\\\", \\\"name\\\": \\\"Naomi Donne\\\"}, {\\\"credit_id\\\": \\\"5677e2b5c3a368168e0092aa\\\", \\\"department\\\": \\\"Crew\\\", \\\"gender\\\": 0, \\\"id\\\": 1411323, \\\"job\\\": \\\"Makeup Effects\\\", \\\"name\\\": \\\"Susan Howard\\\"}, {\\\"credit_id\\\": \\\"5677d869c3a36816850088e3\\\", \\\"department\\\": \\\"Lighting\\\", \\\"gender\\\": 0, \\\"id\\\": 1414096, \\\"job\\\": \\\"Gaffer\\\", \\\"name\\\": \\\"David Smith\\\"}, {\\\"credit_id\\\": \\\"56780712c3a368168b008ace\\\", \\\"department\\\": \\\"Crew\\\", \\\"gender\\\": 0, \\\"id\\\": 1415157, \\\"job\\\": \\\"CG Supervisor\\\", \\\"name\\\": \\\"Joel Green\\\"}, {\\\"credit_id\\\": \\\"567806ba92514179e10098ee\\\", \\\"department\\\": \\\"Crew\\\", \\\"gender\\\": 0, \\\"id\\\": 1425484, \\\"job\\\": \\\"CG Supervisor\\\", \\\"name\\\": \\\"Laurent Hugueniot\\\"}, {\\\"credit_id\\\": \\\"56780a92c3a36816850090af\\\", \\\"department\\\": \\\"Visual Effects\\\", \\\"gender\\\": 0, \\\"id\\\": 1425488, \\\"job\\\": \\\"Visual Effects Producer\\\", \\\"name\\\": \\\"Tim Keene\\\"}, {\\\"credit_id\\\": \\\"5677e087c3a368167a00922b\\\", \\\"department\\\": \\\"Costume & Make-Up\\\", \\\"gender\\\": 0, \\\"id\\\": 1425971, \\\"job\\\": \\\"Hair Designer\\\", \\\"name\\\": \\\"Zoe Tahir\\\"}, {\\\"credit_id\\\": \\\"567808eb92514179e300904a\\\", \\\"department\\\": \\\"Crew\\\", \\\"gender\\\": 0, \\\"id\\\": 1428902, \\\"job\\\": \\\"Visual Effects Editor\\\", \\\"name\\\": \\\"Conor Byrne\\\"}, {\\\"credit_id\\\": \\\"5677e22d925141691a00560d\\\", \\\"department\\\": \\\"Costume & Make-Up\\\", \\\"gender\\\": 0, \\\"id\\\": 1439128, \\\"job\\\": \\\"Makeup Artist\\\", \\\"name\\\": \\\"Charlotte Hayward\\\"}, {\\\"credit_id\\\": \\\"5677cf3fc3a36816850087c1\\\", \\\"department\\\": \\\"Visual Effects\\\", \\\"gender\\\": 0, \\\"id\\\": 1442137, \\\"job\\\": \\\"Animation Supervisor\\\", \\\"name\\\": \\\"Catherine Mullan\\\"}, {\\\"credit_id\\\": \\\"56780988c3a3681683008e99\\\", \\\"department\\\": \\\"Crew\\\", \\\"gender\\\": 0, \\\"id\\\": 1447617, \\\"job\\\": \\\"Visual Effects Editor\\\", \\\"name\\\": \\\"Crystal Hadcroft\\\"}, {\\\"credit_id\\\": \\\"5677e0ec925141691a0055d6\\\", \\\"department\\\": \\\"Costume & Make-Up\\\", \\\"gender\\\": 0, \\\"id\\\": 1458416, \\\"job\\\": \\\"Hairstylist\\\", \\\"name\\\": \\\"Francesca Crowder\\\"}, {\\\"credit_id\\\": \\\"5677cf2892514179dd008356\\\", \\\"department\\\": \\\"Visual Effects\\\", \\\"gender\\\": 0, \\\"id\\\": 1459878, \\\"job\\\": \\\"Animation Director\\\", \\\"name\\\": \\\"Marlene Chazot\\\"}, {\\\"credit_id\\\": \\\"5678091d92514179db009985\\\", \\\"department\\\": \\\"Crew\\\", \\\"gender\\\": 0, \\\"id\\\": 1459899, \\\"job\\\": \\\"Visual Effects Editor\\\", \\\"name\\\": \\\"Struan Farquhar\\\"}, {\\\"credit_id\\\": \\\"56780731c3a3681680009013\\\", \\\"department\\\": \\\"Crew\\\", \\\"gender\\\": 0, \\\"id\\\": 1459925, \\\"job\\\": \\\"CG Supervisor\\\", \\\"name\\\": \\\"Daniel Pastore\\\"}, {\\\"credit_id\\\": \\\"5677d969c3a368168b00834a\\\", \\\"department\\\": \\\"Camera\\\", \\\"gender\\\": 0, \\\"id\\\": 1470167, \\\"job\\\": \\\"Still Photographer\\\", \\\"name\\\": \\\"Jonathan Olley\\\"}, {\\\"credit_id\\\": \\\"5677e48dc3a368167a0092c8\\\", \\\"department\\\": \\\"Art\\\", \\\"gender\\\": 0, \\\"id\\\": 1472773, \\\"job\\\": \\\"Assistant Art Director\\\", \\\"name\\\": \\\"Sami Gaidi\\\"}, {\\\"credit_id\\\": \\\"5751eed59251416b60000637\\\", \\\"department\\\": \\\"Production\\\", \\\"gender\\\": 2, \\\"id\\\": 1477203, \\\"job\\\": \\\"Co-Producer\\\", \\\"name\\\": \\\"Luca Marco Paracels\\\"}, {\\\"credit_id\\\": \\\"5677e157c3a36816800089ee\\\", \\\"department\\\": \\\"Costume & Make-Up\\\", \\\"gender\\\": 0, \\\"id\\\": 1480629, \\\"job\\\": \\\"Key Hair Stylist\\\", \\\"name\\\": \\\"Luca Vannella\\\"}, {\\\"credit_id\\\": \\\"56780b0e925141691a005c8f\\\", \\\"department\\\": \\\"Visual Effects\\\", \\\"gender\\\": 0, \\\"id\\\": 1483141, \\\"job\\\": \\\"Visual Effects Supervisor\\\", \\\"name\\\": \\\"Stuart Bullen\\\"}, {\\\"credit_id\\\": \\\"582f29fa925141022e003a74\\\", \\\"department\\\": \\\"Sound\\\", \\\"gender\\\": 0, \\\"id\\\": 1494824, \\\"job\\\": \\\"Sound Effects Editor\\\", \\\"name\\\": \\\"Russell Edwards\\\"}, {\\\"credit_id\\\": \\\"5677d63dc3a368167a0090b4\\\", \\\"department\\\": \\\"Costume & Make-Up\\\", \\\"gender\\\": 0, \\\"id\\\": 1510431, \\\"job\\\": \\\"Costume Supervisor\\\", \\\"name\\\": \\\"Stefano De Nardis\\\"}, {\\\"credit_id\\\": \\\"5677d79992514179d20089c2\\\", \\\"department\\\": \\\"Camera\\\", \\\"gender\\\": 0, \\\"id\\\": 1512767, \\\"job\\\": \\\"Camera Operator\\\", \\\"name\\\": \\\"Luis David Sansans\\\"}, {\\\"credit_id\\\": \\\"5677d609c3a368168000881a\\\", \\\"department\\\": \\\"Costume & Make-Up\\\", \\\"gender\\\": 0, \\\"id\\\": 1545912, \\\"job\\\": \\\"Costume Supervisor\\\", \\\"name\\\": \\\"Abderrahim Benkhayi\\\"}, {\\\"credit_id\\\": \\\"5677d66cc3a368167a0090be\\\", \\\"department\\\": \\\"Costume & Make-Up\\\", \\\"gender\\\": 0, \\\"id\\\": 1545913, \\\"job\\\": \\\"Set Costumer\\\", \\\"name\\\": \\\"Rachid Aadassi\\\"}, {\\\"credit_id\\\": \\\"5677da26c3a368167a009139\\\", \\\"department\\\": \\\"Camera\\\", \\\"gender\\\": 0, \\\"id\\\": 1545995, \\\"job\\\": \\\"Additional Camera\\\", \\\"name\\\": \\\"Carlos De Carvalho\\\"}, {\\\"credit_id\\\": \\\"5677d5bec3a368167c008b13\\\", \\\"department\\\": \\\"Costume & Make-Up\\\", \\\"gender\\\": 0, \\\"id\\\": 1546747, \\\"job\\\": \\\"Assistant Costume Designer\\\", \\\"name\\\": \\\"Vivienne Jones\\\"}, {\\\"credit_id\\\": \\\"5677dfcac3a368168300875b\\\", \\\"department\\\": \\\"Editing\\\", \\\"gender\\\": 0, \\\"id\\\": 1548406, \\\"job\\\": \\\"Digital Intermediate\\\", \\\"name\\\": \\\"Kim Honeyman\\\"}, {\\\"credit_id\\\": \\\"5677e105c3a368168b00846d\\\", \\\"department\\\": \\\"Costume & Make-Up\\\", \\\"gender\\\": 0, \\\"id\\\": 1550637, \\\"job\\\": \\\"Hairstylist\\\", \\\"name\\\": \\\"Kathryn Fa\\\"}, {\\\"credit_id\\\": \\\"5677ce0c9251417845001384\\\", \\\"department\\\": \\\"Crew\\\", \\\"gender\\\": 0, \\\"id\\\": 1551770, \\\"job\\\": \\\"Carpenter\\\", \\\"name\\\": \\\"Paul Duff\\\"}, {\\\"credit_id\\\": \\\"5677ce5192514179e300871b\\\", \\\"department\\\": \\\"Crew\\\", \\\"gender\\\": 0, \\\"id\\\": 1551771, \\\"job\\\": \\\"Property Master\\\", \\\"name\\\": \\\"Ben Wilkinson\\\"}, {\\\"credit_id\\\": \\\"5677cec292514179dd00834d\\\", \\\"department\\\": \\\"Crew\\\", \\\"gender\\\": 0, \\\"id\\\": 1551772, \\\"job\\\": \\\"Special Effects Coordinator\\\", \\\"name\\\": \\\"Lynne Corbould\\\"}, {\\\"credit_id\\\": \\\"5677cf57c3a368168e008fcc\\\", \\\"department\\\": \\\"Production\\\", \\\"gender\\\": 0, \\\"id\\\": 1551773, \\\"job\\\": \\\"Casting\\\", \\\"name\\\": \\\"Amal El-Farfachi\\\"}, {\\\"credit_id\\\": \\\"5677cf99c3a368168b00821d\\\", \\\"department\\\": \\\"Production\\\", \\\"gender\\\": 0, \\\"id\\\": 1551774, \\\"job\\\": \\\"Casting Associate\\\", \\\"name\\\": \\\"Celebrity Booker\\\"}, {\\\"credit_id\\\": \\\"5677cfadc3a368167c008a30\\\", \\\"department\\\": \\\"Production\\\", \\\"gender\\\": 0, \\\"id\\\": 1551775, \\\"job\\\": \\\"Casting Associate\\\", \\\"name\\\": \\\"Lucy Hellier\\\"}, {\\\"credit_id\\\": \\\"5677d5a392514179db00911d\\\", \\\"department\\\": \\\"Costume & Make-Up\\\", \\\"gender\\\": 0, \\\"id\\\": 1551777, \\\"job\\\": \\\"Assistant Costume Designer\\\", \\\"name\\\": \\\"Richard Davies\\\"}, {\\\"credit_id\\\": \\\"5677dd6bc3a368168b0083e2\\\", \\\"department\\\": \\\"Sound\\\", \\\"gender\\\": 0, \\\"id\\\": 1551789, \\\"job\\\": \\\"Sound Effects Editor\\\", \\\"name\\\": \\\"Ando Johnson\\\"}, {\\\"credit_id\\\": \\\"5677de2dc3a3681683008713\\\", \\\"department\\\": \\\"Crew\\\", \\\"gender\\\": 0, \\\"id\\\": 1551791, \\\"job\\\": \\\"Armorer\\\", \\\"name\\\": \\\"Greg Corke\\\"}, {\\\"credit_id\\\": \\\"5677de8a92514179e10091d9\\\", \\\"department\\\": \\\"Production\\\", \\\"gender\\\": 0, \\\"id\\\": 1551796, \\\"job\\\": \\\"Researcher\\\", \\\"name\\\": \\\"Amin Rharda\\\"}, {\\\"credit_id\\\": \\\"5677dea9c3a368168e00921c\\\", \\\"department\\\": \\\"Crew\\\", \\\"gender\\\": 0, \\\"id\\\": 1551797, \\\"job\\\": \\\"Armorer\\\", \\\"name\\\": \\\"Joss Skottowe\\\"}, {\\\"credit_id\\\": \\\"5677e11c92514179dd0085e3\\\", \\\"department\\\": \\\"Costume & Make-Up\\\", \\\"gender\\\": 0, \\\"id\\\": 1551798, \\\"job\\\": \\\"Hairstylist\\\", \\\"name\\\": \\\"Joseph Koniak\\\"}, {\\\"credit_id\\\": \\\"5677e1b19251417845001657\\\", \\\"department\\\": \\\"Costume & Make-Up\\\", \\\"gender\\\": 0, \\\"id\\\": 1551800, \\\"job\\\": \\\"Makeup Artist\\\", \\\"name\\\": \\\"Thal\\\\u00eda Echeveste\\\"}, {\\\"credit_id\\\": \\\"5677e1c7c3a368167c008cd8\\\", \\\"department\\\": \\\"Costume & Make-Up\\\", \\\"gender\\\": 0, \\\"id\\\": 1551801, \\\"job\\\": \\\"Makeup Artist\\\", \\\"name\\\": \\\"Charlie Hounslow\\\"}, {\\\"credit_id\\\": \\\"5677e1e592514179d2008b7b\\\", \\\"department\\\": \\\"Costume & Make-Up\\\", \\\"gender\\\": 0, \\\"id\\\": 1551802, \\\"job\\\": \\\"Makeup Artist\\\", \\\"name\\\": \\\"Lucy Friend\\\"}, {\\\"credit_id\\\": \\\"5677e1fa92514179e1009265\\\", \\\"department\\\": \\\"Costume & Make-Up\\\", \\\"gender\\\": 0, \\\"id\\\": 1551803, \\\"job\\\": \\\"Makeup Artist\\\", \\\"name\\\": \\\"Yelska Labrada\\\"}, {\\\"credit_id\\\": \\\"5677e20fc3a36816830087d9\\\", \\\"department\\\": \\\"Costume & Make-Up\\\", \\\"gender\\\": 0, \\\"id\\\": 1551804, \\\"job\\\": \\\"Makeup Artist\\\", \\\"name\\\": \\\"Ana Gabriela Quinonez\\\"}, {\\\"credit_id\\\": \\\"5677e32d9251417845001683\\\", \\\"department\\\": \\\"Production\\\", \\\"gender\\\": 0, \\\"id\\\": 1551807, \\\"job\\\": \\\"Researcher\\\", \\\"name\\\": \\\"Gina De Ferrer\\\"}, {\\\"credit_id\\\": \\\"5677e47592514179e10092dd\\\", \\\"department\\\": \\\"Art\\\", \\\"gender\\\": 0, \\\"id\\\": 1551809, \\\"job\\\": \\\"Assistant Art Director\\\", \\\"name\\\": \\\"Lydia Fry\\\"}, {\\\"credit_id\\\": \\\"5677e4a492514179db009373\\\", \\\"department\\\": \\\"Art\\\", \\\"gender\\\": 0, \\\"id\\\": 1551810, \\\"job\\\": \\\"Assistant Art Director\\\", \\\"name\\\": \\\"Liam Georgensen\\\"}, {\\\"credit_id\\\": \\\"5677e4bb92514179dd00868a\\\", \\\"department\\\": \\\"Art\\\", \\\"gender\\\": 0, \\\"id\\\": 1551811, \\\"job\\\": \\\"Assistant Art Director\\\", \\\"name\\\": \\\"Hugh McClelland\\\"}, {\\\"credit_id\\\": \\\"5677e53092514179db00938e\\\", \\\"department\\\": \\\"Crew\\\", \\\"gender\\\": 0, \\\"id\\\": 1551812, \\\"job\\\": \\\"Carpenter\\\", \\\"name\\\": \\\"John Allen\\\"}, {\\\"credit_id\\\": \\\"5677e547c3a368167a0092ef\\\", \\\"department\\\": \\\"Crew\\\", \\\"gender\\\": 0, \\\"id\\\": 1551813, \\\"job\\\": \\\"Carpenter\\\", \\\"name\\\": \\\"Eddie Murphy\\\"}, {\\\"credit_id\\\": \\\"567806e092514179dd008c84\\\", \\\"department\\\": \\\"Crew\\\", \\\"gender\\\": 0, \\\"id\\\": 1551872, \\\"job\\\": \\\"CG Supervisor\\\", \\\"name\\\": \\\"Carlos-Christian Nickel\\\"}, {\\\"credit_id\\\": \\\"567806f7c3a368167a0098d7\\\", \\\"department\\\": \\\"Crew\\\", \\\"gender\\\": 0, \\\"id\\\": 1551874, \\\"job\\\": \\\"CG Supervisor\\\", \\\"name\\\": \\\"Chris Petts\\\"}, {\\\"credit_id\\\": \\\"567807b7c3a368167a0098f0\\\", \\\"department\\\": \\\"Visual Effects\\\", \\\"gender\\\": 0, \\\"id\\\": 1551892, \\\"job\\\": \\\"Visual Effects Coordinator\\\", \\\"name\\\": \\\"Hugh Brompton\\\"}, {\\\"credit_id\\\": \\\"567807d1c3a3681680009022\\\", \\\"department\\\": \\\"Visual Effects\\\", \\\"gender\\\": 0, \\\"id\\\": 1551893, \\\"job\\\": \\\"Visual Effects Coordinator\\\", \\\"name\\\": \\\"Jillian Brooks\\\"}, {\\\"credit_id\\\": \\\"567807eb92514179db00995e\\\", \\\"department\\\": \\\"Visual Effects\\\", \\\"gender\\\": 0, \\\"id\\\": 1551894, \\\"job\\\": \\\"Visual Effects Coordinator\\\", \\\"name\\\": \\\"Geraint Hixson\\\"}, {\\\"credit_id\\\": \\\"5678084f92514179d2009226\\\", \\\"department\\\": \\\"Visual Effects\\\", \\\"gender\\\": 0, \\\"id\\\": 1551896, \\\"job\\\": \\\"Visual Effects Coordinator\\\", \\\"name\\\": \\\"Shawn Smolensky\\\"}, {\\\"credit_id\\\": \\\"5678086992514179db00996d\\\", \\\"department\\\": \\\"Visual Effects\\\", \\\"gender\\\": 0, \\\"id\\\": 1551897, \\\"job\\\": \\\"Visual Effects Coordinator\\\", \\\"name\\\": \\\"Todd Whalen\\\"}, {\\\"credit_id\\\": \\\"56780884c3a3681689008d28\\\", \\\"department\\\": \\\"Visual Effects\\\", \\\"gender\\\": 0, \\\"id\\\": 1551898, \\\"job\\\": \\\"Visual Effects Coordinator\\\", \\\"name\\\": \\\"Alysia Wildman\\\"}, {\\\"credit_id\\\": \\\"567808a0c3a368167c0093a1\\\", \\\"department\\\": \\\"Visual Effects\\\", \\\"gender\\\": 0, \\\"id\\\": 1551899, \\\"job\\\": \\\"Visual Effects Coordinator\\\", \\\"name\\\": \\\"Sam Girdler\\\"}, {\\\"credit_id\\\": \\\"567808cdc3a3681685009073\\\", \\\"department\\\": \\\"Visual Effects\\\", \\\"gender\\\": 0, \\\"id\\\": 1551902, \\\"job\\\": \\\"Visual Effects Coordinator\\\", \\\"name\\\": \\\"Samantha Dark\\\"}, {\\\"credit_id\\\": \\\"567809519251417845001d1a\\\", \\\"department\\\": \\\"Crew\\\", \\\"gender\\\": 0, \\\"id\\\": 1551904, \\\"job\\\": \\\"Visual Effects Editor\\\", \\\"name\\\": \\\"Ty Gibson\\\"}, {\\\"credit_id\\\": \\\"567809bfc3a368167c0093e7\\\", \\\"department\\\": \\\"Crew\\\", \\\"gender\\\": 0, \\\"id\\\": 1551906, \\\"job\\\": \\\"Visual Effects Editor\\\", \\\"name\\\": \\\"James Mann\\\"}, {\\\"credit_id\\\": \\\"567809e392514179dd008d0c\\\", \\\"department\\\": \\\"Visual Effects\\\", \\\"gender\\\": 0, \\\"id\\\": 1551907, \\\"job\\\": \\\"Visual Effects Producer\\\", \\\"name\\\": \\\"Leslie Lerman\\\"}, {\\\"credit_id\\\": \\\"56780aef92514179d2009276\\\", \\\"department\\\": \\\"Visual Effects\\\", \\\"gender\\\": 0, \\\"id\\\": 1551908, \\\"job\\\": \\\"Visual Effects Supervisor\\\", \\\"name\\\": \\\"Steven Begg\\\"}, {\\\"credit_id\\\": \\\"56780b249251417845001d4a\\\", \\\"department\\\": \\\"Visual Effects\\\", \\\"gender\\\": 0, \\\"id\\\": 1551909, \\\"job\\\": \\\"Visual Effects Supervisor\\\", \\\"name\\\": \\\"Zave Jackson\\\"}, {\\\"credit_id\\\": \\\"56780b4e9251417845001d57\\\", \\\"department\\\": \\\"Visual Effects\\\", \\\"gender\\\": 2, \\\"id\\\": 1551910, \\\"job\\\": \\\"Visual Effects Supervisor\\\", \\\"name\\\": \\\"Jonathan Knight\\\"}, {\\\"credit_id\\\": \\\"56780bb692514179d2009291\\\", \\\"department\\\": \\\"Visual Effects\\\", \\\"gender\\\": 0, \\\"id\\\": 1551911, \\\"job\\\": \\\"Visual Effects Supervisor\\\", \\\"name\\\": \\\"Alex Wuttke\\\"}, {\\\"credit_id\\\": \\\"56780c5a92514179e7008f22\\\", \\\"department\\\": \\\"Visual Effects\\\", \\\"gender\\\": 0, \\\"id\\\": 1551913, \\\"job\\\": \\\"Visual Effects Supervisor\\\", \\\"name\\\": \\\"Mark Bakowski\\\"}, {\\\"credit_id\\\": \\\"56780c8292514179e30090d1\\\", \\\"department\\\": \\\"Visual Effects\\\", \\\"gender\\\": 0, \\\"id\\\": 1551914, \\\"job\\\": \\\"Visual Effects Supervisor\\\", \\\"name\\\": \\\"Paul Round\\\"}, {\\\"credit_id\\\": \\\"56cd782ac3a368275b001cae\\\", \\\"department\\\": \\\"Lighting\\\", \\\"gender\\\": 0, \\\"id\\\": 1553236, \\\"job\\\": \\\"Gaffer\\\", \\\"name\\\": \\\"Stefano Marino\\\"}, {\\\"credit_id\\\": \\\"56cd7899c3a3682759001bfd\\\", \\\"department\\\": \\\"Lighting\\\", \\\"gender\\\": 0, \\\"id\\\": 1582109, \\\"job\\\": \\\"Gaffer\\\", \\\"name\\\": \\\"Hanz Kawson\\\"}]\"\n        ],\n        \"semantic_type\": \"\",\n        \"description\": \"\"\n      }\n    }\n  ]\n}",
              "type": "dataframe"
            },
            "text/html": [
              "\n",
              "  <div id=\"df-aee6db1c-927a-448d-872f-d4382de31519\" class=\"colab-df-container\">\n",
              "    <div>\n",
              "<style scoped>\n",
              "    .dataframe tbody tr th:only-of-type {\n",
              "        vertical-align: middle;\n",
              "    }\n",
              "\n",
              "    .dataframe tbody tr th {\n",
              "        vertical-align: top;\n",
              "    }\n",
              "\n",
              "    .dataframe thead th {\n",
              "        text-align: right;\n",
              "    }\n",
              "</style>\n",
              "<table border=\"1\" class=\"dataframe\">\n",
              "  <thead>\n",
              "    <tr style=\"text-align: right;\">\n",
              "      <th></th>\n",
              "      <th>movie_id</th>\n",
              "      <th>title</th>\n",
              "      <th>cast</th>\n",
              "      <th>crew</th>\n",
              "    </tr>\n",
              "  </thead>\n",
              "  <tbody>\n",
              "    <tr>\n",
              "      <th>0</th>\n",
              "      <td>19995</td>\n",
              "      <td>Avatar</td>\n",
              "      <td>[{\"cast_id\": 242, \"character\": \"Jake Sully\", \"...</td>\n",
              "      <td>[{\"credit_id\": \"52fe48009251416c750aca23\", \"de...</td>\n",
              "    </tr>\n",
              "    <tr>\n",
              "      <th>1</th>\n",
              "      <td>285</td>\n",
              "      <td>Pirates of the Caribbean: At World's End</td>\n",
              "      <td>[{\"cast_id\": 4, \"character\": \"Captain Jack Spa...</td>\n",
              "      <td>[{\"credit_id\": \"52fe4232c3a36847f800b579\", \"de...</td>\n",
              "    </tr>\n",
              "    <tr>\n",
              "      <th>2</th>\n",
              "      <td>206647</td>\n",
              "      <td>Spectre</td>\n",
              "      <td>[{\"cast_id\": 1, \"character\": \"James Bond\", \"cr...</td>\n",
              "      <td>[{\"credit_id\": \"54805967c3a36829b5002c41\", \"de...</td>\n",
              "    </tr>\n",
              "    <tr>\n",
              "      <th>3</th>\n",
              "      <td>49026</td>\n",
              "      <td>The Dark Knight Rises</td>\n",
              "      <td>[{\"cast_id\": 2, \"character\": \"Bruce Wayne / Ba...</td>\n",
              "      <td>[{\"credit_id\": \"52fe4781c3a36847f81398c3\", \"de...</td>\n",
              "    </tr>\n",
              "    <tr>\n",
              "      <th>4</th>\n",
              "      <td>49529</td>\n",
              "      <td>John Carter</td>\n",
              "      <td>[{\"cast_id\": 5, \"character\": \"John Carter\", \"c...</td>\n",
              "      <td>[{\"credit_id\": \"52fe479ac3a36847f813eaa3\", \"de...</td>\n",
              "    </tr>\n",
              "  </tbody>\n",
              "</table>\n",
              "</div>\n",
              "    <div class=\"colab-df-buttons\">\n",
              "\n",
              "  <div class=\"colab-df-container\">\n",
              "    <button class=\"colab-df-convert\" onclick=\"convertToInteractive('df-aee6db1c-927a-448d-872f-d4382de31519')\"\n",
              "            title=\"Convert this dataframe to an interactive table.\"\n",
              "            style=\"display:none;\">\n",
              "\n",
              "  <svg xmlns=\"http://www.w3.org/2000/svg\" height=\"24px\" viewBox=\"0 -960 960 960\">\n",
              "    <path d=\"M120-120v-720h720v720H120Zm60-500h600v-160H180v160Zm220 220h160v-160H400v160Zm0 220h160v-160H400v160ZM180-400h160v-160H180v160Zm440 0h160v-160H620v160ZM180-180h160v-160H180v160Zm440 0h160v-160H620v160Z\"/>\n",
              "  </svg>\n",
              "    </button>\n",
              "\n",
              "  <style>\n",
              "    .colab-df-container {\n",
              "      display:flex;\n",
              "      gap: 12px;\n",
              "    }\n",
              "\n",
              "    .colab-df-convert {\n",
              "      background-color: #E8F0FE;\n",
              "      border: none;\n",
              "      border-radius: 50%;\n",
              "      cursor: pointer;\n",
              "      display: none;\n",
              "      fill: #1967D2;\n",
              "      height: 32px;\n",
              "      padding: 0 0 0 0;\n",
              "      width: 32px;\n",
              "    }\n",
              "\n",
              "    .colab-df-convert:hover {\n",
              "      background-color: #E2EBFA;\n",
              "      box-shadow: 0px 1px 2px rgba(60, 64, 67, 0.3), 0px 1px 3px 1px rgba(60, 64, 67, 0.15);\n",
              "      fill: #174EA6;\n",
              "    }\n",
              "\n",
              "    .colab-df-buttons div {\n",
              "      margin-bottom: 4px;\n",
              "    }\n",
              "\n",
              "    [theme=dark] .colab-df-convert {\n",
              "      background-color: #3B4455;\n",
              "      fill: #D2E3FC;\n",
              "    }\n",
              "\n",
              "    [theme=dark] .colab-df-convert:hover {\n",
              "      background-color: #434B5C;\n",
              "      box-shadow: 0px 1px 3px 1px rgba(0, 0, 0, 0.15);\n",
              "      filter: drop-shadow(0px 1px 2px rgba(0, 0, 0, 0.3));\n",
              "      fill: #FFFFFF;\n",
              "    }\n",
              "  </style>\n",
              "\n",
              "    <script>\n",
              "      const buttonEl =\n",
              "        document.querySelector('#df-aee6db1c-927a-448d-872f-d4382de31519 button.colab-df-convert');\n",
              "      buttonEl.style.display =\n",
              "        google.colab.kernel.accessAllowed ? 'block' : 'none';\n",
              "\n",
              "      async function convertToInteractive(key) {\n",
              "        const element = document.querySelector('#df-aee6db1c-927a-448d-872f-d4382de31519');\n",
              "        const dataTable =\n",
              "          await google.colab.kernel.invokeFunction('convertToInteractive',\n",
              "                                                    [key], {});\n",
              "        if (!dataTable) return;\n",
              "\n",
              "        const docLinkHtml = 'Like what you see? Visit the ' +\n",
              "          '<a target=\"_blank\" href=https://colab.research.google.com/notebooks/data_table.ipynb>data table notebook</a>'\n",
              "          + ' to learn more about interactive tables.';\n",
              "        element.innerHTML = '';\n",
              "        dataTable['output_type'] = 'display_data';\n",
              "        await google.colab.output.renderOutput(dataTable, element);\n",
              "        const docLink = document.createElement('div');\n",
              "        docLink.innerHTML = docLinkHtml;\n",
              "        element.appendChild(docLink);\n",
              "      }\n",
              "    </script>\n",
              "  </div>\n",
              "\n",
              "\n",
              "    <div id=\"df-de6e6084-6f85-4c34-8ce0-a0860f010f2f\">\n",
              "      <button class=\"colab-df-quickchart\" onclick=\"quickchart('df-de6e6084-6f85-4c34-8ce0-a0860f010f2f')\"\n",
              "                title=\"Suggest charts\"\n",
              "                style=\"display:none;\">\n",
              "\n",
              "<svg xmlns=\"http://www.w3.org/2000/svg\" height=\"24px\"viewBox=\"0 0 24 24\"\n",
              "     width=\"24px\">\n",
              "    <g>\n",
              "        <path d=\"M19 3H5c-1.1 0-2 .9-2 2v14c0 1.1.9 2 2 2h14c1.1 0 2-.9 2-2V5c0-1.1-.9-2-2-2zM9 17H7v-7h2v7zm4 0h-2V7h2v10zm4 0h-2v-4h2v4z\"/>\n",
              "    </g>\n",
              "</svg>\n",
              "      </button>\n",
              "\n",
              "<style>\n",
              "  .colab-df-quickchart {\n",
              "      --bg-color: #E8F0FE;\n",
              "      --fill-color: #1967D2;\n",
              "      --hover-bg-color: #E2EBFA;\n",
              "      --hover-fill-color: #174EA6;\n",
              "      --disabled-fill-color: #AAA;\n",
              "      --disabled-bg-color: #DDD;\n",
              "  }\n",
              "\n",
              "  [theme=dark] .colab-df-quickchart {\n",
              "      --bg-color: #3B4455;\n",
              "      --fill-color: #D2E3FC;\n",
              "      --hover-bg-color: #434B5C;\n",
              "      --hover-fill-color: #FFFFFF;\n",
              "      --disabled-bg-color: #3B4455;\n",
              "      --disabled-fill-color: #666;\n",
              "  }\n",
              "\n",
              "  .colab-df-quickchart {\n",
              "    background-color: var(--bg-color);\n",
              "    border: none;\n",
              "    border-radius: 50%;\n",
              "    cursor: pointer;\n",
              "    display: none;\n",
              "    fill: var(--fill-color);\n",
              "    height: 32px;\n",
              "    padding: 0;\n",
              "    width: 32px;\n",
              "  }\n",
              "\n",
              "  .colab-df-quickchart:hover {\n",
              "    background-color: var(--hover-bg-color);\n",
              "    box-shadow: 0 1px 2px rgba(60, 64, 67, 0.3), 0 1px 3px 1px rgba(60, 64, 67, 0.15);\n",
              "    fill: var(--button-hover-fill-color);\n",
              "  }\n",
              "\n",
              "  .colab-df-quickchart-complete:disabled,\n",
              "  .colab-df-quickchart-complete:disabled:hover {\n",
              "    background-color: var(--disabled-bg-color);\n",
              "    fill: var(--disabled-fill-color);\n",
              "    box-shadow: none;\n",
              "  }\n",
              "\n",
              "  .colab-df-spinner {\n",
              "    border: 2px solid var(--fill-color);\n",
              "    border-color: transparent;\n",
              "    border-bottom-color: var(--fill-color);\n",
              "    animation:\n",
              "      spin 1s steps(1) infinite;\n",
              "  }\n",
              "\n",
              "  @keyframes spin {\n",
              "    0% {\n",
              "      border-color: transparent;\n",
              "      border-bottom-color: var(--fill-color);\n",
              "      border-left-color: var(--fill-color);\n",
              "    }\n",
              "    20% {\n",
              "      border-color: transparent;\n",
              "      border-left-color: var(--fill-color);\n",
              "      border-top-color: var(--fill-color);\n",
              "    }\n",
              "    30% {\n",
              "      border-color: transparent;\n",
              "      border-left-color: var(--fill-color);\n",
              "      border-top-color: var(--fill-color);\n",
              "      border-right-color: var(--fill-color);\n",
              "    }\n",
              "    40% {\n",
              "      border-color: transparent;\n",
              "      border-right-color: var(--fill-color);\n",
              "      border-top-color: var(--fill-color);\n",
              "    }\n",
              "    60% {\n",
              "      border-color: transparent;\n",
              "      border-right-color: var(--fill-color);\n",
              "    }\n",
              "    80% {\n",
              "      border-color: transparent;\n",
              "      border-right-color: var(--fill-color);\n",
              "      border-bottom-color: var(--fill-color);\n",
              "    }\n",
              "    90% {\n",
              "      border-color: transparent;\n",
              "      border-bottom-color: var(--fill-color);\n",
              "    }\n",
              "  }\n",
              "</style>\n",
              "\n",
              "      <script>\n",
              "        async function quickchart(key) {\n",
              "          const quickchartButtonEl =\n",
              "            document.querySelector('#' + key + ' button');\n",
              "          quickchartButtonEl.disabled = true;  // To prevent multiple clicks.\n",
              "          quickchartButtonEl.classList.add('colab-df-spinner');\n",
              "          try {\n",
              "            const charts = await google.colab.kernel.invokeFunction(\n",
              "                'suggestCharts', [key], {});\n",
              "          } catch (error) {\n",
              "            console.error('Error during call to suggestCharts:', error);\n",
              "          }\n",
              "          quickchartButtonEl.classList.remove('colab-df-spinner');\n",
              "          quickchartButtonEl.classList.add('colab-df-quickchart-complete');\n",
              "        }\n",
              "        (() => {\n",
              "          let quickchartButtonEl =\n",
              "            document.querySelector('#df-de6e6084-6f85-4c34-8ce0-a0860f010f2f button');\n",
              "          quickchartButtonEl.style.display =\n",
              "            google.colab.kernel.accessAllowed ? 'block' : 'none';\n",
              "        })();\n",
              "      </script>\n",
              "    </div>\n",
              "\n",
              "    </div>\n",
              "  </div>\n"
            ],
            "text/plain": [
              "   movie_id                                     title  \\\n",
              "0     19995                                    Avatar   \n",
              "1       285  Pirates of the Caribbean: At World's End   \n",
              "2    206647                                   Spectre   \n",
              "3     49026                     The Dark Knight Rises   \n",
              "4     49529                               John Carter   \n",
              "\n",
              "                                                cast  \\\n",
              "0  [{\"cast_id\": 242, \"character\": \"Jake Sully\", \"...   \n",
              "1  [{\"cast_id\": 4, \"character\": \"Captain Jack Spa...   \n",
              "2  [{\"cast_id\": 1, \"character\": \"James Bond\", \"cr...   \n",
              "3  [{\"cast_id\": 2, \"character\": \"Bruce Wayne / Ba...   \n",
              "4  [{\"cast_id\": 5, \"character\": \"John Carter\", \"c...   \n",
              "\n",
              "                                                crew  \n",
              "0  [{\"credit_id\": \"52fe48009251416c750aca23\", \"de...  \n",
              "1  [{\"credit_id\": \"52fe4232c3a36847f800b579\", \"de...  \n",
              "2  [{\"credit_id\": \"54805967c3a36829b5002c41\", \"de...  \n",
              "3  [{\"credit_id\": \"52fe4781c3a36847f81398c3\", \"de...  \n",
              "4  [{\"credit_id\": \"52fe479ac3a36847f813eaa3\", \"de...  "
            ]
          },
          "metadata": {},
          "output_type": "display_data"
        }
      ],
      "source": [
        "import pandas as pd\n",
        "try:\n",
        "    movies_df = pd.read_csv('tmdb_5000_movies.csv')\n",
        "    credits_df = pd.read_csv('tmdb_5000_credits.csv')\n",
        "\n",
        "    print(\"Movies DataFrame:\")\n",
        "    display(movies_df.sample())\n",
        "\n",
        "    print(\"\\nCredits DataFrame:\")\n",
        "    display(credits_df.head())\n",
        "\n",
        "except FileNotFoundError:\n",
        "    print(\"Make sure 'tmdb_5000_movies.csv' and 'tmdb_5000_credits.csv' are in the current directory.\")\n",
        "except Exception as e:\n",
        "    print(f\"An error occurred: {e}\")"
      ]
    },
    {
      "cell_type": "code",
      "execution_count": null,
      "metadata": {
        "colab": {
          "base_uri": "https://localhost:8080/"
        },
        "id": "wJV8-sToHH0W",
        "outputId": "6c553805-8e08-4c2e-ecfc-c77869162edf"
      },
      "outputs": [
        {
          "data": {
            "text/plain": [
              "array(['[{\"cast_id\": 1, \"character\": \"Jackson Pollock\", \"credit_id\": \"52fe44f19251416c75046421\", \"gender\": 2, \"id\": 228, \"name\": \"Ed Harris\", \"order\": 0}, {\"cast_id\": 2, \"character\": \"Lee Krasner\", \"credit_id\": \"52fe44f19251416c75046425\", \"gender\": 1, \"id\": 4726, \"name\": \"Marcia Gay Harden\", \"order\": 1}, {\"cast_id\": 3, \"character\": \"Dan Miller\", \"credit_id\": \"52fe44f19251416c75046429\", \"gender\": 2, \"id\": 19453, \"name\": \"Tom Bower\", \"order\": 2}, {\"cast_id\": 4, \"character\": \"Ruth Kligman\", \"credit_id\": \"52fe44f19251416c7504642d\", \"gender\": 1, \"id\": 6161, \"name\": \"Jennifer Connelly\", \"order\": 3}, {\"cast_id\": 5, \"character\": \"Howard Putzel\", \"credit_id\": \"52fe44f19251416c75046431\", \"gender\": 2, \"id\": 4971, \"name\": \"Bud Cort\", \"order\": 4}, {\"cast_id\": 6, \"character\": \"Tony Smith\", \"credit_id\": \"52fe44f19251416c75046435\", \"gender\": 2, \"id\": 11512, \"name\": \"John Heard\", \"order\": 5}, {\"cast_id\": 7, \"character\": \"Willem DeKooning\", \"credit_id\": \"52fe44f19251416c75046439\", \"gender\": 2, \"id\": 5576, \"name\": \"Val Kilmer\", \"order\": 6}, {\"cast_id\": 8, \"character\": \"Charles Pollock\", \"credit_id\": \"52fe44f19251416c7504643d\", \"gender\": 2, \"id\": 72580, \"name\": \"David Leary\", \"order\": 7}, {\"cast_id\": 9, \"character\": \"Sande Pollock\", \"credit_id\": \"52fe44f19251416c75046441\", \"gender\": 2, \"id\": 16430, \"name\": \"Robert Knott\", \"order\": 8}, {\"cast_id\": 24, \"character\": \"Helen Frankenthaler\", \"credit_id\": \"52fe44f19251416c75046493\", \"gender\": 1, \"id\": 163773, \"name\": \"Stephanie Seymour\", \"order\": 9}, {\"cast_id\": 26, \"character\": \"Arloie Pollock\", \"credit_id\": \"58fdfeefc3a36879be0323ca\", \"gender\": 1, \"id\": 58531, \"name\": \"Molly Regan\", \"order\": 10}, {\"cast_id\": 27, \"character\": \"Stella Pollock\", \"credit_id\": \"58fdff37c3a36879f402cc24\", \"gender\": 1, \"id\": 87125, \"name\": \"Sada Thompson\", \"order\": 11}, {\"cast_id\": 28, \"character\": \"Arloie\\'s Baby\", \"credit_id\": \"58fdff83c3a3687984032234\", \"gender\": 1, \"id\": 145610, \"name\": \"Eulala Scheel\", \"order\": 12}, {\"cast_id\": 29, \"character\": \"Reuben Kadish\", \"credit_id\": \"58fe005ac3a36879db032770\", \"gender\": 2, \"id\": 159869, \"name\": \"Matthew Sussman\", \"order\": 13}, {\"cast_id\": 30, \"character\": \"Peggy Guggenheim\", \"credit_id\": \"58fe0075c3a36879840322ec\", \"gender\": 1, \"id\": 23882, \"name\": \"Amy Madigan\", \"order\": 14}, {\"cast_id\": 31, \"character\": \"James Johnson Sweeney\", \"credit_id\": \"58fe009492514163df031d01\", \"gender\": 0, \"id\": 3199, \"name\": \"Everett Quinton\", \"order\": 15}, {\"cast_id\": 32, \"character\": \"May Rosenberg\", \"credit_id\": \"58fe00b192514163df031d17\", \"gender\": 1, \"id\": 42324, \"name\": \"Annabelle Gurwitch\", \"order\": 16}, {\"cast_id\": 33, \"character\": \"Harold Rosenberg\", \"credit_id\": \"58fe00d6c3a3687a0302df9e\", \"gender\": 2, \"id\": 60205, \"name\": \"John Rothman\", \"order\": 17}, {\"cast_id\": 34, \"character\": \"William Baziotes\", \"credit_id\": \"58fe00ef925141640b031155\", \"gender\": 0, \"id\": 1802700, \"name\": \"Kenny Scharf\", \"order\": 18}, {\"cast_id\": 35, \"character\": \"Franz Kline\", \"credit_id\": \"58fe011f925141642f03182b\", \"gender\": 0, \"id\": 1802701, \"name\": \"Tom McGuinness\", \"order\": 19}, {\"cast_id\": 36, \"character\": \"Clem Greenberg\", \"credit_id\": \"58fe013992514163ec03124c\", \"gender\": 2, \"id\": 4175, \"name\": \"Jeffrey Tambor\", \"order\": 20}, {\"cast_id\": 37, \"character\": \"Barbara Kadish\", \"credit_id\": \"58fe015092514163df031d91\", \"gender\": 1, \"id\": 164093, \"name\": \"Katherine Wallach\", \"order\": 21}, {\"cast_id\": 38, \"character\": \"Kadish Child\", \"credit_id\": \"58fe01cac3a3687a0302e05f\", \"gender\": 1, \"id\": 1802703, \"name\": \"Cassandra Clewicki\", \"order\": 22}, {\"cast_id\": 39, \"character\": \"Dot Miller\", \"credit_id\": \"58fe01fac3a3687984032423\", \"gender\": 1, \"id\": 1428151, \"name\": \"Sloane Shelton\", \"order\": 23}, {\"cast_id\": 40, \"character\": \"Alfonso Ossorio\", \"credit_id\": \"58fe026a92514163e3033133\", \"gender\": 0, \"id\": 1159841, \"name\": \"Eduardo Machado\", \"order\": 24}, {\"cast_id\": 41, \"character\": \"Ted Dragon\", \"credit_id\": \"58fe0277925141640b031276\", \"gender\": 0, \"id\": 1802705, \"name\": \"Moss Roberts\", \"order\": 25}, {\"cast_id\": 42, \"character\": \"Herbert Matter\", \"credit_id\": \"58fe028fc3a36879db03293d\", \"gender\": 2, \"id\": 1607159, \"name\": \"Robert O\\'Neill\", \"order\": 26}, {\"cast_id\": 43, \"character\": \"Mercedes Matter\", \"credit_id\": \"58fe02b0c3a36879f402cea8\", \"gender\": 1, \"id\": 1362876, \"name\": \"Isabelle Townsend\", \"order\": 27}, {\"cast_id\": 44, \"character\": \"Young Redhead\", \"credit_id\": \"58fe030f9251416428030b7c\", \"gender\": 1, \"id\": 1802707, \"name\": \"Jennifer Piech\", \"order\": 28}, {\"cast_id\": 45, \"character\": \"Dorothy Seiberling\", \"credit_id\": \"58fe03bcc3a36879f402cf5a\", \"gender\": 1, \"id\": 60632, \"name\": \"Rebecca Wisocky\", \"order\": 29}, {\"cast_id\": 46, \"character\": \"Martha Holmes\", \"credit_id\": \"58fe041292514163f5030e41\", \"gender\": 1, \"id\": 58643, \"name\": \"Linda Emond\", \"order\": 30}, {\"cast_id\": 47, \"character\": \"Delivery Man\", \"credit_id\": \"58fe042c92514163ec03149e\", \"gender\": 0, \"id\": 1802712, \"name\": \"Tony Palazzolo\", \"order\": 31}, {\"cast_id\": 48, \"character\": \"Betty Parsons\", \"credit_id\": \"58fe043ac3a36879db032a6e\", \"gender\": 1, \"id\": 12932, \"name\": \"Barbara Garrick\", \"order\": 32}, {\"cast_id\": 49, \"character\": \"William Wright\", \"credit_id\": \"58fe049a9251416428030ca8\", \"gender\": 0, \"id\": 1006136, \"name\": \"David Cale\", \"order\": 33}, {\"cast_id\": 50, \"character\": \"Vita Peterson\", \"credit_id\": \"58fe04bdc3a3687a1502dd51\", \"gender\": 1, \"id\": 1336806, \"name\": \"Claire Beckman\", \"order\": 34}, {\"cast_id\": 51, \"character\": \"Jay Pollock\", \"credit_id\": \"58fe057fc3a3687a2a02ecdc\", \"gender\": 0, \"id\": 1802716, \"name\": \"Stephen Beach\", \"order\": 35}, {\"cast_id\": 52, \"character\": \"Alma Pollock\", \"credit_id\": \"58fe059392514163f5030f9b\", \"gender\": 1, \"id\": 1389805, \"name\": \"Jill Jackson\", \"order\": 36}, {\"cast_id\": 53, \"character\": \"Elizabeth Pollock\", \"credit_id\": \"58fe05ca925141640b031520\", \"gender\": 1, \"id\": 56694, \"name\": \"Donna Mitchell\", \"order\": 37}, {\"cast_id\": 54, \"character\": \"Jeremy Pollock\", \"credit_id\": \"58fe0610925141642f031bfa\", \"gender\": 1, \"id\": 1802722, \"name\": \"Sondra Jablonski\", \"order\": 38}, {\"cast_id\": 55, \"character\": \"Frank Pollock\", \"credit_id\": \"58fe068f9251416428030e35\", \"gender\": 2, \"id\": 52021, \"name\": \"Frank Wood\", \"order\": 39}, {\"cast_id\": 56, \"character\": \"Marie Pollock\", \"credit_id\": \"58fe06a3c3a3687a25030bc7\", \"gender\": 1, \"id\": 1802723, \"name\": \"Julie Anna Rose\", \"order\": 40}, {\"cast_id\": 57, \"character\": \"Jonathan Pollock\", \"credit_id\": \"58fe06e092514163f5031079\", \"gender\": 0, \"id\": 1802724, \"name\": \"Kyle Timothy Smith\", \"order\": 41}, {\"cast_id\": 58, \"character\": \"Karen Pollock\", \"credit_id\": \"58fe06f4c3a36879be032a1c\", \"gender\": 1, \"id\": 1802725, \"name\": \"April Petroski\", \"order\": 42}, {\"cast_id\": 59, \"character\": \"Jason Pollock\", \"credit_id\": \"58fe0720925141642f031ca6\", \"gender\": 0, \"id\": 1802726, \"name\": \"Nicholas Petroski\", \"order\": 43}, {\"cast_id\": 60, \"character\": \"Jason Pollock\", \"credit_id\": \"58fe072e925141640b03162b\", \"gender\": 0, \"id\": 1802727, \"name\": \"Noah Petroski\", \"order\": 44}, {\"cast_id\": 61, \"character\": \"Hans Namuth\", \"credit_id\": \"58fe073d92514163f50310c0\", \"gender\": 2, \"id\": 6701, \"name\": \"Norbert Weisser\", \"order\": 45}, {\"cast_id\": 62, \"character\": \"Edith Metzger\", \"credit_id\": \"58fe0773c3a36879840328ac\", \"gender\": 1, \"id\": 164077, \"name\": \"Sally Murphy\", \"order\": 46}, {\"cast_id\": 63, \"character\": \"Veterinarian\", \"credit_id\": \"58fe078a925141640b03167f\", \"gender\": 0, \"id\": 1100321, \"name\": \"Bob L. Harris\", \"order\": 47}, {\"cast_id\": 64, \"character\": \"News Broadcaster (voice)\", \"credit_id\": \"58fe079ac3a3687a0302e4b0\", \"gender\": 0, \"id\": 1802728, \"name\": \"John Madigan\", \"order\": 48}, {\"cast_id\": 65, \"character\": \"Newspaper Boy\", \"credit_id\": \"58fe07ab925141640b03169d\", \"gender\": 0, \"id\": 1802730, \"name\": \"Matthew Hart Landfield\", \"order\": 49}, {\"cast_id\": 66, \"character\": \"East Hampton Police Officer\", \"credit_id\": \"58fe07bc925141640b0316af\", \"gender\": 0, \"id\": 1802731, \"name\": \"John Nesci\", \"order\": 50}]',\n",
              "       '[{\"cast_id\": 7, \"character\": \"James Granger\", \"credit_id\": \"52fe4b2b9251416c910d21ad\", \"gender\": 2, \"id\": 1892, \"name\": \"Matt Damon\", \"order\": 0}, {\"cast_id\": 8, \"character\": \"Claire Simone\", \"credit_id\": \"52fe4b2b9251416c910d21b1\", \"gender\": 1, \"id\": 112, \"name\": \"Cate Blanchett\", \"order\": 1}, {\"cast_id\": 9, \"character\": \"Frank Stokes\", \"credit_id\": \"52fe4b2b9251416c910d21b5\", \"gender\": 2, \"id\": 1461, \"name\": \"George Clooney\", \"order\": 2}, {\"cast_id\": 10, \"character\": \"Richard Campbell\", \"credit_id\": \"52fe4b2b9251416c910d21b9\", \"gender\": 2, \"id\": 1532, \"name\": \"Bill Murray\", \"order\": 3}, {\"cast_id\": 11, \"character\": \"Walter Garfield\", \"credit_id\": \"52fe4b2b9251416c910d21bd\", \"gender\": 2, \"id\": 1230, \"name\": \"John Goodman\", \"order\": 4}, {\"cast_id\": 12, \"character\": \"Donald Jeffries\", \"credit_id\": \"52fe4b2b9251416c910d21c1\", \"gender\": 2, \"id\": 19923, \"name\": \"Hugh Bonneville\", \"order\": 5}, {\"cast_id\": 13, \"character\": \"Jean Claude Clermont\", \"credit_id\": \"52fe4b2b9251416c910d21c5\", \"gender\": 2, \"id\": 56024, \"name\": \"Jean Dujardin\", \"order\": 6}, {\"cast_id\": 14, \"character\": \"Preston Savitz\", \"credit_id\": \"52fe4b2b9251416c910d21c9\", \"gender\": 2, \"id\": 12438, \"name\": \"Bob Balaban\", \"order\": 7}, {\"cast_id\": 20, \"character\": \"Colonel Wegner\", \"credit_id\": \"52fe4b2b9251416c910d21e5\", \"gender\": 2, \"id\": 1050916, \"name\": \"Holger Handtke\", \"order\": 8}, {\"cast_id\": 21, \"character\": \"Sam Epstein\", \"credit_id\": \"52fe4b2b9251416c910d21e9\", \"gender\": 2, \"id\": 89821, \"name\": \"Dimitri Leonidas\", \"order\": 9}, {\"cast_id\": 25, \"character\": \"Viktor Stahl\", \"credit_id\": \"534bd6340e0a2640c800338f\", \"gender\": 2, \"id\": 5646, \"name\": \"Justus von Dohn\\\\u00e1nyi\", \"order\": 10}, {\"cast_id\": 24, \"character\": \"Commander Elya\", \"credit_id\": \"52fe4b2b9251416c910d21f1\", \"gender\": 2, \"id\": 84197, \"name\": \"Zahary Baharov\", \"order\": 11}, {\"cast_id\": 31, \"character\": \"Colonel Langton\", \"credit_id\": \"5399695fc3a3681d1b001109\", \"gender\": 2, \"id\": 563559, \"name\": \"Sam Hazeldine\", \"order\": 12}, {\"cast_id\": 32, \"character\": \"Captain Harpen\", \"credit_id\": \"53996994c3a3681d070010c6\", \"gender\": 2, \"id\": 1330044, \"name\": \"Diarmaid Murtagh\", \"order\": 13}, {\"cast_id\": 33, \"character\": \"Rene Armand\", \"credit_id\": \"539969c7c3a3681d0a00112f\", \"gender\": 2, \"id\": 54274, \"name\": \"Serge Hazanavicius\", \"order\": 14}, {\"cast_id\": 34, \"character\": \"Hermann Goering\", \"credit_id\": \"539969f6c3a3681d0a001139\", \"gender\": 2, \"id\": 48392, \"name\": \"Udo Kroschwald\", \"order\": 15}, {\"cast_id\": 35, \"character\": \"Doctor\", \"credit_id\": \"53996a6ac3a3681cfd0010d9\", \"gender\": 2, \"id\": 31511, \"name\": \"Grant Heslov\", \"order\": 16}, {\"cast_id\": 45, \"character\": \"Dentist\", \"credit_id\": \"540766ab0e0a261893001d36\", \"gender\": 2, \"id\": 38486, \"name\": \"Michael Brandner\", \"order\": 17}, {\"cast_id\": 46, \"character\": \"Emile\", \"credit_id\": \"54076757c3a36868ff001137\", \"gender\": 2, \"id\": 2949, \"name\": \"Alexandre Desplat\", \"order\": 18}, {\"cast_id\": 47, \"character\": \"Aachen Vicar\", \"credit_id\": \"540767abc3a36868f60010af\", \"gender\": 0, \"id\": 235807, \"name\": \"Luc Feit\", \"order\": 19}, {\"cast_id\": 48, \"character\": \"Stahl\\'s Wife\", \"credit_id\": \"540767f90e0a261896001c4b\", \"gender\": 0, \"id\": 6087, \"name\": \"Claudia Geisler\", \"order\": 20}, {\"cast_id\": 50, \"character\": \"Major Piper\", \"credit_id\": \"58b200cec3a36807750118c7\", \"gender\": 0, \"id\": 1248741, \"name\": \"Andrew Alexander\", \"order\": 21}]'],\n",
              "      dtype=object)"
            ]
          },
          "execution_count": 86,
          "metadata": {},
          "output_type": "execute_result"
        }
      ],
      "source": [
        "#credits_df.sample(2)['crew'].values\n",
        "credits_df.sample(2)['cast'].values"
      ]
    },
    {
      "cell_type": "code",
      "execution_count": null,
      "metadata": {
        "id": "qFG3pwupHRr_"
      },
      "outputs": [],
      "source": [
        "movies = movies_df.merge(credits_df , on =\"title\")"
      ]
    },
    {
      "cell_type": "code",
      "execution_count": null,
      "metadata": {
        "colab": {
          "base_uri": "https://localhost:8080/",
          "height": 234
        },
        "id": "-9YS-OXNHRp1",
        "outputId": "c5c5c599-913d-44b2-82e5-f00fb641f83d"
      },
      "outputs": [
        {
          "data": {
            "application/vnd.google.colaboratory.intrinsic+json": {
              "type": "dataframe"
            },
            "text/html": [
              "\n",
              "  <div id=\"df-2ee63ca6-cbc1-47ff-ba2d-47e0479845e3\" class=\"colab-df-container\">\n",
              "    <div>\n",
              "<style scoped>\n",
              "    .dataframe tbody tr th:only-of-type {\n",
              "        vertical-align: middle;\n",
              "    }\n",
              "\n",
              "    .dataframe tbody tr th {\n",
              "        vertical-align: top;\n",
              "    }\n",
              "\n",
              "    .dataframe thead th {\n",
              "        text-align: right;\n",
              "    }\n",
              "</style>\n",
              "<table border=\"1\" class=\"dataframe\">\n",
              "  <thead>\n",
              "    <tr style=\"text-align: right;\">\n",
              "      <th></th>\n",
              "      <th>budget</th>\n",
              "      <th>genres</th>\n",
              "      <th>homepage</th>\n",
              "      <th>id</th>\n",
              "      <th>keywords</th>\n",
              "      <th>original_language</th>\n",
              "      <th>original_title</th>\n",
              "      <th>overview</th>\n",
              "      <th>popularity</th>\n",
              "      <th>production_companies</th>\n",
              "      <th>...</th>\n",
              "      <th>runtime</th>\n",
              "      <th>spoken_languages</th>\n",
              "      <th>status</th>\n",
              "      <th>tagline</th>\n",
              "      <th>title</th>\n",
              "      <th>vote_average</th>\n",
              "      <th>vote_count</th>\n",
              "      <th>movie_id</th>\n",
              "      <th>cast</th>\n",
              "      <th>crew</th>\n",
              "    </tr>\n",
              "  </thead>\n",
              "  <tbody>\n",
              "    <tr>\n",
              "      <th>1072</th>\n",
              "      <td>40000000</td>\n",
              "      <td>[{\"id\": 35, \"name\": \"Comedy\"}]</td>\n",
              "      <td>NaN</td>\n",
              "      <td>232672</td>\n",
              "      <td>[{\"id\": 409, \"name\": \"africa\"}, {\"id\": 4513, \"...</td>\n",
              "      <td>en</td>\n",
              "      <td>Blended</td>\n",
              "      <td>After a bad blind date, a man and woman find t...</td>\n",
              "      <td>44.120328</td>\n",
              "      <td>[{\"name\": \"Happy Madison Productions\", \"id\": 2...</td>\n",
              "      <td>...</td>\n",
              "      <td>117.0</td>\n",
              "      <td>[{\"iso_639_1\": \"en\", \"name\": \"English\"}]</td>\n",
              "      <td>Released</td>\n",
              "      <td>Single Dad, No Clue. Single Mum, Flying Solo.</td>\n",
              "      <td>Blended</td>\n",
              "      <td>6.6</td>\n",
              "      <td>1006</td>\n",
              "      <td>232672</td>\n",
              "      <td>[{\"cast_id\": 2, \"character\": \"Lauren\", \"credit...</td>\n",
              "      <td>[{\"credit_id\": \"53e00e910e0a265a99005231\", \"de...</td>\n",
              "    </tr>\n",
              "  </tbody>\n",
              "</table>\n",
              "<p>1 rows × 23 columns</p>\n",
              "</div>\n",
              "    <div class=\"colab-df-buttons\">\n",
              "\n",
              "  <div class=\"colab-df-container\">\n",
              "    <button class=\"colab-df-convert\" onclick=\"convertToInteractive('df-2ee63ca6-cbc1-47ff-ba2d-47e0479845e3')\"\n",
              "            title=\"Convert this dataframe to an interactive table.\"\n",
              "            style=\"display:none;\">\n",
              "\n",
              "  <svg xmlns=\"http://www.w3.org/2000/svg\" height=\"24px\" viewBox=\"0 -960 960 960\">\n",
              "    <path d=\"M120-120v-720h720v720H120Zm60-500h600v-160H180v160Zm220 220h160v-160H400v160Zm0 220h160v-160H400v160ZM180-400h160v-160H180v160Zm440 0h160v-160H620v160ZM180-180h160v-160H180v160Zm440 0h160v-160H620v160Z\"/>\n",
              "  </svg>\n",
              "    </button>\n",
              "\n",
              "  <style>\n",
              "    .colab-df-container {\n",
              "      display:flex;\n",
              "      gap: 12px;\n",
              "    }\n",
              "\n",
              "    .colab-df-convert {\n",
              "      background-color: #E8F0FE;\n",
              "      border: none;\n",
              "      border-radius: 50%;\n",
              "      cursor: pointer;\n",
              "      display: none;\n",
              "      fill: #1967D2;\n",
              "      height: 32px;\n",
              "      padding: 0 0 0 0;\n",
              "      width: 32px;\n",
              "    }\n",
              "\n",
              "    .colab-df-convert:hover {\n",
              "      background-color: #E2EBFA;\n",
              "      box-shadow: 0px 1px 2px rgba(60, 64, 67, 0.3), 0px 1px 3px 1px rgba(60, 64, 67, 0.15);\n",
              "      fill: #174EA6;\n",
              "    }\n",
              "\n",
              "    .colab-df-buttons div {\n",
              "      margin-bottom: 4px;\n",
              "    }\n",
              "\n",
              "    [theme=dark] .colab-df-convert {\n",
              "      background-color: #3B4455;\n",
              "      fill: #D2E3FC;\n",
              "    }\n",
              "\n",
              "    [theme=dark] .colab-df-convert:hover {\n",
              "      background-color: #434B5C;\n",
              "      box-shadow: 0px 1px 3px 1px rgba(0, 0, 0, 0.15);\n",
              "      filter: drop-shadow(0px 1px 2px rgba(0, 0, 0, 0.3));\n",
              "      fill: #FFFFFF;\n",
              "    }\n",
              "  </style>\n",
              "\n",
              "    <script>\n",
              "      const buttonEl =\n",
              "        document.querySelector('#df-2ee63ca6-cbc1-47ff-ba2d-47e0479845e3 button.colab-df-convert');\n",
              "      buttonEl.style.display =\n",
              "        google.colab.kernel.accessAllowed ? 'block' : 'none';\n",
              "\n",
              "      async function convertToInteractive(key) {\n",
              "        const element = document.querySelector('#df-2ee63ca6-cbc1-47ff-ba2d-47e0479845e3');\n",
              "        const dataTable =\n",
              "          await google.colab.kernel.invokeFunction('convertToInteractive',\n",
              "                                                    [key], {});\n",
              "        if (!dataTable) return;\n",
              "\n",
              "        const docLinkHtml = 'Like what you see? Visit the ' +\n",
              "          '<a target=\"_blank\" href=https://colab.research.google.com/notebooks/data_table.ipynb>data table notebook</a>'\n",
              "          + ' to learn more about interactive tables.';\n",
              "        element.innerHTML = '';\n",
              "        dataTable['output_type'] = 'display_data';\n",
              "        await google.colab.output.renderOutput(dataTable, element);\n",
              "        const docLink = document.createElement('div');\n",
              "        docLink.innerHTML = docLinkHtml;\n",
              "        element.appendChild(docLink);\n",
              "      }\n",
              "    </script>\n",
              "  </div>\n",
              "\n",
              "\n",
              "    </div>\n",
              "  </div>\n"
            ],
            "text/plain": [
              "        budget                          genres homepage      id  \\\n",
              "1072  40000000  [{\"id\": 35, \"name\": \"Comedy\"}]      NaN  232672   \n",
              "\n",
              "                                               keywords original_language  \\\n",
              "1072  [{\"id\": 409, \"name\": \"africa\"}, {\"id\": 4513, \"...                en   \n",
              "\n",
              "     original_title                                           overview  \\\n",
              "1072        Blended  After a bad blind date, a man and woman find t...   \n",
              "\n",
              "      popularity                               production_companies  ...  \\\n",
              "1072   44.120328  [{\"name\": \"Happy Madison Productions\", \"id\": 2...  ...   \n",
              "\n",
              "     runtime                          spoken_languages    status  \\\n",
              "1072   117.0  [{\"iso_639_1\": \"en\", \"name\": \"English\"}]  Released   \n",
              "\n",
              "                                            tagline    title vote_average  \\\n",
              "1072  Single Dad, No Clue. Single Mum, Flying Solo.  Blended          6.6   \n",
              "\n",
              "     vote_count movie_id                                               cast  \\\n",
              "1072       1006   232672  [{\"cast_id\": 2, \"character\": \"Lauren\", \"credit...   \n",
              "\n",
              "                                                   crew  \n",
              "1072  [{\"credit_id\": \"53e00e910e0a265a99005231\", \"de...  \n",
              "\n",
              "[1 rows x 23 columns]"
            ]
          },
          "execution_count": 88,
          "metadata": {},
          "output_type": "execute_result"
        }
      ],
      "source": [
        "movies.sample(1)"
      ]
    },
    {
      "cell_type": "code",
      "execution_count": null,
      "metadata": {
        "colab": {
          "base_uri": "https://localhost:8080/"
        },
        "id": "4L4VX2NhJmrJ",
        "outputId": "26487481-ba25-4530-889b-71d597dcfc21"
      },
      "outputs": [
        {
          "name": "stdout",
          "output_type": "stream",
          "text": [
            "<class 'pandas.core.frame.DataFrame'>\n",
            "RangeIndex: 4809 entries, 0 to 4808\n",
            "Data columns (total 23 columns):\n",
            " #   Column                Non-Null Count  Dtype  \n",
            "---  ------                --------------  -----  \n",
            " 0   budget                4809 non-null   int64  \n",
            " 1   genres                4809 non-null   object \n",
            " 2   homepage              1713 non-null   object \n",
            " 3   id                    4809 non-null   int64  \n",
            " 4   keywords              4809 non-null   object \n",
            " 5   original_language     4809 non-null   object \n",
            " 6   original_title        4809 non-null   object \n",
            " 7   overview              4806 non-null   object \n",
            " 8   popularity            4809 non-null   float64\n",
            " 9   production_companies  4809 non-null   object \n",
            " 10  production_countries  4809 non-null   object \n",
            " 11  release_date          4808 non-null   object \n",
            " 12  revenue               4809 non-null   int64  \n",
            " 13  runtime               4807 non-null   float64\n",
            " 14  spoken_languages      4809 non-null   object \n",
            " 15  status                4809 non-null   object \n",
            " 16  tagline               3965 non-null   object \n",
            " 17  title                 4809 non-null   object \n",
            " 18  vote_average          4809 non-null   float64\n",
            " 19  vote_count            4809 non-null   int64  \n",
            " 20  movie_id              4809 non-null   int64  \n",
            " 21  cast                  4809 non-null   object \n",
            " 22  crew                  4809 non-null   object \n",
            "dtypes: float64(3), int64(5), object(15)\n",
            "memory usage: 864.2+ KB\n"
          ]
        },
        {
          "data": {
            "text/plain": [
              "(None,\n",
              "              budget             id   popularity       revenue      runtime  \\\n",
              " count  4.809000e+03    4809.000000  4809.000000  4.809000e+03  4807.000000   \n",
              " mean   2.902780e+07   57120.571429    21.491664  8.227511e+07   106.882255   \n",
              " std    4.070473e+07   88653.369849    31.803366  1.628379e+08    22.602535   \n",
              " min    0.000000e+00       5.000000     0.000000  0.000000e+00     0.000000   \n",
              " 25%    7.800000e+05    9012.000000     4.667230  0.000000e+00    94.000000   \n",
              " 50%    1.500000e+07   14624.000000    12.921594  1.917000e+07   103.000000   \n",
              " 75%    4.000000e+07   58595.000000    28.350529  9.291317e+07   118.000000   \n",
              " max    3.800000e+08  459488.000000   875.581305  2.787965e+09   338.000000   \n",
              " \n",
              "        vote_average    vote_count       movie_id  \n",
              " count   4809.000000   4809.000000    4809.000000  \n",
              " mean       6.092514    690.331670   57120.571429  \n",
              " std        1.193989   1234.187111   88653.369849  \n",
              " min        0.000000      0.000000       5.000000  \n",
              " 25%        5.600000     54.000000    9012.000000  \n",
              " 50%        6.200000    235.000000   14624.000000  \n",
              " 75%        6.800000    737.000000   58595.000000  \n",
              " max       10.000000  13752.000000  459488.000000  )"
            ]
          },
          "execution_count": 89,
          "metadata": {},
          "output_type": "execute_result"
        }
      ],
      "source": [
        "movies.info(),movies.describe()"
      ]
    },
    {
      "cell_type": "markdown",
      "metadata": {
        "id": "VtWhGG1BHRnk"
      },
      "source": [
        "#slecting col which used to generate tags"
      ]
    },
    {
      "cell_type": "code",
      "execution_count": null,
      "metadata": {
        "id": "9vq7_LciHRlb"
      },
      "outputs": [],
      "source": [
        "\"\"\"\n",
        "#skiiping num col\n",
        "\n",
        "genres\n",
        "id\n",
        "keywords\n",
        "title\n",
        "overview\n",
        "cast\n",
        "crew\n",
        "\"\"\"\n",
        "\n",
        "movies = movies[['id','title','overview','keywords','genres','cast','crew']]"
      ]
    },
    {
      "cell_type": "code",
      "execution_count": null,
      "metadata": {
        "colab": {
          "base_uri": "https://localhost:8080/",
          "height": 205
        },
        "id": "_Cqp3HFOKS0u",
        "outputId": "1e3120aa-1c8a-4326-d582-c889a91ee6e9"
      },
      "outputs": [
        {
          "data": {
            "application/vnd.google.colaboratory.intrinsic+json": {
              "summary": "{\n  \"name\": \"movies\",\n  \"rows\": 1,\n  \"fields\": [\n    {\n      \"column\": \"id\",\n      \"properties\": {\n        \"dtype\": \"number\",\n        \"std\": null,\n        \"min\": 15655,\n        \"max\": 15655,\n        \"num_unique_values\": 1,\n        \"samples\": [\n          15655\n        ],\n        \"semantic_type\": \"\",\n        \"description\": \"\"\n      }\n    },\n    {\n      \"column\": \"title\",\n      \"properties\": {\n        \"dtype\": \"string\",\n        \"num_unique_values\": 1,\n        \"samples\": [\n          \"The Tigger Movie\"\n        ],\n        \"semantic_type\": \"\",\n        \"description\": \"\"\n      }\n    },\n    {\n      \"column\": \"overview\",\n      \"properties\": {\n        \"dtype\": \"string\",\n        \"num_unique_values\": 1,\n        \"samples\": [\n          \"As it happens, everybody - Pooh, Piglet, Eeyore, Roo, Rabbit, Owl - is busy preparing a suitable winter home for Eeyore. When everything they do seems to get undone by Tigger's exuberant bouncing, Rabbit suggest Tigger go outside and find other tiggers to bounce with - a notion Tigger finds ridiculous because, after all, he's \\\"the onliest one\\\" Or is he?\"\n        ],\n        \"semantic_type\": \"\",\n        \"description\": \"\"\n      }\n    },\n    {\n      \"column\": \"keywords\",\n      \"properties\": {\n        \"dtype\": \"string\",\n        \"num_unique_values\": 1,\n        \"samples\": [\n          \"[{\\\"id\\\": 3905, \\\"name\\\": \\\"owl\\\"}, {\\\"id\\\": 4144, \\\"name\\\": \\\"donkey\\\"}, {\\\"id\\\": 4809, \\\"name\\\": \\\"tiger\\\"}, {\\\"id\\\": 8082, \\\"name\\\": \\\"piglet\\\"}, {\\\"id\\\": 10468, \\\"name\\\": \\\"bear\\\"}, {\\\"id\\\": 15199, \\\"name\\\": \\\"rabbit\\\"}, {\\\"id\\\": 187056, \\\"name\\\": \\\"woman director\\\"}]\"\n        ],\n        \"semantic_type\": \"\",\n        \"description\": \"\"\n      }\n    },\n    {\n      \"column\": \"genres\",\n      \"properties\": {\n        \"dtype\": \"string\",\n        \"num_unique_values\": 1,\n        \"samples\": [\n          \"[{\\\"id\\\": 16, \\\"name\\\": \\\"Animation\\\"}, {\\\"id\\\": 10751, \\\"name\\\": \\\"Family\\\"}]\"\n        ],\n        \"semantic_type\": \"\",\n        \"description\": \"\"\n      }\n    },\n    {\n      \"column\": \"cast\",\n      \"properties\": {\n        \"dtype\": \"string\",\n        \"num_unique_values\": 1,\n        \"samples\": [\n          \"[{\\\"cast_id\\\": 2, \\\"character\\\": \\\"Tigger / Winnie the Pooh (voice)\\\", \\\"credit_id\\\": \\\"52fe466f9251416c7507835b\\\", \\\"gender\\\": 2, \\\"id\\\": 12077, \\\"name\\\": \\\"Jim Cummings\\\", \\\"order\\\": 0}, {\\\"cast_id\\\": 4, \\\"character\\\": \\\"Roo (voice)\\\", \\\"credit_id\\\": \\\"52fe466f9251416c75078363\\\", \\\"gender\\\": 2, \\\"id\\\": 90453, \\\"name\\\": \\\"Nikita Hopkins\\\", \\\"order\\\": 2}, {\\\"cast_id\\\": 5, \\\"character\\\": \\\"Rabbit (voice)\\\", \\\"credit_id\\\": \\\"52fe466f9251416c75078367\\\", \\\"gender\\\": 2, \\\"id\\\": 77482, \\\"name\\\": \\\"Ken Sansom\\\", \\\"order\\\": 3}, {\\\"cast_id\\\": 6, \\\"character\\\": \\\"Piglet (voice)\\\", \\\"credit_id\\\": \\\"52fe466f9251416c7507836b\\\", \\\"gender\\\": 2, \\\"id\\\": 5247, \\\"name\\\": \\\"John Fiedler\\\", \\\"order\\\": 4}, {\\\"cast_id\\\": 7, \\\"character\\\": \\\"Eeyore (voice)\\\", \\\"credit_id\\\": \\\"52fe466f9251416c7507836f\\\", \\\"gender\\\": 2, \\\"id\\\": 19540, \\\"name\\\": \\\"Peter Cullen\\\", \\\"order\\\": 5}, {\\\"cast_id\\\": 8, \\\"character\\\": \\\"Owl (voice)\\\", \\\"credit_id\\\": \\\"52fe466f9251416c75078373\\\", \\\"gender\\\": 2, \\\"id\\\": 77546, \\\"name\\\": \\\"Andre Stojka\\\", \\\"order\\\": 6}, {\\\"cast_id\\\": 9, \\\"character\\\": \\\"Kanga (voice)\\\", \\\"credit_id\\\": \\\"52fe466f9251416c75078377\\\", \\\"gender\\\": 1, \\\"id\\\": 60739, \\\"name\\\": \\\"Kath Soucie\\\", \\\"order\\\": 7}, {\\\"cast_id\\\": 10, \\\"character\\\": \\\"Christopher Robin (voice)\\\", \\\"credit_id\\\": \\\"52fe466f9251416c7507837b\\\", \\\"gender\\\": 2, \\\"id\\\": 105503, \\\"name\\\": \\\"Tom Attenborough\\\", \\\"order\\\": 8}]\"\n        ],\n        \"semantic_type\": \"\",\n        \"description\": \"\"\n      }\n    },\n    {\n      \"column\": \"crew\",\n      \"properties\": {\n        \"dtype\": \"string\",\n        \"num_unique_values\": 1,\n        \"samples\": [\n          \"[{\\\"credit_id\\\": \\\"59121da0c3a3686519043247\\\", \\\"department\\\": \\\"Sound\\\", \\\"gender\\\": 2, \\\"id\\\": 5553, \\\"job\\\": \\\"Original Music Composer\\\", \\\"name\\\": \\\"Harry Gregson-Williams\\\"}, {\\\"credit_id\\\": \\\"59121dadc3a36864fc0479e6\\\", \\\"department\\\": \\\"Camera\\\", \\\"gender\\\": 2, \\\"id\\\": 9965, \\\"job\\\": \\\"Director of Photography\\\", \\\"name\\\": \\\"Allen Daviau\\\"}, {\\\"credit_id\\\": \\\"52fe466f9251416c75078381\\\", \\\"department\\\": \\\"Writing\\\", \\\"gender\\\": 2, \\\"id\\\": 77545, \\\"job\\\": \\\"Characters\\\", \\\"name\\\": \\\"A. A. Milne\\\"}, {\\\"credit_id\\\": \\\"5912202f9251414e92048b43\\\", \\\"department\\\": \\\"Sound\\\", \\\"gender\\\": 0, \\\"id\\\": 74976, \\\"job\\\": \\\"Sound Re-Recording Mixer\\\", \\\"name\\\": \\\"Mel Metcalfe\\\"}, {\\\"credit_id\\\": \\\"52fe466f9251416c75078357\\\", \\\"department\\\": \\\"Directing\\\", \\\"gender\\\": 1, \\\"id\\\": 93301, \\\"job\\\": \\\"Director\\\", \\\"name\\\": \\\"Jun Falkenstein\\\"}, {\\\"credit_id\\\": \\\"5537532d9251415704002bb8\\\", \\\"department\\\": \\\"Visual Effects\\\", \\\"gender\\\": 2, \\\"id\\\": 142587, \\\"job\\\": \\\"Animation\\\", \\\"name\\\": \\\"Greg Tiernan\\\"}, {\\\"credit_id\\\": \\\"59121b89c3a368646b04c7fe\\\", \\\"department\\\": \\\"Visual Effects\\\", \\\"gender\\\": 2, \\\"id\\\": 154705, \\\"job\\\": \\\"Character Designer\\\", \\\"name\\\": \\\"Chris Butler\\\"}, {\\\"credit_id\\\": \\\"54f79f8692514118df00006e\\\", \\\"department\\\": \\\"Art\\\", \\\"gender\\\": 0, \\\"id\\\": 226013, \\\"job\\\": \\\"Art Direction\\\", \\\"name\\\": \\\"Toby Bluth\\\"}, {\\\"credit_id\\\": \\\"59121d849251414ead045214\\\", \\\"department\\\": \\\"Editing\\\", \\\"gender\\\": 2, \\\"id\\\": 993265, \\\"job\\\": \\\"Editor\\\", \\\"name\\\": \\\"Robert Fisher Jr.\\\"}, {\\\"credit_id\\\": \\\"59121eabc3a368646b04ca71\\\", \\\"department\\\": \\\"Visual Effects\\\", \\\"gender\\\": 0, \\\"id\\\": 1243177, \\\"job\\\": \\\"Character Designer\\\", \\\"name\\\": \\\"Kimie Calvert\\\"}, {\\\"credit_id\\\": \\\"59121fbe9251414e92048af9\\\", \\\"department\\\": \\\"Sound\\\", \\\"gender\\\": 0, \\\"id\\\": 1339460, \\\"job\\\": \\\"Supervising Music Editor\\\", \\\"name\\\": \\\"Richard Whitfield\\\"}, {\\\"credit_id\\\": \\\"59122013c3a36864fc047b97\\\", \\\"department\\\": \\\"Sound\\\", \\\"gender\\\": 0, \\\"id\\\": 1376819, \\\"job\\\": \\\"Supervising Sound Editor\\\", \\\"name\\\": \\\"Louis L. Edemann\\\"}, {\\\"credit_id\\\": \\\"59122048c3a36864c60480da\\\", \\\"department\\\": \\\"Sound\\\", \\\"gender\\\": 2, \\\"id\\\": 1387572, \\\"job\\\": \\\"Sound Re-Recording Mixer\\\", \\\"name\\\": \\\"Andy D'Addario\\\"}, {\\\"credit_id\\\": \\\"5912203cc3a368646b04cb8f\\\", \\\"department\\\": \\\"Sound\\\", \\\"gender\\\": 2, \\\"id\\\": 1399997, \\\"job\\\": \\\"Sound Re-Recording Mixer\\\", \\\"name\\\": \\\"Elliot Tyson\\\"}, {\\\"credit_id\\\": \\\"59122024c3a368646b04cb80\\\", \\\"department\\\": \\\"Sound\\\", \\\"gender\\\": 0, \\\"id\\\": 1421706, \\\"job\\\": \\\"Sound Re-Recording Mixer\\\", \\\"name\\\": \\\"Tom E. Dahl\\\"}, {\\\"credit_id\\\": \\\"5537f68992514112560033f8\\\", \\\"department\\\": \\\"Visual Effects\\\", \\\"gender\\\": 0, \\\"id\\\": 1447380, \\\"job\\\": \\\"Animation\\\", \\\"name\\\": \\\"Craig R. Maras\\\"}, {\\\"credit_id\\\": \\\"5537f693c3a368784500425a\\\", \\\"department\\\": \\\"Directing\\\", \\\"gender\\\": 0, \\\"id\\\": 1447380, \\\"job\\\": \\\"Layout\\\", \\\"name\\\": \\\"Craig R. Maras\\\"}, {\\\"credit_id\\\": \\\"554bcfe69251410459001d6c\\\", \\\"department\\\": \\\"Directing\\\", \\\"gender\\\": 0, \\\"id\\\": 1447473, \\\"job\\\": \\\"Layout\\\", \\\"name\\\": \\\"Jeff Johnson\\\"}, {\\\"credit_id\\\": \\\"554bcfee9251414692002ce5\\\", \\\"department\\\": \\\"Visual Effects\\\", \\\"gender\\\": 0, \\\"id\\\": 1447473, \\\"job\\\": \\\"Animation\\\", \\\"name\\\": \\\"Jeff Johnson\\\"}, {\\\"credit_id\\\": \\\"553dd390925141125600d32f\\\", \\\"department\\\": \\\"Visual Effects\\\", \\\"gender\\\": 0, \\\"id\\\": 1447478, \\\"job\\\": \\\"Animation\\\", \\\"name\\\": \\\"Eric Koenig\\\"}, {\\\"credit_id\\\": \\\"552d7390c3a3686201000b19\\\", \\\"department\\\": \\\"Visual Effects\\\", \\\"gender\\\": 0, \\\"id\\\": 1451280, \\\"job\\\": \\\"Animation\\\", \\\"name\\\": \\\"Masaru Oshiro\\\"}, {\\\"credit_id\\\": \\\"555ff355c3a3683b520033c9\\\", \\\"department\\\": \\\"Visual Effects\\\", \\\"gender\\\": 0, \\\"id\\\": 1453612, \\\"job\\\": \\\"Animation\\\", \\\"name\\\": \\\"Gabriele Zucchelli\\\"}, {\\\"credit_id\\\": \\\"5540b8129251413d6d0012a9\\\", \\\"department\\\": \\\"Visual Effects\\\", \\\"gender\\\": 0, \\\"id\\\": 1460791, \\\"job\\\": \\\"Animation\\\", \\\"name\\\": \\\"Kazuhiro Ohmame\\\"}, {\\\"credit_id\\\": \\\"59121fcbc3a368650a045e67\\\", \\\"department\\\": \\\"Sound\\\", \\\"gender\\\": 0, \\\"id\\\": 1532407, \\\"job\\\": \\\"Supervising Music Editor\\\", \\\"name\\\": \\\"Sherry Whitfield\\\"}, {\\\"credit_id\\\": \\\"59121fa79251414ead0453a6\\\", \\\"department\\\": \\\"Sound\\\", \\\"gender\\\": 0, \\\"id\\\": 1536029, \\\"job\\\": \\\"Supervising Music Editor\\\", \\\"name\\\": \\\"Dominick Certo\\\"}, {\\\"credit_id\\\": \\\"59121e3ec3a36864c6047f34\\\", \\\"department\\\": \\\"Production\\\", \\\"gender\\\": 0, \\\"id\\\": 1714354, \\\"job\\\": \\\"Producer\\\", \\\"name\\\": \\\"Cheryl Abood\\\"}, {\\\"credit_id\\\": \\\"59121d8ec3a36864a7046c16\\\", \\\"department\\\": \\\"Editing\\\", \\\"gender\\\": 0, \\\"id\\\": 1724275, \\\"job\\\": \\\"Editor\\\", \\\"name\\\": \\\"Makoto Arai\\\"}, {\\\"credit_id\\\": \\\"59121e269251414e89049a31\\\", \\\"department\\\": \\\"Production\\\", \\\"gender\\\": 0, \\\"id\\\": 1728661, \\\"job\\\": \\\"Executive In Charge Of Production\\\", \\\"name\\\": \\\"Sharon Morrill Robinov\\\"}, {\\\"credit_id\\\": \\\"59121ecc9251414eca045c53\\\", \\\"department\\\": \\\"Visual Effects\\\", \\\"gender\\\": 2, \\\"id\\\": 1767036, \\\"job\\\": \\\"Character Designer\\\", \\\"name\\\": \\\"Robert Sledge\\\"}, {\\\"credit_id\\\": \\\"59121ebac3a36864fc047ab0\\\", \\\"department\\\": \\\"Visual Effects\\\", \\\"gender\\\": 0, \\\"id\\\": 1779873, \\\"job\\\": \\\"Character Designer\\\", \\\"name\\\": \\\"Ritsuko Notani\\\"}]\"\n        ],\n        \"semantic_type\": \"\",\n        \"description\": \"\"\n      }\n    }\n  ]\n}",
              "type": "dataframe"
            },
            "text/html": [
              "\n",
              "  <div id=\"df-db566832-aff5-4b61-b427-4f25e74c2260\" class=\"colab-df-container\">\n",
              "    <div>\n",
              "<style scoped>\n",
              "    .dataframe tbody tr th:only-of-type {\n",
              "        vertical-align: middle;\n",
              "    }\n",
              "\n",
              "    .dataframe tbody tr th {\n",
              "        vertical-align: top;\n",
              "    }\n",
              "\n",
              "    .dataframe thead th {\n",
              "        text-align: right;\n",
              "    }\n",
              "</style>\n",
              "<table border=\"1\" class=\"dataframe\">\n",
              "  <thead>\n",
              "    <tr style=\"text-align: right;\">\n",
              "      <th></th>\n",
              "      <th>id</th>\n",
              "      <th>title</th>\n",
              "      <th>overview</th>\n",
              "      <th>keywords</th>\n",
              "      <th>genres</th>\n",
              "      <th>cast</th>\n",
              "      <th>crew</th>\n",
              "    </tr>\n",
              "  </thead>\n",
              "  <tbody>\n",
              "    <tr>\n",
              "      <th>2121</th>\n",
              "      <td>15655</td>\n",
              "      <td>The Tigger Movie</td>\n",
              "      <td>As it happens, everybody - Pooh, Piglet, Eeyor...</td>\n",
              "      <td>[{\"id\": 3905, \"name\": \"owl\"}, {\"id\": 4144, \"na...</td>\n",
              "      <td>[{\"id\": 16, \"name\": \"Animation\"}, {\"id\": 10751...</td>\n",
              "      <td>[{\"cast_id\": 2, \"character\": \"Tigger / Winnie ...</td>\n",
              "      <td>[{\"credit_id\": \"59121da0c3a3686519043247\", \"de...</td>\n",
              "    </tr>\n",
              "  </tbody>\n",
              "</table>\n",
              "</div>\n",
              "    <div class=\"colab-df-buttons\">\n",
              "\n",
              "  <div class=\"colab-df-container\">\n",
              "    <button class=\"colab-df-convert\" onclick=\"convertToInteractive('df-db566832-aff5-4b61-b427-4f25e74c2260')\"\n",
              "            title=\"Convert this dataframe to an interactive table.\"\n",
              "            style=\"display:none;\">\n",
              "\n",
              "  <svg xmlns=\"http://www.w3.org/2000/svg\" height=\"24px\" viewBox=\"0 -960 960 960\">\n",
              "    <path d=\"M120-120v-720h720v720H120Zm60-500h600v-160H180v160Zm220 220h160v-160H400v160Zm0 220h160v-160H400v160ZM180-400h160v-160H180v160Zm440 0h160v-160H620v160ZM180-180h160v-160H180v160Zm440 0h160v-160H620v160Z\"/>\n",
              "  </svg>\n",
              "    </button>\n",
              "\n",
              "  <style>\n",
              "    .colab-df-container {\n",
              "      display:flex;\n",
              "      gap: 12px;\n",
              "    }\n",
              "\n",
              "    .colab-df-convert {\n",
              "      background-color: #E8F0FE;\n",
              "      border: none;\n",
              "      border-radius: 50%;\n",
              "      cursor: pointer;\n",
              "      display: none;\n",
              "      fill: #1967D2;\n",
              "      height: 32px;\n",
              "      padding: 0 0 0 0;\n",
              "      width: 32px;\n",
              "    }\n",
              "\n",
              "    .colab-df-convert:hover {\n",
              "      background-color: #E2EBFA;\n",
              "      box-shadow: 0px 1px 2px rgba(60, 64, 67, 0.3), 0px 1px 3px 1px rgba(60, 64, 67, 0.15);\n",
              "      fill: #174EA6;\n",
              "    }\n",
              "\n",
              "    .colab-df-buttons div {\n",
              "      margin-bottom: 4px;\n",
              "    }\n",
              "\n",
              "    [theme=dark] .colab-df-convert {\n",
              "      background-color: #3B4455;\n",
              "      fill: #D2E3FC;\n",
              "    }\n",
              "\n",
              "    [theme=dark] .colab-df-convert:hover {\n",
              "      background-color: #434B5C;\n",
              "      box-shadow: 0px 1px 3px 1px rgba(0, 0, 0, 0.15);\n",
              "      filter: drop-shadow(0px 1px 2px rgba(0, 0, 0, 0.3));\n",
              "      fill: #FFFFFF;\n",
              "    }\n",
              "  </style>\n",
              "\n",
              "    <script>\n",
              "      const buttonEl =\n",
              "        document.querySelector('#df-db566832-aff5-4b61-b427-4f25e74c2260 button.colab-df-convert');\n",
              "      buttonEl.style.display =\n",
              "        google.colab.kernel.accessAllowed ? 'block' : 'none';\n",
              "\n",
              "      async function convertToInteractive(key) {\n",
              "        const element = document.querySelector('#df-db566832-aff5-4b61-b427-4f25e74c2260');\n",
              "        const dataTable =\n",
              "          await google.colab.kernel.invokeFunction('convertToInteractive',\n",
              "                                                    [key], {});\n",
              "        if (!dataTable) return;\n",
              "\n",
              "        const docLinkHtml = 'Like what you see? Visit the ' +\n",
              "          '<a target=\"_blank\" href=https://colab.research.google.com/notebooks/data_table.ipynb>data table notebook</a>'\n",
              "          + ' to learn more about interactive tables.';\n",
              "        element.innerHTML = '';\n",
              "        dataTable['output_type'] = 'display_data';\n",
              "        await google.colab.output.renderOutput(dataTable, element);\n",
              "        const docLink = document.createElement('div');\n",
              "        docLink.innerHTML = docLinkHtml;\n",
              "        element.appendChild(docLink);\n",
              "      }\n",
              "    </script>\n",
              "  </div>\n",
              "\n",
              "\n",
              "    </div>\n",
              "  </div>\n"
            ],
            "text/plain": [
              "         id             title  \\\n",
              "2121  15655  The Tigger Movie   \n",
              "\n",
              "                                               overview  \\\n",
              "2121  As it happens, everybody - Pooh, Piglet, Eeyor...   \n",
              "\n",
              "                                               keywords  \\\n",
              "2121  [{\"id\": 3905, \"name\": \"owl\"}, {\"id\": 4144, \"na...   \n",
              "\n",
              "                                                 genres  \\\n",
              "2121  [{\"id\": 16, \"name\": \"Animation\"}, {\"id\": 10751...   \n",
              "\n",
              "                                                   cast  \\\n",
              "2121  [{\"cast_id\": 2, \"character\": \"Tigger / Winnie ...   \n",
              "\n",
              "                                                   crew  \n",
              "2121  [{\"credit_id\": \"59121da0c3a3686519043247\", \"de...  "
            ]
          },
          "execution_count": 91,
          "metadata": {},
          "output_type": "execute_result"
        }
      ],
      "source": [
        "movies.sample()"
      ]
    },
    {
      "cell_type": "code",
      "execution_count": null,
      "metadata": {
        "id": "es2wiC4nKy5D"
      },
      "outputs": [],
      "source": [
        "#creating new data feame from movies"
      ]
    },
    {
      "cell_type": "code",
      "execution_count": null,
      "metadata": {
        "id": "2FmT5Xz-LNgd"
      },
      "outputs": [],
      "source": [
        "#and creating tags col from this"
      ]
    },
    {
      "cell_type": "code",
      "execution_count": null,
      "metadata": {
        "id": "bv-LX9T3LQoF"
      },
      "outputs": [],
      "source": [
        "#correcting formaat off col"
      ]
    },
    {
      "cell_type": "code",
      "execution_count": null,
      "metadata": {
        "colab": {
          "base_uri": "https://localhost:8080/",
          "height": 303
        },
        "id": "T3VZUKqELUCV",
        "outputId": "c21e691e-3982-4911-ca1a-0d6219d61638"
      },
      "outputs": [
        {
          "data": {
            "text/html": [
              "<div>\n",
              "<style scoped>\n",
              "    .dataframe tbody tr th:only-of-type {\n",
              "        vertical-align: middle;\n",
              "    }\n",
              "\n",
              "    .dataframe tbody tr th {\n",
              "        vertical-align: top;\n",
              "    }\n",
              "\n",
              "    .dataframe thead th {\n",
              "        text-align: right;\n",
              "    }\n",
              "</style>\n",
              "<table border=\"1\" class=\"dataframe\">\n",
              "  <thead>\n",
              "    <tr style=\"text-align: right;\">\n",
              "      <th></th>\n",
              "      <th>0</th>\n",
              "    </tr>\n",
              "  </thead>\n",
              "  <tbody>\n",
              "    <tr>\n",
              "      <th>id</th>\n",
              "      <td>0</td>\n",
              "    </tr>\n",
              "    <tr>\n",
              "      <th>title</th>\n",
              "      <td>0</td>\n",
              "    </tr>\n",
              "    <tr>\n",
              "      <th>overview</th>\n",
              "      <td>3</td>\n",
              "    </tr>\n",
              "    <tr>\n",
              "      <th>keywords</th>\n",
              "      <td>0</td>\n",
              "    </tr>\n",
              "    <tr>\n",
              "      <th>genres</th>\n",
              "      <td>0</td>\n",
              "    </tr>\n",
              "    <tr>\n",
              "      <th>cast</th>\n",
              "      <td>0</td>\n",
              "    </tr>\n",
              "    <tr>\n",
              "      <th>crew</th>\n",
              "      <td>0</td>\n",
              "    </tr>\n",
              "  </tbody>\n",
              "</table>\n",
              "</div><br><label><b>dtype:</b> int64</label>"
            ],
            "text/plain": [
              "id          0\n",
              "title       0\n",
              "overview    3\n",
              "keywords    0\n",
              "genres      0\n",
              "cast        0\n",
              "crew        0\n",
              "dtype: int64"
            ]
          },
          "execution_count": 95,
          "metadata": {},
          "output_type": "execute_result"
        }
      ],
      "source": [
        "movies.isnull().sum()"
      ]
    },
    {
      "cell_type": "code",
      "execution_count": null,
      "metadata": {
        "id": "6M0yjtWHLfGP"
      },
      "outputs": [],
      "source": [
        "movies.dropna(inplace=True)"
      ]
    },
    {
      "cell_type": "code",
      "execution_count": null,
      "metadata": {
        "colab": {
          "base_uri": "https://localhost:8080/"
        },
        "id": "x8AgmUBDLyAY",
        "outputId": "2ce35580-a462-4cf1-f299-93f49abdb425"
      },
      "outputs": [
        {
          "data": {
            "text/plain": [
              "np.int64(0)"
            ]
          },
          "execution_count": 97,
          "metadata": {},
          "output_type": "execute_result"
        }
      ],
      "source": [
        "movies.duplicated().sum()"
      ]
    },
    {
      "cell_type": "code",
      "execution_count": null,
      "metadata": {
        "colab": {
          "base_uri": "https://localhost:8080/",
          "height": 54
        },
        "id": "O0RniQQCLyb9",
        "outputId": "f5ada201-09f2-4144-a32d-09ae70552caa"
      },
      "outputs": [
        {
          "data": {
            "application/vnd.google.colaboratory.intrinsic+json": {
              "type": "string"
            },
            "text/plain": [
              "'[{\"id\": 28, \"name\": \"Action\"}, {\"id\": 12, \"name\": \"Adventure\"}, {\"id\": 14, \"name\": \"Fantasy\"}, {\"id\": 878, \"name\": \"Science Fiction\"}]'"
            ]
          },
          "execution_count": 98,
          "metadata": {},
          "output_type": "execute_result"
        }
      ],
      "source": [
        "movies.iloc[0].genres"
      ]
    },
    {
      "cell_type": "markdown",
      "metadata": {
        "id": "HA8qMStXMC6y"
      },
      "source": [
        "[{\"id\": 28, \"name\": \"Action\"}, {\"id\": 12, \"name\": \"Adventure\"}, {\"id\": 14, \"name\": \"Fantasy\"}, {\"id\": 878, \"name\": \"Science Fiction\"}]\n",
        "\n",
        "covert into ['action,advebture,...]"
      ]
    },
    {
      "cell_type": "code",
      "execution_count": null,
      "metadata": {
        "id": "WjTbOlzcMk1U"
      },
      "outputs": [],
      "source": [
        "#convert dict key into number expecting no"
      ]
    },
    {
      "cell_type": "code",
      "execution_count": null,
      "metadata": {
        "colab": {
          "base_uri": "https://localhost:8080/"
        },
        "id": "0Zdg-HwlMtlN",
        "outputId": "b37c6495-ae03-413c-c69e-130b008567b0"
      },
      "outputs": [
        {
          "data": {
            "text/plain": [
              "[{'id': 28, 'name': 'Action'},\n",
              " {'id': 12, 'name': 'Adventure'},\n",
              " {'id': 14, 'name': 'Fantasy'},\n",
              " {'id': 878, 'name': 'Science Fiction'}]"
            ]
          },
          "execution_count": 100,
          "metadata": {},
          "output_type": "execute_result"
        }
      ],
      "source": [
        "import ast\n",
        "ast.literal_eval('[{\"id\": 28, \"name\": \"Action\"}, {\"id\": 12, \"name\": \"Adventure\"}, {\"id\": 14, \"name\": \"Fantasy\"}, {\"id\": 878, \"name\": \"Science Fiction\"}]')\n"
      ]
    },
    {
      "cell_type": "code",
      "execution_count": null,
      "metadata": {
        "id": "e59bFSQhL8A4"
      },
      "outputs": [],
      "source": [
        "def convert(text):\n",
        "    L = []\n",
        "    for i in ast.literal_eval(text):\n",
        "        L.append(i['name'])\n",
        "    return L"
      ]
    },
    {
      "cell_type": "code",
      "execution_count": null,
      "metadata": {
        "colab": {
          "base_uri": "https://localhost:8080/",
          "height": 458
        },
        "id": "xUEeRDB4NBUT",
        "outputId": "8597caa9-6810-4e09-adfd-fe1449facfbf"
      },
      "outputs": [
        {
          "data": {
            "text/html": [
              "<div>\n",
              "<style scoped>\n",
              "    .dataframe tbody tr th:only-of-type {\n",
              "        vertical-align: middle;\n",
              "    }\n",
              "\n",
              "    .dataframe tbody tr th {\n",
              "        vertical-align: top;\n",
              "    }\n",
              "\n",
              "    .dataframe thead th {\n",
              "        text-align: right;\n",
              "    }\n",
              "</style>\n",
              "<table border=\"1\" class=\"dataframe\">\n",
              "  <thead>\n",
              "    <tr style=\"text-align: right;\">\n",
              "      <th></th>\n",
              "      <th>genres</th>\n",
              "    </tr>\n",
              "  </thead>\n",
              "  <tbody>\n",
              "    <tr>\n",
              "      <th>0</th>\n",
              "      <td>[Action, Adventure, Fantasy, Science Fiction]</td>\n",
              "    </tr>\n",
              "    <tr>\n",
              "      <th>1</th>\n",
              "      <td>[Adventure, Fantasy, Action]</td>\n",
              "    </tr>\n",
              "    <tr>\n",
              "      <th>2</th>\n",
              "      <td>[Action, Adventure, Crime]</td>\n",
              "    </tr>\n",
              "    <tr>\n",
              "      <th>3</th>\n",
              "      <td>[Action, Crime, Drama, Thriller]</td>\n",
              "    </tr>\n",
              "    <tr>\n",
              "      <th>4</th>\n",
              "      <td>[Action, Adventure, Science Fiction]</td>\n",
              "    </tr>\n",
              "    <tr>\n",
              "      <th>...</th>\n",
              "      <td>...</td>\n",
              "    </tr>\n",
              "    <tr>\n",
              "      <th>4804</th>\n",
              "      <td>[Action, Crime, Thriller]</td>\n",
              "    </tr>\n",
              "    <tr>\n",
              "      <th>4805</th>\n",
              "      <td>[Comedy, Romance]</td>\n",
              "    </tr>\n",
              "    <tr>\n",
              "      <th>4806</th>\n",
              "      <td>[Comedy, Drama, Romance, TV Movie]</td>\n",
              "    </tr>\n",
              "    <tr>\n",
              "      <th>4807</th>\n",
              "      <td>[]</td>\n",
              "    </tr>\n",
              "    <tr>\n",
              "      <th>4808</th>\n",
              "      <td>[Documentary]</td>\n",
              "    </tr>\n",
              "  </tbody>\n",
              "</table>\n",
              "<p>4806 rows × 1 columns</p>\n",
              "</div><br><label><b>dtype:</b> object</label>"
            ],
            "text/plain": [
              "0       [Action, Adventure, Fantasy, Science Fiction]\n",
              "1                        [Adventure, Fantasy, Action]\n",
              "2                          [Action, Adventure, Crime]\n",
              "3                    [Action, Crime, Drama, Thriller]\n",
              "4                [Action, Adventure, Science Fiction]\n",
              "                            ...                      \n",
              "4804                        [Action, Crime, Thriller]\n",
              "4805                                [Comedy, Romance]\n",
              "4806               [Comedy, Drama, Romance, TV Movie]\n",
              "4807                                               []\n",
              "4808                                    [Documentary]\n",
              "Name: genres, Length: 4806, dtype: object"
            ]
          },
          "execution_count": 102,
          "metadata": {},
          "output_type": "execute_result"
        }
      ],
      "source": [
        "movies['genres'].apply(convert) #list of genres for allmoive"
      ]
    },
    {
      "cell_type": "code",
      "execution_count": null,
      "metadata": {
        "id": "lRbqIEhSNTfp"
      },
      "outputs": [],
      "source": [
        "movies['genres'] = movies['genres'].apply(convert)"
      ]
    },
    {
      "cell_type": "code",
      "execution_count": null,
      "metadata": {
        "colab": {
          "base_uri": "https://localhost:8080/",
          "height": 205
        },
        "id": "jeRYo15YOWQR",
        "outputId": "1214a9de-ccfd-43bf-a322-aee457395846"
      },
      "outputs": [
        {
          "data": {
            "application/vnd.google.colaboratory.intrinsic+json": {
              "summary": "{\n  \"name\": \"movies\",\n  \"rows\": 1,\n  \"fields\": [\n    {\n      \"column\": \"id\",\n      \"properties\": {\n        \"dtype\": \"number\",\n        \"std\": null,\n        \"min\": 27329,\n        \"max\": 27329,\n        \"num_unique_values\": 1,\n        \"samples\": [\n          27329\n        ],\n        \"semantic_type\": \"\",\n        \"description\": \"\"\n      }\n    },\n    {\n      \"column\": \"title\",\n      \"properties\": {\n        \"dtype\": \"string\",\n        \"num_unique_values\": 1,\n        \"samples\": [\n          \"The Legend of Suriyothai\"\n        ],\n        \"semantic_type\": \"\",\n        \"description\": \"\"\n      }\n    },\n    {\n      \"column\": \"overview\",\n      \"properties\": {\n        \"dtype\": \"string\",\n        \"num_unique_values\": 1,\n        \"samples\": [\n          \"During the 16th century, as Thailand contends with both a civil war and Burmese invasion, a beautiful princess rises up to help protect the glory of the Kingdom of Ayothaya. Based on the life of Queen Suriyothai.\"\n        ],\n        \"semantic_type\": \"\",\n        \"description\": \"\"\n      }\n    },\n    {\n      \"column\": \"keywords\",\n      \"properties\": {\n        \"dtype\": \"string\",\n        \"num_unique_values\": 1,\n        \"samples\": [\n          \"[{\\\"id\\\": 2011, \\\"name\\\": \\\"queen\\\"}, {\\\"id\\\": 3434, \\\"name\\\": \\\"thailand\\\"}, {\\\"id\\\": 4278, \\\"name\\\": \\\"invasion\\\"}]\"\n        ],\n        \"semantic_type\": \"\",\n        \"description\": \"\"\n      }\n    },\n    {\n      \"column\": \"genres\",\n      \"properties\": {\n        \"dtype\": \"object\",\n        \"semantic_type\": \"\",\n        \"description\": \"\"\n      }\n    },\n    {\n      \"column\": \"cast\",\n      \"properties\": {\n        \"dtype\": \"string\",\n        \"num_unique_values\": 1,\n        \"samples\": [\n          \"[{\\\"cast_id\\\": 1001, \\\"character\\\": \\\"Queen Suriyothai\\\", \\\"credit_id\\\": \\\"52fe4542c3a368484e04fe4f\\\", \\\"gender\\\": 0, \\\"id\\\": 565525, \\\"name\\\": \\\"M.L. Piyapas Bhirombhakdi\\\", \\\"order\\\": 0}, {\\\"cast_id\\\": 1002, \\\"character\\\": \\\"King Mahachakrepat\\\", \\\"credit_id\\\": \\\"52fe4542c3a368484e04fe53\\\", \\\"gender\\\": 0, \\\"id\\\": 81039, \\\"name\\\": \\\"Sarunyu Wongkrachang\\\", \\\"order\\\": 1}, {\\\"cast_id\\\": 1003, \\\"character\\\": \\\"Lord Pirenthorathep\\\", \\\"credit_id\\\": \\\"52fe4542c3a368484e04fe57\\\", \\\"gender\\\": 2, \\\"id\\\": 227708, \\\"name\\\": \\\"Chatchai Plengpanich\\\", \\\"order\\\": 2}, {\\\"cast_id\\\": 1004, \\\"character\\\": \\\"Lord Warawongsa\\\", \\\"credit_id\\\": \\\"52fe4542c3a368484e04fe5b\\\", \\\"gender\\\": 0, \\\"id\\\": 565526, \\\"name\\\": \\\"Johnny Anfone\\\", \\\"order\\\": 3}, {\\\"cast_id\\\": 1005, \\\"character\\\": \\\"Lady Srisudachan\\\", \\\"credit_id\\\": \\\"52fe4542c3a368484e04fe5f\\\", \\\"gender\\\": 1, \\\"id\\\": 565527, \\\"name\\\": \\\"Mai Charoenpura\\\", \\\"order\\\": 4}, {\\\"cast_id\\\": 1014, \\\"character\\\": \\\"Lady Srichulalak\\\", \\\"credit_id\\\": \\\"595836d6c3a36825e8012e44\\\", \\\"gender\\\": 1, \\\"id\\\": 565528, \\\"name\\\": \\\"Sinjai Plengpanit\\\", \\\"order\\\": 5}]\"\n        ],\n        \"semantic_type\": \"\",\n        \"description\": \"\"\n      }\n    },\n    {\n      \"column\": \"crew\",\n      \"properties\": {\n        \"dtype\": \"string\",\n        \"num_unique_values\": 1,\n        \"samples\": [\n          \"[{\\\"credit_id\\\": \\\"579b13ab9251414cd9006566\\\", \\\"department\\\": \\\"Crew\\\", \\\"gender\\\": 2, \\\"id\\\": 10253, \\\"job\\\": \\\"Cinematography\\\", \\\"name\\\": \\\"Igor Luther\\\"}, {\\\"credit_id\\\": \\\"579b13c09251414cca006c59\\\", \\\"department\\\": \\\"Editing\\\", \\\"gender\\\": 0, \\\"id\\\": 70002, \\\"job\\\": \\\"Editor\\\", \\\"name\\\": \\\"Patamanadda Yukol\\\"}, {\\\"credit_id\\\": \\\"579b13879251414cd3006804\\\", \\\"department\\\": \\\"Writing\\\", \\\"gender\\\": 2, \\\"id\\\": 565524, \\\"job\\\": \\\"Screenplay\\\", \\\"name\\\": \\\"Chatrichalerm Yukol\\\"}, {\\\"credit_id\\\": \\\"52fe4542c3a368484e04fe4b\\\", \\\"department\\\": \\\"Directing\\\", \\\"gender\\\": 2, \\\"id\\\": 565524, \\\"job\\\": \\\"Director\\\", \\\"name\\\": \\\"Chatrichalerm Yukol\\\"}, {\\\"credit_id\\\": \\\"579b13b6c3a3687e510068eb\\\", \\\"department\\\": \\\"Editing\\\", \\\"gender\\\": 2, \\\"id\\\": 565524, \\\"job\\\": \\\"Editor\\\", \\\"name\\\": \\\"Chatrichalerm Yukol\\\"}, {\\\"credit_id\\\": \\\"579b13a192514153c9002e0d\\\", \\\"department\\\": \\\"Crew\\\", \\\"gender\\\": 0, \\\"id\\\": 1301375, \\\"job\\\": \\\"Cinematography\\\", \\\"name\\\": \\\"Stanislav Dorsic\\\"}, {\\\"credit_id\\\": \\\"579b13779251414cd30067fb\\\", \\\"department\\\": \\\"Writing\\\", \\\"gender\\\": 0, \\\"id\\\": 1307443, \\\"job\\\": \\\"Writer\\\", \\\"name\\\": \\\"Sunait Chutintaranond\\\"}, {\\\"credit_id\\\": \\\"579b1397c3a3683091002fe5\\\", \\\"department\\\": \\\"Crew\\\", \\\"gender\\\": 0, \\\"id\\\": 1381809, \\\"job\\\": \\\"Cinematography\\\", \\\"name\\\": \\\"Anupap Buachand\\\"}]\"\n        ],\n        \"semantic_type\": \"\",\n        \"description\": \"\"\n      }\n    }\n  ]\n}",
              "type": "dataframe"
            },
            "text/html": [
              "\n",
              "  <div id=\"df-ec2e23e0-5739-4c6c-9f77-fd1847f6d2b2\" class=\"colab-df-container\">\n",
              "    <div>\n",
              "<style scoped>\n",
              "    .dataframe tbody tr th:only-of-type {\n",
              "        vertical-align: middle;\n",
              "    }\n",
              "\n",
              "    .dataframe tbody tr th {\n",
              "        vertical-align: top;\n",
              "    }\n",
              "\n",
              "    .dataframe thead th {\n",
              "        text-align: right;\n",
              "    }\n",
              "</style>\n",
              "<table border=\"1\" class=\"dataframe\">\n",
              "  <thead>\n",
              "    <tr style=\"text-align: right;\">\n",
              "      <th></th>\n",
              "      <th>id</th>\n",
              "      <th>title</th>\n",
              "      <th>overview</th>\n",
              "      <th>keywords</th>\n",
              "      <th>genres</th>\n",
              "      <th>cast</th>\n",
              "      <th>crew</th>\n",
              "    </tr>\n",
              "  </thead>\n",
              "  <tbody>\n",
              "    <tr>\n",
              "      <th>3194</th>\n",
              "      <td>27329</td>\n",
              "      <td>The Legend of Suriyothai</td>\n",
              "      <td>During the 16th century, as Thailand contends ...</td>\n",
              "      <td>[{\"id\": 2011, \"name\": \"queen\"}, {\"id\": 3434, \"...</td>\n",
              "      <td>[Drama, Foreign, History, War]</td>\n",
              "      <td>[{\"cast_id\": 1001, \"character\": \"Queen Suriyot...</td>\n",
              "      <td>[{\"credit_id\": \"579b13ab9251414cd9006566\", \"de...</td>\n",
              "    </tr>\n",
              "  </tbody>\n",
              "</table>\n",
              "</div>\n",
              "    <div class=\"colab-df-buttons\">\n",
              "\n",
              "  <div class=\"colab-df-container\">\n",
              "    <button class=\"colab-df-convert\" onclick=\"convertToInteractive('df-ec2e23e0-5739-4c6c-9f77-fd1847f6d2b2')\"\n",
              "            title=\"Convert this dataframe to an interactive table.\"\n",
              "            style=\"display:none;\">\n",
              "\n",
              "  <svg xmlns=\"http://www.w3.org/2000/svg\" height=\"24px\" viewBox=\"0 -960 960 960\">\n",
              "    <path d=\"M120-120v-720h720v720H120Zm60-500h600v-160H180v160Zm220 220h160v-160H400v160Zm0 220h160v-160H400v160ZM180-400h160v-160H180v160Zm440 0h160v-160H620v160ZM180-180h160v-160H180v160Zm440 0h160v-160H620v160Z\"/>\n",
              "  </svg>\n",
              "    </button>\n",
              "\n",
              "  <style>\n",
              "    .colab-df-container {\n",
              "      display:flex;\n",
              "      gap: 12px;\n",
              "    }\n",
              "\n",
              "    .colab-df-convert {\n",
              "      background-color: #E8F0FE;\n",
              "      border: none;\n",
              "      border-radius: 50%;\n",
              "      cursor: pointer;\n",
              "      display: none;\n",
              "      fill: #1967D2;\n",
              "      height: 32px;\n",
              "      padding: 0 0 0 0;\n",
              "      width: 32px;\n",
              "    }\n",
              "\n",
              "    .colab-df-convert:hover {\n",
              "      background-color: #E2EBFA;\n",
              "      box-shadow: 0px 1px 2px rgba(60, 64, 67, 0.3), 0px 1px 3px 1px rgba(60, 64, 67, 0.15);\n",
              "      fill: #174EA6;\n",
              "    }\n",
              "\n",
              "    .colab-df-buttons div {\n",
              "      margin-bottom: 4px;\n",
              "    }\n",
              "\n",
              "    [theme=dark] .colab-df-convert {\n",
              "      background-color: #3B4455;\n",
              "      fill: #D2E3FC;\n",
              "    }\n",
              "\n",
              "    [theme=dark] .colab-df-convert:hover {\n",
              "      background-color: #434B5C;\n",
              "      box-shadow: 0px 1px 3px 1px rgba(0, 0, 0, 0.15);\n",
              "      filter: drop-shadow(0px 1px 2px rgba(0, 0, 0, 0.3));\n",
              "      fill: #FFFFFF;\n",
              "    }\n",
              "  </style>\n",
              "\n",
              "    <script>\n",
              "      const buttonEl =\n",
              "        document.querySelector('#df-ec2e23e0-5739-4c6c-9f77-fd1847f6d2b2 button.colab-df-convert');\n",
              "      buttonEl.style.display =\n",
              "        google.colab.kernel.accessAllowed ? 'block' : 'none';\n",
              "\n",
              "      async function convertToInteractive(key) {\n",
              "        const element = document.querySelector('#df-ec2e23e0-5739-4c6c-9f77-fd1847f6d2b2');\n",
              "        const dataTable =\n",
              "          await google.colab.kernel.invokeFunction('convertToInteractive',\n",
              "                                                    [key], {});\n",
              "        if (!dataTable) return;\n",
              "\n",
              "        const docLinkHtml = 'Like what you see? Visit the ' +\n",
              "          '<a target=\"_blank\" href=https://colab.research.google.com/notebooks/data_table.ipynb>data table notebook</a>'\n",
              "          + ' to learn more about interactive tables.';\n",
              "        element.innerHTML = '';\n",
              "        dataTable['output_type'] = 'display_data';\n",
              "        await google.colab.output.renderOutput(dataTable, element);\n",
              "        const docLink = document.createElement('div');\n",
              "        docLink.innerHTML = docLinkHtml;\n",
              "        element.appendChild(docLink);\n",
              "      }\n",
              "    </script>\n",
              "  </div>\n",
              "\n",
              "\n",
              "    </div>\n",
              "  </div>\n"
            ],
            "text/plain": [
              "         id                     title  \\\n",
              "3194  27329  The Legend of Suriyothai   \n",
              "\n",
              "                                               overview  \\\n",
              "3194  During the 16th century, as Thailand contends ...   \n",
              "\n",
              "                                               keywords  \\\n",
              "3194  [{\"id\": 2011, \"name\": \"queen\"}, {\"id\": 3434, \"...   \n",
              "\n",
              "                              genres  \\\n",
              "3194  [Drama, Foreign, History, War]   \n",
              "\n",
              "                                                   cast  \\\n",
              "3194  [{\"cast_id\": 1001, \"character\": \"Queen Suriyot...   \n",
              "\n",
              "                                                   crew  \n",
              "3194  [{\"credit_id\": \"579b13ab9251414cd9006566\", \"de...  "
            ]
          },
          "execution_count": 104,
          "metadata": {},
          "output_type": "execute_result"
        }
      ],
      "source": [
        "movies.sample()"
      ]
    },
    {
      "cell_type": "code",
      "execution_count": null,
      "metadata": {
        "id": "VUwE6HYvOXfk"
      },
      "outputs": [],
      "source": [
        "#applying to rest col"
      ]
    },
    {
      "cell_type": "code",
      "execution_count": null,
      "metadata": {
        "id": "3-wU3TygOhoF"
      },
      "outputs": [],
      "source": [
        "movies['keywords'] = movies['keywords'].apply(convert)"
      ]
    },
    {
      "cell_type": "code",
      "execution_count": null,
      "metadata": {
        "colab": {
          "base_uri": "https://localhost:8080/",
          "height": 303
        },
        "id": "6ae8bf15",
        "outputId": "26777167-9fdf-4499-cf91-f982fa56f2a2"
      },
      "outputs": [
        {
          "data": {
            "text/html": [
              "<div>\n",
              "<style scoped>\n",
              "    .dataframe tbody tr th:only-of-type {\n",
              "        vertical-align: middle;\n",
              "    }\n",
              "\n",
              "    .dataframe tbody tr th {\n",
              "        vertical-align: top;\n",
              "    }\n",
              "\n",
              "    .dataframe thead th {\n",
              "        text-align: right;\n",
              "    }\n",
              "</style>\n",
              "<table border=\"1\" class=\"dataframe\">\n",
              "  <thead>\n",
              "    <tr style=\"text-align: right;\">\n",
              "      <th></th>\n",
              "      <th>670</th>\n",
              "    </tr>\n",
              "  </thead>\n",
              "  <tbody>\n",
              "    <tr>\n",
              "      <th>id</th>\n",
              "      <td>12618</td>\n",
              "    </tr>\n",
              "    <tr>\n",
              "      <th>title</th>\n",
              "      <td>Random Hearts</td>\n",
              "    </tr>\n",
              "    <tr>\n",
              "      <th>overview</th>\n",
              "      <td>After the death of their loved ones in a tragi...</td>\n",
              "    </tr>\n",
              "    <tr>\n",
              "      <th>keywords</th>\n",
              "      <td>[infidelity, politician, airplane crash, death...</td>\n",
              "    </tr>\n",
              "    <tr>\n",
              "      <th>genres</th>\n",
              "      <td>[Drama, Romance]</td>\n",
              "    </tr>\n",
              "    <tr>\n",
              "      <th>cast</th>\n",
              "      <td>[{\"cast_id\": 1, \"character\": \"Dutch Van Den Br...</td>\n",
              "    </tr>\n",
              "    <tr>\n",
              "      <th>crew</th>\n",
              "      <td>[{\"credit_id\": \"52fe45089251416c75049655\", \"de...</td>\n",
              "    </tr>\n",
              "  </tbody>\n",
              "</table>\n",
              "</div><br><label><b>dtype:</b> object</label>"
            ],
            "text/plain": [
              "id                                                      12618\n",
              "title                                           Random Hearts\n",
              "overview    After the death of their loved ones in a tragi...\n",
              "keywords    [infidelity, politician, airplane crash, death...\n",
              "genres                                       [Drama, Romance]\n",
              "cast        [{\"cast_id\": 1, \"character\": \"Dutch Van Den Br...\n",
              "crew        [{\"credit_id\": \"52fe45089251416c75049655\", \"de...\n",
              "Name: 670, dtype: object"
            ]
          },
          "metadata": {},
          "output_type": "display_data"
        }
      ],
      "source": [
        "display(movies.iloc[670])"
      ]
    },
    {
      "cell_type": "markdown",
      "metadata": {
        "id": "uiL3ZLHfO0pN"
      },
      "source": [
        "cast name should be orignal name\n",
        "like when think is this moive of tom cruise i gonna watch top 3 only"
      ]
    },
    {
      "cell_type": "code",
      "execution_count": null,
      "metadata": {
        "id": "NGdmnggNPwJQ"
      },
      "outputs": [],
      "source": [
        "def convert2(obj):\n",
        "    L = []\n",
        "    counter =0\n",
        "    for i in ast.literal_eval(obj):\n",
        "      if counter !=3:\n",
        "         L.append(i['name'])\n",
        "         counter+=1\n",
        "      else:\n",
        "        break\n",
        "    return L"
      ]
    },
    {
      "cell_type": "code",
      "execution_count": null,
      "metadata": {
        "id": "8boHgCzyQF1o"
      },
      "outputs": [],
      "source": [
        "movies['cast'] = movies['cast'].apply(convert2)"
      ]
    },
    {
      "cell_type": "code",
      "execution_count": null,
      "metadata": {
        "colab": {
          "base_uri": "https://localhost:8080/",
          "height": 476
        },
        "id": "EWNMVVjIQJyf",
        "outputId": "c0a4eaaa-5108-4185-a3cd-522301c18e98"
      },
      "outputs": [
        {
          "data": {
            "application/vnd.google.colaboratory.intrinsic+json": {
              "summary": "{\n  \"name\": \"movies\",\n  \"rows\": 4806,\n  \"fields\": [\n    {\n      \"column\": \"id\",\n      \"properties\": {\n        \"dtype\": \"number\",\n        \"std\": 88309,\n        \"min\": 5,\n        \"max\": 447027,\n        \"num_unique_values\": 4800,\n        \"samples\": [\n          8427,\n          15581,\n          9893\n        ],\n        \"semantic_type\": \"\",\n        \"description\": \"\"\n      }\n    },\n    {\n      \"column\": \"title\",\n      \"properties\": {\n        \"dtype\": \"string\",\n        \"num_unique_values\": 4797,\n        \"samples\": [\n          \"Two Brothers\",\n          \"From Paris with Love\",\n          \"Walk the Line\"\n        ],\n        \"semantic_type\": \"\",\n        \"description\": \"\"\n      }\n    },\n    {\n      \"column\": \"overview\",\n      \"properties\": {\n        \"dtype\": \"string\",\n        \"num_unique_values\": 4800,\n        \"samples\": [\n          \"When the Switchblade, the most sophisticated prototype stealth fighter created yet, is stolen from the U.S. government, one of the United States' top spies, Alex Scott, is called to action. What he doesn't expect is to get teamed up with a cocky civilian, World Class Boxing Champion Kelly Robinson, on a dangerous top secret espionage mission. Their assignment: using equal parts skill and humor, catch Arnold Gundars, one of the world's most successful arms dealers.\",\n          \"When \\\"street smart\\\" rapper Christopher \\\"C-Note\\\" Hawkins (Big Boi) applies for a membership to all-white Carolina Pines Country Club, the establishment's proprietors are hardly ready to oblige him.\",\n          \"As their first year of high school looms ahead, best friends Julie, Hannah, Yancy and Farrah have one last summer sleepover. Little do they know they're about to embark on the adventure of a lifetime. Desperate to shed their nerdy status, they take part in a night-long scavenger hunt that pits them against their popular archrivals. Everything under the sun goes on -- from taking Yancy's father's car to sneaking into nightclubs!\"\n        ],\n        \"semantic_type\": \"\",\n        \"description\": \"\"\n      }\n    },\n    {\n      \"column\": \"keywords\",\n      \"properties\": {\n        \"dtype\": \"object\",\n        \"semantic_type\": \"\",\n        \"description\": \"\"\n      }\n    },\n    {\n      \"column\": \"genres\",\n      \"properties\": {\n        \"dtype\": \"object\",\n        \"semantic_type\": \"\",\n        \"description\": \"\"\n      }\n    },\n    {\n      \"column\": \"cast\",\n      \"properties\": {\n        \"dtype\": \"object\",\n        \"semantic_type\": \"\",\n        \"description\": \"\"\n      }\n    },\n    {\n      \"column\": \"crew\",\n      \"properties\": {\n        \"dtype\": \"string\",\n        \"num_unique_values\": 4773,\n        \"samples\": [\n          \"[{\\\"credit_id\\\": \\\"538d82720e0a26670e005e83\\\", \\\"department\\\": \\\"Editing\\\", \\\"gender\\\": 2, \\\"id\\\": 898, \\\"job\\\": \\\"Editor\\\", \\\"name\\\": \\\"Mark Goldblatt\\\"}, {\\\"credit_id\\\": \\\"538d82860e0a266702005de5\\\", \\\"department\\\": \\\"Editing\\\", \\\"gender\\\": 2, \\\"id\\\": 1098, \\\"job\\\": \\\"Editor\\\", \\\"name\\\": \\\"Mark Helfrich\\\"}, {\\\"credit_id\\\": \\\"538d820c0e0a266708006129\\\", \\\"department\\\": \\\"Production\\\", \\\"gender\\\": 0, \\\"id\\\": 2095, \\\"job\\\": \\\"Producer\\\", \\\"name\\\": \\\"Ralph Winter\\\"}, {\\\"credit_id\\\": \\\"538d82d30e0a266712005def\\\", \\\"department\\\": \\\"Production\\\", \\\"gender\\\": 2, \\\"id\\\": 2624, \\\"job\\\": \\\"Casting\\\", \\\"name\\\": \\\"Richard Pagano\\\"}, {\\\"credit_id\\\": \\\"538d82ea0e0a266715005e74\\\", \\\"department\\\": \\\"Art\\\", \\\"gender\\\": 2, \\\"id\\\": 4953, \\\"job\\\": \\\"Production Design\\\", \\\"name\\\": \\\"Ed Verreaux\\\"}, {\\\"credit_id\\\": \\\"538d82ad0e0a26670800614d\\\", \\\"department\\\": \\\"Production\\\", \\\"gender\\\": 1, \\\"id\\\": 5362, \\\"job\\\": \\\"Casting\\\", \\\"name\\\": \\\"Heike Brandstatter\\\"}, {\\\"credit_id\\\": \\\"538d82c00e0a266705005fa2\\\", \\\"department\\\": \\\"Production\\\", \\\"gender\\\": 1, \\\"id\\\": 5363, \\\"job\\\": \\\"Casting\\\", \\\"name\\\": \\\"Coreen Mayrs\\\"}, {\\\"credit_id\\\": \\\"538d845ec3a368713c0047d2\\\", \\\"department\\\": \\\"Costume & Make-Up\\\", \\\"gender\\\": 0, \\\"id\\\": 6924, \\\"job\\\": \\\"Costume Supervisor\\\", \\\"name\\\": \\\"Dan Moore\\\"}, {\\\"credit_id\\\": \\\"538d81ef0e0a266718005cb8\\\", \\\"department\\\": \\\"Production\\\", \\\"gender\\\": 1, \\\"id\\\": 7200, \\\"job\\\": \\\"Producer\\\", \\\"name\\\": \\\"Lauren Shuler Donner\\\"}, {\\\"credit_id\\\": \\\"576710bec3a36806720004b0\\\", \\\"department\\\": \\\"Production\\\", \\\"gender\\\": 2, \\\"id\\\": 7624, \\\"job\\\": \\\"Executive Producer\\\", \\\"name\\\": \\\"Stan Lee\\\"}, {\\\"credit_id\\\": \\\"538d81d80e0a266715005e4d\\\", \\\"department\\\": \\\"Production\\\", \\\"gender\\\": 2, \\\"id\\\": 7626, \\\"job\\\": \\\"Producer\\\", \\\"name\\\": \\\"Avi Arad\\\"}, {\\\"credit_id\\\": \\\"5767101092514165c20000db\\\", \\\"department\\\": \\\"Production\\\", \\\"gender\\\": 2, \\\"id\\\": 10850, \\\"job\\\": \\\"Executive Producer\\\", \\\"name\\\": \\\"Kevin Feige\\\"}, {\\\"credit_id\\\": \\\"538d83ba0e0a26670b005ded\\\", \\\"department\\\": \\\"Costume & Make-Up\\\", \\\"gender\\\": 1, \\\"id\\\": 10970, \\\"job\\\": \\\"Costume Design\\\", \\\"name\\\": \\\"Judianna Makovsky\\\"}, {\\\"credit_id\\\": \\\"538d83620e0a266715005e82\\\", \\\"department\\\": \\\"Art\\\", \\\"gender\\\": 2, \\\"id\\\": 10549, \\\"job\\\": \\\"Art Direction\\\", \\\"name\\\": \\\"Justin Scoppa Jr.\\\"}, {\\\"credit_id\\\": \\\"5626465bc3a3680e0e01704b\\\", \\\"department\\\": \\\"Sound\\\", \\\"gender\\\": 2, \\\"id\\\": 11098, \\\"job\\\": \\\"Original Music Composer\\\", \\\"name\\\": \\\"John Powell\\\"}, {\\\"credit_id\\\": \\\"52fe45ff9251416c910459e1\\\", \\\"department\\\": \\\"Writing\\\", \\\"gender\\\": 2, \\\"id\\\": 11092, \\\"job\\\": \\\"Screenplay\\\", \\\"name\\\": \\\"Simon Kinberg\\\"}, {\\\"credit_id\\\": \\\"56abe4ecc3a3681c47003aa3\\\", \\\"department\\\": \\\"Crew\\\", \\\"gender\\\": 2, \\\"id\\\": 15017, \\\"job\\\": \\\"Makeup Effects\\\", \\\"name\\\": \\\"Bill Corso\\\"}, {\\\"credit_id\\\": \\\"538d82560e0a266705005f94\\\", \\\"department\\\": \\\"Camera\\\", \\\"gender\\\": 2, \\\"id\\\": 11099, \\\"job\\\": \\\"Director of Photography\\\", \\\"name\\\": \\\"Dante Spinotti\\\"}, {\\\"credit_id\\\": \\\"52fe45ff9251416c910459e7\\\", \\\"department\\\": \\\"Writing\\\", \\\"gender\\\": 2, \\\"id\\\": 11011, \\\"job\\\": \\\"Screenplay\\\", \\\"name\\\": \\\"Zak Penn\\\"}, {\\\"credit_id\\\": \\\"52fe45ff9251416c910459db\\\", \\\"department\\\": \\\"Directing\\\", \\\"gender\\\": 2, \\\"id\\\": 11091, \\\"job\\\": \\\"Director\\\", \\\"name\\\": \\\"Brett Ratner\\\"}, {\\\"credit_id\\\": \\\"538d834f0e0a266712005dfe\\\", \\\"department\\\": \\\"Art\\\", \\\"gender\\\": 1, \\\"id\\\": 22061, \\\"job\\\": \\\"Art Direction\\\", \\\"name\\\": \\\"Helen Jarvis\\\"}, {\\\"credit_id\\\": \\\"538d83a50e0a266715005e8b\\\", \\\"department\\\": \\\"Art\\\", \\\"gender\\\": 1, \\\"id\\\": 11021, \\\"job\\\": \\\"Set Decoration\\\", \\\"name\\\": \\\"Elizabeth Wilcox\\\"}, {\\\"credit_id\\\": \\\"538d83220e0a266702005df6\\\", \\\"department\\\": \\\"Art\\\", \\\"gender\\\": 0, \\\"id\\\": 11102, \\\"job\\\": \\\"Art Direction\\\", \\\"name\\\": \\\"Chad S. Frey\\\"}, {\\\"credit_id\\\": \\\"570b8dde9251412c740020d0\\\", \\\"department\\\": \\\"Art\\\", \\\"gender\\\": 0, \\\"id\\\": 46082, \\\"job\\\": \\\"Supervising Art Director\\\", \\\"name\\\": \\\"Geoff Hubbard\\\"}, {\\\"credit_id\\\": \\\"538d83ce0e0a266702005e02\\\", \\\"department\\\": \\\"Costume & Make-Up\\\", \\\"gender\\\": 2, \\\"id\\\": 11106, \\\"job\\\": \\\"Costume Design\\\", \\\"name\\\": \\\"Lisa Tomczeszyn\\\"}, {\\\"credit_id\\\": \\\"560046499251414e4d000197\\\", \\\"department\\\": \\\"Crew\\\", \\\"gender\\\": 0, \\\"id\\\": 113194, \\\"job\\\": \\\"Stunts\\\", \\\"name\\\": \\\"James Bamford\\\"}, {\\\"credit_id\\\": \\\"538d82990e0a266712005de9\\\", \\\"department\\\": \\\"Editing\\\", \\\"gender\\\": 1, \\\"id\\\": 11100, \\\"job\\\": \\\"Editor\\\", \\\"name\\\": \\\"Julia Wong\\\"}, {\\\"credit_id\\\": \\\"57671042c3a36806b3000104\\\", \\\"department\\\": \\\"Production\\\", \\\"gender\\\": 2, \\\"id\\\": 11095, \\\"job\\\": \\\"Co-Producer\\\", \\\"name\\\": \\\"James M. Freitag\\\"}, {\\\"credit_id\\\": \\\"57670fdbc3a3680722000106\\\", \\\"department\\\": \\\"Production\\\", \\\"gender\\\": 2, \\\"id\\\": 11014, \\\"job\\\": \\\"Co-Producer\\\", \\\"name\\\": \\\"Ross Fanger\\\"}, {\\\"credit_id\\\": \\\"538d83750e0a26670b005de5\\\", \\\"department\\\": \\\"Art\\\", \\\"gender\\\": 0, \\\"id\\\": 223991, \\\"job\\\": \\\"Art Direction\\\", \\\"name\\\": \\\"Sandi Tanaka\\\"}, {\\\"credit_id\\\": \\\"576710f192514133c5001213\\\", \\\"department\\\": \\\"Production\\\", \\\"gender\\\": 0, \\\"id\\\": 1182092, \\\"job\\\": \\\"Executive Producer\\\", \\\"name\\\": \\\"John Palermo\\\"}, {\\\"credit_id\\\": \\\"55402d2fc3a3681da0000633\\\", \\\"department\\\": \\\"Visual Effects\\\", \\\"gender\\\": 0, \\\"id\\\": 1395269, \\\"job\\\": \\\"Visual Effects Supervisor\\\", \\\"name\\\": \\\"John Bruno\\\"}, {\\\"credit_id\\\": \\\"563a9ed79251416d520145a0\\\", \\\"department\\\": \\\"Crew\\\", \\\"gender\\\": 0, \\\"id\\\": 1401803, \\\"job\\\": \\\"Digital Effects Supervisor\\\", \\\"name\\\": \\\"Guy Williams\\\"}, {\\\"credit_id\\\": \\\"5767112fc3a3680722000132\\\", \\\"department\\\": \\\"Production\\\", \\\"gender\\\": 0, \\\"id\\\": 1432021, \\\"job\\\": \\\"Co-Producer\\\", \\\"name\\\": \\\"Kurt Williams\\\"}, {\\\"credit_id\\\": \\\"55423048c3a36829e5003bc8\\\", \\\"department\\\": \\\"Crew\\\", \\\"gender\\\": 0, \\\"id\\\": 1447557, \\\"job\\\": \\\"Compositors\\\", \\\"name\\\": \\\"Rachel Wyn Dunn\\\"}, {\\\"credit_id\\\": \\\"552986b4c3a368596e001a79\\\", \\\"department\\\": \\\"Visual Effects\\\", \\\"gender\\\": 0, \\\"id\\\": 1452932, \\\"job\\\": \\\"Animation\\\", \\\"name\\\": \\\"Joel Fletcher\\\"}, {\\\"credit_id\\\": \\\"57670f92925141655a000109\\\", \\\"department\\\": \\\"Production\\\", \\\"gender\\\": 0, \\\"id\\\": 1477146, \\\"job\\\": \\\"Co-Producer\\\", \\\"name\\\": \\\"Lee Cleary\\\"}, {\\\"credit_id\\\": \\\"5767107c925141655a00012c\\\", \\\"department\\\": \\\"Production\\\", \\\"gender\\\": 0, \\\"id\\\": 1477147, \\\"job\\\": \\\"Associate Producer\\\", \\\"name\\\": \\\"David Gorder\\\"}, {\\\"credit_id\\\": \\\"5767105bc3a36850c4000573\\\", \\\"department\\\": \\\"Production\\\", \\\"gender\\\": 2, \\\"id\\\": 1477203, \\\"job\\\": \\\"Associate Producer\\\", \\\"name\\\": \\\"Luca Marco Paracels\\\"}]\",\n          \"[{\\\"credit_id\\\": \\\"58dd0e90c3a368223e00b59c\\\", \\\"department\\\": \\\"Production\\\", \\\"gender\\\": 1, \\\"id\\\": 546, \\\"job\\\": \\\"Casting\\\", \\\"name\\\": \\\"Jeanne McCarthy\\\"}, {\\\"credit_id\\\": \\\"52fe43bb9251416c7501bf83\\\", \\\"department\\\": \\\"Production\\\", \\\"gender\\\": 2, \\\"id\\\": 2043, \\\"job\\\": \\\"Producer\\\", \\\"name\\\": \\\"John Davis\\\"}, {\\\"credit_id\\\": \\\"5539fe35c3a3685cf8002f1e\\\", \\\"department\\\": \\\"Sound\\\", \\\"gender\\\": 2, \\\"id\\\": 3393, \\\"job\\\": \\\"Original Music Composer\\\", \\\"name\\\": \\\"David Newman\\\"}, {\\\"credit_id\\\": \\\"58dd0d3fc3a368228a00aa50\\\", \\\"department\\\": \\\"Production\\\", \\\"gender\\\": 0, \\\"id\\\": 6187, \\\"job\\\": \\\"Associate Producer\\\", \\\"name\\\": \\\"Aldric La'Auli Porter\\\"}, {\\\"credit_id\\\": \\\"5990427f925141672302ba00\\\", \\\"department\\\": \\\"Directing\\\", \\\"gender\\\": 0, \\\"id\\\": 6187, \\\"job\\\": \\\"First Assistant Director\\\", \\\"name\\\": \\\"Aldric La'Auli Porter\\\"}, {\\\"credit_id\\\": \\\"58dd0efdc3a368228300b438\\\", \\\"department\\\": \\\"Art\\\", \\\"gender\\\": 2, \\\"id\\\": 6877, \\\"job\\\": \\\"Production Design\\\", \\\"name\\\": \\\"William Sandell\\\"}, {\\\"credit_id\\\": \\\"58dd0f56925141411000c340\\\", \\\"department\\\": \\\"Art\\\", \\\"gender\\\": 2, \\\"id\\\": 6880, \\\"job\\\": \\\"Set Decoration\\\", \\\"name\\\": \\\"Robert Gould\\\"}, {\\\"credit_id\\\": \\\"58dd0f1fc3a36822a600c1dd\\\", \\\"department\\\": \\\"Art\\\", \\\"gender\\\": 2, \\\"id\\\": 8705, \\\"job\\\": \\\"Art Direction\\\", \\\"name\\\": \\\"Brad Ricker\\\"}, {\\\"credit_id\\\": \\\"5990490b925141673e02d2f5\\\", \\\"department\\\": \\\"Sound\\\", \\\"gender\\\": 0, \\\"id\\\": 8763, \\\"job\\\": \\\"Foley Editor\\\", \\\"name\\\": \\\"Dan Yale\\\"}, {\\\"credit_id\\\": \\\"58dd0d3192514140f600b915\\\", \\\"department\\\": \\\"Production\\\", \\\"gender\\\": 2, \\\"id\\\": 8880, \\\"job\\\": \\\"Executive Producer\\\", \\\"name\\\": \\\"Neil A. Machlis\\\"}, {\\\"credit_id\\\": \\\"58dd0e0bc3a368229300bdf6\\\", \\\"department\\\": \\\"Production\\\", \\\"gender\\\": 1, \\\"id\\\": 14377, \\\"job\\\": \\\"Casting\\\", \\\"name\\\": \\\"Juel Bestrop\\\"}, {\\\"credit_id\\\": \\\"599045b6925141672302bdac\\\", \\\"department\\\": \\\"Art\\\", \\\"gender\\\": 0, \\\"id\\\": 12639, \\\"job\\\": \\\"Set Designer\\\", \\\"name\\\": \\\"Hugo Santiago\\\"}, {\\\"credit_id\\\": \\\"58dd0f69c3a368228300b48f\\\", \\\"department\\\": \\\"Costume & Make-Up\\\", \\\"gender\\\": 1, \\\"id\\\": 15524, \\\"job\\\": \\\"Costume Design\\\", \\\"name\\\": \\\"Ruth E. Carter\\\"}, {\\\"credit_id\\\": \\\"52fe43bb9251416c7501bf9b\\\", \\\"department\\\": \\\"Editing\\\", \\\"gender\\\": 2, \\\"id\\\": 18276, \\\"job\\\": \\\"Editor\\\", \\\"name\\\": \\\"Craig Herring\\\"}, {\\\"credit_id\\\": \\\"58dd0f2f92514140fa00c653\\\", \\\"department\\\": \\\"Art\\\", \\\"gender\\\": 2, \\\"id\\\": 13434, \\\"job\\\": \\\"Supervising Art Director\\\", \\\"name\\\": \\\"Bruce Crone\\\"}, {\\\"credit_id\\\": \\\"59904bcdc3a368744202b9fb\\\", \\\"department\\\": \\\"Visual Effects\\\", \\\"gender\\\": 0, \\\"id\\\": 27100, \\\"job\\\": \\\"Visual Effects Supervisor\\\", \\\"name\\\": \\\"Douglas Smith\\\"}, {\\\"credit_id\\\": \\\"52fe43bb9251416c7501bf7d\\\", \\\"department\\\": \\\"Writing\\\", \\\"gender\\\": 2, \\\"id\\\": 31026, \\\"job\\\": \\\"Screenplay\\\", \\\"name\\\": \\\"Larry Levin\\\"}, {\\\"credit_id\\\": \\\"58dd0c8592514140fa00c441\\\", \\\"department\\\": \\\"Production\\\", \\\"gender\\\": 1, \\\"id\\\": 49907, \\\"job\\\": \\\"Co-Producer\\\", \\\"name\\\": \\\"Michele Imperato\\\"}, {\\\"credit_id\\\": \\\"58dd0fb0c3a368227300bfad\\\", \\\"department\\\": \\\"Production\\\", \\\"gender\\\": 1, \\\"id\\\": 49907, \\\"job\\\": \\\"Unit Production Manager\\\", \\\"name\\\": \\\"Michele Imperato\\\"}, {\\\"credit_id\\\": \\\"52fe43bb9251416c7501bfb1\\\", \\\"department\\\": \\\"Directing\\\", \\\"gender\\\": 2, \\\"id\\\": 52112, \\\"job\\\": \\\"Director\\\", \\\"name\\\": \\\"Steve Carr\\\"}, {\\\"credit_id\\\": \\\"5990471cc3a36874a302bbdc\\\", \\\"department\\\": \\\"Sound\\\", \\\"gender\\\": 2, \\\"id\\\": 52193, \\\"job\\\": \\\"Dialogue Editor\\\", \\\"name\\\": \\\"R.J. Kizer\\\"}, {\\\"credit_id\\\": \\\"52fe43bb9251416c7501bf95\\\", \\\"department\\\": \\\"Camera\\\", \\\"gender\\\": 2, \\\"id\\\": 56324, \\\"job\\\": \\\"Director of Photography\\\", \\\"name\\\": \\\"Daryn Okada\\\"}, {\\\"credit_id\\\": \\\"52fe43bb9251416c7501bf89\\\", \\\"department\\\": \\\"Production\\\", \\\"gender\\\": 2, \\\"id\\\": 56053, \\\"job\\\": \\\"Producer\\\", \\\"name\\\": \\\"Joseph Singer\\\"}, {\\\"credit_id\\\": \\\"59904a06925141676602b701\\\", \\\"department\\\": \\\"Crew\\\", \\\"gender\\\": 2, \\\"id\\\": 57769, \\\"job\\\": \\\"Visual Effects Editor\\\", \\\"name\\\": \\\"Peter S. Elliot\\\"}, {\\\"credit_id\\\": \\\"58dd0d4c92514140fa00c4da\\\", \\\"department\\\": \\\"Production\\\", \\\"gender\\\": 1, \\\"id\\\": 66921, \\\"job\\\": \\\"Co-Producer\\\", \\\"name\\\": \\\"Heidi Santelli\\\"}, {\\\"credit_id\\\": \\\"59905155c3a36874b402a906\\\", \\\"department\\\": \\\"Sound\\\", \\\"gender\\\": 0, \\\"id\\\": 91324, \\\"job\\\": \\\"Music Editor\\\", \\\"name\\\": \\\"Tom Villano\\\"}, {\\\"credit_id\\\": \\\"5990424a925141676602adf3\\\", \\\"department\\\": \\\"Costume & Make-Up\\\", \\\"gender\\\": 0, \\\"id\\\": 168214, \\\"job\\\": \\\"Makeup Artist\\\", \\\"name\\\": \\\"Judy Murdock\\\"}, {\\\"credit_id\\\": \\\"59904eae925141673e02da30\\\", \\\"department\\\": \\\"Camera\\\", \\\"gender\\\": 2, \\\"id\\\": 555085, \\\"job\\\": \\\"Still Photographer\\\", \\\"name\\\": \\\"Bruce McBroom\\\"}, {\\\"credit_id\\\": \\\"599041d0c3a36874a302b5e9\\\", \\\"department\\\": \\\"Costume & Make-Up\\\", \\\"gender\\\": 0, \\\"id\\\": 1015965, \\\"job\\\": \\\"Makeup Department Head\\\", \\\"name\\\": \\\"Kris Evans\\\"}, {\\\"credit_id\\\": \\\"58dd11a2c3a368227300c14b\\\", \\\"department\\\": \\\"Production\\\", \\\"gender\\\": 0, \\\"id\\\": 1113659, \\\"job\\\": \\\"Location Manager\\\", \\\"name\\\": \\\"Iddo Lampton Enochs Jr.\\\"}, {\\\"credit_id\\\": \\\"59904b71925141675f02b7e7\\\", \\\"department\\\": \\\"Crew\\\", \\\"gender\\\": 0, \\\"id\\\": 1178615, \\\"job\\\": \\\"CG Supervisor\\\", \\\"name\\\": \\\"Liz Radley\\\"}, {\\\"credit_id\\\": \\\"59904fe5c3a368744202bf0c\\\", \\\"department\\\": \\\"Costume & Make-Up\\\", \\\"gender\\\": 0, \\\"id\\\": 1319193, \\\"job\\\": \\\"Costume Supervisor\\\", \\\"name\\\": \\\"Donna Marcione Pollack\\\"}, {\\\"credit_id\\\": \\\"599044c4925141672302bc97\\\", \\\"department\\\": \\\"Art\\\", \\\"gender\\\": 0, \\\"id\\\": 1364403, \\\"job\\\": \\\"Greensman\\\", \\\"name\\\": \\\"Frank McEldowney\\\"}, {\\\"credit_id\\\": \\\"59904694925141673e02cfd2\\\", \\\"department\\\": \\\"Sound\\\", \\\"gender\\\": 0, \\\"id\\\": 1367505, \\\"job\\\": \\\"Dialogue Editor\\\", \\\"name\\\": \\\"Ted Caplan\\\"}, {\\\"credit_id\\\": \\\"5990439d925141675902ac1b\\\", \\\"department\\\": \\\"Art\\\", \\\"gender\\\": 0, \\\"id\\\": 1377216, \\\"job\\\": \\\"Art Department Coordinator\\\", \\\"name\\\": \\\"Gerald Lehtola\\\"}, {\\\"credit_id\\\": \\\"599045fb925141675f02b16c\\\", \\\"department\\\": \\\"Art\\\", \\\"gender\\\": 0, \\\"id\\\": 1378165, \\\"job\\\": \\\"Property Master\\\", \\\"name\\\": \\\"Mark Wade\\\"}, {\\\"credit_id\\\": \\\"58dd0fd0c3a368228a00abfb\\\", \\\"department\\\": \\\"Art\\\", \\\"gender\\\": 1, \\\"id\\\": 1378749, \\\"job\\\": \\\"Set Designer\\\", \\\"name\\\": \\\"Patricia Klawonn\\\"}, {\\\"credit_id\\\": \\\"58dd1023c3a368227300c025\\\", \\\"department\\\": \\\"Art\\\", \\\"gender\\\": 0, \\\"id\\\": 1389585, \\\"job\\\": \\\"Set Designer\\\", \\\"name\\\": \\\"Bill Taliaferro\\\"}, {\\\"credit_id\\\": \\\"59904785c3a3687493029126\\\", \\\"department\\\": \\\"Sound\\\", \\\"gender\\\": 0, \\\"id\\\": 1390527, \\\"job\\\": \\\"Sound Effects Editor\\\", \\\"name\\\": \\\"Dave Kulczycki\\\"}, {\\\"credit_id\\\": \\\"59905010925141675f02bd38\\\", \\\"department\\\": \\\"Costume & Make-Up\\\", \\\"gender\\\": 0, \\\"id\\\": 1399322, \\\"job\\\": \\\"Set Costumer\\\", \\\"name\\\": \\\"Elizabeth Frank\\\"}, {\\\"credit_id\\\": \\\"59904d81925141670b02cf99\\\", \\\"department\\\": \\\"Camera\\\", \\\"gender\\\": 2, \\\"id\\\": 1400374, \\\"job\\\": \\\"Camera Operator\\\", \\\"name\\\": \\\"Casey Hotchkiss\\\"}, {\\\"credit_id\\\": \\\"599046d2c3a3687493029074\\\", \\\"department\\\": \\\"Sound\\\", \\\"gender\\\": 0, \\\"id\\\": 1404841, \\\"job\\\": \\\"ADR Editor\\\", \\\"name\\\": \\\"Zack Davis\\\"}, {\\\"credit_id\\\": \\\"59904214c3a368746102979f\\\", \\\"department\\\": \\\"Costume & Make-Up\\\", \\\"gender\\\": 0, \\\"id\\\": 1408278, \\\"job\\\": \\\"Hair Department Head\\\", \\\"name\\\": \\\"Erma Kent\\\"}, {\\\"credit_id\\\": \\\"599048b2925141670b02c97f\\\", \\\"department\\\": \\\"Sound\\\", \\\"gender\\\": 0, \\\"id\\\": 1416153, \\\"job\\\": \\\"Supervising Sound Editor\\\", \\\"name\\\": \\\"Donald Sylvester\\\"}, {\\\"credit_id\\\": \\\"59904ad6c3a36874b402a1cc\\\", \\\"department\\\": \\\"Visual Effects\\\", \\\"gender\\\": 0, \\\"id\\\": 1416167, \\\"job\\\": \\\"Visual Effects Producer\\\", \\\"name\\\": \\\"John Kilkenny\\\"}, {\\\"credit_id\\\": \\\"56ae7d849251416357002915\\\", \\\"department\\\": \\\"Costume & Make-Up\\\", \\\"gender\\\": 1, \\\"id\\\": 1424894, \\\"job\\\": \\\"Hairstylist\\\", \\\"name\\\": \\\"Camille Friend\\\"}, {\\\"credit_id\\\": \\\"599047ab925141674c02b48e\\\", \\\"department\\\": \\\"Sound\\\", \\\"gender\\\": 0, \\\"id\\\": 1425343, \\\"job\\\": \\\"ADR Editor\\\", \\\"name\\\": \\\"Vanessa Lapato\\\"}, {\\\"credit_id\\\": \\\"59904951925141673902ae4e\\\", \\\"department\\\": \\\"Crew\\\", \\\"gender\\\": 0, \\\"id\\\": 1442509, \\\"job\\\": \\\"Special Effects Coordinator\\\", \\\"name\\\": \\\"Alan E. Lorimer\\\"}, {\\\"credit_id\\\": \\\"59904427925141675902acc6\\\", \\\"department\\\": \\\"Art\\\", \\\"gender\\\": 0, \\\"id\\\": 1451398, \\\"job\\\": \\\"Greensman\\\", \\\"name\\\": \\\"Bryan McBrien\\\"}, {\\\"credit_id\\\": \\\"59904629c3a368744202b2d6\\\", \\\"department\\\": \\\"Art\\\", \\\"gender\\\": 0, \\\"id\\\": 1453276, \\\"job\\\": \\\"Construction Coordinator\\\", \\\"name\\\": \\\"Butch West\\\"}, {\\\"credit_id\\\": \\\"599034bcc3a3687493027d17\\\", \\\"department\\\": \\\"Crew\\\", \\\"gender\\\": 2, \\\"id\\\": 1454647, \\\"job\\\": \\\"Creator\\\", \\\"name\\\": \\\"Hugh Lofting\\\"}, {\\\"credit_id\\\": \\\"58dd11f1c3a36822ae00bc75\\\", \\\"department\\\": \\\"Directing\\\", \\\"gender\\\": 1, \\\"id\\\": 1457729, \\\"job\\\": \\\"Script Supervisor\\\", \\\"name\\\": \\\"Nancy Karlin\\\"}, {\\\"credit_id\\\": \\\"59904a8d925141675f02b6d8\\\", \\\"department\\\": \\\"Visual Effects\\\", \\\"gender\\\": 0, \\\"id\\\": 1496418, \\\"job\\\": \\\"Visual Effects Coordinator\\\", \\\"name\\\": \\\"Mitchell Ferm\\\"}, {\\\"credit_id\\\": \\\"599050e6925141674c02beef\\\", \\\"department\\\": \\\"Sound\\\", \\\"gender\\\": 2, \\\"id\\\": 1550058, \\\"job\\\": \\\"Music Editor\\\", \\\"name\\\": \\\"Jim Harrison\\\"}, {\\\"credit_id\\\": \\\"58dd11b0c3a368223e00b7db\\\", \\\"department\\\": \\\"Art\\\", \\\"gender\\\": 0, \\\"id\\\": 1585159, \\\"job\\\": \\\"Location Scout\\\", \\\"name\\\": \\\"Jasan Sherman\\\"}, {\\\"credit_id\\\": \\\"5990453a925141673902a8ec\\\", \\\"department\\\": \\\"Art\\\", \\\"gender\\\": 0, \\\"id\\\": 1586888, \\\"job\\\": \\\"Sculptor\\\", \\\"name\\\": \\\"Thomas Meikle\\\"}, {\\\"credit_id\\\": \\\"5990506dc3a368747302c6e3\\\", \\\"department\\\": \\\"Sound\\\", \\\"gender\\\": 0, \\\"id\\\": 1587383, \\\"job\\\": \\\"Music Supervisor\\\", \\\"name\\\": \\\"Spring Aspers\\\"}, {\\\"credit_id\\\": \\\"59904fbb925141672302c9ed\\\", \\\"department\\\": \\\"Costume & Make-Up\\\", \\\"gender\\\": 0, \\\"id\\\": 1610228, \\\"job\\\": \\\"Key Costumer\\\", \\\"name\\\": \\\"Craig Anthony\\\"}, {\\\"credit_id\\\": \\\"599047e3925141674c02b4cf\\\", \\\"department\\\": \\\"Sound\\\", \\\"gender\\\": 2, \\\"id\\\": 1737829, \\\"job\\\": \\\"Boom Operator\\\", \\\"name\\\": \\\"Harrison D. Marsh\\\"}, {\\\"credit_id\\\": \\\"58dd10b2c3a368228300b588\\\", \\\"department\\\": \\\"Production\\\", \\\"gender\\\": 1, \\\"id\\\": 1763970, \\\"job\\\": \\\"Casting Assistant\\\", \\\"name\\\": \\\"Nadia Lubbe Simon\\\"}, {\\\"credit_id\\\": \\\"58dd1052925141413c00beac\\\", \\\"department\\\": \\\"Production\\\", \\\"gender\\\": 1, \\\"id\\\": 1786614, \\\"job\\\": \\\"Casting Associate\\\", \\\"name\\\": \\\"Diana Jaher\\\"}, {\\\"credit_id\\\": \\\"58dd11d5c3a368229d00b6a0\\\", \\\"department\\\": \\\"Production\\\", \\\"gender\\\": 0, \\\"id\\\": 1786616, \\\"job\\\": \\\"Location Manager\\\", \\\"name\\\": \\\"Craig W. van Gundy\\\"}, {\\\"credit_id\\\": \\\"58dd1254c3a368227300c1e6\\\", \\\"department\\\": \\\"Production\\\", \\\"gender\\\": 1, \\\"id\\\": 1786618, \\\"job\\\": \\\"Production Coordinator\\\", \\\"name\\\": \\\"Kris Fullan Martinez\\\"}, {\\\"credit_id\\\": \\\"599042f4c3a368744202aefa\\\", \\\"department\\\": \\\"Art\\\", \\\"gender\\\": 0, \\\"id\\\": 1868861, \\\"job\\\": \\\"Painter\\\", \\\"name\\\": \\\"Joe A. Hawthorne\\\"}, {\\\"credit_id\\\": \\\"5990448e925141675f02afa7\\\", \\\"department\\\": \\\"Crew\\\", \\\"gender\\\": 0, \\\"id\\\": 1868865, \\\"job\\\": \\\"Propmaker\\\", \\\"name\\\": \\\"Robert McDonald\\\"}, {\\\"credit_id\\\": \\\"59904571925141670b02c572\\\", \\\"department\\\": \\\"Crew\\\", \\\"gender\\\": 0, \\\"id\\\": 1868867, \\\"job\\\": \\\"Propmaker\\\", \\\"name\\\": \\\"Robert Prchal\\\"}, {\\\"credit_id\\\": \\\"599045da925141673902a9d7\\\", \\\"department\\\": \\\"Crew\\\", \\\"gender\\\": 0, \\\"id\\\": 1868868, \\\"job\\\": \\\"Propmaker\\\", \\\"name\\\": \\\"Hal Schlax\\\"}, {\\\"credit_id\\\": \\\"59904c34925141675f02b8bc\\\", \\\"department\\\": \\\"Crew\\\", \\\"gender\\\": 2, \\\"id\\\": 1868877, \\\"job\\\": \\\"Stunt Coordinator\\\", \\\"name\\\": \\\"John Molo\\\"}, {\\\"credit_id\\\": \\\"59904cac925141673e02d7a8\\\", \\\"department\\\": \\\"Camera\\\", \\\"gender\\\": 0, \\\"id\\\": 1868878, \\\"job\\\": \\\"Camera Operator\\\", \\\"name\\\": \\\"Todd Dos Reis\\\"}, {\\\"credit_id\\\": \\\"59904d04925141676602ba9a\\\", \\\"department\\\": \\\"Camera\\\", \\\"gender\\\": 0, \\\"id\\\": 1868879, \\\"job\\\": \\\"Dolly Grip\\\", \\\"name\\\": \\\"Jason D. Hodges\\\"}, {\\\"credit_id\\\": \\\"59904d3bc3a36874b402a4b0\\\", \\\"department\\\": \\\"Camera\\\", \\\"gender\\\": 0, \\\"id\\\": 1868880, \\\"job\\\": \\\"Key Grip\\\", \\\"name\\\": \\\"Mike Hodges\\\"}, {\\\"credit_id\\\": \\\"59904df0925141672302c7da\\\", \\\"department\\\": \\\"Lighting\\\", \\\"gender\\\": 0, \\\"id\\\": 1868881, \\\"job\\\": \\\"Gaffer\\\", \\\"name\\\": \\\"Kal Manning\\\"}, {\\\"credit_id\\\": \\\"59904ede925141675f02bbe6\\\", \\\"department\\\": \\\"Camera\\\", \\\"gender\\\": 0, \\\"id\\\": 1868889, \\\"job\\\": \\\"Dolly Grip\\\", \\\"name\\\": \\\"Larry McCarron\\\"}, {\\\"credit_id\\\": \\\"59905109925141673e02dcde\\\", \\\"department\\\": \\\"Sound\\\", \\\"gender\\\": 0, \\\"id\\\": 1868892, \\\"job\\\": \\\"Music Editor\\\", \\\"name\\\": \\\"Kim Strand\\\"}]\",\n          \"[{\\\"credit_id\\\": \\\"535c348b0e0a264fe1001e9f\\\", \\\"department\\\": \\\"Directing\\\", \\\"gender\\\": 0, \\\"id\\\": 1314011, \\\"job\\\": \\\"Director\\\", \\\"name\\\": \\\"Nathan Smith Jones\\\"}]\"\n        ],\n        \"semantic_type\": \"\",\n        \"description\": \"\"\n      }\n    }\n  ]\n}",
              "type": "dataframe",
              "variable_name": "movies"
            },
            "text/html": [
              "\n",
              "  <div id=\"df-4a218657-6baf-418c-a374-aad4c005000f\" class=\"colab-df-container\">\n",
              "    <div>\n",
              "<style scoped>\n",
              "    .dataframe tbody tr th:only-of-type {\n",
              "        vertical-align: middle;\n",
              "    }\n",
              "\n",
              "    .dataframe tbody tr th {\n",
              "        vertical-align: top;\n",
              "    }\n",
              "\n",
              "    .dataframe thead th {\n",
              "        text-align: right;\n",
              "    }\n",
              "</style>\n",
              "<table border=\"1\" class=\"dataframe\">\n",
              "  <thead>\n",
              "    <tr style=\"text-align: right;\">\n",
              "      <th></th>\n",
              "      <th>id</th>\n",
              "      <th>title</th>\n",
              "      <th>overview</th>\n",
              "      <th>keywords</th>\n",
              "      <th>genres</th>\n",
              "      <th>cast</th>\n",
              "      <th>crew</th>\n",
              "    </tr>\n",
              "  </thead>\n",
              "  <tbody>\n",
              "    <tr>\n",
              "      <th>0</th>\n",
              "      <td>19995</td>\n",
              "      <td>Avatar</td>\n",
              "      <td>In the 22nd century, a paraplegic Marine is di...</td>\n",
              "      <td>[culture clash, future, space war, space colon...</td>\n",
              "      <td>[Action, Adventure, Fantasy, Science Fiction]</td>\n",
              "      <td>[Sam Worthington, Zoe Saldana, Sigourney Weaver]</td>\n",
              "      <td>[{\"credit_id\": \"52fe48009251416c750aca23\", \"de...</td>\n",
              "    </tr>\n",
              "    <tr>\n",
              "      <th>1</th>\n",
              "      <td>285</td>\n",
              "      <td>Pirates of the Caribbean: At World's End</td>\n",
              "      <td>Captain Barbossa, long believed to be dead, ha...</td>\n",
              "      <td>[ocean, drug abuse, exotic island, east india ...</td>\n",
              "      <td>[Adventure, Fantasy, Action]</td>\n",
              "      <td>[Johnny Depp, Orlando Bloom, Keira Knightley]</td>\n",
              "      <td>[{\"credit_id\": \"52fe4232c3a36847f800b579\", \"de...</td>\n",
              "    </tr>\n",
              "    <tr>\n",
              "      <th>2</th>\n",
              "      <td>206647</td>\n",
              "      <td>Spectre</td>\n",
              "      <td>A cryptic message from Bond’s past sends him o...</td>\n",
              "      <td>[spy, based on novel, secret agent, sequel, mi...</td>\n",
              "      <td>[Action, Adventure, Crime]</td>\n",
              "      <td>[Daniel Craig, Christoph Waltz, Léa Seydoux]</td>\n",
              "      <td>[{\"credit_id\": \"54805967c3a36829b5002c41\", \"de...</td>\n",
              "    </tr>\n",
              "  </tbody>\n",
              "</table>\n",
              "</div>\n",
              "    <div class=\"colab-df-buttons\">\n",
              "\n",
              "  <div class=\"colab-df-container\">\n",
              "    <button class=\"colab-df-convert\" onclick=\"convertToInteractive('df-4a218657-6baf-418c-a374-aad4c005000f')\"\n",
              "            title=\"Convert this dataframe to an interactive table.\"\n",
              "            style=\"display:none;\">\n",
              "\n",
              "  <svg xmlns=\"http://www.w3.org/2000/svg\" height=\"24px\" viewBox=\"0 -960 960 960\">\n",
              "    <path d=\"M120-120v-720h720v720H120Zm60-500h600v-160H180v160Zm220 220h160v-160H400v160Zm0 220h160v-160H400v160ZM180-400h160v-160H180v160Zm440 0h160v-160H620v160ZM180-180h160v-160H180v160Zm440 0h160v-160H620v160Z\"/>\n",
              "  </svg>\n",
              "    </button>\n",
              "\n",
              "  <style>\n",
              "    .colab-df-container {\n",
              "      display:flex;\n",
              "      gap: 12px;\n",
              "    }\n",
              "\n",
              "    .colab-df-convert {\n",
              "      background-color: #E8F0FE;\n",
              "      border: none;\n",
              "      border-radius: 50%;\n",
              "      cursor: pointer;\n",
              "      display: none;\n",
              "      fill: #1967D2;\n",
              "      height: 32px;\n",
              "      padding: 0 0 0 0;\n",
              "      width: 32px;\n",
              "    }\n",
              "\n",
              "    .colab-df-convert:hover {\n",
              "      background-color: #E2EBFA;\n",
              "      box-shadow: 0px 1px 2px rgba(60, 64, 67, 0.3), 0px 1px 3px 1px rgba(60, 64, 67, 0.15);\n",
              "      fill: #174EA6;\n",
              "    }\n",
              "\n",
              "    .colab-df-buttons div {\n",
              "      margin-bottom: 4px;\n",
              "    }\n",
              "\n",
              "    [theme=dark] .colab-df-convert {\n",
              "      background-color: #3B4455;\n",
              "      fill: #D2E3FC;\n",
              "    }\n",
              "\n",
              "    [theme=dark] .colab-df-convert:hover {\n",
              "      background-color: #434B5C;\n",
              "      box-shadow: 0px 1px 3px 1px rgba(0, 0, 0, 0.15);\n",
              "      filter: drop-shadow(0px 1px 2px rgba(0, 0, 0, 0.3));\n",
              "      fill: #FFFFFF;\n",
              "    }\n",
              "  </style>\n",
              "\n",
              "    <script>\n",
              "      const buttonEl =\n",
              "        document.querySelector('#df-4a218657-6baf-418c-a374-aad4c005000f button.colab-df-convert');\n",
              "      buttonEl.style.display =\n",
              "        google.colab.kernel.accessAllowed ? 'block' : 'none';\n",
              "\n",
              "      async function convertToInteractive(key) {\n",
              "        const element = document.querySelector('#df-4a218657-6baf-418c-a374-aad4c005000f');\n",
              "        const dataTable =\n",
              "          await google.colab.kernel.invokeFunction('convertToInteractive',\n",
              "                                                    [key], {});\n",
              "        if (!dataTable) return;\n",
              "\n",
              "        const docLinkHtml = 'Like what you see? Visit the ' +\n",
              "          '<a target=\"_blank\" href=https://colab.research.google.com/notebooks/data_table.ipynb>data table notebook</a>'\n",
              "          + ' to learn more about interactive tables.';\n",
              "        element.innerHTML = '';\n",
              "        dataTable['output_type'] = 'display_data';\n",
              "        await google.colab.output.renderOutput(dataTable, element);\n",
              "        const docLink = document.createElement('div');\n",
              "        docLink.innerHTML = docLinkHtml;\n",
              "        element.appendChild(docLink);\n",
              "      }\n",
              "    </script>\n",
              "  </div>\n",
              "\n",
              "\n",
              "    <div id=\"df-ed9010b3-2894-40c0-af55-3827215b61e4\">\n",
              "      <button class=\"colab-df-quickchart\" onclick=\"quickchart('df-ed9010b3-2894-40c0-af55-3827215b61e4')\"\n",
              "                title=\"Suggest charts\"\n",
              "                style=\"display:none;\">\n",
              "\n",
              "<svg xmlns=\"http://www.w3.org/2000/svg\" height=\"24px\"viewBox=\"0 0 24 24\"\n",
              "     width=\"24px\">\n",
              "    <g>\n",
              "        <path d=\"M19 3H5c-1.1 0-2 .9-2 2v14c0 1.1.9 2 2 2h14c1.1 0 2-.9 2-2V5c0-1.1-.9-2-2-2zM9 17H7v-7h2v7zm4 0h-2V7h2v10zm4 0h-2v-4h2v4z\"/>\n",
              "    </g>\n",
              "</svg>\n",
              "      </button>\n",
              "\n",
              "<style>\n",
              "  .colab-df-quickchart {\n",
              "      --bg-color: #E8F0FE;\n",
              "      --fill-color: #1967D2;\n",
              "      --hover-bg-color: #E2EBFA;\n",
              "      --hover-fill-color: #174EA6;\n",
              "      --disabled-fill-color: #AAA;\n",
              "      --disabled-bg-color: #DDD;\n",
              "  }\n",
              "\n",
              "  [theme=dark] .colab-df-quickchart {\n",
              "      --bg-color: #3B4455;\n",
              "      --fill-color: #D2E3FC;\n",
              "      --hover-bg-color: #434B5C;\n",
              "      --hover-fill-color: #FFFFFF;\n",
              "      --disabled-bg-color: #3B4455;\n",
              "      --disabled-fill-color: #666;\n",
              "  }\n",
              "\n",
              "  .colab-df-quickchart {\n",
              "    background-color: var(--bg-color);\n",
              "    border: none;\n",
              "    border-radius: 50%;\n",
              "    cursor: pointer;\n",
              "    display: none;\n",
              "    fill: var(--fill-color);\n",
              "    height: 32px;\n",
              "    padding: 0;\n",
              "    width: 32px;\n",
              "  }\n",
              "\n",
              "  .colab-df-quickchart:hover {\n",
              "    background-color: var(--hover-bg-color);\n",
              "    box-shadow: 0 1px 2px rgba(60, 64, 67, 0.3), 0 1px 3px 1px rgba(60, 64, 67, 0.15);\n",
              "    fill: var(--button-hover-fill-color);\n",
              "  }\n",
              "\n",
              "  .colab-df-quickchart-complete:disabled,\n",
              "  .colab-df-quickchart-complete:disabled:hover {\n",
              "    background-color: var(--disabled-bg-color);\n",
              "    fill: var(--disabled-fill-color);\n",
              "    box-shadow: none;\n",
              "  }\n",
              "\n",
              "  .colab-df-spinner {\n",
              "    border: 2px solid var(--fill-color);\n",
              "    border-color: transparent;\n",
              "    border-bottom-color: var(--fill-color);\n",
              "    animation:\n",
              "      spin 1s steps(1) infinite;\n",
              "  }\n",
              "\n",
              "  @keyframes spin {\n",
              "    0% {\n",
              "      border-color: transparent;\n",
              "      border-bottom-color: var(--fill-color);\n",
              "      border-left-color: var(--fill-color);\n",
              "    }\n",
              "    20% {\n",
              "      border-color: transparent;\n",
              "      border-left-color: var(--fill-color);\n",
              "      border-top-color: var(--fill-color);\n",
              "    }\n",
              "    30% {\n",
              "      border-color: transparent;\n",
              "      border-left-color: var(--fill-color);\n",
              "      border-top-color: var(--fill-color);\n",
              "      border-right-color: var(--fill-color);\n",
              "    }\n",
              "    40% {\n",
              "      border-color: transparent;\n",
              "      border-right-color: var(--fill-color);\n",
              "      border-top-color: var(--fill-color);\n",
              "    }\n",
              "    60% {\n",
              "      border-color: transparent;\n",
              "      border-right-color: var(--fill-color);\n",
              "    }\n",
              "    80% {\n",
              "      border-color: transparent;\n",
              "      border-right-color: var(--fill-color);\n",
              "      border-bottom-color: var(--fill-color);\n",
              "    }\n",
              "    90% {\n",
              "      border-color: transparent;\n",
              "      border-bottom-color: var(--fill-color);\n",
              "    }\n",
              "  }\n",
              "</style>\n",
              "\n",
              "      <script>\n",
              "        async function quickchart(key) {\n",
              "          const quickchartButtonEl =\n",
              "            document.querySelector('#' + key + ' button');\n",
              "          quickchartButtonEl.disabled = true;  // To prevent multiple clicks.\n",
              "          quickchartButtonEl.classList.add('colab-df-spinner');\n",
              "          try {\n",
              "            const charts = await google.colab.kernel.invokeFunction(\n",
              "                'suggestCharts', [key], {});\n",
              "          } catch (error) {\n",
              "            console.error('Error during call to suggestCharts:', error);\n",
              "          }\n",
              "          quickchartButtonEl.classList.remove('colab-df-spinner');\n",
              "          quickchartButtonEl.classList.add('colab-df-quickchart-complete');\n",
              "        }\n",
              "        (() => {\n",
              "          let quickchartButtonEl =\n",
              "            document.querySelector('#df-ed9010b3-2894-40c0-af55-3827215b61e4 button');\n",
              "          quickchartButtonEl.style.display =\n",
              "            google.colab.kernel.accessAllowed ? 'block' : 'none';\n",
              "        })();\n",
              "      </script>\n",
              "    </div>\n",
              "\n",
              "    </div>\n",
              "  </div>\n"
            ],
            "text/plain": [
              "       id                                     title  \\\n",
              "0   19995                                    Avatar   \n",
              "1     285  Pirates of the Caribbean: At World's End   \n",
              "2  206647                                   Spectre   \n",
              "\n",
              "                                            overview  \\\n",
              "0  In the 22nd century, a paraplegic Marine is di...   \n",
              "1  Captain Barbossa, long believed to be dead, ha...   \n",
              "2  A cryptic message from Bond’s past sends him o...   \n",
              "\n",
              "                                            keywords  \\\n",
              "0  [culture clash, future, space war, space colon...   \n",
              "1  [ocean, drug abuse, exotic island, east india ...   \n",
              "2  [spy, based on novel, secret agent, sequel, mi...   \n",
              "\n",
              "                                          genres  \\\n",
              "0  [Action, Adventure, Fantasy, Science Fiction]   \n",
              "1                   [Adventure, Fantasy, Action]   \n",
              "2                     [Action, Adventure, Crime]   \n",
              "\n",
              "                                               cast  \\\n",
              "0  [Sam Worthington, Zoe Saldana, Sigourney Weaver]   \n",
              "1     [Johnny Depp, Orlando Bloom, Keira Knightley]   \n",
              "2      [Daniel Craig, Christoph Waltz, Léa Seydoux]   \n",
              "\n",
              "                                                crew  \n",
              "0  [{\"credit_id\": \"52fe48009251416c750aca23\", \"de...  \n",
              "1  [{\"credit_id\": \"52fe4232c3a36847f800b579\", \"de...  \n",
              "2  [{\"credit_id\": \"54805967c3a36829b5002c41\", \"de...  "
            ]
          },
          "execution_count": 110,
          "metadata": {},
          "output_type": "execute_result"
        }
      ],
      "source": [
        "movies.head(3)"
      ]
    },
    {
      "cell_type": "code",
      "execution_count": null,
      "metadata": {
        "id": "KE7SayT8QaZ5"
      },
      "outputs": [],
      "source": [
        "#for crew"
      ]
    },
    {
      "cell_type": "code",
      "execution_count": null,
      "metadata": {
        "colab": {
          "base_uri": "https://localhost:8080/",
          "height": 218
        },
        "id": "M1W9PbTnQcOS",
        "outputId": "cb552f64-1b9c-400d-d161-a218bfd40374"
      },
      "outputs": [
        {
          "data": {
            "application/vnd.google.colaboratory.intrinsic+json": {
              "type": "string"
            },
            "text/plain": [
              "'[{\"credit_id\": \"52fe48009251416c750aca23\", \"department\": \"Editing\", \"gender\": 0, \"id\": 1721, \"job\": \"Editor\", \"name\": \"Stephen E. Rivkin\"}, {\"credit_id\": \"539c47ecc3a36810e3001f87\", \"department\": \"Art\", \"gender\": 2, \"id\": 496, \"job\": \"Production Design\", \"name\": \"Rick Carter\"}, {\"credit_id\": \"54491c89c3a3680fb4001cf7\", \"department\": \"Sound\", \"gender\": 0, \"id\": 900, \"job\": \"Sound Designer\", \"name\": \"Christopher Boyes\"}, {\"credit_id\": \"54491cb70e0a267480001bd0\", \"department\": \"Sound\", \"gender\": 0, \"id\": 900, \"job\": \"Supervising Sound Editor\", \"name\": \"Christopher Boyes\"}, {\"credit_id\": \"539c4a4cc3a36810c9002101\", \"department\": \"Production\", \"gender\": 1, \"id\": 1262, \"job\": \"Casting\", \"name\": \"Mali Finn\"}, {\"credit_id\": \"5544ee3b925141499f0008fc\", \"department\": \"Sound\", \"gender\": 2, \"id\": 1729, \"job\": \"Original Music Composer\", \"name\": \"James Horner\"}, {\"credit_id\": \"52fe48009251416c750ac9c3\", \"department\": \"Directing\", \"gender\": 2, \"id\": 2710, \"job\": \"Director\", \"name\": \"James Cameron\"}, {\"credit_id\": \"52fe48009251416c750ac9d9\", \"department\": \"Writing\", \"gender\": 2, \"id\": 2710, \"job\": \"Writer\", \"name\": \"James Cameron\"}, {\"credit_id\": \"52fe48009251416c750aca17\", \"department\": \"Editing\", \"gender\": 2, \"id\": 2710, \"job\": \"Editor\", \"name\": \"James Cameron\"}, {\"credit_id\": \"52fe48009251416c750aca29\", \"department\": \"Production\", \"gender\": 2, \"id\": 2710, \"job\": \"Producer\", \"name\": \"James Cameron\"}, {\"credit_id\": \"52fe48009251416c750aca3f\", \"department\": \"Writing\", \"gender\": 2, \"id\": 2710, \"job\": \"Screenplay\", \"name\": \"James Cameron\"}, {\"credit_id\": \"539c4987c3a36810ba0021a4\", \"department\": \"Art\", \"gender\": 2, \"id\": 7236, \"job\": \"Art Direction\", \"name\": \"Andrew Menzies\"}, {\"credit_id\": \"549598c3c3a3686ae9004383\", \"department\": \"Visual Effects\", \"gender\": 0, \"id\": 6690, \"job\": \"Visual Effects Producer\", \"name\": \"Jill Brooks\"}, {\"credit_id\": \"52fe48009251416c750aca4b\", \"department\": \"Production\", \"gender\": 1, \"id\": 6347, \"job\": \"Casting\", \"name\": \"Margery Simkin\"}, {\"credit_id\": \"570b6f419251417da70032fe\", \"department\": \"Art\", \"gender\": 2, \"id\": 6878, \"job\": \"Supervising Art Director\", \"name\": \"Kevin Ishioka\"}, {\"credit_id\": \"5495a0fac3a3686ae9004468\", \"department\": \"Sound\", \"gender\": 0, \"id\": 6883, \"job\": \"Music Editor\", \"name\": \"Dick Bernstein\"}, {\"credit_id\": \"54959706c3a3686af3003e81\", \"department\": \"Sound\", \"gender\": 0, \"id\": 8159, \"job\": \"Sound Effects Editor\", \"name\": \"Shannon Mills\"}, {\"credit_id\": \"54491d58c3a3680fb1001ccb\", \"department\": \"Sound\", \"gender\": 0, \"id\": 8160, \"job\": \"Foley\", \"name\": \"Dennie Thorpe\"}, {\"credit_id\": \"54491d6cc3a3680fa5001b2c\", \"department\": \"Sound\", \"gender\": 0, \"id\": 8163, \"job\": \"Foley\", \"name\": \"Jana Vance\"}, {\"credit_id\": \"52fe48009251416c750aca57\", \"department\": \"Costume & Make-Up\", \"gender\": 1, \"id\": 8527, \"job\": \"Costume Design\", \"name\": \"Deborah Lynn Scott\"}, {\"credit_id\": \"52fe48009251416c750aca2f\", \"department\": \"Production\", \"gender\": 2, \"id\": 8529, \"job\": \"Producer\", \"name\": \"Jon Landau\"}, {\"credit_id\": \"539c4937c3a36810ba002194\", \"department\": \"Art\", \"gender\": 0, \"id\": 9618, \"job\": \"Art Direction\", \"name\": \"Sean Haworth\"}, {\"credit_id\": \"539c49b6c3a36810c10020e6\", \"department\": \"Art\", \"gender\": 1, \"id\": 12653, \"job\": \"Set Decoration\", \"name\": \"Kim Sinclair\"}, {\"credit_id\": \"570b6f2f9251413a0e00020d\", \"department\": \"Art\", \"gender\": 1, \"id\": 12653, \"job\": \"Supervising Art Director\", \"name\": \"Kim Sinclair\"}, {\"credit_id\": \"54491a6c0e0a26748c001b19\", \"department\": \"Art\", \"gender\": 2, \"id\": 14350, \"job\": \"Set Designer\", \"name\": \"Richard F. Mays\"}, {\"credit_id\": \"56928cf4c3a3684cff0025c4\", \"department\": \"Production\", \"gender\": 1, \"id\": 20294, \"job\": \"Executive Producer\", \"name\": \"Laeta Kalogridis\"}, {\"credit_id\": \"52fe48009251416c750aca51\", \"department\": \"Costume & Make-Up\", \"gender\": 0, \"id\": 17675, \"job\": \"Costume Design\", \"name\": \"Mayes C. Rubeo\"}, {\"credit_id\": \"52fe48009251416c750aca11\", \"department\": \"Camera\", \"gender\": 2, \"id\": 18265, \"job\": \"Director of Photography\", \"name\": \"Mauro Fiore\"}, {\"credit_id\": \"5449194d0e0a26748f001b39\", \"department\": \"Art\", \"gender\": 0, \"id\": 42281, \"job\": \"Set Designer\", \"name\": \"Scott Herbertson\"}, {\"credit_id\": \"52fe48009251416c750aca05\", \"department\": \"Crew\", \"gender\": 0, \"id\": 42288, \"job\": \"Stunts\", \"name\": \"Woody Schultz\"}, {\"credit_id\": \"5592aefb92514152de0010f5\", \"department\": \"Costume & Make-Up\", \"gender\": 0, \"id\": 29067, \"job\": \"Makeup Artist\", \"name\": \"Linda DeVetta\"}, {\"credit_id\": \"5592afa492514152de00112c\", \"department\": \"Costume & Make-Up\", \"gender\": 0, \"id\": 29067, \"job\": \"Hairstylist\", \"name\": \"Linda DeVetta\"}, {\"credit_id\": \"54959ed592514130fc002e5d\", \"department\": \"Camera\", \"gender\": 2, \"id\": 33302, \"job\": \"Camera Operator\", \"name\": \"Richard Bluck\"}, {\"credit_id\": \"539c4891c3a36810ba002147\", \"department\": \"Art\", \"gender\": 2, \"id\": 33303, \"job\": \"Art Direction\", \"name\": \"Simon Bright\"}, {\"credit_id\": \"54959c069251417a81001f3a\", \"department\": \"Visual Effects\", \"gender\": 0, \"id\": 113145, \"job\": \"Visual Effects Supervisor\", \"name\": \"Richard Martin\"}, {\"credit_id\": \"54959a0dc3a3680ff5002c8d\", \"department\": \"Crew\", \"gender\": 2, \"id\": 58188, \"job\": \"Visual Effects Editor\", \"name\": \"Steve R. Moore\"}, {\"credit_id\": \"52fe48009251416c750aca1d\", \"department\": \"Editing\", \"gender\": 2, \"id\": 58871, \"job\": \"Editor\", \"name\": \"John Refoua\"}, {\"credit_id\": \"54491a4dc3a3680fc30018ca\", \"department\": \"Art\", \"gender\": 0, \"id\": 92359, \"job\": \"Set Designer\", \"name\": \"Karl J. Martin\"}, {\"credit_id\": \"52fe48009251416c750aca35\", \"department\": \"Camera\", \"gender\": 1, \"id\": 72201, \"job\": \"Director of Photography\", \"name\": \"Chiling Lin\"}, {\"credit_id\": \"52fe48009251416c750ac9ff\", \"department\": \"Crew\", \"gender\": 0, \"id\": 89714, \"job\": \"Stunts\", \"name\": \"Ilram Choi\"}, {\"credit_id\": \"54959c529251416e2b004394\", \"department\": \"Visual Effects\", \"gender\": 2, \"id\": 93214, \"job\": \"Visual Effects Supervisor\", \"name\": \"Steven Quale\"}, {\"credit_id\": \"54491edf0e0a267489001c37\", \"department\": \"Crew\", \"gender\": 1, \"id\": 122607, \"job\": \"Dialect Coach\", \"name\": \"Carla Meyer\"}, {\"credit_id\": \"539c485bc3a368653d001a3a\", \"department\": \"Art\", \"gender\": 2, \"id\": 132585, \"job\": \"Art Direction\", \"name\": \"Nick Bassett\"}, {\"credit_id\": \"539c4903c3a368653d001a74\", \"department\": \"Art\", \"gender\": 0, \"id\": 132596, \"job\": \"Art Direction\", \"name\": \"Jill Cormack\"}, {\"credit_id\": \"539c4967c3a368653d001a94\", \"department\": \"Art\", \"gender\": 0, \"id\": 132604, \"job\": \"Art Direction\", \"name\": \"Andy McLaren\"}, {\"credit_id\": \"52fe48009251416c750aca45\", \"department\": \"Crew\", \"gender\": 0, \"id\": 236696, \"job\": \"Motion Capture Artist\", \"name\": \"Terry Notary\"}, {\"credit_id\": \"54959e02c3a3680fc60027d2\", \"department\": \"Crew\", \"gender\": 2, \"id\": 956198, \"job\": \"Stunt Coordinator\", \"name\": \"Garrett Warren\"}, {\"credit_id\": \"54959ca3c3a3686ae300438c\", \"department\": \"Visual Effects\", \"gender\": 2, \"id\": 957874, \"job\": \"Visual Effects Supervisor\", \"name\": \"Jonathan Rothbart\"}, {\"credit_id\": \"570b6f519251412c74001b2f\", \"department\": \"Art\", \"gender\": 0, \"id\": 957889, \"job\": \"Supervising Art Director\", \"name\": \"Stefan Dechant\"}, {\"credit_id\": \"570b6f62c3a3680b77007460\", \"department\": \"Art\", \"gender\": 2, \"id\": 959555, \"job\": \"Supervising Art Director\", \"name\": \"Todd Cherniawsky\"}, {\"credit_id\": \"539c4a3ac3a36810da0021cc\", \"department\": \"Production\", \"gender\": 0, \"id\": 1016177, \"job\": \"Casting\", \"name\": \"Miranda Rivers\"}, {\"credit_id\": \"539c482cc3a36810c1002062\", \"department\": \"Art\", \"gender\": 0, \"id\": 1032536, \"job\": \"Production Design\", \"name\": \"Robert Stromberg\"}, {\"credit_id\": \"539c4b65c3a36810c9002125\", \"department\": \"Costume & Make-Up\", \"gender\": 2, \"id\": 1071680, \"job\": \"Costume Design\", \"name\": \"John Harding\"}, {\"credit_id\": \"54959e6692514130fc002e4e\", \"department\": \"Camera\", \"gender\": 0, \"id\": 1177364, \"job\": \"Steadicam Operator\", \"name\": \"Roberto De Angelis\"}, {\"credit_id\": \"539c49f1c3a368653d001aac\", \"department\": \"Costume & Make-Up\", \"gender\": 2, \"id\": 1202850, \"job\": \"Makeup Department Head\", \"name\": \"Mike Smithson\"}, {\"credit_id\": \"5495999ec3a3686ae100460c\", \"department\": \"Visual Effects\", \"gender\": 0, \"id\": 1204668, \"job\": \"Visual Effects Producer\", \"name\": \"Alain Lalanne\"}, {\"credit_id\": \"54959cdfc3a3681153002729\", \"department\": \"Visual Effects\", \"gender\": 0, \"id\": 1206410, \"job\": \"Visual Effects Supervisor\", \"name\": \"Lucas Salton\"}, {\"credit_id\": \"549596239251417a81001eae\", \"department\": \"Crew\", \"gender\": 0, \"id\": 1234266, \"job\": \"Post Production Supervisor\", \"name\": \"Janace Tashjian\"}, {\"credit_id\": \"54959c859251416e1e003efe\", \"department\": \"Visual Effects\", \"gender\": 0, \"id\": 1271932, \"job\": \"Visual Effects Supervisor\", \"name\": \"Stephen Rosenbaum\"}, {\"credit_id\": \"5592af28c3a368775a00105f\", \"department\": \"Costume & Make-Up\", \"gender\": 0, \"id\": 1310064, \"job\": \"Makeup Artist\", \"name\": \"Frankie Karena\"}, {\"credit_id\": \"539c4adfc3a36810e300203b\", \"department\": \"Costume & Make-Up\", \"gender\": 1, \"id\": 1319844, \"job\": \"Costume Supervisor\", \"name\": \"Lisa Lovaas\"}, {\"credit_id\": \"54959b579251416e2b004371\", \"department\": \"Visual Effects\", \"gender\": 0, \"id\": 1327028, \"job\": \"Visual Effects Supervisor\", \"name\": \"Jonathan Fawkner\"}, {\"credit_id\": \"539c48a7c3a36810b5001fa7\", \"department\": \"Art\", \"gender\": 0, \"id\": 1330561, \"job\": \"Art Direction\", \"name\": \"Robert Bavin\"}, {\"credit_id\": \"539c4a71c3a36810da0021e0\", \"department\": \"Costume & Make-Up\", \"gender\": 0, \"id\": 1330567, \"job\": \"Costume Supervisor\", \"name\": \"Anthony Almaraz\"}, {\"credit_id\": \"539c4a8ac3a36810ba0021e4\", \"department\": \"Costume & Make-Up\", \"gender\": 0, \"id\": 1330570, \"job\": \"Costume Supervisor\", \"name\": \"Carolyn M. Fenton\"}, {\"credit_id\": \"539c4ab6c3a36810da0021f0\", \"department\": \"Costume & Make-Up\", \"gender\": 0, \"id\": 1330574, \"job\": \"Costume Supervisor\", \"name\": \"Beth Koenigsberg\"}, {\"credit_id\": \"54491ab70e0a267480001ba2\", \"department\": \"Art\", \"gender\": 0, \"id\": 1336191, \"job\": \"Set Designer\", \"name\": \"Sam Page\"}, {\"credit_id\": \"544919d9c3a3680fc30018bd\", \"department\": \"Art\", \"gender\": 0, \"id\": 1339441, \"job\": \"Set Designer\", \"name\": \"Tex Kadonaga\"}, {\"credit_id\": \"54491cf50e0a267483001b0c\", \"department\": \"Editing\", \"gender\": 0, \"id\": 1352422, \"job\": \"Dialogue Editor\", \"name\": \"Kim Foscato\"}, {\"credit_id\": \"544919f40e0a26748c001b09\", \"department\": \"Art\", \"gender\": 0, \"id\": 1352962, \"job\": \"Set Designer\", \"name\": \"Tammy S. Lee\"}, {\"credit_id\": \"5495a115c3a3680ff5002d71\", \"department\": \"Crew\", \"gender\": 0, \"id\": 1357070, \"job\": \"Transportation Coordinator\", \"name\": \"Denny Caira\"}, {\"credit_id\": \"5495a12f92514130fc002e94\", \"department\": \"Crew\", \"gender\": 0, \"id\": 1357071, \"job\": \"Transportation Coordinator\", \"name\": \"James Waitkus\"}, {\"credit_id\": \"5495976fc3a36811530026b0\", \"department\": \"Sound\", \"gender\": 0, \"id\": 1360103, \"job\": \"Supervising Sound Editor\", \"name\": \"Addison Teague\"}, {\"credit_id\": \"54491837c3a3680fb1001c5a\", \"department\": \"Art\", \"gender\": 2, \"id\": 1376887, \"job\": \"Set Designer\", \"name\": \"C. Scott Baker\"}, {\"credit_id\": \"54491878c3a3680fb4001c9d\", \"department\": \"Art\", \"gender\": 0, \"id\": 1376888, \"job\": \"Set Designer\", \"name\": \"Luke Caska\"}, {\"credit_id\": \"544918dac3a3680fa5001ae0\", \"department\": \"Art\", \"gender\": 0, \"id\": 1376889, \"job\": \"Set Designer\", \"name\": \"David Chow\"}, {\"credit_id\": \"544919110e0a267486001b68\", \"department\": \"Art\", \"gender\": 0, \"id\": 1376890, \"job\": \"Set Designer\", \"name\": \"Jonathan Dyer\"}, {\"credit_id\": \"54491967c3a3680faa001b5e\", \"department\": \"Art\", \"gender\": 0, \"id\": 1376891, \"job\": \"Set Designer\", \"name\": \"Joseph Hiura\"}, {\"credit_id\": \"54491997c3a3680fb1001c8a\", \"department\": \"Art\", \"gender\": 0, \"id\": 1376892, \"job\": \"Art Department Coordinator\", \"name\": \"Rebecca Jellie\"}, {\"credit_id\": \"544919ba0e0a26748f001b42\", \"department\": \"Art\", \"gender\": 0, \"id\": 1376893, \"job\": \"Set Designer\", \"name\": \"Robert Andrew Johnson\"}, {\"credit_id\": \"54491b1dc3a3680faa001b8c\", \"department\": \"Art\", \"gender\": 0, \"id\": 1376895, \"job\": \"Assistant Art Director\", \"name\": \"Mike Stassi\"}, {\"credit_id\": \"54491b79c3a3680fbb001826\", \"department\": \"Art\", \"gender\": 0, \"id\": 1376897, \"job\": \"Construction Coordinator\", \"name\": \"John Villarino\"}, {\"credit_id\": \"54491baec3a3680fb4001ce6\", \"department\": \"Art\", \"gender\": 2, \"id\": 1376898, \"job\": \"Assistant Art Director\", \"name\": \"Jeffrey Wisniewski\"}, {\"credit_id\": \"54491d2fc3a3680fb4001d07\", \"department\": \"Editing\", \"gender\": 0, \"id\": 1376899, \"job\": \"Dialogue Editor\", \"name\": \"Cheryl Nardi\"}, {\"credit_id\": \"54491d86c3a3680fa5001b2f\", \"department\": \"Editing\", \"gender\": 0, \"id\": 1376901, \"job\": \"Dialogue Editor\", \"name\": \"Marshall Winn\"}, {\"credit_id\": \"54491d9dc3a3680faa001bb0\", \"department\": \"Sound\", \"gender\": 0, \"id\": 1376902, \"job\": \"Supervising Sound Editor\", \"name\": \"Gwendolyn Yates Whittle\"}, {\"credit_id\": \"54491dc10e0a267486001bce\", \"department\": \"Sound\", \"gender\": 0, \"id\": 1376903, \"job\": \"Sound Re-Recording Mixer\", \"name\": \"William Stein\"}, {\"credit_id\": \"54491f500e0a26747c001c07\", \"department\": \"Crew\", \"gender\": 0, \"id\": 1376909, \"job\": \"Choreographer\", \"name\": \"Lula Washington\"}, {\"credit_id\": \"549599239251412c4e002a2e\", \"department\": \"Visual Effects\", \"gender\": 0, \"id\": 1391692, \"job\": \"Visual Effects Producer\", \"name\": \"Chris Del Conte\"}, {\"credit_id\": \"54959d54c3a36831b8001d9a\", \"department\": \"Visual Effects\", \"gender\": 2, \"id\": 1391695, \"job\": \"Visual Effects Supervisor\", \"name\": \"R. Christopher White\"}, {\"credit_id\": \"54959bdf9251412c4e002a66\", \"department\": \"Visual Effects\", \"gender\": 0, \"id\": 1394070, \"job\": \"Visual Effects Supervisor\", \"name\": \"Dan Lemmon\"}, {\"credit_id\": \"5495971d92514132ed002922\", \"department\": \"Sound\", \"gender\": 0, \"id\": 1394129, \"job\": \"Sound Effects Editor\", \"name\": \"Tim Nielsen\"}, {\"credit_id\": \"5592b25792514152cc0011aa\", \"department\": \"Crew\", \"gender\": 0, \"id\": 1394286, \"job\": \"CG Supervisor\", \"name\": \"Michael Mulholland\"}, {\"credit_id\": \"54959a329251416e2b004355\", \"department\": \"Crew\", \"gender\": 0, \"id\": 1394750, \"job\": \"Visual Effects Editor\", \"name\": \"Thomas Nittmann\"}, {\"credit_id\": \"54959d6dc3a3686ae9004401\", \"department\": \"Visual Effects\", \"gender\": 0, \"id\": 1394755, \"job\": \"Visual Effects Supervisor\", \"name\": \"Edson Williams\"}, {\"credit_id\": \"5495a08fc3a3686ae300441c\", \"department\": \"Editing\", \"gender\": 0, \"id\": 1394953, \"job\": \"Digital Intermediate\", \"name\": \"Christine Carr\"}, {\"credit_id\": \"55402d659251413d6d000249\", \"department\": \"Visual Effects\", \"gender\": 0, \"id\": 1395269, \"job\": \"Visual Effects Supervisor\", \"name\": \"John Bruno\"}, {\"credit_id\": \"54959e7b9251416e1e003f3e\", \"department\": \"Camera\", \"gender\": 0, \"id\": 1398970, \"job\": \"Steadicam Operator\", \"name\": \"David Emmerichs\"}, {\"credit_id\": \"54959734c3a3686ae10045e0\", \"department\": \"Sound\", \"gender\": 0, \"id\": 1400906, \"job\": \"Sound Effects Editor\", \"name\": \"Christopher Scarabosio\"}, {\"credit_id\": \"549595dd92514130fc002d79\", \"department\": \"Production\", \"gender\": 0, \"id\": 1401784, \"job\": \"Production Supervisor\", \"name\": \"Jennifer Teves\"}, {\"credit_id\": \"549596009251413af70028cc\", \"department\": \"Production\", \"gender\": 0, \"id\": 1401785, \"job\": \"Production Manager\", \"name\": \"Brigitte Yorke\"}, {\"credit_id\": \"549596e892514130fc002d99\", \"department\": \"Sound\", \"gender\": 0, \"id\": 1401786, \"job\": \"Sound Effects Editor\", \"name\": \"Ken Fischer\"}, {\"credit_id\": \"549598229251412c4e002a1c\", \"department\": \"Crew\", \"gender\": 0, \"id\": 1401787, \"job\": \"Special Effects Coordinator\", \"name\": \"Iain Hutton\"}, {\"credit_id\": \"549598349251416e2b00432b\", \"department\": \"Crew\", \"gender\": 0, \"id\": 1401788, \"job\": \"Special Effects Coordinator\", \"name\": \"Steve Ingram\"}, {\"credit_id\": \"54959905c3a3686ae3004324\", \"department\": \"Visual Effects\", \"gender\": 0, \"id\": 1401789, \"job\": \"Visual Effects Producer\", \"name\": \"Joyce Cox\"}, {\"credit_id\": \"5495994b92514132ed002951\", \"department\": \"Visual Effects\", \"gender\": 0, \"id\": 1401790, \"job\": \"Visual Effects Producer\", \"name\": \"Jenny Foster\"}, {\"credit_id\": \"549599cbc3a3686ae1004613\", \"department\": \"Crew\", \"gender\": 0, \"id\": 1401791, \"job\": \"Visual Effects Editor\", \"name\": \"Christopher Marino\"}, {\"credit_id\": \"549599f2c3a3686ae100461e\", \"department\": \"Crew\", \"gender\": 0, \"id\": 1401792, \"job\": \"Visual Effects Editor\", \"name\": \"Jim Milton\"}, {\"credit_id\": \"54959a51c3a3686af3003eb5\", \"department\": \"Visual Effects\", \"gender\": 0, \"id\": 1401793, \"job\": \"Visual Effects Producer\", \"name\": \"Cyndi Ochs\"}, {\"credit_id\": \"54959a7cc3a36811530026f4\", \"department\": \"Crew\", \"gender\": 0, \"id\": 1401794, \"job\": \"Visual Effects Editor\", \"name\": \"Lucas Putnam\"}, {\"credit_id\": \"54959b91c3a3680ff5002cb4\", \"department\": \"Visual Effects\", \"gender\": 0, \"id\": 1401795, \"job\": \"Visual Effects Supervisor\", \"name\": \"Anthony \\'Max\\' Ivins\"}, {\"credit_id\": \"54959bb69251412c4e002a5f\", \"department\": \"Visual Effects\", \"gender\": 0, \"id\": 1401796, \"job\": \"Visual Effects Supervisor\", \"name\": \"John Knoll\"}, {\"credit_id\": \"54959cbbc3a3686ae3004391\", \"department\": \"Visual Effects\", \"gender\": 2, \"id\": 1401799, \"job\": \"Visual Effects Supervisor\", \"name\": \"Eric Saindon\"}, {\"credit_id\": \"54959d06c3a3686ae90043f6\", \"department\": \"Visual Effects\", \"gender\": 0, \"id\": 1401800, \"job\": \"Visual Effects Supervisor\", \"name\": \"Wayne Stables\"}, {\"credit_id\": \"54959d259251416e1e003f11\", \"department\": \"Visual Effects\", \"gender\": 0, \"id\": 1401801, \"job\": \"Visual Effects Supervisor\", \"name\": \"David Stinnett\"}, {\"credit_id\": \"54959db49251413af7002975\", \"department\": \"Visual Effects\", \"gender\": 0, \"id\": 1401803, \"job\": \"Visual Effects Supervisor\", \"name\": \"Guy Williams\"}, {\"credit_id\": \"54959de4c3a3681153002750\", \"department\": \"Crew\", \"gender\": 0, \"id\": 1401804, \"job\": \"Stunt Coordinator\", \"name\": \"Stuart Thorp\"}, {\"credit_id\": \"54959ef2c3a3680fc60027f2\", \"department\": \"Lighting\", \"gender\": 0, \"id\": 1401805, \"job\": \"Best Boy Electric\", \"name\": \"Giles Coburn\"}, {\"credit_id\": \"54959f07c3a3680fc60027f9\", \"department\": \"Camera\", \"gender\": 2, \"id\": 1401806, \"job\": \"Still Photographer\", \"name\": \"Mark Fellman\"}, {\"credit_id\": \"54959f47c3a3681153002774\", \"department\": \"Lighting\", \"gender\": 0, \"id\": 1401807, \"job\": \"Lighting Technician\", \"name\": \"Scott Sprague\"}, {\"credit_id\": \"54959f8cc3a36831b8001df2\", \"department\": \"Visual Effects\", \"gender\": 0, \"id\": 1401808, \"job\": \"Animation Director\", \"name\": \"Jeremy Hollobon\"}, {\"credit_id\": \"54959fa0c3a36831b8001dfb\", \"department\": \"Visual Effects\", \"gender\": 0, \"id\": 1401809, \"job\": \"Animation Director\", \"name\": \"Orlando Meunier\"}, {\"credit_id\": \"54959fb6c3a3686af3003f54\", \"department\": \"Visual Effects\", \"gender\": 0, \"id\": 1401810, \"job\": \"Animation Director\", \"name\": \"Taisuke Tanimura\"}, {\"credit_id\": \"54959fd2c3a36831b8001e02\", \"department\": \"Costume & Make-Up\", \"gender\": 0, \"id\": 1401812, \"job\": \"Set Costumer\", \"name\": \"Lilia Mishel Acevedo\"}, {\"credit_id\": \"54959ff9c3a3686ae300440c\", \"department\": \"Costume & Make-Up\", \"gender\": 0, \"id\": 1401814, \"job\": \"Set Costumer\", \"name\": \"Alejandro M. Hernandez\"}, {\"credit_id\": \"5495a0ddc3a3686ae10046fe\", \"department\": \"Editing\", \"gender\": 0, \"id\": 1401815, \"job\": \"Digital Intermediate\", \"name\": \"Marvin Hall\"}, {\"credit_id\": \"5495a1f7c3a3686ae3004443\", \"department\": \"Production\", \"gender\": 0, \"id\": 1401816, \"job\": \"Publicist\", \"name\": \"Judy Alley\"}, {\"credit_id\": \"5592b29fc3a36869d100002f\", \"department\": \"Crew\", \"gender\": 0, \"id\": 1418381, \"job\": \"CG Supervisor\", \"name\": \"Mike Perry\"}, {\"credit_id\": \"5592b23a9251415df8001081\", \"department\": \"Crew\", \"gender\": 0, \"id\": 1426854, \"job\": \"CG Supervisor\", \"name\": \"Andrew Morley\"}, {\"credit_id\": \"55491e1192514104c40002d8\", \"department\": \"Art\", \"gender\": 0, \"id\": 1438901, \"job\": \"Conceptual Design\", \"name\": \"Seth Engstrom\"}, {\"credit_id\": \"5525d5809251417276002b06\", \"department\": \"Crew\", \"gender\": 0, \"id\": 1447362, \"job\": \"Visual Effects Art Director\", \"name\": \"Eric Oliver\"}, {\"credit_id\": \"554427ca925141586500312a\", \"department\": \"Visual Effects\", \"gender\": 0, \"id\": 1447503, \"job\": \"Modeling\", \"name\": \"Matsune Suzuki\"}, {\"credit_id\": \"551906889251415aab001c88\", \"department\": \"Art\", \"gender\": 0, \"id\": 1447524, \"job\": \"Art Department Manager\", \"name\": \"Paul Tobin\"}, {\"credit_id\": \"5592af8492514152cc0010de\", \"department\": \"Costume & Make-Up\", \"gender\": 0, \"id\": 1452643, \"job\": \"Hairstylist\", \"name\": \"Roxane Griffin\"}, {\"credit_id\": \"553d3c109251415852001318\", \"department\": \"Lighting\", \"gender\": 0, \"id\": 1453938, \"job\": \"Lighting Artist\", \"name\": \"Arun Ram-Mohan\"}, {\"credit_id\": \"5592af4692514152d5001355\", \"department\": \"Costume & Make-Up\", \"gender\": 0, \"id\": 1457305, \"job\": \"Makeup Artist\", \"name\": \"Georgia Lockhart-Adams\"}, {\"credit_id\": \"5592b2eac3a36877470012a5\", \"department\": \"Crew\", \"gender\": 0, \"id\": 1466035, \"job\": \"CG Supervisor\", \"name\": \"Thrain Shadbolt\"}, {\"credit_id\": \"5592b032c3a36877450015f1\", \"department\": \"Crew\", \"gender\": 0, \"id\": 1483220, \"job\": \"CG Supervisor\", \"name\": \"Brad Alexander\"}, {\"credit_id\": \"5592b05592514152d80012f6\", \"department\": \"Crew\", \"gender\": 0, \"id\": 1483221, \"job\": \"CG Supervisor\", \"name\": \"Shadi Almassizadeh\"}, {\"credit_id\": \"5592b090c3a36877570010b5\", \"department\": \"Crew\", \"gender\": 0, \"id\": 1483222, \"job\": \"CG Supervisor\", \"name\": \"Simon Clutterbuck\"}, {\"credit_id\": \"5592b0dbc3a368774b00112c\", \"department\": \"Crew\", \"gender\": 0, \"id\": 1483223, \"job\": \"CG Supervisor\", \"name\": \"Graeme Demmocks\"}, {\"credit_id\": \"5592b0fe92514152db0010c1\", \"department\": \"Crew\", \"gender\": 0, \"id\": 1483224, \"job\": \"CG Supervisor\", \"name\": \"Adrian Fernandes\"}, {\"credit_id\": \"5592b11f9251415df8001059\", \"department\": \"Crew\", \"gender\": 0, \"id\": 1483225, \"job\": \"CG Supervisor\", \"name\": \"Mitch Gates\"}, {\"credit_id\": \"5592b15dc3a3687745001645\", \"department\": \"Crew\", \"gender\": 0, \"id\": 1483226, \"job\": \"CG Supervisor\", \"name\": \"Jerry Kung\"}, {\"credit_id\": \"5592b18e925141645a0004ae\", \"department\": \"Crew\", \"gender\": 0, \"id\": 1483227, \"job\": \"CG Supervisor\", \"name\": \"Andy Lomas\"}, {\"credit_id\": \"5592b1bfc3a368775d0010e7\", \"department\": \"Crew\", \"gender\": 0, \"id\": 1483228, \"job\": \"CG Supervisor\", \"name\": \"Sebastian Marino\"}, {\"credit_id\": \"5592b2049251415df8001078\", \"department\": \"Crew\", \"gender\": 0, \"id\": 1483229, \"job\": \"CG Supervisor\", \"name\": \"Matthias Menz\"}, {\"credit_id\": \"5592b27b92514152d800136a\", \"department\": \"Crew\", \"gender\": 0, \"id\": 1483230, \"job\": \"CG Supervisor\", \"name\": \"Sergei Nevshupov\"}, {\"credit_id\": \"5592b2c3c3a36869e800003c\", \"department\": \"Crew\", \"gender\": 0, \"id\": 1483231, \"job\": \"CG Supervisor\", \"name\": \"Philippe Rebours\"}, {\"credit_id\": \"5592b317c3a36877470012af\", \"department\": \"Crew\", \"gender\": 0, \"id\": 1483232, \"job\": \"CG Supervisor\", \"name\": \"Michael Takarangi\"}, {\"credit_id\": \"5592b345c3a36877470012bb\", \"department\": \"Crew\", \"gender\": 0, \"id\": 1483233, \"job\": \"CG Supervisor\", \"name\": \"David Weitzberg\"}, {\"credit_id\": \"5592b37cc3a368775100113b\", \"department\": \"Crew\", \"gender\": 0, \"id\": 1483234, \"job\": \"CG Supervisor\", \"name\": \"Ben White\"}, {\"credit_id\": \"573c8e2f9251413f5d000094\", \"department\": \"Crew\", \"gender\": 1, \"id\": 1621932, \"job\": \"Stunts\", \"name\": \"Min Windle\"}]'"
            ]
          },
          "execution_count": 112,
          "metadata": {},
          "output_type": "execute_result"
        }
      ],
      "source": [
        "movies['crew'][0]"
      ]
    },
    {
      "cell_type": "code",
      "execution_count": null,
      "metadata": {
        "id": "nV5OsjujQewF"
      },
      "outputs": [],
      "source": [
        "#need name of director only [every moive have one director]"
      ]
    },
    {
      "cell_type": "code",
      "execution_count": null,
      "metadata": {
        "id": "eqGKSszMQifk"
      },
      "outputs": [],
      "source": [
        "def fetch_director(text):\n",
        "    L = []\n",
        "    for i in ast.literal_eval(text):\n",
        "        if i['job'] == 'Director':\n",
        "            L.append(i['name'])\n",
        "    return L"
      ]
    },
    {
      "cell_type": "code",
      "execution_count": null,
      "metadata": {
        "id": "p4bkmUYcRBnC"
      },
      "outputs": [],
      "source": [
        "movies['crew'] = movies['crew'].apply(fetch_director)"
      ]
    },
    {
      "cell_type": "code",
      "execution_count": null,
      "metadata": {
        "colab": {
          "base_uri": "https://localhost:8080/",
          "height": 303
        },
        "id": "KK_GpqYnRFRx",
        "outputId": "9821b421-a528-4d6c-dc17-b7923ba69bdf"
      },
      "outputs": [
        {
          "data": {
            "text/html": [
              "<div>\n",
              "<style scoped>\n",
              "    .dataframe tbody tr th:only-of-type {\n",
              "        vertical-align: middle;\n",
              "    }\n",
              "\n",
              "    .dataframe tbody tr th {\n",
              "        vertical-align: top;\n",
              "    }\n",
              "\n",
              "    .dataframe thead th {\n",
              "        text-align: right;\n",
              "    }\n",
              "</style>\n",
              "<table border=\"1\" class=\"dataframe\">\n",
              "  <thead>\n",
              "    <tr style=\"text-align: right;\">\n",
              "      <th></th>\n",
              "      <th>670</th>\n",
              "    </tr>\n",
              "  </thead>\n",
              "  <tbody>\n",
              "    <tr>\n",
              "      <th>id</th>\n",
              "      <td>12618</td>\n",
              "    </tr>\n",
              "    <tr>\n",
              "      <th>title</th>\n",
              "      <td>Random Hearts</td>\n",
              "    </tr>\n",
              "    <tr>\n",
              "      <th>overview</th>\n",
              "      <td>After the death of their loved ones in a tragi...</td>\n",
              "    </tr>\n",
              "    <tr>\n",
              "      <th>keywords</th>\n",
              "      <td>[infidelity, politician, airplane crash, death...</td>\n",
              "    </tr>\n",
              "    <tr>\n",
              "      <th>genres</th>\n",
              "      <td>[Drama, Romance]</td>\n",
              "    </tr>\n",
              "    <tr>\n",
              "      <th>cast</th>\n",
              "      <td>[Harrison Ford, Kristin Scott Thomas, Charles ...</td>\n",
              "    </tr>\n",
              "    <tr>\n",
              "      <th>crew</th>\n",
              "      <td>[Sydney Pollack]</td>\n",
              "    </tr>\n",
              "  </tbody>\n",
              "</table>\n",
              "</div><br><label><b>dtype:</b> object</label>"
            ],
            "text/plain": [
              "id                                                      12618\n",
              "title                                           Random Hearts\n",
              "overview    After the death of their loved ones in a tragi...\n",
              "keywords    [infidelity, politician, airplane crash, death...\n",
              "genres                                       [Drama, Romance]\n",
              "cast        [Harrison Ford, Kristin Scott Thomas, Charles ...\n",
              "crew                                         [Sydney Pollack]\n",
              "Name: 670, dtype: object"
            ]
          },
          "metadata": {},
          "output_type": "display_data"
        }
      ],
      "source": [
        "display(movies.iloc[670])"
      ]
    },
    {
      "cell_type": "code",
      "execution_count": null,
      "metadata": {
        "colab": {
          "base_uri": "https://localhost:8080/",
          "height": 54
        },
        "id": "UGTFTAcZRQMO",
        "outputId": "f5ed062d-3f82-4fb6-aa42-ca9bcf6466a2"
      },
      "outputs": [
        {
          "data": {
            "application/vnd.google.colaboratory.intrinsic+json": {
              "type": "string"
            },
            "text/plain": [
              "'In the 22nd century, a paraplegic Marine is dispatched to the moon Pandora on a unique mission, but becomes torn between following orders and protecting an alien civilization.'"
            ]
          },
          "execution_count": 117,
          "metadata": {},
          "output_type": "execute_result"
        }
      ],
      "source": [
        "movies['overview'][0] #string"
      ]
    },
    {
      "cell_type": "code",
      "execution_count": null,
      "metadata": {
        "colab": {
          "base_uri": "https://localhost:8080/",
          "height": 458
        },
        "id": "rdw9Cf6MSeTQ",
        "outputId": "8b21a240-46b4-45cd-cfaa-0766875ec3e4"
      },
      "outputs": [
        {
          "data": {
            "text/html": [
              "<div>\n",
              "<style scoped>\n",
              "    .dataframe tbody tr th:only-of-type {\n",
              "        vertical-align: middle;\n",
              "    }\n",
              "\n",
              "    .dataframe tbody tr th {\n",
              "        vertical-align: top;\n",
              "    }\n",
              "\n",
              "    .dataframe thead th {\n",
              "        text-align: right;\n",
              "    }\n",
              "</style>\n",
              "<table border=\"1\" class=\"dataframe\">\n",
              "  <thead>\n",
              "    <tr style=\"text-align: right;\">\n",
              "      <th></th>\n",
              "      <th>overview</th>\n",
              "    </tr>\n",
              "  </thead>\n",
              "  <tbody>\n",
              "    <tr>\n",
              "      <th>0</th>\n",
              "      <td>[In, the, 22nd, century,, a, paraplegic, Marin...</td>\n",
              "    </tr>\n",
              "    <tr>\n",
              "      <th>1</th>\n",
              "      <td>[Captain, Barbossa,, long, believed, to, be, d...</td>\n",
              "    </tr>\n",
              "    <tr>\n",
              "      <th>2</th>\n",
              "      <td>[A, cryptic, message, from, Bond’s, past, send...</td>\n",
              "    </tr>\n",
              "    <tr>\n",
              "      <th>3</th>\n",
              "      <td>[Following, the, death, of, District, Attorney...</td>\n",
              "    </tr>\n",
              "    <tr>\n",
              "      <th>4</th>\n",
              "      <td>[John, Carter, is, a, war-weary,, former, mili...</td>\n",
              "    </tr>\n",
              "    <tr>\n",
              "      <th>...</th>\n",
              "      <td>...</td>\n",
              "    </tr>\n",
              "    <tr>\n",
              "      <th>4804</th>\n",
              "      <td>[El, Mariachi, just, wants, to, play, his, gui...</td>\n",
              "    </tr>\n",
              "    <tr>\n",
              "      <th>4805</th>\n",
              "      <td>[A, newlywed, couple's, honeymoon, is, upended...</td>\n",
              "    </tr>\n",
              "    <tr>\n",
              "      <th>4806</th>\n",
              "      <td>[\"Signed,, Sealed,, Delivered\", introduces, a,...</td>\n",
              "    </tr>\n",
              "    <tr>\n",
              "      <th>4807</th>\n",
              "      <td>[When, ambitious, New, York, attorney, Sam, is...</td>\n",
              "    </tr>\n",
              "    <tr>\n",
              "      <th>4808</th>\n",
              "      <td>[Ever, since, the, second, grade, when, he, fi...</td>\n",
              "    </tr>\n",
              "  </tbody>\n",
              "</table>\n",
              "<p>4806 rows × 1 columns</p>\n",
              "</div><br><label><b>dtype:</b> object</label>"
            ],
            "text/plain": [
              "0       [In, the, 22nd, century,, a, paraplegic, Marin...\n",
              "1       [Captain, Barbossa,, long, believed, to, be, d...\n",
              "2       [A, cryptic, message, from, Bond’s, past, send...\n",
              "3       [Following, the, death, of, District, Attorney...\n",
              "4       [John, Carter, is, a, war-weary,, former, mili...\n",
              "                              ...                        \n",
              "4804    [El, Mariachi, just, wants, to, play, his, gui...\n",
              "4805    [A, newlywed, couple's, honeymoon, is, upended...\n",
              "4806    [\"Signed,, Sealed,, Delivered\", introduces, a,...\n",
              "4807    [When, ambitious, New, York, attorney, Sam, is...\n",
              "4808    [Ever, since, the, second, grade, when, he, fi...\n",
              "Name: overview, Length: 4806, dtype: object"
            ]
          },
          "execution_count": 118,
          "metadata": {},
          "output_type": "execute_result"
        }
      ],
      "source": [
        "#convert into list to concat with other coulumns\n",
        "movies['overview'].apply(lambda x:x.split())"
      ]
    },
    {
      "cell_type": "code",
      "execution_count": null,
      "metadata": {
        "id": "B6P1Q9kMSyGV"
      },
      "outputs": [],
      "source": [
        "movies['overview'] = movies['overview'].apply(lambda x:x.split())"
      ]
    },
    {
      "cell_type": "code",
      "execution_count": null,
      "metadata": {
        "colab": {
          "base_uri": "https://localhost:8080/",
          "height": 386
        },
        "id": "9ZyRxLFPTc2V",
        "outputId": "76ca4186-5056-4b9e-91ee-9457d64bfd5d"
      },
      "outputs": [
        {
          "data": {
            "application/vnd.google.colaboratory.intrinsic+json": {
              "summary": "{\n  \"name\": \"movies\",\n  \"rows\": 3,\n  \"fields\": [\n    {\n      \"column\": \"id\",\n      \"properties\": {\n        \"dtype\": \"number\",\n        \"std\": 102832,\n        \"min\": 25975,\n        \"max\": 231617,\n        \"num_unique_values\": 3,\n        \"samples\": [\n          231617,\n          126186,\n          25975\n        ],\n        \"semantic_type\": \"\",\n        \"description\": \"\"\n      }\n    },\n    {\n      \"column\": \"title\",\n      \"properties\": {\n        \"dtype\": \"string\",\n        \"num_unique_values\": 3,\n        \"samples\": [\n          \"Signed, Sealed, Delivered\",\n          \"Shanghai Calling\",\n          \"My Date with Drew\"\n        ],\n        \"semantic_type\": \"\",\n        \"description\": \"\"\n      }\n    },\n    {\n      \"column\": \"overview\",\n      \"properties\": {\n        \"dtype\": \"object\",\n        \"semantic_type\": \"\",\n        \"description\": \"\"\n      }\n    },\n    {\n      \"column\": \"keywords\",\n      \"properties\": {\n        \"dtype\": \"object\",\n        \"semantic_type\": \"\",\n        \"description\": \"\"\n      }\n    },\n    {\n      \"column\": \"genres\",\n      \"properties\": {\n        \"dtype\": \"object\",\n        \"semantic_type\": \"\",\n        \"description\": \"\"\n      }\n    },\n    {\n      \"column\": \"cast\",\n      \"properties\": {\n        \"dtype\": \"object\",\n        \"semantic_type\": \"\",\n        \"description\": \"\"\n      }\n    },\n    {\n      \"column\": \"crew\",\n      \"properties\": {\n        \"dtype\": \"object\",\n        \"semantic_type\": \"\",\n        \"description\": \"\"\n      }\n    }\n  ]\n}",
              "type": "dataframe"
            },
            "text/html": [
              "\n",
              "  <div id=\"df-577e8276-4758-4afa-8369-87405fdebb83\" class=\"colab-df-container\">\n",
              "    <div>\n",
              "<style scoped>\n",
              "    .dataframe tbody tr th:only-of-type {\n",
              "        vertical-align: middle;\n",
              "    }\n",
              "\n",
              "    .dataframe tbody tr th {\n",
              "        vertical-align: top;\n",
              "    }\n",
              "\n",
              "    .dataframe thead th {\n",
              "        text-align: right;\n",
              "    }\n",
              "</style>\n",
              "<table border=\"1\" class=\"dataframe\">\n",
              "  <thead>\n",
              "    <tr style=\"text-align: right;\">\n",
              "      <th></th>\n",
              "      <th>id</th>\n",
              "      <th>title</th>\n",
              "      <th>overview</th>\n",
              "      <th>keywords</th>\n",
              "      <th>genres</th>\n",
              "      <th>cast</th>\n",
              "      <th>crew</th>\n",
              "    </tr>\n",
              "  </thead>\n",
              "  <tbody>\n",
              "    <tr>\n",
              "      <th>4806</th>\n",
              "      <td>231617</td>\n",
              "      <td>Signed, Sealed, Delivered</td>\n",
              "      <td>[\"Signed,, Sealed,, Delivered\", introduces, a,...</td>\n",
              "      <td>[date, love at first sight, narration, investi...</td>\n",
              "      <td>[Comedy, Drama, Romance, TV Movie]</td>\n",
              "      <td>[Eric Mabius, Kristin Booth, Crystal Lowe]</td>\n",
              "      <td>[Scott Smith]</td>\n",
              "    </tr>\n",
              "    <tr>\n",
              "      <th>4807</th>\n",
              "      <td>126186</td>\n",
              "      <td>Shanghai Calling</td>\n",
              "      <td>[When, ambitious, New, York, attorney, Sam, is...</td>\n",
              "      <td>[]</td>\n",
              "      <td>[]</td>\n",
              "      <td>[Daniel Henney, Eliza Coupe, Bill Paxton]</td>\n",
              "      <td>[Daniel Hsia]</td>\n",
              "    </tr>\n",
              "    <tr>\n",
              "      <th>4808</th>\n",
              "      <td>25975</td>\n",
              "      <td>My Date with Drew</td>\n",
              "      <td>[Ever, since, the, second, grade, when, he, fi...</td>\n",
              "      <td>[obsession, camcorder, crush, dream girl]</td>\n",
              "      <td>[Documentary]</td>\n",
              "      <td>[Drew Barrymore, Brian Herzlinger, Corey Feldman]</td>\n",
              "      <td>[Brian Herzlinger, Jon Gunn, Brett Winn]</td>\n",
              "    </tr>\n",
              "  </tbody>\n",
              "</table>\n",
              "</div>\n",
              "    <div class=\"colab-df-buttons\">\n",
              "\n",
              "  <div class=\"colab-df-container\">\n",
              "    <button class=\"colab-df-convert\" onclick=\"convertToInteractive('df-577e8276-4758-4afa-8369-87405fdebb83')\"\n",
              "            title=\"Convert this dataframe to an interactive table.\"\n",
              "            style=\"display:none;\">\n",
              "\n",
              "  <svg xmlns=\"http://www.w3.org/2000/svg\" height=\"24px\" viewBox=\"0 -960 960 960\">\n",
              "    <path d=\"M120-120v-720h720v720H120Zm60-500h600v-160H180v160Zm220 220h160v-160H400v160Zm0 220h160v-160H400v160ZM180-400h160v-160H180v160Zm440 0h160v-160H620v160ZM180-180h160v-160H180v160Zm440 0h160v-160H620v160Z\"/>\n",
              "  </svg>\n",
              "    </button>\n",
              "\n",
              "  <style>\n",
              "    .colab-df-container {\n",
              "      display:flex;\n",
              "      gap: 12px;\n",
              "    }\n",
              "\n",
              "    .colab-df-convert {\n",
              "      background-color: #E8F0FE;\n",
              "      border: none;\n",
              "      border-radius: 50%;\n",
              "      cursor: pointer;\n",
              "      display: none;\n",
              "      fill: #1967D2;\n",
              "      height: 32px;\n",
              "      padding: 0 0 0 0;\n",
              "      width: 32px;\n",
              "    }\n",
              "\n",
              "    .colab-df-convert:hover {\n",
              "      background-color: #E2EBFA;\n",
              "      box-shadow: 0px 1px 2px rgba(60, 64, 67, 0.3), 0px 1px 3px 1px rgba(60, 64, 67, 0.15);\n",
              "      fill: #174EA6;\n",
              "    }\n",
              "\n",
              "    .colab-df-buttons div {\n",
              "      margin-bottom: 4px;\n",
              "    }\n",
              "\n",
              "    [theme=dark] .colab-df-convert {\n",
              "      background-color: #3B4455;\n",
              "      fill: #D2E3FC;\n",
              "    }\n",
              "\n",
              "    [theme=dark] .colab-df-convert:hover {\n",
              "      background-color: #434B5C;\n",
              "      box-shadow: 0px 1px 3px 1px rgba(0, 0, 0, 0.15);\n",
              "      filter: drop-shadow(0px 1px 2px rgba(0, 0, 0, 0.3));\n",
              "      fill: #FFFFFF;\n",
              "    }\n",
              "  </style>\n",
              "\n",
              "    <script>\n",
              "      const buttonEl =\n",
              "        document.querySelector('#df-577e8276-4758-4afa-8369-87405fdebb83 button.colab-df-convert');\n",
              "      buttonEl.style.display =\n",
              "        google.colab.kernel.accessAllowed ? 'block' : 'none';\n",
              "\n",
              "      async function convertToInteractive(key) {\n",
              "        const element = document.querySelector('#df-577e8276-4758-4afa-8369-87405fdebb83');\n",
              "        const dataTable =\n",
              "          await google.colab.kernel.invokeFunction('convertToInteractive',\n",
              "                                                    [key], {});\n",
              "        if (!dataTable) return;\n",
              "\n",
              "        const docLinkHtml = 'Like what you see? Visit the ' +\n",
              "          '<a target=\"_blank\" href=https://colab.research.google.com/notebooks/data_table.ipynb>data table notebook</a>'\n",
              "          + ' to learn more about interactive tables.';\n",
              "        element.innerHTML = '';\n",
              "        dataTable['output_type'] = 'display_data';\n",
              "        await google.colab.output.renderOutput(dataTable, element);\n",
              "        const docLink = document.createElement('div');\n",
              "        docLink.innerHTML = docLinkHtml;\n",
              "        element.appendChild(docLink);\n",
              "      }\n",
              "    </script>\n",
              "  </div>\n",
              "\n",
              "\n",
              "    <div id=\"df-ac2ca24c-cce8-4c08-afcb-240dd33b559d\">\n",
              "      <button class=\"colab-df-quickchart\" onclick=\"quickchart('df-ac2ca24c-cce8-4c08-afcb-240dd33b559d')\"\n",
              "                title=\"Suggest charts\"\n",
              "                style=\"display:none;\">\n",
              "\n",
              "<svg xmlns=\"http://www.w3.org/2000/svg\" height=\"24px\"viewBox=\"0 0 24 24\"\n",
              "     width=\"24px\">\n",
              "    <g>\n",
              "        <path d=\"M19 3H5c-1.1 0-2 .9-2 2v14c0 1.1.9 2 2 2h14c1.1 0 2-.9 2-2V5c0-1.1-.9-2-2-2zM9 17H7v-7h2v7zm4 0h-2V7h2v10zm4 0h-2v-4h2v4z\"/>\n",
              "    </g>\n",
              "</svg>\n",
              "      </button>\n",
              "\n",
              "<style>\n",
              "  .colab-df-quickchart {\n",
              "      --bg-color: #E8F0FE;\n",
              "      --fill-color: #1967D2;\n",
              "      --hover-bg-color: #E2EBFA;\n",
              "      --hover-fill-color: #174EA6;\n",
              "      --disabled-fill-color: #AAA;\n",
              "      --disabled-bg-color: #DDD;\n",
              "  }\n",
              "\n",
              "  [theme=dark] .colab-df-quickchart {\n",
              "      --bg-color: #3B4455;\n",
              "      --fill-color: #D2E3FC;\n",
              "      --hover-bg-color: #434B5C;\n",
              "      --hover-fill-color: #FFFFFF;\n",
              "      --disabled-bg-color: #3B4455;\n",
              "      --disabled-fill-color: #666;\n",
              "  }\n",
              "\n",
              "  .colab-df-quickchart {\n",
              "    background-color: var(--bg-color);\n",
              "    border: none;\n",
              "    border-radius: 50%;\n",
              "    cursor: pointer;\n",
              "    display: none;\n",
              "    fill: var(--fill-color);\n",
              "    height: 32px;\n",
              "    padding: 0;\n",
              "    width: 32px;\n",
              "  }\n",
              "\n",
              "  .colab-df-quickchart:hover {\n",
              "    background-color: var(--hover-bg-color);\n",
              "    box-shadow: 0 1px 2px rgba(60, 64, 67, 0.3), 0 1px 3px 1px rgba(60, 64, 67, 0.15);\n",
              "    fill: var(--button-hover-fill-color);\n",
              "  }\n",
              "\n",
              "  .colab-df-quickchart-complete:disabled,\n",
              "  .colab-df-quickchart-complete:disabled:hover {\n",
              "    background-color: var(--disabled-bg-color);\n",
              "    fill: var(--disabled-fill-color);\n",
              "    box-shadow: none;\n",
              "  }\n",
              "\n",
              "  .colab-df-spinner {\n",
              "    border: 2px solid var(--fill-color);\n",
              "    border-color: transparent;\n",
              "    border-bottom-color: var(--fill-color);\n",
              "    animation:\n",
              "      spin 1s steps(1) infinite;\n",
              "  }\n",
              "\n",
              "  @keyframes spin {\n",
              "    0% {\n",
              "      border-color: transparent;\n",
              "      border-bottom-color: var(--fill-color);\n",
              "      border-left-color: var(--fill-color);\n",
              "    }\n",
              "    20% {\n",
              "      border-color: transparent;\n",
              "      border-left-color: var(--fill-color);\n",
              "      border-top-color: var(--fill-color);\n",
              "    }\n",
              "    30% {\n",
              "      border-color: transparent;\n",
              "      border-left-color: var(--fill-color);\n",
              "      border-top-color: var(--fill-color);\n",
              "      border-right-color: var(--fill-color);\n",
              "    }\n",
              "    40% {\n",
              "      border-color: transparent;\n",
              "      border-right-color: var(--fill-color);\n",
              "      border-top-color: var(--fill-color);\n",
              "    }\n",
              "    60% {\n",
              "      border-color: transparent;\n",
              "      border-right-color: var(--fill-color);\n",
              "    }\n",
              "    80% {\n",
              "      border-color: transparent;\n",
              "      border-right-color: var(--fill-color);\n",
              "      border-bottom-color: var(--fill-color);\n",
              "    }\n",
              "    90% {\n",
              "      border-color: transparent;\n",
              "      border-bottom-color: var(--fill-color);\n",
              "    }\n",
              "  }\n",
              "</style>\n",
              "\n",
              "      <script>\n",
              "        async function quickchart(key) {\n",
              "          const quickchartButtonEl =\n",
              "            document.querySelector('#' + key + ' button');\n",
              "          quickchartButtonEl.disabled = true;  // To prevent multiple clicks.\n",
              "          quickchartButtonEl.classList.add('colab-df-spinner');\n",
              "          try {\n",
              "            const charts = await google.colab.kernel.invokeFunction(\n",
              "                'suggestCharts', [key], {});\n",
              "          } catch (error) {\n",
              "            console.error('Error during call to suggestCharts:', error);\n",
              "          }\n",
              "          quickchartButtonEl.classList.remove('colab-df-spinner');\n",
              "          quickchartButtonEl.classList.add('colab-df-quickchart-complete');\n",
              "        }\n",
              "        (() => {\n",
              "          let quickchartButtonEl =\n",
              "            document.querySelector('#df-ac2ca24c-cce8-4c08-afcb-240dd33b559d button');\n",
              "          quickchartButtonEl.style.display =\n",
              "            google.colab.kernel.accessAllowed ? 'block' : 'none';\n",
              "        })();\n",
              "      </script>\n",
              "    </div>\n",
              "\n",
              "    </div>\n",
              "  </div>\n"
            ],
            "text/plain": [
              "          id                      title  \\\n",
              "4806  231617  Signed, Sealed, Delivered   \n",
              "4807  126186           Shanghai Calling   \n",
              "4808   25975          My Date with Drew   \n",
              "\n",
              "                                               overview  \\\n",
              "4806  [\"Signed,, Sealed,, Delivered\", introduces, a,...   \n",
              "4807  [When, ambitious, New, York, attorney, Sam, is...   \n",
              "4808  [Ever, since, the, second, grade, when, he, fi...   \n",
              "\n",
              "                                               keywords  \\\n",
              "4806  [date, love at first sight, narration, investi...   \n",
              "4807                                                 []   \n",
              "4808          [obsession, camcorder, crush, dream girl]   \n",
              "\n",
              "                                  genres  \\\n",
              "4806  [Comedy, Drama, Romance, TV Movie]   \n",
              "4807                                  []   \n",
              "4808                       [Documentary]   \n",
              "\n",
              "                                                   cast  \\\n",
              "4806         [Eric Mabius, Kristin Booth, Crystal Lowe]   \n",
              "4807          [Daniel Henney, Eliza Coupe, Bill Paxton]   \n",
              "4808  [Drew Barrymore, Brian Herzlinger, Corey Feldman]   \n",
              "\n",
              "                                          crew  \n",
              "4806                             [Scott Smith]  \n",
              "4807                             [Daniel Hsia]  \n",
              "4808  [Brian Herzlinger, Jon Gunn, Brett Winn]  "
            ]
          },
          "execution_count": 120,
          "metadata": {},
          "output_type": "execute_result"
        }
      ],
      "source": [
        "movies.tail(3)"
      ]
    },
    {
      "cell_type": "code",
      "execution_count": null,
      "metadata": {
        "id": "GvryHsreThZo"
      },
      "outputs": [],
      "source": [
        "#concating all into list the string"
      ]
    },
    {
      "cell_type": "markdown",
      "metadata": {
        "id": "b8YDHy0NTrCy"
      },
      "source": [
        "keywords\tgenres\tcast\tcrew applying tranformation to remove spaces to avoide same name confusion"
      ]
    },
    {
      "cell_type": "markdown",
      "metadata": {
        "id": "tztSMf5pTzGJ"
      },
      "source": [
        "'Daniel Hsia' have 2 tag model get confuse\n",
        "'DanielHsia'  have 1 tag 1 entity"
      ]
    },
    {
      "cell_type": "code",
      "execution_count": null,
      "metadata": {
        "colab": {
          "base_uri": "https://localhost:8080/",
          "height": 458
        },
        "id": "B7VYvuCrUIIA",
        "outputId": "75efe47f-7d5e-44be-9d7b-cab3d058b028"
      },
      "outputs": [
        {
          "data": {
            "text/html": [
              "<div>\n",
              "<style scoped>\n",
              "    .dataframe tbody tr th:only-of-type {\n",
              "        vertical-align: middle;\n",
              "    }\n",
              "\n",
              "    .dataframe tbody tr th {\n",
              "        vertical-align: top;\n",
              "    }\n",
              "\n",
              "    .dataframe thead th {\n",
              "        text-align: right;\n",
              "    }\n",
              "</style>\n",
              "<table border=\"1\" class=\"dataframe\">\n",
              "  <thead>\n",
              "    <tr style=\"text-align: right;\">\n",
              "      <th></th>\n",
              "      <th>genres</th>\n",
              "    </tr>\n",
              "  </thead>\n",
              "  <tbody>\n",
              "    <tr>\n",
              "      <th>0</th>\n",
              "      <td>[Action, Adventure, Fantasy, ScienceFiction]</td>\n",
              "    </tr>\n",
              "    <tr>\n",
              "      <th>1</th>\n",
              "      <td>[Adventure, Fantasy, Action]</td>\n",
              "    </tr>\n",
              "    <tr>\n",
              "      <th>2</th>\n",
              "      <td>[Action, Adventure, Crime]</td>\n",
              "    </tr>\n",
              "    <tr>\n",
              "      <th>3</th>\n",
              "      <td>[Action, Crime, Drama, Thriller]</td>\n",
              "    </tr>\n",
              "    <tr>\n",
              "      <th>4</th>\n",
              "      <td>[Action, Adventure, ScienceFiction]</td>\n",
              "    </tr>\n",
              "    <tr>\n",
              "      <th>...</th>\n",
              "      <td>...</td>\n",
              "    </tr>\n",
              "    <tr>\n",
              "      <th>4804</th>\n",
              "      <td>[Action, Crime, Thriller]</td>\n",
              "    </tr>\n",
              "    <tr>\n",
              "      <th>4805</th>\n",
              "      <td>[Comedy, Romance]</td>\n",
              "    </tr>\n",
              "    <tr>\n",
              "      <th>4806</th>\n",
              "      <td>[Comedy, Drama, Romance, TVMovie]</td>\n",
              "    </tr>\n",
              "    <tr>\n",
              "      <th>4807</th>\n",
              "      <td>[]</td>\n",
              "    </tr>\n",
              "    <tr>\n",
              "      <th>4808</th>\n",
              "      <td>[Documentary]</td>\n",
              "    </tr>\n",
              "  </tbody>\n",
              "</table>\n",
              "<p>4806 rows × 1 columns</p>\n",
              "</div><br><label><b>dtype:</b> object</label>"
            ],
            "text/plain": [
              "0       [Action, Adventure, Fantasy, ScienceFiction]\n",
              "1                       [Adventure, Fantasy, Action]\n",
              "2                         [Action, Adventure, Crime]\n",
              "3                   [Action, Crime, Drama, Thriller]\n",
              "4                [Action, Adventure, ScienceFiction]\n",
              "                            ...                     \n",
              "4804                       [Action, Crime, Thriller]\n",
              "4805                               [Comedy, Romance]\n",
              "4806               [Comedy, Drama, Romance, TVMovie]\n",
              "4807                                              []\n",
              "4808                                   [Documentary]\n",
              "Name: genres, Length: 4806, dtype: object"
            ]
          },
          "execution_count": 122,
          "metadata": {},
          "output_type": "execute_result"
        }
      ],
      "source": [
        "movies['genres'].apply(lambda x:[i.replace(\" \",\"\") for i in x])"
      ]
    },
    {
      "cell_type": "code",
      "execution_count": null,
      "metadata": {
        "id": "gEeIABjkUWhN"
      },
      "outputs": [],
      "source": [
        "#apply to all 3\n",
        "def collapse(L):\n",
        "    L1 = []\n",
        "    for i in L:\n",
        "        L1.append(i.replace(\" \",\"\"))\n",
        "    return L1"
      ]
    },
    {
      "cell_type": "code",
      "execution_count": null,
      "metadata": {
        "id": "JhKIA8p-UfYS"
      },
      "outputs": [],
      "source": [
        "movies['cast'] = movies['cast'].apply(collapse)\n",
        "movies['crew'] = movies['crew'].apply(collapse)\n",
        "movies['genres'] = movies['genres'].apply(collapse)\n",
        "movies['keywords'] = movies['keywords'].apply(collapse)"
      ]
    },
    {
      "cell_type": "code",
      "execution_count": null,
      "metadata": {
        "colab": {
          "base_uri": "https://localhost:8080/",
          "height": 472
        },
        "id": "_C5cGBplUimv",
        "outputId": "84dfc00b-a9e2-4589-c9b7-ea4a20e040f3"
      },
      "outputs": [
        {
          "data": {
            "application/vnd.google.colaboratory.intrinsic+json": {
              "summary": "{\n  \"name\": \"movies\",\n  \"rows\": 4806,\n  \"fields\": [\n    {\n      \"column\": \"id\",\n      \"properties\": {\n        \"dtype\": \"number\",\n        \"std\": 88309,\n        \"min\": 5,\n        \"max\": 447027,\n        \"num_unique_values\": 4800,\n        \"samples\": [\n          8427,\n          15581,\n          9893\n        ],\n        \"semantic_type\": \"\",\n        \"description\": \"\"\n      }\n    },\n    {\n      \"column\": \"title\",\n      \"properties\": {\n        \"dtype\": \"string\",\n        \"num_unique_values\": 4797,\n        \"samples\": [\n          \"Two Brothers\",\n          \"From Paris with Love\",\n          \"Walk the Line\"\n        ],\n        \"semantic_type\": \"\",\n        \"description\": \"\"\n      }\n    },\n    {\n      \"column\": \"overview\",\n      \"properties\": {\n        \"dtype\": \"object\",\n        \"semantic_type\": \"\",\n        \"description\": \"\"\n      }\n    },\n    {\n      \"column\": \"keywords\",\n      \"properties\": {\n        \"dtype\": \"object\",\n        \"semantic_type\": \"\",\n        \"description\": \"\"\n      }\n    },\n    {\n      \"column\": \"genres\",\n      \"properties\": {\n        \"dtype\": \"object\",\n        \"semantic_type\": \"\",\n        \"description\": \"\"\n      }\n    },\n    {\n      \"column\": \"cast\",\n      \"properties\": {\n        \"dtype\": \"object\",\n        \"semantic_type\": \"\",\n        \"description\": \"\"\n      }\n    },\n    {\n      \"column\": \"crew\",\n      \"properties\": {\n        \"dtype\": \"object\",\n        \"semantic_type\": \"\",\n        \"description\": \"\"\n      }\n    }\n  ]\n}",
              "type": "dataframe",
              "variable_name": "movies"
            },
            "text/html": [
              "\n",
              "  <div id=\"df-6bd5f632-9279-4fd3-a893-6d2975607ad9\" class=\"colab-df-container\">\n",
              "    <div>\n",
              "<style scoped>\n",
              "    .dataframe tbody tr th:only-of-type {\n",
              "        vertical-align: middle;\n",
              "    }\n",
              "\n",
              "    .dataframe tbody tr th {\n",
              "        vertical-align: top;\n",
              "    }\n",
              "\n",
              "    .dataframe thead th {\n",
              "        text-align: right;\n",
              "    }\n",
              "</style>\n",
              "<table border=\"1\" class=\"dataframe\">\n",
              "  <thead>\n",
              "    <tr style=\"text-align: right;\">\n",
              "      <th></th>\n",
              "      <th>id</th>\n",
              "      <th>title</th>\n",
              "      <th>overview</th>\n",
              "      <th>keywords</th>\n",
              "      <th>genres</th>\n",
              "      <th>cast</th>\n",
              "      <th>crew</th>\n",
              "    </tr>\n",
              "  </thead>\n",
              "  <tbody>\n",
              "    <tr>\n",
              "      <th>0</th>\n",
              "      <td>19995</td>\n",
              "      <td>Avatar</td>\n",
              "      <td>[In, the, 22nd, century,, a, paraplegic, Marin...</td>\n",
              "      <td>[cultureclash, future, spacewar, spacecolony, ...</td>\n",
              "      <td>[Action, Adventure, Fantasy, ScienceFiction]</td>\n",
              "      <td>[SamWorthington, ZoeSaldana, SigourneyWeaver]</td>\n",
              "      <td>[JamesCameron]</td>\n",
              "    </tr>\n",
              "    <tr>\n",
              "      <th>1</th>\n",
              "      <td>285</td>\n",
              "      <td>Pirates of the Caribbean: At World's End</td>\n",
              "      <td>[Captain, Barbossa,, long, believed, to, be, d...</td>\n",
              "      <td>[ocean, drugabuse, exoticisland, eastindiatrad...</td>\n",
              "      <td>[Adventure, Fantasy, Action]</td>\n",
              "      <td>[JohnnyDepp, OrlandoBloom, KeiraKnightley]</td>\n",
              "      <td>[GoreVerbinski]</td>\n",
              "    </tr>\n",
              "    <tr>\n",
              "      <th>2</th>\n",
              "      <td>206647</td>\n",
              "      <td>Spectre</td>\n",
              "      <td>[A, cryptic, message, from, Bond’s, past, send...</td>\n",
              "      <td>[spy, basedonnovel, secretagent, sequel, mi6, ...</td>\n",
              "      <td>[Action, Adventure, Crime]</td>\n",
              "      <td>[DanielCraig, ChristophWaltz, LéaSeydoux]</td>\n",
              "      <td>[SamMendes]</td>\n",
              "    </tr>\n",
              "    <tr>\n",
              "      <th>3</th>\n",
              "      <td>49026</td>\n",
              "      <td>The Dark Knight Rises</td>\n",
              "      <td>[Following, the, death, of, District, Attorney...</td>\n",
              "      <td>[dccomics, crimefighter, terrorist, secretiden...</td>\n",
              "      <td>[Action, Crime, Drama, Thriller]</td>\n",
              "      <td>[ChristianBale, MichaelCaine, GaryOldman]</td>\n",
              "      <td>[ChristopherNolan]</td>\n",
              "    </tr>\n",
              "  </tbody>\n",
              "</table>\n",
              "</div>\n",
              "    <div class=\"colab-df-buttons\">\n",
              "\n",
              "  <div class=\"colab-df-container\">\n",
              "    <button class=\"colab-df-convert\" onclick=\"convertToInteractive('df-6bd5f632-9279-4fd3-a893-6d2975607ad9')\"\n",
              "            title=\"Convert this dataframe to an interactive table.\"\n",
              "            style=\"display:none;\">\n",
              "\n",
              "  <svg xmlns=\"http://www.w3.org/2000/svg\" height=\"24px\" viewBox=\"0 -960 960 960\">\n",
              "    <path d=\"M120-120v-720h720v720H120Zm60-500h600v-160H180v160Zm220 220h160v-160H400v160Zm0 220h160v-160H400v160ZM180-400h160v-160H180v160Zm440 0h160v-160H620v160ZM180-180h160v-160H180v160Zm440 0h160v-160H620v160Z\"/>\n",
              "  </svg>\n",
              "    </button>\n",
              "\n",
              "  <style>\n",
              "    .colab-df-container {\n",
              "      display:flex;\n",
              "      gap: 12px;\n",
              "    }\n",
              "\n",
              "    .colab-df-convert {\n",
              "      background-color: #E8F0FE;\n",
              "      border: none;\n",
              "      border-radius: 50%;\n",
              "      cursor: pointer;\n",
              "      display: none;\n",
              "      fill: #1967D2;\n",
              "      height: 32px;\n",
              "      padding: 0 0 0 0;\n",
              "      width: 32px;\n",
              "    }\n",
              "\n",
              "    .colab-df-convert:hover {\n",
              "      background-color: #E2EBFA;\n",
              "      box-shadow: 0px 1px 2px rgba(60, 64, 67, 0.3), 0px 1px 3px 1px rgba(60, 64, 67, 0.15);\n",
              "      fill: #174EA6;\n",
              "    }\n",
              "\n",
              "    .colab-df-buttons div {\n",
              "      margin-bottom: 4px;\n",
              "    }\n",
              "\n",
              "    [theme=dark] .colab-df-convert {\n",
              "      background-color: #3B4455;\n",
              "      fill: #D2E3FC;\n",
              "    }\n",
              "\n",
              "    [theme=dark] .colab-df-convert:hover {\n",
              "      background-color: #434B5C;\n",
              "      box-shadow: 0px 1px 3px 1px rgba(0, 0, 0, 0.15);\n",
              "      filter: drop-shadow(0px 1px 2px rgba(0, 0, 0, 0.3));\n",
              "      fill: #FFFFFF;\n",
              "    }\n",
              "  </style>\n",
              "\n",
              "    <script>\n",
              "      const buttonEl =\n",
              "        document.querySelector('#df-6bd5f632-9279-4fd3-a893-6d2975607ad9 button.colab-df-convert');\n",
              "      buttonEl.style.display =\n",
              "        google.colab.kernel.accessAllowed ? 'block' : 'none';\n",
              "\n",
              "      async function convertToInteractive(key) {\n",
              "        const element = document.querySelector('#df-6bd5f632-9279-4fd3-a893-6d2975607ad9');\n",
              "        const dataTable =\n",
              "          await google.colab.kernel.invokeFunction('convertToInteractive',\n",
              "                                                    [key], {});\n",
              "        if (!dataTable) return;\n",
              "\n",
              "        const docLinkHtml = 'Like what you see? Visit the ' +\n",
              "          '<a target=\"_blank\" href=https://colab.research.google.com/notebooks/data_table.ipynb>data table notebook</a>'\n",
              "          + ' to learn more about interactive tables.';\n",
              "        element.innerHTML = '';\n",
              "        dataTable['output_type'] = 'display_data';\n",
              "        await google.colab.output.renderOutput(dataTable, element);\n",
              "        const docLink = document.createElement('div');\n",
              "        docLink.innerHTML = docLinkHtml;\n",
              "        element.appendChild(docLink);\n",
              "      }\n",
              "    </script>\n",
              "  </div>\n",
              "\n",
              "\n",
              "    <div id=\"df-2363fa8a-71eb-4f33-898d-5b6f54336655\">\n",
              "      <button class=\"colab-df-quickchart\" onclick=\"quickchart('df-2363fa8a-71eb-4f33-898d-5b6f54336655')\"\n",
              "                title=\"Suggest charts\"\n",
              "                style=\"display:none;\">\n",
              "\n",
              "<svg xmlns=\"http://www.w3.org/2000/svg\" height=\"24px\"viewBox=\"0 0 24 24\"\n",
              "     width=\"24px\">\n",
              "    <g>\n",
              "        <path d=\"M19 3H5c-1.1 0-2 .9-2 2v14c0 1.1.9 2 2 2h14c1.1 0 2-.9 2-2V5c0-1.1-.9-2-2-2zM9 17H7v-7h2v7zm4 0h-2V7h2v10zm4 0h-2v-4h2v4z\"/>\n",
              "    </g>\n",
              "</svg>\n",
              "      </button>\n",
              "\n",
              "<style>\n",
              "  .colab-df-quickchart {\n",
              "      --bg-color: #E8F0FE;\n",
              "      --fill-color: #1967D2;\n",
              "      --hover-bg-color: #E2EBFA;\n",
              "      --hover-fill-color: #174EA6;\n",
              "      --disabled-fill-color: #AAA;\n",
              "      --disabled-bg-color: #DDD;\n",
              "  }\n",
              "\n",
              "  [theme=dark] .colab-df-quickchart {\n",
              "      --bg-color: #3B4455;\n",
              "      --fill-color: #D2E3FC;\n",
              "      --hover-bg-color: #434B5C;\n",
              "      --hover-fill-color: #FFFFFF;\n",
              "      --disabled-bg-color: #3B4455;\n",
              "      --disabled-fill-color: #666;\n",
              "  }\n",
              "\n",
              "  .colab-df-quickchart {\n",
              "    background-color: var(--bg-color);\n",
              "    border: none;\n",
              "    border-radius: 50%;\n",
              "    cursor: pointer;\n",
              "    display: none;\n",
              "    fill: var(--fill-color);\n",
              "    height: 32px;\n",
              "    padding: 0;\n",
              "    width: 32px;\n",
              "  }\n",
              "\n",
              "  .colab-df-quickchart:hover {\n",
              "    background-color: var(--hover-bg-color);\n",
              "    box-shadow: 0 1px 2px rgba(60, 64, 67, 0.3), 0 1px 3px 1px rgba(60, 64, 67, 0.15);\n",
              "    fill: var(--button-hover-fill-color);\n",
              "  }\n",
              "\n",
              "  .colab-df-quickchart-complete:disabled,\n",
              "  .colab-df-quickchart-complete:disabled:hover {\n",
              "    background-color: var(--disabled-bg-color);\n",
              "    fill: var(--disabled-fill-color);\n",
              "    box-shadow: none;\n",
              "  }\n",
              "\n",
              "  .colab-df-spinner {\n",
              "    border: 2px solid var(--fill-color);\n",
              "    border-color: transparent;\n",
              "    border-bottom-color: var(--fill-color);\n",
              "    animation:\n",
              "      spin 1s steps(1) infinite;\n",
              "  }\n",
              "\n",
              "  @keyframes spin {\n",
              "    0% {\n",
              "      border-color: transparent;\n",
              "      border-bottom-color: var(--fill-color);\n",
              "      border-left-color: var(--fill-color);\n",
              "    }\n",
              "    20% {\n",
              "      border-color: transparent;\n",
              "      border-left-color: var(--fill-color);\n",
              "      border-top-color: var(--fill-color);\n",
              "    }\n",
              "    30% {\n",
              "      border-color: transparent;\n",
              "      border-left-color: var(--fill-color);\n",
              "      border-top-color: var(--fill-color);\n",
              "      border-right-color: var(--fill-color);\n",
              "    }\n",
              "    40% {\n",
              "      border-color: transparent;\n",
              "      border-right-color: var(--fill-color);\n",
              "      border-top-color: var(--fill-color);\n",
              "    }\n",
              "    60% {\n",
              "      border-color: transparent;\n",
              "      border-right-color: var(--fill-color);\n",
              "    }\n",
              "    80% {\n",
              "      border-color: transparent;\n",
              "      border-right-color: var(--fill-color);\n",
              "      border-bottom-color: var(--fill-color);\n",
              "    }\n",
              "    90% {\n",
              "      border-color: transparent;\n",
              "      border-bottom-color: var(--fill-color);\n",
              "    }\n",
              "  }\n",
              "</style>\n",
              "\n",
              "      <script>\n",
              "        async function quickchart(key) {\n",
              "          const quickchartButtonEl =\n",
              "            document.querySelector('#' + key + ' button');\n",
              "          quickchartButtonEl.disabled = true;  // To prevent multiple clicks.\n",
              "          quickchartButtonEl.classList.add('colab-df-spinner');\n",
              "          try {\n",
              "            const charts = await google.colab.kernel.invokeFunction(\n",
              "                'suggestCharts', [key], {});\n",
              "          } catch (error) {\n",
              "            console.error('Error during call to suggestCharts:', error);\n",
              "          }\n",
              "          quickchartButtonEl.classList.remove('colab-df-spinner');\n",
              "          quickchartButtonEl.classList.add('colab-df-quickchart-complete');\n",
              "        }\n",
              "        (() => {\n",
              "          let quickchartButtonEl =\n",
              "            document.querySelector('#df-2363fa8a-71eb-4f33-898d-5b6f54336655 button');\n",
              "          quickchartButtonEl.style.display =\n",
              "            google.colab.kernel.accessAllowed ? 'block' : 'none';\n",
              "        })();\n",
              "      </script>\n",
              "    </div>\n",
              "\n",
              "    </div>\n",
              "  </div>\n"
            ],
            "text/plain": [
              "       id                                     title  \\\n",
              "0   19995                                    Avatar   \n",
              "1     285  Pirates of the Caribbean: At World's End   \n",
              "2  206647                                   Spectre   \n",
              "3   49026                     The Dark Knight Rises   \n",
              "\n",
              "                                            overview  \\\n",
              "0  [In, the, 22nd, century,, a, paraplegic, Marin...   \n",
              "1  [Captain, Barbossa,, long, believed, to, be, d...   \n",
              "2  [A, cryptic, message, from, Bond’s, past, send...   \n",
              "3  [Following, the, death, of, District, Attorney...   \n",
              "\n",
              "                                            keywords  \\\n",
              "0  [cultureclash, future, spacewar, spacecolony, ...   \n",
              "1  [ocean, drugabuse, exoticisland, eastindiatrad...   \n",
              "2  [spy, basedonnovel, secretagent, sequel, mi6, ...   \n",
              "3  [dccomics, crimefighter, terrorist, secretiden...   \n",
              "\n",
              "                                         genres  \\\n",
              "0  [Action, Adventure, Fantasy, ScienceFiction]   \n",
              "1                  [Adventure, Fantasy, Action]   \n",
              "2                    [Action, Adventure, Crime]   \n",
              "3              [Action, Crime, Drama, Thriller]   \n",
              "\n",
              "                                            cast                crew  \n",
              "0  [SamWorthington, ZoeSaldana, SigourneyWeaver]      [JamesCameron]  \n",
              "1     [JohnnyDepp, OrlandoBloom, KeiraKnightley]     [GoreVerbinski]  \n",
              "2      [DanielCraig, ChristophWaltz, LéaSeydoux]         [SamMendes]  \n",
              "3      [ChristianBale, MichaelCaine, GaryOldman]  [ChristopherNolan]  "
            ]
          },
          "execution_count": 126,
          "metadata": {},
          "output_type": "execute_result"
        }
      ],
      "source": [
        "movies.head(4)"
      ]
    },
    {
      "cell_type": "code",
      "execution_count": null,
      "metadata": {
        "id": "QYmE5D4qUikV"
      },
      "outputs": [],
      "source": [
        "#concating"
      ]
    },
    {
      "cell_type": "code",
      "execution_count": null,
      "metadata": {
        "id": "gScX93CtUih6"
      },
      "outputs": [],
      "source": [
        "movies['tags'] = movies['overview']+  movies['genres']+ movies['keywords']+movies['cast']+ movies['crew']"
      ]
    },
    {
      "cell_type": "code",
      "execution_count": null,
      "metadata": {
        "colab": {
          "base_uri": "https://localhost:8080/",
          "height": 170
        },
        "id": "hJrXrOBIUie2",
        "outputId": "6c7191f1-0f28-4d93-d31c-a2664afc4b83"
      },
      "outputs": [
        {
          "data": {
            "application/vnd.google.colaboratory.intrinsic+json": {
              "summary": "{\n  \"name\": \"movies\",\n  \"rows\": 4806,\n  \"fields\": [\n    {\n      \"column\": \"id\",\n      \"properties\": {\n        \"dtype\": \"number\",\n        \"std\": 88309,\n        \"min\": 5,\n        \"max\": 447027,\n        \"num_unique_values\": 4800,\n        \"samples\": [\n          8427,\n          15581,\n          9893\n        ],\n        \"semantic_type\": \"\",\n        \"description\": \"\"\n      }\n    },\n    {\n      \"column\": \"title\",\n      \"properties\": {\n        \"dtype\": \"string\",\n        \"num_unique_values\": 4797,\n        \"samples\": [\n          \"Two Brothers\",\n          \"From Paris with Love\",\n          \"Walk the Line\"\n        ],\n        \"semantic_type\": \"\",\n        \"description\": \"\"\n      }\n    },\n    {\n      \"column\": \"overview\",\n      \"properties\": {\n        \"dtype\": \"object\",\n        \"semantic_type\": \"\",\n        \"description\": \"\"\n      }\n    },\n    {\n      \"column\": \"keywords\",\n      \"properties\": {\n        \"dtype\": \"object\",\n        \"semantic_type\": \"\",\n        \"description\": \"\"\n      }\n    },\n    {\n      \"column\": \"genres\",\n      \"properties\": {\n        \"dtype\": \"object\",\n        \"semantic_type\": \"\",\n        \"description\": \"\"\n      }\n    },\n    {\n      \"column\": \"cast\",\n      \"properties\": {\n        \"dtype\": \"object\",\n        \"semantic_type\": \"\",\n        \"description\": \"\"\n      }\n    },\n    {\n      \"column\": \"crew\",\n      \"properties\": {\n        \"dtype\": \"object\",\n        \"semantic_type\": \"\",\n        \"description\": \"\"\n      }\n    },\n    {\n      \"column\": \"tags\",\n      \"properties\": {\n        \"dtype\": \"object\",\n        \"semantic_type\": \"\",\n        \"description\": \"\"\n      }\n    }\n  ]\n}",
              "type": "dataframe",
              "variable_name": "movies"
            },
            "text/html": [
              "\n",
              "  <div id=\"df-2cb54b92-7698-4605-b2fc-f0beef6d2295\" class=\"colab-df-container\">\n",
              "    <div>\n",
              "<style scoped>\n",
              "    .dataframe tbody tr th:only-of-type {\n",
              "        vertical-align: middle;\n",
              "    }\n",
              "\n",
              "    .dataframe tbody tr th {\n",
              "        vertical-align: top;\n",
              "    }\n",
              "\n",
              "    .dataframe thead th {\n",
              "        text-align: right;\n",
              "    }\n",
              "</style>\n",
              "<table border=\"1\" class=\"dataframe\">\n",
              "  <thead>\n",
              "    <tr style=\"text-align: right;\">\n",
              "      <th></th>\n",
              "      <th>id</th>\n",
              "      <th>title</th>\n",
              "      <th>overview</th>\n",
              "      <th>keywords</th>\n",
              "      <th>genres</th>\n",
              "      <th>cast</th>\n",
              "      <th>crew</th>\n",
              "      <th>tags</th>\n",
              "    </tr>\n",
              "  </thead>\n",
              "  <tbody>\n",
              "    <tr>\n",
              "      <th>0</th>\n",
              "      <td>19995</td>\n",
              "      <td>Avatar</td>\n",
              "      <td>[In, the, 22nd, century,, a, paraplegic, Marin...</td>\n",
              "      <td>[cultureclash, future, spacewar, spacecolony, ...</td>\n",
              "      <td>[Action, Adventure, Fantasy, ScienceFiction]</td>\n",
              "      <td>[SamWorthington, ZoeSaldana, SigourneyWeaver]</td>\n",
              "      <td>[JamesCameron]</td>\n",
              "      <td>[In, the, 22nd, century,, a, paraplegic, Marin...</td>\n",
              "    </tr>\n",
              "  </tbody>\n",
              "</table>\n",
              "</div>\n",
              "    <div class=\"colab-df-buttons\">\n",
              "\n",
              "  <div class=\"colab-df-container\">\n",
              "    <button class=\"colab-df-convert\" onclick=\"convertToInteractive('df-2cb54b92-7698-4605-b2fc-f0beef6d2295')\"\n",
              "            title=\"Convert this dataframe to an interactive table.\"\n",
              "            style=\"display:none;\">\n",
              "\n",
              "  <svg xmlns=\"http://www.w3.org/2000/svg\" height=\"24px\" viewBox=\"0 -960 960 960\">\n",
              "    <path d=\"M120-120v-720h720v720H120Zm60-500h600v-160H180v160Zm220 220h160v-160H400v160Zm0 220h160v-160H400v160ZM180-400h160v-160H180v160Zm440 0h160v-160H620v160ZM180-180h160v-160H180v160Zm440 0h160v-160H620v160Z\"/>\n",
              "  </svg>\n",
              "    </button>\n",
              "\n",
              "  <style>\n",
              "    .colab-df-container {\n",
              "      display:flex;\n",
              "      gap: 12px;\n",
              "    }\n",
              "\n",
              "    .colab-df-convert {\n",
              "      background-color: #E8F0FE;\n",
              "      border: none;\n",
              "      border-radius: 50%;\n",
              "      cursor: pointer;\n",
              "      display: none;\n",
              "      fill: #1967D2;\n",
              "      height: 32px;\n",
              "      padding: 0 0 0 0;\n",
              "      width: 32px;\n",
              "    }\n",
              "\n",
              "    .colab-df-convert:hover {\n",
              "      background-color: #E2EBFA;\n",
              "      box-shadow: 0px 1px 2px rgba(60, 64, 67, 0.3), 0px 1px 3px 1px rgba(60, 64, 67, 0.15);\n",
              "      fill: #174EA6;\n",
              "    }\n",
              "\n",
              "    .colab-df-buttons div {\n",
              "      margin-bottom: 4px;\n",
              "    }\n",
              "\n",
              "    [theme=dark] .colab-df-convert {\n",
              "      background-color: #3B4455;\n",
              "      fill: #D2E3FC;\n",
              "    }\n",
              "\n",
              "    [theme=dark] .colab-df-convert:hover {\n",
              "      background-color: #434B5C;\n",
              "      box-shadow: 0px 1px 3px 1px rgba(0, 0, 0, 0.15);\n",
              "      filter: drop-shadow(0px 1px 2px rgba(0, 0, 0, 0.3));\n",
              "      fill: #FFFFFF;\n",
              "    }\n",
              "  </style>\n",
              "\n",
              "    <script>\n",
              "      const buttonEl =\n",
              "        document.querySelector('#df-2cb54b92-7698-4605-b2fc-f0beef6d2295 button.colab-df-convert');\n",
              "      buttonEl.style.display =\n",
              "        google.colab.kernel.accessAllowed ? 'block' : 'none';\n",
              "\n",
              "      async function convertToInteractive(key) {\n",
              "        const element = document.querySelector('#df-2cb54b92-7698-4605-b2fc-f0beef6d2295');\n",
              "        const dataTable =\n",
              "          await google.colab.kernel.invokeFunction('convertToInteractive',\n",
              "                                                    [key], {});\n",
              "        if (!dataTable) return;\n",
              "\n",
              "        const docLinkHtml = 'Like what you see? Visit the ' +\n",
              "          '<a target=\"_blank\" href=https://colab.research.google.com/notebooks/data_table.ipynb>data table notebook</a>'\n",
              "          + ' to learn more about interactive tables.';\n",
              "        element.innerHTML = '';\n",
              "        dataTable['output_type'] = 'display_data';\n",
              "        await google.colab.output.renderOutput(dataTable, element);\n",
              "        const docLink = document.createElement('div');\n",
              "        docLink.innerHTML = docLinkHtml;\n",
              "        element.appendChild(docLink);\n",
              "      }\n",
              "    </script>\n",
              "  </div>\n",
              "\n",
              "\n",
              "    </div>\n",
              "  </div>\n"
            ],
            "text/plain": [
              "      id   title                                           overview  \\\n",
              "0  19995  Avatar  [In, the, 22nd, century,, a, paraplegic, Marin...   \n",
              "\n",
              "                                            keywords  \\\n",
              "0  [cultureclash, future, spacewar, spacecolony, ...   \n",
              "\n",
              "                                         genres  \\\n",
              "0  [Action, Adventure, Fantasy, ScienceFiction]   \n",
              "\n",
              "                                            cast            crew  \\\n",
              "0  [SamWorthington, ZoeSaldana, SigourneyWeaver]  [JamesCameron]   \n",
              "\n",
              "                                                tags  \n",
              "0  [In, the, 22nd, century,, a, paraplegic, Marin...  "
            ]
          },
          "execution_count": 130,
          "metadata": {},
          "output_type": "execute_result"
        }
      ],
      "source": [
        "movies.head(1)"
      ]
    },
    {
      "cell_type": "code",
      "execution_count": null,
      "metadata": {
        "id": "JVZksFtaVCA7"
      },
      "outputs": [],
      "source": [
        "#removing these 5 no need beacuse all info have 1 col"
      ]
    },
    {
      "cell_type": "code",
      "execution_count": null,
      "metadata": {
        "id": "mnmIrgCHVR7q"
      },
      "outputs": [],
      "source": [
        "new_df = movies[[\"id\",\"title\",\"tags\"]]"
      ]
    },
    {
      "cell_type": "code",
      "execution_count": null,
      "metadata": {
        "colab": {
          "base_uri": "https://localhost:8080/",
          "height": 112
        },
        "id": "Hn5YJfbJVzYE",
        "outputId": "5f5278c0-cb1c-4fb1-c3cc-9c48369f7e6f"
      },
      "outputs": [
        {
          "data": {
            "application/vnd.google.colaboratory.intrinsic+json": {
              "summary": "{\n  \"name\": \"new_df\",\n  \"rows\": 2,\n  \"fields\": [\n    {\n      \"column\": \"id\",\n      \"properties\": {\n        \"dtype\": \"number\",\n        \"std\": 6025,\n        \"min\": 865,\n        \"max\": 9387,\n        \"num_unique_values\": 2,\n        \"samples\": [\n          865,\n          9387\n        ],\n        \"semantic_type\": \"\",\n        \"description\": \"\"\n      }\n    },\n    {\n      \"column\": \"title\",\n      \"properties\": {\n        \"dtype\": \"string\",\n        \"num_unique_values\": 2,\n        \"samples\": [\n          \"The Running Man\",\n          \"Conan the Barbarian\"\n        ],\n        \"semantic_type\": \"\",\n        \"description\": \"\"\n      }\n    },\n    {\n      \"column\": \"tags\",\n      \"properties\": {\n        \"dtype\": \"object\",\n        \"semantic_type\": \"\",\n        \"description\": \"\"\n      }\n    }\n  ]\n}",
              "type": "dataframe"
            },
            "text/html": [
              "\n",
              "  <div id=\"df-7ce9a0ee-ec0e-4c70-8ea8-723a82d3c052\" class=\"colab-df-container\">\n",
              "    <div>\n",
              "<style scoped>\n",
              "    .dataframe tbody tr th:only-of-type {\n",
              "        vertical-align: middle;\n",
              "    }\n",
              "\n",
              "    .dataframe tbody tr th {\n",
              "        vertical-align: top;\n",
              "    }\n",
              "\n",
              "    .dataframe thead th {\n",
              "        text-align: right;\n",
              "    }\n",
              "</style>\n",
              "<table border=\"1\" class=\"dataframe\">\n",
              "  <thead>\n",
              "    <tr style=\"text-align: right;\">\n",
              "      <th></th>\n",
              "      <th>id</th>\n",
              "      <th>title</th>\n",
              "      <th>tags</th>\n",
              "    </tr>\n",
              "  </thead>\n",
              "  <tbody>\n",
              "    <tr>\n",
              "      <th>379</th>\n",
              "      <td>9387</td>\n",
              "      <td>Conan the Barbarian</td>\n",
              "      <td>[A, film, adaptation, of, the, classic, sword,...</td>\n",
              "    </tr>\n",
              "    <tr>\n",
              "      <th>1610</th>\n",
              "      <td>865</td>\n",
              "      <td>The Running Man</td>\n",
              "      <td>[By, 2017,, the, global, economy, has, collaps...</td>\n",
              "    </tr>\n",
              "  </tbody>\n",
              "</table>\n",
              "</div>\n",
              "    <div class=\"colab-df-buttons\">\n",
              "\n",
              "  <div class=\"colab-df-container\">\n",
              "    <button class=\"colab-df-convert\" onclick=\"convertToInteractive('df-7ce9a0ee-ec0e-4c70-8ea8-723a82d3c052')\"\n",
              "            title=\"Convert this dataframe to an interactive table.\"\n",
              "            style=\"display:none;\">\n",
              "\n",
              "  <svg xmlns=\"http://www.w3.org/2000/svg\" height=\"24px\" viewBox=\"0 -960 960 960\">\n",
              "    <path d=\"M120-120v-720h720v720H120Zm60-500h600v-160H180v160Zm220 220h160v-160H400v160Zm0 220h160v-160H400v160ZM180-400h160v-160H180v160Zm440 0h160v-160H620v160ZM180-180h160v-160H180v160Zm440 0h160v-160H620v160Z\"/>\n",
              "  </svg>\n",
              "    </button>\n",
              "\n",
              "  <style>\n",
              "    .colab-df-container {\n",
              "      display:flex;\n",
              "      gap: 12px;\n",
              "    }\n",
              "\n",
              "    .colab-df-convert {\n",
              "      background-color: #E8F0FE;\n",
              "      border: none;\n",
              "      border-radius: 50%;\n",
              "      cursor: pointer;\n",
              "      display: none;\n",
              "      fill: #1967D2;\n",
              "      height: 32px;\n",
              "      padding: 0 0 0 0;\n",
              "      width: 32px;\n",
              "    }\n",
              "\n",
              "    .colab-df-convert:hover {\n",
              "      background-color: #E2EBFA;\n",
              "      box-shadow: 0px 1px 2px rgba(60, 64, 67, 0.3), 0px 1px 3px 1px rgba(60, 64, 67, 0.15);\n",
              "      fill: #174EA6;\n",
              "    }\n",
              "\n",
              "    .colab-df-buttons div {\n",
              "      margin-bottom: 4px;\n",
              "    }\n",
              "\n",
              "    [theme=dark] .colab-df-convert {\n",
              "      background-color: #3B4455;\n",
              "      fill: #D2E3FC;\n",
              "    }\n",
              "\n",
              "    [theme=dark] .colab-df-convert:hover {\n",
              "      background-color: #434B5C;\n",
              "      box-shadow: 0px 1px 3px 1px rgba(0, 0, 0, 0.15);\n",
              "      filter: drop-shadow(0px 1px 2px rgba(0, 0, 0, 0.3));\n",
              "      fill: #FFFFFF;\n",
              "    }\n",
              "  </style>\n",
              "\n",
              "    <script>\n",
              "      const buttonEl =\n",
              "        document.querySelector('#df-7ce9a0ee-ec0e-4c70-8ea8-723a82d3c052 button.colab-df-convert');\n",
              "      buttonEl.style.display =\n",
              "        google.colab.kernel.accessAllowed ? 'block' : 'none';\n",
              "\n",
              "      async function convertToInteractive(key) {\n",
              "        const element = document.querySelector('#df-7ce9a0ee-ec0e-4c70-8ea8-723a82d3c052');\n",
              "        const dataTable =\n",
              "          await google.colab.kernel.invokeFunction('convertToInteractive',\n",
              "                                                    [key], {});\n",
              "        if (!dataTable) return;\n",
              "\n",
              "        const docLinkHtml = 'Like what you see? Visit the ' +\n",
              "          '<a target=\"_blank\" href=https://colab.research.google.com/notebooks/data_table.ipynb>data table notebook</a>'\n",
              "          + ' to learn more about interactive tables.';\n",
              "        element.innerHTML = '';\n",
              "        dataTable['output_type'] = 'display_data';\n",
              "        await google.colab.output.renderOutput(dataTable, element);\n",
              "        const docLink = document.createElement('div');\n",
              "        docLink.innerHTML = docLinkHtml;\n",
              "        element.appendChild(docLink);\n",
              "      }\n",
              "    </script>\n",
              "  </div>\n",
              "\n",
              "\n",
              "    <div id=\"df-56a43174-8a90-4d18-a84e-b41289ef7b38\">\n",
              "      <button class=\"colab-df-quickchart\" onclick=\"quickchart('df-56a43174-8a90-4d18-a84e-b41289ef7b38')\"\n",
              "                title=\"Suggest charts\"\n",
              "                style=\"display:none;\">\n",
              "\n",
              "<svg xmlns=\"http://www.w3.org/2000/svg\" height=\"24px\"viewBox=\"0 0 24 24\"\n",
              "     width=\"24px\">\n",
              "    <g>\n",
              "        <path d=\"M19 3H5c-1.1 0-2 .9-2 2v14c0 1.1.9 2 2 2h14c1.1 0 2-.9 2-2V5c0-1.1-.9-2-2-2zM9 17H7v-7h2v7zm4 0h-2V7h2v10zm4 0h-2v-4h2v4z\"/>\n",
              "    </g>\n",
              "</svg>\n",
              "      </button>\n",
              "\n",
              "<style>\n",
              "  .colab-df-quickchart {\n",
              "      --bg-color: #E8F0FE;\n",
              "      --fill-color: #1967D2;\n",
              "      --hover-bg-color: #E2EBFA;\n",
              "      --hover-fill-color: #174EA6;\n",
              "      --disabled-fill-color: #AAA;\n",
              "      --disabled-bg-color: #DDD;\n",
              "  }\n",
              "\n",
              "  [theme=dark] .colab-df-quickchart {\n",
              "      --bg-color: #3B4455;\n",
              "      --fill-color: #D2E3FC;\n",
              "      --hover-bg-color: #434B5C;\n",
              "      --hover-fill-color: #FFFFFF;\n",
              "      --disabled-bg-color: #3B4455;\n",
              "      --disabled-fill-color: #666;\n",
              "  }\n",
              "\n",
              "  .colab-df-quickchart {\n",
              "    background-color: var(--bg-color);\n",
              "    border: none;\n",
              "    border-radius: 50%;\n",
              "    cursor: pointer;\n",
              "    display: none;\n",
              "    fill: var(--fill-color);\n",
              "    height: 32px;\n",
              "    padding: 0;\n",
              "    width: 32px;\n",
              "  }\n",
              "\n",
              "  .colab-df-quickchart:hover {\n",
              "    background-color: var(--hover-bg-color);\n",
              "    box-shadow: 0 1px 2px rgba(60, 64, 67, 0.3), 0 1px 3px 1px rgba(60, 64, 67, 0.15);\n",
              "    fill: var(--button-hover-fill-color);\n",
              "  }\n",
              "\n",
              "  .colab-df-quickchart-complete:disabled,\n",
              "  .colab-df-quickchart-complete:disabled:hover {\n",
              "    background-color: var(--disabled-bg-color);\n",
              "    fill: var(--disabled-fill-color);\n",
              "    box-shadow: none;\n",
              "  }\n",
              "\n",
              "  .colab-df-spinner {\n",
              "    border: 2px solid var(--fill-color);\n",
              "    border-color: transparent;\n",
              "    border-bottom-color: var(--fill-color);\n",
              "    animation:\n",
              "      spin 1s steps(1) infinite;\n",
              "  }\n",
              "\n",
              "  @keyframes spin {\n",
              "    0% {\n",
              "      border-color: transparent;\n",
              "      border-bottom-color: var(--fill-color);\n",
              "      border-left-color: var(--fill-color);\n",
              "    }\n",
              "    20% {\n",
              "      border-color: transparent;\n",
              "      border-left-color: var(--fill-color);\n",
              "      border-top-color: var(--fill-color);\n",
              "    }\n",
              "    30% {\n",
              "      border-color: transparent;\n",
              "      border-left-color: var(--fill-color);\n",
              "      border-top-color: var(--fill-color);\n",
              "      border-right-color: var(--fill-color);\n",
              "    }\n",
              "    40% {\n",
              "      border-color: transparent;\n",
              "      border-right-color: var(--fill-color);\n",
              "      border-top-color: var(--fill-color);\n",
              "    }\n",
              "    60% {\n",
              "      border-color: transparent;\n",
              "      border-right-color: var(--fill-color);\n",
              "    }\n",
              "    80% {\n",
              "      border-color: transparent;\n",
              "      border-right-color: var(--fill-color);\n",
              "      border-bottom-color: var(--fill-color);\n",
              "    }\n",
              "    90% {\n",
              "      border-color: transparent;\n",
              "      border-bottom-color: var(--fill-color);\n",
              "    }\n",
              "  }\n",
              "</style>\n",
              "\n",
              "      <script>\n",
              "        async function quickchart(key) {\n",
              "          const quickchartButtonEl =\n",
              "            document.querySelector('#' + key + ' button');\n",
              "          quickchartButtonEl.disabled = true;  // To prevent multiple clicks.\n",
              "          quickchartButtonEl.classList.add('colab-df-spinner');\n",
              "          try {\n",
              "            const charts = await google.colab.kernel.invokeFunction(\n",
              "                'suggestCharts', [key], {});\n",
              "          } catch (error) {\n",
              "            console.error('Error during call to suggestCharts:', error);\n",
              "          }\n",
              "          quickchartButtonEl.classList.remove('colab-df-spinner');\n",
              "          quickchartButtonEl.classList.add('colab-df-quickchart-complete');\n",
              "        }\n",
              "        (() => {\n",
              "          let quickchartButtonEl =\n",
              "            document.querySelector('#df-56a43174-8a90-4d18-a84e-b41289ef7b38 button');\n",
              "          quickchartButtonEl.style.display =\n",
              "            google.colab.kernel.accessAllowed ? 'block' : 'none';\n",
              "        })();\n",
              "      </script>\n",
              "    </div>\n",
              "\n",
              "    </div>\n",
              "  </div>\n"
            ],
            "text/plain": [
              "        id                title  \\\n",
              "379   9387  Conan the Barbarian   \n",
              "1610   865      The Running Man   \n",
              "\n",
              "                                                   tags  \n",
              "379   [A, film, adaptation, of, the, classic, sword,...  \n",
              "1610  [By, 2017,, the, global, economy, has, collaps...  "
            ]
          },
          "execution_count": 133,
          "metadata": {},
          "output_type": "execute_result"
        }
      ],
      "source": [
        "new_df.sample(2)"
      ]
    },
    {
      "cell_type": "code",
      "execution_count": null,
      "metadata": {
        "id": "W9dEZe7cV2jp"
      },
      "outputs": [],
      "source": [
        "#list to string for tags"
      ]
    },
    {
      "cell_type": "code",
      "execution_count": null,
      "metadata": {
        "colab": {
          "base_uri": "https://localhost:8080/",
          "height": 458
        },
        "id": "GCefKBtvV65y",
        "outputId": "e6d5ba15-ef02-48b3-ad73-d2c39119da0d"
      },
      "outputs": [
        {
          "data": {
            "text/html": [
              "<div>\n",
              "<style scoped>\n",
              "    .dataframe tbody tr th:only-of-type {\n",
              "        vertical-align: middle;\n",
              "    }\n",
              "\n",
              "    .dataframe tbody tr th {\n",
              "        vertical-align: top;\n",
              "    }\n",
              "\n",
              "    .dataframe thead th {\n",
              "        text-align: right;\n",
              "    }\n",
              "</style>\n",
              "<table border=\"1\" class=\"dataframe\">\n",
              "  <thead>\n",
              "    <tr style=\"text-align: right;\">\n",
              "      <th></th>\n",
              "      <th>tags</th>\n",
              "    </tr>\n",
              "  </thead>\n",
              "  <tbody>\n",
              "    <tr>\n",
              "      <th>0</th>\n",
              "      <td>In the 22nd century, a paraplegic Marine is di...</td>\n",
              "    </tr>\n",
              "    <tr>\n",
              "      <th>1</th>\n",
              "      <td>Captain Barbossa, long believed to be dead, ha...</td>\n",
              "    </tr>\n",
              "    <tr>\n",
              "      <th>2</th>\n",
              "      <td>A cryptic message from Bond’s past sends him o...</td>\n",
              "    </tr>\n",
              "    <tr>\n",
              "      <th>3</th>\n",
              "      <td>Following the death of District Attorney Harve...</td>\n",
              "    </tr>\n",
              "    <tr>\n",
              "      <th>4</th>\n",
              "      <td>John Carter is a war-weary, former military ca...</td>\n",
              "    </tr>\n",
              "    <tr>\n",
              "      <th>...</th>\n",
              "      <td>...</td>\n",
              "    </tr>\n",
              "    <tr>\n",
              "      <th>4804</th>\n",
              "      <td>El Mariachi just wants to play his guitar and ...</td>\n",
              "    </tr>\n",
              "    <tr>\n",
              "      <th>4805</th>\n",
              "      <td>A newlywed couple's honeymoon is upended by th...</td>\n",
              "    </tr>\n",
              "    <tr>\n",
              "      <th>4806</th>\n",
              "      <td>\"Signed, Sealed, Delivered\" introduces a dedic...</td>\n",
              "    </tr>\n",
              "    <tr>\n",
              "      <th>4807</th>\n",
              "      <td>When ambitious New York attorney Sam is sent t...</td>\n",
              "    </tr>\n",
              "    <tr>\n",
              "      <th>4808</th>\n",
              "      <td>Ever since the second grade when he first saw ...</td>\n",
              "    </tr>\n",
              "  </tbody>\n",
              "</table>\n",
              "<p>4806 rows × 1 columns</p>\n",
              "</div><br><label><b>dtype:</b> object</label>"
            ],
            "text/plain": [
              "0       In the 22nd century, a paraplegic Marine is di...\n",
              "1       Captain Barbossa, long believed to be dead, ha...\n",
              "2       A cryptic message from Bond’s past sends him o...\n",
              "3       Following the death of District Attorney Harve...\n",
              "4       John Carter is a war-weary, former military ca...\n",
              "                              ...                        \n",
              "4804    El Mariachi just wants to play his guitar and ...\n",
              "4805    A newlywed couple's honeymoon is upended by th...\n",
              "4806    \"Signed, Sealed, Delivered\" introduces a dedic...\n",
              "4807    When ambitious New York attorney Sam is sent t...\n",
              "4808    Ever since the second grade when he first saw ...\n",
              "Name: tags, Length: 4806, dtype: object"
            ]
          },
          "execution_count": 135,
          "metadata": {},
          "output_type": "execute_result"
        }
      ],
      "source": [
        "new_df[\"tags\"].apply(lambda x: \" \".join(x)) #corpus"
      ]
    },
    {
      "cell_type": "code",
      "execution_count": null,
      "metadata": {
        "colab": {
          "base_uri": "https://localhost:8080/"
        },
        "id": "CI25AaQ8WfS1",
        "outputId": "ef1fa211-b955-4b1a-cfe5-69ae27b87062"
      },
      "outputs": [
        {
          "name": "stderr",
          "output_type": "stream",
          "text": [
            "/tmp/ipython-input-3719869087.py:1: SettingWithCopyWarning: \n",
            "A value is trying to be set on a copy of a slice from a DataFrame.\n",
            "Try using .loc[row_indexer,col_indexer] = value instead\n",
            "\n",
            "See the caveats in the documentation: https://pandas.pydata.org/pandas-docs/stable/user_guide/indexing.html#returning-a-view-versus-a-copy\n",
            "  new_df[\"tags\"] = new_df[\"tags\"].apply(lambda x: \" \".join(x))\n"
          ]
        }
      ],
      "source": [
        "new_df[\"tags\"] = new_df[\"tags\"].apply(lambda x: \" \".join(x))"
      ]
    },
    {
      "cell_type": "code",
      "execution_count": null,
      "metadata": {
        "colab": {
          "base_uri": "https://localhost:8080/"
        },
        "id": "BOfsI7paWiQB",
        "outputId": "7c1ff004-53c4-42f4-942c-4a135a2bb670"
      },
      "outputs": [
        {
          "data": {
            "text/plain": [
              "(2888    The late 1940s. Richard Langley, a bachelor pl...\n",
              " 146     Alex, Marty, Gloria and Melman are still tryin...\n",
              " Name: tags, dtype: object,\n",
              " 'A cryptic message from Bond’s past sends him on a trail to uncover a sinister organization. While M battles political forces to keep the secret service alive, Bond peels back the layers of deceit to reveal the terrible truth behind SPECTRE. Action Adventure Crime spy basedonnovel secretagent sequel mi6 britishsecretservice unitedkingdom DanielCraig ChristophWaltz LéaSeydoux SamMendes')"
            ]
          },
          "execution_count": 138,
          "metadata": {},
          "output_type": "execute_result"
        }
      ],
      "source": [
        "new_df[\"tags\"].sample(2),new_df[\"tags\"][2]"
      ]
    },
    {
      "cell_type": "code",
      "execution_count": null,
      "metadata": {
        "colab": {
          "base_uri": "https://localhost:8080/",
          "height": 458
        },
        "id": "zZcxO97oWnI_",
        "outputId": "e99c77b3-7e12-4aee-c0fb-82a9292df3a8"
      },
      "outputs": [
        {
          "data": {
            "text/html": [
              "<div>\n",
              "<style scoped>\n",
              "    .dataframe tbody tr th:only-of-type {\n",
              "        vertical-align: middle;\n",
              "    }\n",
              "\n",
              "    .dataframe tbody tr th {\n",
              "        vertical-align: top;\n",
              "    }\n",
              "\n",
              "    .dataframe thead th {\n",
              "        text-align: right;\n",
              "    }\n",
              "</style>\n",
              "<table border=\"1\" class=\"dataframe\">\n",
              "  <thead>\n",
              "    <tr style=\"text-align: right;\">\n",
              "      <th></th>\n",
              "      <th>tags</th>\n",
              "    </tr>\n",
              "  </thead>\n",
              "  <tbody>\n",
              "    <tr>\n",
              "      <th>0</th>\n",
              "      <td>in the 22nd century, a paraplegic marine is di...</td>\n",
              "    </tr>\n",
              "    <tr>\n",
              "      <th>1</th>\n",
              "      <td>captain barbossa, long believed to be dead, ha...</td>\n",
              "    </tr>\n",
              "    <tr>\n",
              "      <th>2</th>\n",
              "      <td>a cryptic message from bond’s past sends him o...</td>\n",
              "    </tr>\n",
              "    <tr>\n",
              "      <th>3</th>\n",
              "      <td>following the death of district attorney harve...</td>\n",
              "    </tr>\n",
              "    <tr>\n",
              "      <th>4</th>\n",
              "      <td>john carter is a war-weary, former military ca...</td>\n",
              "    </tr>\n",
              "    <tr>\n",
              "      <th>...</th>\n",
              "      <td>...</td>\n",
              "    </tr>\n",
              "    <tr>\n",
              "      <th>4804</th>\n",
              "      <td>el mariachi just wants to play his guitar and ...</td>\n",
              "    </tr>\n",
              "    <tr>\n",
              "      <th>4805</th>\n",
              "      <td>a newlywed couple's honeymoon is upended by th...</td>\n",
              "    </tr>\n",
              "    <tr>\n",
              "      <th>4806</th>\n",
              "      <td>\"signed, sealed, delivered\" introduces a dedic...</td>\n",
              "    </tr>\n",
              "    <tr>\n",
              "      <th>4807</th>\n",
              "      <td>when ambitious new york attorney sam is sent t...</td>\n",
              "    </tr>\n",
              "    <tr>\n",
              "      <th>4808</th>\n",
              "      <td>ever since the second grade when he first saw ...</td>\n",
              "    </tr>\n",
              "  </tbody>\n",
              "</table>\n",
              "<p>4806 rows × 1 columns</p>\n",
              "</div><br><label><b>dtype:</b> object</label>"
            ],
            "text/plain": [
              "0       in the 22nd century, a paraplegic marine is di...\n",
              "1       captain barbossa, long believed to be dead, ha...\n",
              "2       a cryptic message from bond’s past sends him o...\n",
              "3       following the death of district attorney harve...\n",
              "4       john carter is a war-weary, former military ca...\n",
              "                              ...                        \n",
              "4804    el mariachi just wants to play his guitar and ...\n",
              "4805    a newlywed couple's honeymoon is upended by th...\n",
              "4806    \"signed, sealed, delivered\" introduces a dedic...\n",
              "4807    when ambitious new york attorney sam is sent t...\n",
              "4808    ever since the second grade when he first saw ...\n",
              "Name: tags, Length: 4806, dtype: object"
            ]
          },
          "execution_count": 139,
          "metadata": {},
          "output_type": "execute_result"
        }
      ],
      "source": [
        "new_df[\"tags\"].apply(lambda x:x.lower()) #converting into lower case"
      ]
    },
    {
      "cell_type": "code",
      "execution_count": null,
      "metadata": {
        "colab": {
          "base_uri": "https://localhost:8080/"
        },
        "id": "82uSG8GGW1hI",
        "outputId": "fbcbe324-0717-4c2c-8a66-f9d139c1e9c2"
      },
      "outputs": [
        {
          "name": "stderr",
          "output_type": "stream",
          "text": [
            "/tmp/ipython-input-3481706753.py:1: SettingWithCopyWarning: \n",
            "A value is trying to be set on a copy of a slice from a DataFrame.\n",
            "Try using .loc[row_indexer,col_indexer] = value instead\n",
            "\n",
            "See the caveats in the documentation: https://pandas.pydata.org/pandas-docs/stable/user_guide/indexing.html#returning-a-view-versus-a-copy\n",
            "  new_df[\"tags\"] = new_df[\"tags\"].apply(lambda x:x.lower())\n"
          ]
        }
      ],
      "source": [
        "new_df[\"tags\"] = new_df[\"tags\"].apply(lambda x:x.lower())"
      ]
    },
    {
      "cell_type": "code",
      "execution_count": null,
      "metadata": {
        "id": "hIn3psnsbyVI"
      },
      "outputs": [],
      "source": [
        "#replacing similar word\n",
        "#applying steaming to replace by one similar word"
      ]
    },
    {
      "cell_type": "code",
      "execution_count": null,
      "metadata": {
        "id": "tN7GV6bqbQUv"
      },
      "outputs": [],
      "source": [
        "import nltk\n",
        "from nltk.stem.porter import PorterStemmer\n",
        "ps = PorterStemmer()"
      ]
    },
    {
      "cell_type": "code",
      "execution_count": null,
      "metadata": {
        "colab": {
          "base_uri": "https://localhost:8080/",
          "height": 36
        },
        "id": "TfVx_D2McbqG",
        "outputId": "916485b9-1f8b-43bc-9457-b23740a29bef"
      },
      "outputs": [
        {
          "data": {
            "application/vnd.google.colaboratory.intrinsic+json": {
              "type": "string"
            },
            "text/plain": [
              "'word'"
            ]
          },
          "execution_count": 182,
          "metadata": {},
          "output_type": "execute_result"
        }
      ],
      "source": [
        "ps.stem(\"wording\")"
      ]
    },
    {
      "cell_type": "code",
      "execution_count": null,
      "metadata": {
        "id": "yHMJGGAjbRWd"
      },
      "outputs": [],
      "source": [
        "def stem(text):\n",
        "  y = []\n",
        "\n",
        "  for i in text.split():\n",
        "    y.append(ps.stem(i)) #into list the string again\n",
        "\n",
        "  return \" \".join(y)\n"
      ]
    },
    {
      "cell_type": "code",
      "execution_count": null,
      "metadata": {
        "colab": {
          "base_uri": "https://localhost:8080/",
          "height": 109
        },
        "id": "PXLszNoYbRQo",
        "outputId": "6d47dcd6-909a-4f63-a840-d5a7e6355980"
      },
      "outputs": [
        {
          "data": {
            "application/vnd.google.colaboratory.intrinsic+json": {
              "type": "string"
            },
            "text/plain": [
              "'in the 22nd century, a paraplegic marine is dispatched to the moon pandora on a unique mission, but becomes torn between following orders and protecting an alien civilization. action adventure fantasy sciencefiction cultureclash future spacewar spacecolony society spacetravel futuristic romance space alien tribe alienplanet cgi marine soldier battle loveaffair antiwar powerrelations mindandsoul 3d samworthington zoesaldana sigourneyweaver jamescameron'"
            ]
          },
          "execution_count": 169,
          "metadata": {},
          "output_type": "execute_result"
        }
      ],
      "source": [
        "new_df[\"tags\"][0]"
      ]
    },
    {
      "cell_type": "code",
      "execution_count": null,
      "metadata": {
        "colab": {
          "base_uri": "https://localhost:8080/",
          "height": 109
        },
        "id": "a2wIOyqecRTG",
        "outputId": "67bcd880-fc18-4cbe-ef43-71548815aa4d"
      },
      "outputs": [
        {
          "data": {
            "application/vnd.google.colaboratory.intrinsic+json": {
              "type": "string"
            },
            "text/plain": [
              "'in the 22nd century, a parapleg marin is dispatch to the moon pandora on a uniqu mission, but becom torn between follow order and protect an alien civilization. action adventur fantasi sciencefict cultureclash futur spacewar spacecoloni societi spacetravel futurist romanc space alien tribe alienplanet cgi marin soldier battl loveaffair antiwar powerrel mindandsoul 3d samworthington zoesaldana sigourneyweav jamescameron'"
            ]
          },
          "execution_count": 171,
          "metadata": {},
          "output_type": "execute_result"
        }
      ],
      "source": [
        "stem(\"in the 22nd century, a paraplegic marine is dispatched to the moon pandora on a unique mission, but becomes torn between following orders and protecting an alien civilization. action adventure fantasy sciencefiction cultureclash future spacewar spacecolony society spacetravel futuristic romance space alien tribe alienplanet cgi marine soldier battle loveaffair antiwar powerrelations mindandsoul 3d samworthington zoesaldana sigourneyweaver jamescameron\")"
      ]
    },
    {
      "cell_type": "code",
      "execution_count": null,
      "metadata": {
        "colab": {
          "base_uri": "https://localhost:8080/",
          "height": 458
        },
        "id": "rTDDiVs8c7nX",
        "outputId": "eba97cd1-3cf5-4d94-bafa-8d224f650ee9"
      },
      "outputs": [
        {
          "data": {
            "text/html": [
              "<div>\n",
              "<style scoped>\n",
              "    .dataframe tbody tr th:only-of-type {\n",
              "        vertical-align: middle;\n",
              "    }\n",
              "\n",
              "    .dataframe tbody tr th {\n",
              "        vertical-align: top;\n",
              "    }\n",
              "\n",
              "    .dataframe thead th {\n",
              "        text-align: right;\n",
              "    }\n",
              "</style>\n",
              "<table border=\"1\" class=\"dataframe\">\n",
              "  <thead>\n",
              "    <tr style=\"text-align: right;\">\n",
              "      <th></th>\n",
              "      <th>tags</th>\n",
              "    </tr>\n",
              "  </thead>\n",
              "  <tbody>\n",
              "    <tr>\n",
              "      <th>0</th>\n",
              "      <td>in the 22nd century, a parapleg marin is dispa...</td>\n",
              "    </tr>\n",
              "    <tr>\n",
              "      <th>1</th>\n",
              "      <td>captain barbossa, long believ to be dead, ha c...</td>\n",
              "    </tr>\n",
              "    <tr>\n",
              "      <th>2</th>\n",
              "      <td>a cryptic messag from bond’ past send him on a...</td>\n",
              "    </tr>\n",
              "    <tr>\n",
              "      <th>3</th>\n",
              "      <td>follow the death of district attorney harvey d...</td>\n",
              "    </tr>\n",
              "    <tr>\n",
              "      <th>4</th>\n",
              "      <td>john carter is a war-weary, former militari ca...</td>\n",
              "    </tr>\n",
              "    <tr>\n",
              "      <th>...</th>\n",
              "      <td>...</td>\n",
              "    </tr>\n",
              "    <tr>\n",
              "      <th>4804</th>\n",
              "      <td>el mariachi just want to play hi guitar and ca...</td>\n",
              "    </tr>\n",
              "    <tr>\n",
              "      <th>4805</th>\n",
              "      <td>a newlyw couple' honeymoon is upend by the arr...</td>\n",
              "    </tr>\n",
              "    <tr>\n",
              "      <th>4806</th>\n",
              "      <td>\"signed, sealed, delivered\" introduc a dedic q...</td>\n",
              "    </tr>\n",
              "    <tr>\n",
              "      <th>4807</th>\n",
              "      <td>when ambiti new york attorney sam is sent to s...</td>\n",
              "    </tr>\n",
              "    <tr>\n",
              "      <th>4808</th>\n",
              "      <td>ever sinc the second grade when he first saw h...</td>\n",
              "    </tr>\n",
              "  </tbody>\n",
              "</table>\n",
              "<p>4806 rows × 1 columns</p>\n",
              "</div><br><label><b>dtype:</b> object</label>"
            ],
            "text/plain": [
              "0       in the 22nd century, a parapleg marin is dispa...\n",
              "1       captain barbossa, long believ to be dead, ha c...\n",
              "2       a cryptic messag from bond’ past send him on a...\n",
              "3       follow the death of district attorney harvey d...\n",
              "4       john carter is a war-weary, former militari ca...\n",
              "                              ...                        \n",
              "4804    el mariachi just want to play hi guitar and ca...\n",
              "4805    a newlyw couple' honeymoon is upend by the arr...\n",
              "4806    \"signed, sealed, delivered\" introduc a dedic q...\n",
              "4807    when ambiti new york attorney sam is sent to s...\n",
              "4808    ever sinc the second grade when he first saw h...\n",
              "Name: tags, Length: 4806, dtype: object"
            ]
          },
          "execution_count": 184,
          "metadata": {},
          "output_type": "execute_result"
        }
      ],
      "source": [
        "new_df[\"tags\"].apply(stem)"
      ]
    },
    {
      "cell_type": "code",
      "execution_count": null,
      "metadata": {
        "colab": {
          "base_uri": "https://localhost:8080/"
        },
        "id": "SAkp3xFEc1CP",
        "outputId": "29d613fa-69bd-4c0a-f530-077459243cc6"
      },
      "outputs": [
        {
          "name": "stderr",
          "output_type": "stream",
          "text": [
            "/tmp/ipython-input-825579503.py:1: SettingWithCopyWarning: \n",
            "A value is trying to be set on a copy of a slice from a DataFrame.\n",
            "Try using .loc[row_indexer,col_indexer] = value instead\n",
            "\n",
            "See the caveats in the documentation: https://pandas.pydata.org/pandas-docs/stable/user_guide/indexing.html#returning-a-view-versus-a-copy\n",
            "  new_df[\"tags\"] = new_df[\"tags\"].apply(stem)\n"
          ]
        }
      ],
      "source": [
        "new_df[\"tags\"] = new_df[\"tags\"].apply(stem)"
      ]
    },
    {
      "cell_type": "code",
      "execution_count": null,
      "metadata": {
        "colab": {
          "base_uri": "https://localhost:8080/",
          "height": 112
        },
        "id": "JF4jmrnOW7GU",
        "outputId": "13ec0e2b-71b0-4d2e-dc75-b734aa408986"
      },
      "outputs": [
        {
          "data": {
            "application/vnd.google.colaboratory.intrinsic+json": {
              "summary": "{\n  \"name\": \"new_df\",\n  \"rows\": 2,\n  \"fields\": [\n    {\n      \"column\": \"id\",\n      \"properties\": {\n        \"dtype\": \"number\",\n        \"std\": 6353,\n        \"min\": 746,\n        \"max\": 9731,\n        \"num_unique_values\": 2,\n        \"samples\": [\n          9731,\n          746\n        ],\n        \"semantic_type\": \"\",\n        \"description\": \"\"\n      }\n    },\n    {\n      \"column\": \"title\",\n      \"properties\": {\n        \"dtype\": \"string\",\n        \"num_unique_values\": 2,\n        \"samples\": [\n          \"Friday the 13th: A New Beginning\",\n          \"The Last Emperor\"\n        ],\n        \"semantic_type\": \"\",\n        \"description\": \"\"\n      }\n    },\n    {\n      \"column\": \"tags\",\n      \"properties\": {\n        \"dtype\": \"string\",\n        \"num_unique_values\": 2,\n        \"samples\": [\n          \"homicid maniac jason return from the grave to caus more bloodi mayhem. young tommi may have escap from crystal lake, but he\\u2019 still haunt by the gruesom event that happen there. when gori murder start happen at the seclud halfway hous for troubl teen where he now lives, it seem like hi nightmarish nemesis, jason, is back for more sadist slaughters. but as thing spiral out of control and the bodi count rises, tommi begin to wonder if he\\u2019 becom the killer he fear most. horror thriller mask psycholog serialkil hospit teenag seriesofmurd melaniekinnaman johnshepherd shavarross dannysteinmann\",\n          \"a dramat histori of pu yi, the last of the emperor of china, from hi lofti birth and brief reign in the forbidden city, the object of worship by half a billion people; through hi abdication, hi declin and dissolut lifestyle; hi exploit by the invad japanese, and final to hi obscur exist as just anoth peasant worker in the people' republic. drama histori buddhism japan suicid china suicideattempt warcrim becominganadult isol warondrug revolut emperor arrangedmarriag manchuria dynasti reeducationcamp culturalrevolut humanexperiment war coupd'etat teacher beij decad commun johnlon petero'tool joanchen bernardobertolucci\"\n        ],\n        \"semantic_type\": \"\",\n        \"description\": \"\"\n      }\n    }\n  ]\n}",
              "type": "dataframe"
            },
            "text/html": [
              "\n",
              "  <div id=\"df-d28ab29c-22bf-4774-9203-6732d18b775f\" class=\"colab-df-container\">\n",
              "    <div>\n",
              "<style scoped>\n",
              "    .dataframe tbody tr th:only-of-type {\n",
              "        vertical-align: middle;\n",
              "    }\n",
              "\n",
              "    .dataframe tbody tr th {\n",
              "        vertical-align: top;\n",
              "    }\n",
              "\n",
              "    .dataframe thead th {\n",
              "        text-align: right;\n",
              "    }\n",
              "</style>\n",
              "<table border=\"1\" class=\"dataframe\">\n",
              "  <thead>\n",
              "    <tr style=\"text-align: right;\">\n",
              "      <th></th>\n",
              "      <th>id</th>\n",
              "      <th>title</th>\n",
              "      <th>tags</th>\n",
              "    </tr>\n",
              "  </thead>\n",
              "  <tbody>\n",
              "    <tr>\n",
              "      <th>1854</th>\n",
              "      <td>746</td>\n",
              "      <td>The Last Emperor</td>\n",
              "      <td>a dramat histori of pu yi, the last of the emp...</td>\n",
              "    </tr>\n",
              "    <tr>\n",
              "      <th>4058</th>\n",
              "      <td>9731</td>\n",
              "      <td>Friday the 13th: A New Beginning</td>\n",
              "      <td>homicid maniac jason return from the grave to ...</td>\n",
              "    </tr>\n",
              "  </tbody>\n",
              "</table>\n",
              "</div>\n",
              "    <div class=\"colab-df-buttons\">\n",
              "\n",
              "  <div class=\"colab-df-container\">\n",
              "    <button class=\"colab-df-convert\" onclick=\"convertToInteractive('df-d28ab29c-22bf-4774-9203-6732d18b775f')\"\n",
              "            title=\"Convert this dataframe to an interactive table.\"\n",
              "            style=\"display:none;\">\n",
              "\n",
              "  <svg xmlns=\"http://www.w3.org/2000/svg\" height=\"24px\" viewBox=\"0 -960 960 960\">\n",
              "    <path d=\"M120-120v-720h720v720H120Zm60-500h600v-160H180v160Zm220 220h160v-160H400v160Zm0 220h160v-160H400v160ZM180-400h160v-160H180v160Zm440 0h160v-160H620v160ZM180-180h160v-160H180v160Zm440 0h160v-160H620v160Z\"/>\n",
              "  </svg>\n",
              "    </button>\n",
              "\n",
              "  <style>\n",
              "    .colab-df-container {\n",
              "      display:flex;\n",
              "      gap: 12px;\n",
              "    }\n",
              "\n",
              "    .colab-df-convert {\n",
              "      background-color: #E8F0FE;\n",
              "      border: none;\n",
              "      border-radius: 50%;\n",
              "      cursor: pointer;\n",
              "      display: none;\n",
              "      fill: #1967D2;\n",
              "      height: 32px;\n",
              "      padding: 0 0 0 0;\n",
              "      width: 32px;\n",
              "    }\n",
              "\n",
              "    .colab-df-convert:hover {\n",
              "      background-color: #E2EBFA;\n",
              "      box-shadow: 0px 1px 2px rgba(60, 64, 67, 0.3), 0px 1px 3px 1px rgba(60, 64, 67, 0.15);\n",
              "      fill: #174EA6;\n",
              "    }\n",
              "\n",
              "    .colab-df-buttons div {\n",
              "      margin-bottom: 4px;\n",
              "    }\n",
              "\n",
              "    [theme=dark] .colab-df-convert {\n",
              "      background-color: #3B4455;\n",
              "      fill: #D2E3FC;\n",
              "    }\n",
              "\n",
              "    [theme=dark] .colab-df-convert:hover {\n",
              "      background-color: #434B5C;\n",
              "      box-shadow: 0px 1px 3px 1px rgba(0, 0, 0, 0.15);\n",
              "      filter: drop-shadow(0px 1px 2px rgba(0, 0, 0, 0.3));\n",
              "      fill: #FFFFFF;\n",
              "    }\n",
              "  </style>\n",
              "\n",
              "    <script>\n",
              "      const buttonEl =\n",
              "        document.querySelector('#df-d28ab29c-22bf-4774-9203-6732d18b775f button.colab-df-convert');\n",
              "      buttonEl.style.display =\n",
              "        google.colab.kernel.accessAllowed ? 'block' : 'none';\n",
              "\n",
              "      async function convertToInteractive(key) {\n",
              "        const element = document.querySelector('#df-d28ab29c-22bf-4774-9203-6732d18b775f');\n",
              "        const dataTable =\n",
              "          await google.colab.kernel.invokeFunction('convertToInteractive',\n",
              "                                                    [key], {});\n",
              "        if (!dataTable) return;\n",
              "\n",
              "        const docLinkHtml = 'Like what you see? Visit the ' +\n",
              "          '<a target=\"_blank\" href=https://colab.research.google.com/notebooks/data_table.ipynb>data table notebook</a>'\n",
              "          + ' to learn more about interactive tables.';\n",
              "        element.innerHTML = '';\n",
              "        dataTable['output_type'] = 'display_data';\n",
              "        await google.colab.output.renderOutput(dataTable, element);\n",
              "        const docLink = document.createElement('div');\n",
              "        docLink.innerHTML = docLinkHtml;\n",
              "        element.appendChild(docLink);\n",
              "      }\n",
              "    </script>\n",
              "  </div>\n",
              "\n",
              "\n",
              "    <div id=\"df-456167fd-f6d2-400e-ad90-4c533422092b\">\n",
              "      <button class=\"colab-df-quickchart\" onclick=\"quickchart('df-456167fd-f6d2-400e-ad90-4c533422092b')\"\n",
              "                title=\"Suggest charts\"\n",
              "                style=\"display:none;\">\n",
              "\n",
              "<svg xmlns=\"http://www.w3.org/2000/svg\" height=\"24px\"viewBox=\"0 0 24 24\"\n",
              "     width=\"24px\">\n",
              "    <g>\n",
              "        <path d=\"M19 3H5c-1.1 0-2 .9-2 2v14c0 1.1.9 2 2 2h14c1.1 0 2-.9 2-2V5c0-1.1-.9-2-2-2zM9 17H7v-7h2v7zm4 0h-2V7h2v10zm4 0h-2v-4h2v4z\"/>\n",
              "    </g>\n",
              "</svg>\n",
              "      </button>\n",
              "\n",
              "<style>\n",
              "  .colab-df-quickchart {\n",
              "      --bg-color: #E8F0FE;\n",
              "      --fill-color: #1967D2;\n",
              "      --hover-bg-color: #E2EBFA;\n",
              "      --hover-fill-color: #174EA6;\n",
              "      --disabled-fill-color: #AAA;\n",
              "      --disabled-bg-color: #DDD;\n",
              "  }\n",
              "\n",
              "  [theme=dark] .colab-df-quickchart {\n",
              "      --bg-color: #3B4455;\n",
              "      --fill-color: #D2E3FC;\n",
              "      --hover-bg-color: #434B5C;\n",
              "      --hover-fill-color: #FFFFFF;\n",
              "      --disabled-bg-color: #3B4455;\n",
              "      --disabled-fill-color: #666;\n",
              "  }\n",
              "\n",
              "  .colab-df-quickchart {\n",
              "    background-color: var(--bg-color);\n",
              "    border: none;\n",
              "    border-radius: 50%;\n",
              "    cursor: pointer;\n",
              "    display: none;\n",
              "    fill: var(--fill-color);\n",
              "    height: 32px;\n",
              "    padding: 0;\n",
              "    width: 32px;\n",
              "  }\n",
              "\n",
              "  .colab-df-quickchart:hover {\n",
              "    background-color: var(--hover-bg-color);\n",
              "    box-shadow: 0 1px 2px rgba(60, 64, 67, 0.3), 0 1px 3px 1px rgba(60, 64, 67, 0.15);\n",
              "    fill: var(--button-hover-fill-color);\n",
              "  }\n",
              "\n",
              "  .colab-df-quickchart-complete:disabled,\n",
              "  .colab-df-quickchart-complete:disabled:hover {\n",
              "    background-color: var(--disabled-bg-color);\n",
              "    fill: var(--disabled-fill-color);\n",
              "    box-shadow: none;\n",
              "  }\n",
              "\n",
              "  .colab-df-spinner {\n",
              "    border: 2px solid var(--fill-color);\n",
              "    border-color: transparent;\n",
              "    border-bottom-color: var(--fill-color);\n",
              "    animation:\n",
              "      spin 1s steps(1) infinite;\n",
              "  }\n",
              "\n",
              "  @keyframes spin {\n",
              "    0% {\n",
              "      border-color: transparent;\n",
              "      border-bottom-color: var(--fill-color);\n",
              "      border-left-color: var(--fill-color);\n",
              "    }\n",
              "    20% {\n",
              "      border-color: transparent;\n",
              "      border-left-color: var(--fill-color);\n",
              "      border-top-color: var(--fill-color);\n",
              "    }\n",
              "    30% {\n",
              "      border-color: transparent;\n",
              "      border-left-color: var(--fill-color);\n",
              "      border-top-color: var(--fill-color);\n",
              "      border-right-color: var(--fill-color);\n",
              "    }\n",
              "    40% {\n",
              "      border-color: transparent;\n",
              "      border-right-color: var(--fill-color);\n",
              "      border-top-color: var(--fill-color);\n",
              "    }\n",
              "    60% {\n",
              "      border-color: transparent;\n",
              "      border-right-color: var(--fill-color);\n",
              "    }\n",
              "    80% {\n",
              "      border-color: transparent;\n",
              "      border-right-color: var(--fill-color);\n",
              "      border-bottom-color: var(--fill-color);\n",
              "    }\n",
              "    90% {\n",
              "      border-color: transparent;\n",
              "      border-bottom-color: var(--fill-color);\n",
              "    }\n",
              "  }\n",
              "</style>\n",
              "\n",
              "      <script>\n",
              "        async function quickchart(key) {\n",
              "          const quickchartButtonEl =\n",
              "            document.querySelector('#' + key + ' button');\n",
              "          quickchartButtonEl.disabled = true;  // To prevent multiple clicks.\n",
              "          quickchartButtonEl.classList.add('colab-df-spinner');\n",
              "          try {\n",
              "            const charts = await google.colab.kernel.invokeFunction(\n",
              "                'suggestCharts', [key], {});\n",
              "          } catch (error) {\n",
              "            console.error('Error during call to suggestCharts:', error);\n",
              "          }\n",
              "          quickchartButtonEl.classList.remove('colab-df-spinner');\n",
              "          quickchartButtonEl.classList.add('colab-df-quickchart-complete');\n",
              "        }\n",
              "        (() => {\n",
              "          let quickchartButtonEl =\n",
              "            document.querySelector('#df-456167fd-f6d2-400e-ad90-4c533422092b button');\n",
              "          quickchartButtonEl.style.display =\n",
              "            google.colab.kernel.accessAllowed ? 'block' : 'none';\n",
              "        })();\n",
              "      </script>\n",
              "    </div>\n",
              "\n",
              "    </div>\n",
              "  </div>\n"
            ],
            "text/plain": [
              "        id                             title  \\\n",
              "1854   746                  The Last Emperor   \n",
              "4058  9731  Friday the 13th: A New Beginning   \n",
              "\n",
              "                                                   tags  \n",
              "1854  a dramat histori of pu yi, the last of the emp...  \n",
              "4058  homicid maniac jason return from the grave to ...  "
            ]
          },
          "execution_count": 185,
          "metadata": {},
          "output_type": "execute_result"
        }
      ],
      "source": [
        "new_df.sample(2)"
      ]
    },
    {
      "cell_type": "code",
      "execution_count": null,
      "metadata": {
        "colab": {
          "base_uri": "https://localhost:8080/",
          "height": 178
        },
        "id": "XXwkmdJQW9xx",
        "outputId": "fcf0d840-8939-4971-9f43-5a61b3f76fcb"
      },
      "outputs": [
        {
          "data": {
            "text/html": [
              "<div>\n",
              "<style scoped>\n",
              "    .dataframe tbody tr th:only-of-type {\n",
              "        vertical-align: middle;\n",
              "    }\n",
              "\n",
              "    .dataframe tbody tr th {\n",
              "        vertical-align: top;\n",
              "    }\n",
              "\n",
              "    .dataframe thead th {\n",
              "        text-align: right;\n",
              "    }\n",
              "</style>\n",
              "<table border=\"1\" class=\"dataframe\">\n",
              "  <thead>\n",
              "    <tr style=\"text-align: right;\">\n",
              "      <th></th>\n",
              "      <th>0</th>\n",
              "    </tr>\n",
              "  </thead>\n",
              "  <tbody>\n",
              "    <tr>\n",
              "      <th>id</th>\n",
              "      <td>0</td>\n",
              "    </tr>\n",
              "    <tr>\n",
              "      <th>title</th>\n",
              "      <td>0</td>\n",
              "    </tr>\n",
              "    <tr>\n",
              "      <th>tags</th>\n",
              "      <td>0</td>\n",
              "    </tr>\n",
              "  </tbody>\n",
              "</table>\n",
              "</div><br><label><b>dtype:</b> int64</label>"
            ],
            "text/plain": [
              "id       0\n",
              "title    0\n",
              "tags     0\n",
              "dtype: int64"
            ]
          },
          "execution_count": 186,
          "metadata": {},
          "output_type": "execute_result"
        }
      ],
      "source": [
        "new_df.isnull().sum()"
      ]
    },
    {
      "cell_type": "code",
      "execution_count": null,
      "metadata": {
        "colab": {
          "base_uri": "https://localhost:8080/"
        },
        "id": "UrX547SUXud6",
        "outputId": "b3a5c877-9c36-4e10-d939-42fce69875c3"
      },
      "outputs": [
        {
          "data": {
            "text/plain": [
              "np.int64(0)"
            ]
          },
          "execution_count": 187,
          "metadata": {},
          "output_type": "execute_result"
        }
      ],
      "source": [
        "new_df.duplicated().sum()"
      ]
    },
    {
      "cell_type": "code",
      "execution_count": null,
      "metadata": {
        "id": "slzxAomeXN3u"
      },
      "outputs": [],
      "source": [
        "#how to know which moive should recommend\n",
        "#to find similarity score between text\n",
        "#vectorization to cal similarity score"
      ]
    },
    {
      "cell_type": "markdown",
      "metadata": {
        "id": "iY_g1lsWX6LM"
      },
      "source": [
        "name of moive becoome vector  to finding vector in NDim space"
      ]
    },
    {
      "cell_type": "markdown",
      "metadata": {
        "id": "ipEsxsDAXWFf"
      },
      "source": [
        "'''BOW'''"
      ]
    },
    {
      "cell_type": "code",
      "execution_count": null,
      "metadata": {
        "id": "daGtN-DyYDJb"
      },
      "outputs": [],
      "source": [
        "#bow all word convert into vector\n",
        "#by calculating freq of word from vector get extract for every moive tags\n",
        "#convert the vector table most common freq (1,2,3,4,5,8)\n",
        "#then finding clost vector of other moive drown by bow"
      ]
    },
    {
      "cell_type": "code",
      "execution_count": null,
      "metadata": {
        "id": "Koq41CwXZdOf"
      },
      "outputs": [],
      "source": [
        "import sklearn\n",
        "from sklearn.feature_extraction.text import CountVectorizer\n",
        "cv = CountVectorizer(max_features=7000,stop_words='english') #stop_word removel"
      ]
    },
    {
      "cell_type": "code",
      "execution_count": null,
      "metadata": {
        "id": "qof1UiANZdKu"
      },
      "outputs": [],
      "source": [
        "vectors = cv.fit_transform(new_df[\"tags\"]).toarray()"
      ]
    },
    {
      "cell_type": "code",
      "execution_count": null,
      "metadata": {
        "colab": {
          "base_uri": "https://localhost:8080/"
        },
        "id": "fva8Y600ZdG6",
        "outputId": "25282744-40db-47e5-8b8b-efaa6d5f108d"
      },
      "outputs": [
        {
          "data": {
            "text/plain": [
              "array([0, 0, 0, ..., 0, 0, 0])"
            ]
          },
          "execution_count": 192,
          "metadata": {},
          "output_type": "execute_result"
        }
      ],
      "source": [
        "vectors[2]"
      ]
    },
    {
      "cell_type": "code",
      "execution_count": null,
      "metadata": {
        "colab": {
          "base_uri": "https://localhost:8080/"
        },
        "id": "tTJUBLjtZdA5",
        "outputId": "aaa17888-a207-498f-b399-1997406ec96f"
      },
      "outputs": [
        {
          "data": {
            "text/plain": [
              "(7000,\n",
              " array(['000', '007', '10', ..., 'zoo', 'zooey', 'zooeydeschanel'],\n",
              "       dtype=object))"
            ]
          },
          "execution_count": 193,
          "metadata": {},
          "output_type": "execute_result"
        }
      ],
      "source": [
        "len(cv.get_feature_names_out()),cv.get_feature_names_out()"
      ]
    },
    {
      "cell_type": "code",
      "execution_count": null,
      "metadata": {
        "id": "DITOkgpqdsW3"
      },
      "outputs": [],
      "source": [
        "#no of moives == no of vector of 7000 dim\n",
        "#cal distance for moive cosine (angle btween them)\n",
        "#which ever vector is have less angle then we can say thhese moive can recommnede"
      ]
    },
    {
      "cell_type": "code",
      "execution_count": null,
      "metadata": {
        "id": "dSyyX8ReeP7O"
      },
      "outputs": [],
      "source": [
        "#less simlilarity more distance/angle\n",
        "#more similarity then less ditance between vector in dim/angle og vector drawn"
      ]
    },
    {
      "cell_type": "markdown",
      "metadata": {
        "id": "FnYzebGDeeNA"
      },
      "source": [
        "Cosine Similarity"
      ]
    },
    {
      "cell_type": "code",
      "execution_count": null,
      "metadata": {
        "id": "yIEphtqVeks2"
      },
      "outputs": [],
      "source": [
        "from sklearn.metrics.pairwise import cosine_similarity"
      ]
    },
    {
      "cell_type": "code",
      "execution_count": null,
      "metadata": {
        "id": "aqp8bmeOekoR"
      },
      "outputs": [],
      "source": [
        "similarity = cosine_similarity(vectors)"
      ]
    },
    {
      "cell_type": "code",
      "execution_count": null,
      "metadata": {
        "colab": {
          "base_uri": "https://localhost:8080/"
        },
        "id": "ClDjzhP-ekkt",
        "outputId": "c60d9d14-12e2-4529-aa7f-f6bd5e948c0a"
      },
      "outputs": [
        {
          "data": {
            "text/plain": [
              "(4806, 4806)"
            ]
          },
          "execution_count": 204,
          "metadata": {},
          "output_type": "execute_result"
        }
      ],
      "source": [
        "cosine_similarity(vectors).shape #every moive cal distance from each one"
      ]
    },
    {
      "cell_type": "code",
      "execution_count": null,
      "metadata": {
        "id": "UeqH72phe7ld"
      },
      "outputs": [],
      "source": [
        "#4806*4806 disance cal"
      ]
    },
    {
      "cell_type": "code",
      "execution_count": null,
      "metadata": {
        "colab": {
          "base_uri": "https://localhost:8080/"
        },
        "id": "ypcAInJUfdXP",
        "outputId": "df6f2840-715a-4b2d-d8a9-292325776475"
      },
      "outputs": [
        {
          "data": {
            "text/plain": [
              "(array([1.        , 0.07537784, 0.07756315, ..., 0.04141577, 0.        ,\n",
              "        0.        ]),\n",
              " (4806,),\n",
              " array([0.07537784, 1.        , 0.0571662 , ..., 0.02289343, 0.        ,\n",
              "        0.02512595]))"
            ]
          },
          "execution_count": 211,
          "metadata": {},
          "output_type": "execute_result"
        }
      ],
      "source": [
        "similarity[0],similarity[0].shape,similarity[1]"
      ]
    },
    {
      "cell_type": "code",
      "execution_count": null,
      "metadata": {
        "id": "F_atKK8Wfksj"
      },
      "outputs": [],
      "source": [
        "# similarity of first moive with every moive this vector\n",
        "#extract evey moive index from array (and rest is distance from other moive) and\n",
        "#and sort distance (distance have less is get lcose and other will get back top 5 will recommend)"
      ]
    },
    {
      "cell_type": "code",
      "execution_count": null,
      "metadata": {
        "colab": {
          "base_uri": "https://localhost:8080/"
        },
        "id": "ZmvHZeoSg6gw",
        "outputId": "b18e77ee-ea41-4be8-851a-d143f6714b5a"
      },
      "outputs": [
        {
          "data": {
            "text/plain": [
              "np.int64(119)"
            ]
          },
          "execution_count": 216,
          "metadata": {},
          "output_type": "execute_result"
        }
      ],
      "source": [
        "new_df[new_df[\"title\"] == 'Batman Begins'].index[0] #fetch index"
      ]
    },
    {
      "cell_type": "code",
      "execution_count": 223,
      "metadata": {
        "colab": {
          "base_uri": "https://localhost:8080/"
        },
        "id": "PNzl1uB0h3t0",
        "outputId": "d6a6974e-ee58-49f2-dc57-96813dfbf7dd"
      },
      "outputs": [
        {
          "data": {
            "text/plain": [
              "[(1214, np.float64(0.2528249484237158)),\n",
              " (2405, np.float64(0.25087260300212727)),\n",
              " (3728, np.float64(0.23596995186213474)),\n",
              " (539, np.float64(0.23268946049775863)),\n",
              " (507, np.float64(0.22975187432024505))]"
            ]
          },
          "execution_count": 223,
          "metadata": {},
          "output_type": "execute_result"
        }
      ],
      "source": [
        "sorted(list(enumerate(similarity[0])),reverse = True,key=lambda x:x[1])[1:6]\n",
        "#due to sort all thing sort moive value using enuemrate fixing first and cal\n",
        "#simlar score and see top 5"
      ]
    },
    {
      "cell_type": "code",
      "execution_count": 224,
      "metadata": {
        "id": "jIte_wnHfrG1"
      },
      "outputs": [],
      "source": [
        "def recommend(moive):\n",
        "  movie_index =new_df[new_df[\"title\"] == moive].index[0] #get index\n",
        "  distances = similarity[movie_index] #find similarity\n",
        "  movies_list = sorted(list(enumerate(distances)),reverse = True,key=lambda x:x[1])[1:6]\n",
        "\n",
        "  for i in movies_list:\n",
        "    print(i[0])"
      ]
    },
    {
      "cell_type": "code",
      "execution_count": 225,
      "metadata": {
        "colab": {
          "base_uri": "https://localhost:8080/"
        },
        "id": "35PbmzsOkRjr",
        "outputId": "17832a8d-6a35-4079-e857-29d838edfd78"
      },
      "outputs": [
        {
          "name": "stdout",
          "output_type": "stream",
          "text": [
            "1214\n",
            "2405\n",
            "3728\n",
            "539\n",
            "507\n"
          ]
        }
      ],
      "source": [
        "recommend(\"Avatar\")"
      ]
    },
    {
      "cell_type": "code",
      "execution_count": 232,
      "metadata": {
        "colab": {
          "base_uri": "https://localhost:8080/"
        },
        "id": "sqzb2yDAkT5f",
        "outputId": "9624a4c9-6ea0-4223-a511-0035c119dbe9"
      },
      "outputs": [
        {
          "data": {
            "text/plain": [
              "('Avatar',\n",
              " 'Aliens vs Predator: Requiem',\n",
              " 'Aliens',\n",
              " 'Falcon Rising',\n",
              " 'Titan A.E.',\n",
              " 'Independence Day')"
            ]
          },
          "execution_count": 232,
          "metadata": {},
          "output_type": "execute_result"
        }
      ],
      "source": [
        "new_df.iloc[0].title,new_df.iloc[1214].title,new_df.iloc[2405].title,new_df.iloc[3728].title,new_df.iloc[539].title,new_df.iloc[507].title"
      ]
    },
    {
      "cell_type": "code",
      "execution_count": 233,
      "metadata": {
        "colab": {
          "base_uri": "https://localhost:8080/"
        },
        "id": "0VBOQuluk94w",
        "outputId": "e4e2df5c-45d8-4635-d115-85406d2a1ccd"
      },
      "outputs": [
        {
          "name": "stdout",
          "output_type": "stream",
          "text": [
            "Recommendations for 'Avatar':\n",
            "Aliens vs Predator: Requiem\n",
            "Aliens\n",
            "Falcon Rising\n",
            "Titan A.E.\n",
            "Independence Day\n",
            "Recommendations for 'Batman Begins':\n",
            "The Dark Knight\n",
            "Batman\n",
            "Batman\n",
            "The Dark Knight Rises\n",
            "10th & Wolf\n"
          ]
        },
        {
          "data": {
            "text/plain": [
              "(None, None)"
            ]
          },
          "execution_count": 233,
          "metadata": {},
          "output_type": "execute_result"
        }
      ],
      "source": [
        "get_recommended_movies(\"Avatar\"),get_recommended_movies(\"Batman Begins\")"
      ]
    },
    {
      "cell_type": "code",
      "execution_count": 243,
      "metadata": {
        "id": "SR9nPH68o-aF"
      },
      "outputs": [],
      "source": [
        "import pickle\n",
        "pickle.dump(new_df,open('movies.pkl','wb'))\n",
        "pickle.dump(similarity,open('similarity.pkl','wb'))"
      ]
    },
    {
      "cell_type": "markdown",
      "metadata": {
        "id": "Do1t-dTcvzgl"
      },
      "source": [
        "instead of sending full datafram sending dict"
      ]
    },
    {
      "cell_type": "code",
      "execution_count": 245,
      "metadata": {
        "id": "qZFieiW9mhXc"
      },
      "outputs": [],
      "source": [
        "pickle.dump(new_df.to_dict(),open('movies_dict.pkl','wb'))"
      ]
    },
    {
      "cell_type": "code",
      "execution_count": null,
      "metadata": {
        "id": "sW0WRw61mhTE"
      },
      "outputs": [],
      "source": []
    },
    {
      "cell_type": "code",
      "execution_count": null,
      "metadata": {
        "id": "cabM3y7VmhQj"
      },
      "outputs": [],
      "source": []
    },
    {
      "cell_type": "code",
      "execution_count": null,
      "metadata": {
        "id": "-oXzeBnMmhNm"
      },
      "outputs": [],
      "source": []
    },
    {
      "cell_type": "code",
      "execution_count": null,
      "metadata": {
        "id": "Wvx4vO-LmhK4"
      },
      "outputs": [],
      "source": []
    },
    {
      "cell_type": "code",
      "execution_count": null,
      "metadata": {
        "id": "tsetvyrFmhHh"
      },
      "outputs": [],
      "source": [
        "# to genrate pip freeze > requirements.txt\n",
        "#web: sh setup.sh && streamlit run app.py  procfile\n",
        "# venv .gitignore\n",
        "\"\"\"mkdir -p ~/.streamlit/\n",
        "\n",
        "echo \"\\\n",
        "[server]\\n\\\n",
        "port = $PORT\\n\\\n",
        "enableCORS = fasle\\n\\\n",
        "headless = true\\n\\\n",
        "\\n\\\n",
        "\" > ~/.streamlit/config.toml\"\"\" setup.sh\n",
        "#"
      ]
    },
    {
      "cell_type": "markdown",
      "metadata": {
        "id": "ffc2b959"
      },
      "source": [
        "# Task\n",
        "Evaluate the recommendation engine code using appropriate metrics."
      ]
    },
    {
      "cell_type": "markdown",
      "metadata": {
        "id": "27a8f3b7"
      },
      "source": [
        "## Prepare evaluation data\n",
        "\n",
        "### Subtask:\n",
        "Split the dataset into training and testing sets. The training set will be used to build the recommendation engine, and the testing set will be used to evaluate its performance.\n"
      ]
    },
    {
      "cell_type": "markdown",
      "metadata": {
        "id": "02de7a6c"
      },
      "source": [
        "**Reasoning**:\n",
        "Split the data into training and testing sets to prepare for model evaluation.\n",
        "\n"
      ]
    },
    {
      "cell_type": "code",
      "execution_count": 234,
      "metadata": {
        "id": "7645155e"
      },
      "outputs": [],
      "source": [
        "from sklearn.model_selection import train_test_split\n",
        "\n",
        "new_df_train, new_df_test = train_test_split(new_df, test_size=0.2, random_state=42)"
      ]
    },
    {
      "cell_type": "markdown",
      "metadata": {
        "id": "6f7ff991"
      },
      "source": [
        "## Implement evaluation metrics\n",
        "\n",
        "### Subtask:\n",
        "Write functions to calculate relevant evaluation metrics such as Precision, Recall, or NDCG.\n"
      ]
    },
    {
      "cell_type": "markdown",
      "metadata": {
        "id": "ff601eb7"
      },
      "source": [
        "**Reasoning**:\n",
        "Define functions to calculate Precision, Recall, and NDCG for evaluating the recommendation engine.\n",
        "\n"
      ]
    },
    {
      "cell_type": "code",
      "execution_count": 235,
      "metadata": {
        "id": "1116e834"
      },
      "outputs": [],
      "source": [
        "def calculate_precision(actual_relevant, recommended_items):\n",
        "    \"\"\"Calculates Precision@k.\n",
        "\n",
        "    Args:\n",
        "        actual_relevant: A set of actual relevant item IDs.\n",
        "        recommended_items: A list of recommended item IDs.\n",
        "\n",
        "    Returns:\n",
        "        The precision score.\n",
        "    \"\"\"\n",
        "    if not recommended_items:\n",
        "        return 0.0\n",
        "    relevant_recommended = len(set(recommended_items) & set(actual_relevant))\n",
        "    return relevant_recommended / len(recommended_items)\n",
        "\n",
        "def calculate_recall(actual_relevant, recommended_items):\n",
        "    \"\"\"Calculates Recall@k.\n",
        "\n",
        "    Args:\n",
        "        actual_relevant: A set of actual relevant item IDs.\n",
        "        recommended_items: A list of recommended item IDs.\n",
        "\n",
        "    Returns:\n",
        "        The recall score.\n",
        "    \"\"\"\n",
        "    if not actual_relevant:\n",
        "        return 0.0\n",
        "    relevant_recommended = len(set(recommended_items) & set(actual_relevant))\n",
        "    return relevant_recommended / len(actual_relevant)\n",
        "\n",
        "def calculate_ndcg(actual_relevant, recommended_items, relevance_scores=None):\n",
        "    \"\"\"Calculates NDCG@k.\n",
        "\n",
        "    Args:\n",
        "        actual_relevant: A set of actual relevant item IDs.\n",
        "        recommended_items: A list of recommended item IDs.\n",
        "        relevance_scores: A dictionary mapping item IDs to their relevance scores.\n",
        "                          If None, relevance is assumed to be 1 for relevant items\n",
        "                          and 0 for irrelevant items.\n",
        "\n",
        "    Returns:\n",
        "        The NDCG score.\n",
        "    \"\"\"\n",
        "    if not recommended_items:\n",
        "        return 0.0\n",
        "\n",
        "    dcg = 0.0\n",
        "    idcg = 0.0\n",
        "\n",
        "    # Calculate DCG\n",
        "    for i, item in enumerate(recommended_items):\n",
        "        rank = i + 1\n",
        "        if relevance_scores:\n",
        "            relevance = relevance_scores.get(item, 0)\n",
        "        else:\n",
        "            relevance = 1 if item in actual_relevant else 0\n",
        "        dcg += (2**relevance - 1) / (rank + 1) if rank > 1 else (2**relevance - 1)\n",
        "\n",
        "    # Calculate IDCG\n",
        "    ideal_list = sorted(list(actual_relevant), key=lambda x: relevance_scores.get(x, 1) if relevance_scores else 1, reverse=True)\n",
        "    for i, item in enumerate(ideal_list[:len(recommended_items)]):\n",
        "        rank = i + 1\n",
        "        if relevance_scores:\n",
        "            relevance = relevance_scores.get(item, 0)\n",
        "        else:\n",
        "            relevance = 1\n",
        "        idcg += (2**relevance - 1) / (rank + 1) if rank > 1 else (2**relevance - 1)\n",
        "\n",
        "    return dcg / idcg if idcg > 0 else 0.0"
      ]
    },
    {
      "cell_type": "markdown",
      "metadata": {
        "id": "71052107"
      },
      "source": [
        "## Evaluate the model\n",
        "\n",
        "### Subtask:\n",
        "Use the implemented metrics to evaluate the performance of your recommendation engine on the testing set.\n"
      ]
    },
    {
      "cell_type": "markdown",
      "metadata": {
        "id": "6a78c298"
      },
      "source": [
        "**Reasoning**:\n",
        "Define the `get_recommended_movies` function and then iterate through the test set, get recommendations, determine actual relevant items, and calculate the evaluation metrics for each test movie.\n",
        "\n"
      ]
    },
    {
      "cell_type": "markdown",
      "metadata": {
        "id": "51ebf52a"
      },
      "source": [
        "**Reasoning**:\n",
        "The error indicates an index out of bounds issue when accessing the `similarity` matrix using `test_movie_index`. This is likely because the `test_movie_index` refers to the original index in `new_df` before the train-test split, and this index might be larger than the size of the `similarity` matrix which was calculated based on the whole `new_df`. To fix this, the `similarity` calculation should be done based on the training data, and then the similarity for test movies should be calculated against the training data's vectors.\n",
        "\n"
      ]
    },
    {
      "cell_type": "code",
      "execution_count": 237,
      "metadata": {
        "colab": {
          "base_uri": "https://localhost:8080/"
        },
        "id": "FLINoaD2m0Lw",
        "outputId": "87e0de3c-a628-4a5b-b6cf-f53277065e75"
      },
      "outputs": [
        {
          "name": "stdout",
          "output_type": "stream",
          "text": [
            "Average Precision@10: 0.7507276507276508\n",
            "Average Recall@10: 0.5877176025182262\n",
            "Average NDCG@10: 0.9646569646569647\n"
          ]
        }
      ],
      "source": [
        "# Recalculate vectors and similarity based on the training set\n",
        "cv = CountVectorizer(max_features=7000, stop_words='english')\n",
        "vectors_train = cv.fit_transform(new_df_train[\"tags\"]).toarray()\n",
        "vectors_test = cv.transform(new_df_test[\"tags\"]).toarray()\n",
        "\n",
        "# Calculate similarity between test set vectors and training set vectors\n",
        "similarity_test_train = cosine_similarity(vectors_test, vectors_train)\n",
        "\n",
        "def get_recommended_movies_corrected(movie_title, k=5):\n",
        "    \"\"\"Gets top k recommended movie titles based on similarity to training data.\n",
        "\n",
        "    Args:\n",
        "        movie_title: The title of the movie in the test set.\n",
        "        k: The number of recommendations to return.\n",
        "\n",
        "    Returns:\n",
        "        A list of recommended movie titles from the training set.\n",
        "    \"\"\"\n",
        "    try:\n",
        "        # Find the index of the movie in the test set\n",
        "        test_movie_index_in_test_df = new_df_test[new_df_test[\"title\"] == movie_title].index[0]\n",
        "        # Get the corresponding row in the similarity_test_train matrix\n",
        "        distances_to_train = similarity_test_train[new_df_test.index.get_loc(test_movie_index_in_test_df)]\n",
        "\n",
        "        # Get the indices of the top k most similar movies in the training set\n",
        "        movies_list = sorted(list(enumerate(distances_to_train)), reverse=True, key=lambda x: x[1])[:k] # Get top k, including the movie itself if present\n",
        "\n",
        "        # Filter out the movie itself if it's in the training set and among top k\n",
        "        recommended_movies = []\n",
        "        for i, score in movies_list:\n",
        "             recommended_movie_title = new_df_train.iloc[i].title\n",
        "             if recommended_movie_title != movie_title:\n",
        "                 recommended_movies.append(recommended_movie_title)\n",
        "             if len(recommended_movies) == k:\n",
        "                 break\n",
        "\n",
        "        return recommended_movies\n",
        "    except IndexError:\n",
        "        print(f\"Movie '{movie_title}' not found in the test dataset.\")\n",
        "        return []\n",
        "\n",
        "# Determine a suitable value for k\n",
        "k_recommendations = 10\n",
        "similarity_threshold = 0.2 # Define a similarity threshold for actual relevant items based on training data\n",
        "\n",
        "all_precision_scores = []\n",
        "all_recall_scores = []\n",
        "all_ndcg_scores = []\n",
        "\n",
        "# Iterate through each movie in the test set\n",
        "for index, row in new_df_test.iterrows():\n",
        "    test_movie_title = row['title']\n",
        "\n",
        "    # Get recommended items from the training set\n",
        "    recommended_items = get_recommended_movies_corrected(test_movie_title, k=k_recommendations)\n",
        "\n",
        "    # Determine actual relevant items from the training set based on similarity threshold\n",
        "    # Calculate similarity of the test movie vector with all training movie vectors\n",
        "    test_movie_index_in_test_df = new_df_test[new_df_test[\"title\"] == test_movie_title].index[0]\n",
        "    distances_to_train_for_relevant = similarity_test_train[new_df_test.index.get_loc(test_movie_index_in_test_df)]\n",
        "\n",
        "    relevant_indices_in_train = [i for i, score in enumerate(distances_to_train_for_relevant) if score >= similarity_threshold]\n",
        "    actual_relevant_items = set([new_df_train.iloc[i].title for i in relevant_indices_in_train])\n",
        "\n",
        "\n",
        "    # Calculate metrics\n",
        "    precision = calculate_precision(actual_relevant_items, recommended_items)\n",
        "    recall = calculate_recall(actual_relevant_items, recommended_items)\n",
        "    ndcg = calculate_ndcg(actual_relevant_items, recommended_items)\n",
        "\n",
        "    all_precision_scores.append(precision)\n",
        "    all_recall_scores.append(recall)\n",
        "    all_ndcg_scores.append(ndcg)\n",
        "\n",
        "# Calculate average metrics\n",
        "average_precision = sum(all_precision_scores) / len(all_precision_scores) if all_precision_scores else 0\n",
        "average_recall = sum(all_recall_scores) / len(all_recall_scores) if all_recall_scores else 0\n",
        "average_ndcg = sum(all_ndcg_scores) / len(all_ndcg_scores) if all_ndcg_scores else 0\n",
        "\n",
        "print(f\"Average Precision@{k_recommendations}: {average_precision}\")\n",
        "print(f\"Average Recall@{k_recommendations}: {average_recall}\")\n",
        "print(f\"Average NDCG@{k_recommendations}: {average_ndcg}\")"
      ]
    },
    {
      "cell_type": "markdown",
      "metadata": {
        "id": "718168b0"
      },
      "source": [
        "## Analyze results\n",
        "\n",
        "### Subtask:\n",
        "Interpret the evaluation results to understand the strengths and weaknesses of your recommendation engine.\n"
      ]
    },
    {
      "cell_type": "markdown",
      "metadata": {
        "id": "146eb402"
      },
      "source": [
        "**Reasoning**:\n",
        "Interpret the calculated average evaluation metrics to understand the performance of the recommendation engine and discuss its strengths and weaknesses based on these scores.\n",
        "\n"
      ]
    },
    {
      "cell_type": "code",
      "execution_count": 238,
      "metadata": {
        "colab": {
          "base_uri": "https://localhost:8080/"
        },
        "id": "47d82206",
        "outputId": "c837d7c0-85ce-4e20-b7f7-c96477003619"
      },
      "outputs": [
        {
          "name": "stdout",
          "output_type": "stream",
          "text": [
            "Interpretation of Evaluation Results:\n",
            "Average Precision@10: 0.7507\n",
            "Average Recall@10: 0.5877\n",
            "Average NDCG@10: 0.9647\n",
            "\n",
            "Analysis:\n",
            "- Precision@10: On average, 75.1% of the top 10 recommended movies were considered relevant based on the defined similarity threshold.\n",
            "- Recall@10: The engine was able to recommend, on average, 58.8% of the actual relevant movies in the training set within the top 10 recommendations.\n",
            "- NDCG@10: The ranking of the top 10 recommendations aligns reasonably well with the relevance of the items, with an average score of 0.9647. A higher score indicates better ranking of more relevant items at higher positions.\n",
            "\n",
            "Strengths and Weaknesses:\n",
            "Based on these metrics, the recommendation engine seems to have a moderate ability to recommend relevant movies (Precision@10). It is able to capture a portion of the potentially relevant movies from the training set (Recall@10). The NDCG@10 score suggests that the more relevant items among the recommendations tend to be ranked higher, which is a positive aspect.\n",
            "\n",
            "Potential Weaknesses:\n",
            "The Recall@10 score (58.8%) indicates that a significant portion of potentially relevant movies in the training set are not being included in the top 10 recommendations for a given test movie. This could be due to:\n",
            "- The chosen similarity threshold (0.2) for defining 'actual relevant items' might be too high, making the set of 'actual relevant items' very small and thus artificially inflating Recall for some cases where only a few relevant items exist.\n",
            "- The cosine similarity measure based on the current feature representation might not fully capture all nuances of movie similarity.\n",
            "- The 'max_features' parameter in CountVectorizer might be limiting the vocabulary and thus the richness of the movie representations.\n",
            "\n",
            "Impact of Similarity Threshold (0.2):\n",
            "The chosen similarity threshold of 0.2 directly impacts the definition of 'actual relevant items'. A higher threshold means fewer items in the training set are considered relevant to a test movie. This can make it easier to achieve a high Precision if the few truly similar items are ranked highly, but it can also make it harder to achieve a high Recall if many moderately similar (but still relevant) items are excluded from the 'actual relevant' set.\n",
            "Adjusting this threshold could significantly change the reported metrics and provide a different perspective on the engine's performance.\n"
          ]
        }
      ],
      "source": [
        "print(\"Interpretation of Evaluation Results:\")\n",
        "print(f\"Average Precision@{k_recommendations}: {average_precision:.4f}\")\n",
        "print(f\"Average Recall@{k_recommendations}: {average_recall:.4f}\")\n",
        "print(f\"Average NDCG@{k_recommendations}: {average_ndcg:.4f}\")\n",
        "\n",
        "print(\"\\nAnalysis:\")\n",
        "print(f\"- Precision@{k_recommendations}: On average, {average_precision:.1%} of the top {k_recommendations} recommended movies were considered relevant based on the defined similarity threshold.\")\n",
        "print(f\"- Recall@{k_recommendations}: The engine was able to recommend, on average, {average_recall:.1%} of the actual relevant movies in the training set within the top {k_recommendations} recommendations.\")\n",
        "print(f\"- NDCG@{k_recommendations}: The ranking of the top {k_recommendations} recommendations aligns reasonably well with the relevance of the items, with an average score of {average_ndcg:.4f}. A higher score indicates better ranking of more relevant items at higher positions.\")\n",
        "\n",
        "print(\"\\nStrengths and Weaknesses:\")\n",
        "print(\"Based on these metrics, the recommendation engine seems to have a moderate ability to recommend relevant movies (Precision@10). It is able to capture a portion of the potentially relevant movies from the training set (Recall@10). The NDCG@10 score suggests that the more relevant items among the recommendations tend to be ranked higher, which is a positive aspect.\")\n",
        "print(\"\\nPotential Weaknesses:\")\n",
        "print(f\"The Recall@{k_recommendations} score ({average_recall:.1%}) indicates that a significant portion of potentially relevant movies in the training set are not being included in the top {k_recommendations} recommendations for a given test movie. This could be due to:\")\n",
        "print(\"- The chosen similarity threshold (0.2) for defining 'actual relevant items' might be too high, making the set of 'actual relevant items' very small and thus artificially inflating Recall for some cases where only a few relevant items exist.\")\n",
        "print(\"- The cosine similarity measure based on the current feature representation might not fully capture all nuances of movie similarity.\")\n",
        "print(\"- The 'max_features' parameter in CountVectorizer might be limiting the vocabulary and thus the richness of the movie representations.\")\n",
        "\n",
        "print(f\"\\nImpact of Similarity Threshold ({similarity_threshold}):\")\n",
        "print(f\"The chosen similarity threshold of {similarity_threshold} directly impacts the definition of 'actual relevant items'. A higher threshold means fewer items in the training set are considered relevant to a test movie. This can make it easier to achieve a high Precision if the few truly similar items are ranked highly, but it can also make it harder to achieve a high Recall if many moderately similar (but still relevant) items are excluded from the 'actual relevant' set.\")\n",
        "print(\"Adjusting this threshold could significantly change the reported metrics and provide a different perspective on the engine's performance.\")"
      ]
    },
    {
      "cell_type": "markdown",
      "metadata": {
        "id": "1804a54a"
      },
      "source": [
        "## Summary:\n",
        "\n",
        "### Data Analysis Key Findings\n",
        "\n",
        "*   The dataset was split into training (80%) and testing (20%) sets for model evaluation.\n",
        "*   Functions for calculating Precision@k, Recall@k, and NDCG@k were successfully implemented.\n",
        "*   The recommendation engine was evaluated on the test set against the training set, using a similarity threshold of 0.2 to define actual relevant items.\n",
        "*   The average evaluation metrics at k=10 were:\n",
        "    *   Average Precision@10: 0.7507\n",
        "    *   Average Recall@10: 0.5877\n",
        "    *   Average NDCG@10: 0.9647\n",
        "\n",
        "### Insights or Next Steps\n",
        "\n",
        "*   While the engine shows good precision and ranking (high Precision and NDCG), the Recall score indicates that it is missing a notable portion of potentially relevant items. Further investigation into the feature representation or the similarity threshold might be beneficial.\n",
        "*   Consider experimenting with different similarity thresholds for defining \"actual relevant items\" to understand its impact on the evaluation metrics and gain a more comprehensive view of the engine's performance.\n"
      ]
    },
    {
      "cell_type": "code",
      "execution_count": null,
      "metadata": {
        "id": "uVIfN0BLnLSH"
      },
      "outputs": [],
      "source": []
    },
    {
      "cell_type": "markdown",
      "metadata": {
        "id": "8b0c4729"
      },
      "source": [
        "## Summary:\n",
        "\n",
        "### Data Analysis Key Findings\n",
        "\n",
        "* The dataset was split into training (80%) and testing (20%) sets for model evaluation.\n",
        "* Functions for calculating Precision@k, Recall@k, and NDCG@k were successfully implemented.\n",
        "* The recommendation engine was evaluated on the test set against the training set, using a similarity threshold of 0.2 to define actual relevant items.\n",
        "* By including more features (production companies, countries, spoken languages) and increasing the `max_features` in the CountVectorizer, the model's performance changed significantly.\n",
        "* The average evaluation metrics at k=10 for the improved model were:\n",
        "  * Average Precision@10: {average_precision_improved:.4f} (Increased significantly)\n",
        "  * Average Recall@10: {average_recall_improved:.4f} (Decreased)\n",
        "  * Average NDCG@10: {average_ndcg_improved:.4f} (Slightly increased)\n",
        "\n",
        "### Insights or Next Steps\n",
        "\n",
        "* The improved model shows very high precision and excellent ranking (high Precision and NDCG), indicating that when it recommends a movie, it's highly likely to be relevant, and the more relevant items are ranked higher.\n",
        "* However, the decrease in Recall suggests a trade-off: the engine is now recommending a smaller proportion of the actual relevant movies available in the training set. This might mean it's becoming more specialized and less likely to surface a wider variety of relevant content.\n",
        "* **Further Experimentation:** As suggested in the analysis, experimenting with different similarity thresholds and exploring other vectorization techniques like TF-IDF could help understand and potentially balance the trade-off between Precision and Recall.\n",
        "* **Qualitative Analysis:** Examining specific examples of recommendations (false positives and false negatives) could provide valuable qualitative insights into why certain recommendations are missed or irrelevant.\n",
        "\n",
        "This concludes the task of evaluating and improving the recommendation engine based on the initial approach and evaluation metrics."
      ]
    },
    {
      "cell_type": "markdown",
      "metadata": {
        "id": "d9eaaef7"
      },
      "source": [
        "## Analyze Improved Model Results\n",
        "\n",
        "Interpret the evaluation results of the improved model to understand the impact of adding more features and increasing `max_features` on the recommendation engine's performance."
      ]
    },
    {
      "cell_type": "code",
      "execution_count": 241,
      "metadata": {
        "colab": {
          "base_uri": "https://localhost:8080/"
        },
        "id": "c6a23269",
        "outputId": "31c39921-6d40-4339-8d42-0af71ef51d29"
      },
      "outputs": [
        {
          "name": "stdout",
          "output_type": "stream",
          "text": [
            "Interpretation of Improved Model Evaluation Results:\n",
            "Average Precision@10: 0.9711\n",
            "Average Recall@10: 0.1905\n",
            "Average NDCG@10: 0.9990\n",
            "\n",
            "Analysis of Improvements:\n",
            "Compared to the previous evaluation (Precision@10.0000, Recall@10.0000, NDCG@10.0000):\n",
            "- Precision@10: The average precision has significantly increased to 97.1%. This suggests that a much higher percentage of the top 10 recommendations are now considered relevant.\n",
            "- Recall@10: The average recall has decreased to 19.0%. This indicates that while the precision of the recommendations has improved, the engine is recommending a smaller proportion of the actual relevant movies in the training set.\n",
            "- NDCG@10: The average NDCG has slightly increased to 0.9990. This suggests a slightly better ranking of the relevant items within the top recommendations.\n",
            "\n",
            "Discussion:\n",
            "The improvement in Precision and NDCG suggests that by including more features and increasing the `max_features` in the vectorizer, the engine is becoming better at identifying highly relevant movies. The decrease in Recall, however, might imply that the engine is becoming more focused on a narrower set of highly similar items, potentially missing some other relevant but less similar movies.\n",
            "\n",
            "Possible reasons for the observed changes:\n",
            "- **Increased feature set:** Including production companies, countries, and spoken languages adds more specific information, which can help in identifying more precise matches, leading to higher precision.\n",
            "- **Increased `max_features`:** A larger vocabulary size in the CountVectorizer allows for a more detailed representation of each movie's content, potentially leading to better distinction between movies and thus higher precision for the top recommendations.\n",
            "- **Similarity Threshold:** The fixed similarity threshold of 0.2 might be interacting differently with the new, richer feature space. It's possible that a threshold of 0.2 now corresponds to a higher level of similarity than before, thus reducing the size of the 'actual relevant items' set and impacting recall.\n",
            "\n",
            "Next Steps for Further Improvement:\n",
            "- **Adjust the similarity threshold:** Experiment with different similarity thresholds to see how they impact the trade-off between Precision and Recall.\n",
            "- **Explore other vectorization techniques:** Try TF-IDF to see if weighting terms differently affects the results.\n",
            "- **Analyze false positives and false negatives:** Look at examples of recommendations that were not considered relevant (false positives) and actual relevant items that were not recommended (false negatives) to gain more qualitative insights into the engine's behavior.\n"
          ]
        }
      ],
      "source": [
        "print(\"Interpretation of Improved Model Evaluation Results:\")\n",
        "print(f\"Average Precision@{k_recommendations_improved}: {average_precision_improved:.4f}\")\n",
        "print(f\"Average Recall@{k_recommendations_improved}: {average_recall_improved:.4f}\")\n",
        "print(f\"Average NDCG@{k_recommendations_improved}: {average_ndcg_improved:.4f}\")\n",
        "\n",
        "print(\"\\nAnalysis of Improvements:\")\n",
        "print(f\"Compared to the previous evaluation (Precision@{k_recommendations:.4f}, Recall@{k_recommendations:.4f}, NDCG@{k_recommendations:.4f}):\")\n",
        "\n",
        "print(f\"- Precision@{k_recommendations_improved}: The average precision has significantly increased to {average_precision_improved:.1%}. This suggests that a much higher percentage of the top {k_recommendations_improved} recommendations are now considered relevant.\")\n",
        "print(f\"- Recall@{k_recommendations_improved}: The average recall has decreased to {average_recall_improved:.1%}. This indicates that while the precision of the recommendations has improved, the engine is recommending a smaller proportion of the actual relevant movies in the training set.\")\n",
        "print(f\"- NDCG@{k_recommendations_improved}: The average NDCG has slightly increased to {average_ndcg_improved:.4f}. This suggests a slightly better ranking of the relevant items within the top recommendations.\")\n",
        "\n",
        "print(\"\\nDiscussion:\")\n",
        "print(\"The improvement in Precision and NDCG suggests that by including more features and increasing the `max_features` in the vectorizer, the engine is becoming better at identifying highly relevant movies. The decrease in Recall, however, might imply that the engine is becoming more focused on a narrower set of highly similar items, potentially missing some other relevant but less similar movies.\")\n",
        "print(\"\\nPossible reasons for the observed changes:\")\n",
        "print(\"- **Increased feature set:** Including production companies, countries, and spoken languages adds more specific information, which can help in identifying more precise matches, leading to higher precision.\")\n",
        "print(\"- **Increased `max_features`:** A larger vocabulary size in the CountVectorizer allows for a more detailed representation of each movie's content, potentially leading to better distinction between movies and thus higher precision for the top recommendations.\")\n",
        "print(\"- **Similarity Threshold:** The fixed similarity threshold of 0.2 might be interacting differently with the new, richer feature space. It's possible that a threshold of 0.2 now corresponds to a higher level of similarity than before, thus reducing the size of the 'actual relevant items' set and impacting recall.\")\n",
        "\n",
        "print(\"\\nNext Steps for Further Improvement:\")\n",
        "print(\"- **Adjust the similarity threshold:** Experiment with different similarity thresholds to see how they impact the trade-off between Precision and Recall.\")\n",
        "print(\"- **Explore other vectorization techniques:** Try TF-IDF to see if weighting terms differently affects the results.\")\n",
        "print(\"- **Analyze false positives and false negatives:** Look at examples of recommendations that were not considered relevant (false positives) and actual relevant items that were not recommended (false negatives) to gain more qualitative insights into the engine's behavior.\")"
      ]
    },
    {
      "cell_type": "markdown",
      "metadata": {
        "id": "c07713d9"
      },
      "source": [
        "## Improving the Recommendation Engine\n",
        "\n",
        "Let's try to improve the recommendation engine by including more features and adjusting the vectorization."
      ]
    },
    {
      "cell_type": "code",
      "execution_count": 240,
      "metadata": {
        "colab": {
          "base_uri": "https://localhost:8080/"
        },
        "id": "2c6c3895",
        "outputId": "31c0db42-8421-4b64-efdc-8d6e31d51797"
      },
      "outputs": [
        {
          "name": "stdout",
          "output_type": "stream",
          "text": [
            "\n",
            "Evaluation Results for Improved Model:\n",
            "Average Precision@10: 0.9711018711018712\n",
            "Average Recall@10: 0.1904722154496127\n",
            "Average NDCG@10: 0.998960498960499\n"
          ]
        }
      ],
      "source": [
        "# Re-load the original dataframes to ensure all columns are available\n",
        "movies_df = pd.read_csv('tmdb_5000_movies.csv')\n",
        "credits_df = pd.read_csv('tmdb_5000_credits.csv')\n",
        "\n",
        "# Merge the dataframes\n",
        "movies = movies_df.merge(credits_df , on =\"title\")\n",
        "\n",
        "# Drop rows with missing overview\n",
        "movies.dropna(subset=['overview'], inplace=True)\n",
        "\n",
        "\n",
        "# Recreate the 'tags' column with more features\n",
        "movies['tags'] = movies['overview'].apply(lambda x: x.split()) + \\\n",
        "                 movies['genres'].apply(convert) + \\\n",
        "                 movies['keywords'].apply(convert) + \\\n",
        "                 movies['cast'].apply(convert2) + \\\n",
        "                 movies['crew'].apply(fetch_director) + \\\n",
        "                 movies['production_companies'].apply(convert) + \\\n",
        "                 movies['production_countries'].apply(convert) + \\\n",
        "                 movies['spoken_languages'].apply(convert)\n",
        "\n",
        "\n",
        "# Create a new DataFrame with relevant columns\n",
        "new_df_improved = movies[['id', 'title', 'tags']].copy()\n",
        "\n",
        "# Apply stemming and lowercasing to the new tags\n",
        "new_df_improved['tags'] = new_df_improved['tags'].apply(lambda x: \" \".join(x))\n",
        "new_df_improved['tags'] = new_df_improved['tags'].apply(lambda x: x.lower())\n",
        "new_df_improved['tags'] = new_df_improved['tags'].apply(stem)\n",
        "\n",
        "\n",
        "# Split the improved data into training and testing sets\n",
        "new_df_train_improved, new_df_test_improved = train_test_split(new_df_improved, test_size=0.2, random_state=42)\n",
        "\n",
        "# Re-vectorize the data with an increased max_features\n",
        "cv_improved = CountVectorizer(max_features=10000, stop_words='english') # Increased max_features\n",
        "vectors_train_improved = cv_improved.fit_transform(new_df_train_improved[\"tags\"]).toarray()\n",
        "vectors_test_improved = cv_improved.transform(new_df_test_improved[\"tags\"]).toarray()\n",
        "\n",
        "# Recalculate similarity between test set vectors and training set vectors\n",
        "similarity_test_train_improved = cosine_similarity(vectors_test_improved, vectors_train_improved)\n",
        "\n",
        "# Evaluate the improved model\n",
        "k_recommendations_improved = 10\n",
        "similarity_threshold_improved = 0.2 # Keep the same threshold for comparison\n",
        "\n",
        "all_precision_scores_improved = []\n",
        "all_recall_scores_improved = []\n",
        "all_ndcg_scores_improved = []\n",
        "\n",
        "# Iterate through each movie in the test set\n",
        "for index, row in new_df_test_improved.iterrows():\n",
        "    test_movie_title = row['title']\n",
        "\n",
        "    # Get recommended items from the training set using the improved similarity\n",
        "    try:\n",
        "        # Find the index of the movie in the test set\n",
        "        test_movie_index_in_test_df = new_df_test_improved[new_df_test_improved[\"title\"] == test_movie_title].index[0]\n",
        "        # Get the corresponding row in the similarity_test_train_improved matrix\n",
        "        distances_to_train = similarity_test_train_improved[new_df_test_improved.index.get_loc(test_movie_index_in_test_df)]\n",
        "\n",
        "        # Get the indices of the top k most similar movies in the training set\n",
        "        movies_list = sorted(list(enumerate(distances_to_train)), reverse=True, key=lambda x: x[1])[:k_recommendations_improved]\n",
        "\n",
        "        # Filter out the movie itself if it's in the training set and among top k\n",
        "        recommended_items = []\n",
        "        for i, score in movies_list:\n",
        "             recommended_movie_title = new_df_train_improved.iloc[i].title\n",
        "             if recommended_movie_title != test_movie_title:\n",
        "                 recommended_items.append(recommended_movie_title)\n",
        "             if len(recommended_items) == k_recommendations_improved:\n",
        "                 break\n",
        "\n",
        "\n",
        "        # Determine actual relevant items from the training set based on similarity threshold\n",
        "        relevant_indices_in_train = [i for i, score in enumerate(distances_to_train) if score >= similarity_threshold_improved]\n",
        "        actual_relevant_items = set([new_df_train_improved.iloc[i].title for i in relevant_indices_in_train])\n",
        "\n",
        "        # Calculate metrics\n",
        "        precision = calculate_precision(actual_relevant_items, recommended_items)\n",
        "        recall = calculate_recall(actual_relevant_items, recommended_items)\n",
        "        ndcg = calculate_ndcg(actual_relevant_items, recommended_items)\n",
        "\n",
        "        all_precision_scores_improved.append(precision)\n",
        "        all_recall_scores_improved.append(recall)\n",
        "        all_ndcg_scores_improved.append(ndcg)\n",
        "\n",
        "    except IndexError:\n",
        "        print(f\"Movie '{test_movie_title}' not found in the test dataset.\")\n",
        "\n",
        "\n",
        "# Calculate average metrics for the improved model\n",
        "average_precision_improved = sum(all_precision_scores_improved) / len(all_precision_scores_improved) if all_precision_scores_improved else 0\n",
        "average_recall_improved = sum(all_recall_scores_improved) / len(all_recall_scores_improved) if all_recall_scores_improved else 0\n",
        "average_ndcg_improved = sum(all_ndcg_scores_improved) / len(all_ndcg_scores_improved) if all_ndcg_scores_improved else 0\n",
        "\n",
        "print(\"\\nEvaluation Results for Improved Model:\")\n",
        "print(f\"Average Precision@{k_recommendations_improved}: {average_precision_improved}\")\n",
        "print(f\"Average Recall@{k_recommendations_improved}: {average_recall_improved}\")\n",
        "print(f\"Average NDCG@{k_recommendations_improved}: {average_ndcg_improved}\")"
      ]
    },
    {
      "cell_type": "code",
      "execution_count": null,
      "metadata": {
        "id": "QTTXsMTInLOR"
      },
      "outputs": [],
      "source": []
    },
    {
      "cell_type": "code",
      "execution_count": null,
      "metadata": {
        "id": "SkjGHLzpnLK0"
      },
      "outputs": [],
      "source": []
    },
    {
      "cell_type": "code",
      "execution_count": null,
      "metadata": {
        "id": "oO_-LIZvnLID"
      },
      "outputs": [],
      "source": []
    }
  ],
  "metadata": {
    "colab": {
      "provenance": []
    },
    "kernelspec": {
      "display_name": "Python 3",
      "name": "python3"
    },
    "language_info": {
      "name": "python",
      "version": "3.12.5"
    }
  },
  "nbformat": 4,
  "nbformat_minor": 0
}
